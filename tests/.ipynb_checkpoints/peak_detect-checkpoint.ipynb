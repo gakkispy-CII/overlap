{
 "cells": [
  {
   "cell_type": "code",
   "execution_count": 1,
   "metadata": {
    "notebookRunGroups": {
     "groupValue": "1"
    }
   },
   "outputs": [
    {
     "data": {
      "text/html": [
       "<div class=\"bk-root\">\n",
       "        <a href=\"https://bokeh.org\" target=\"_blank\" class=\"bk-logo bk-logo-small bk-logo-notebook\"></a>\n",
       "        <span id=\"1002\">Loading BokehJS ...</span>\n",
       "    </div>\n"
      ]
     },
     "metadata": {},
     "output_type": "display_data"
    },
    {
     "data": {
      "application/javascript": [
       "(function(root) {\n",
       "  function now() {\n",
       "    return new Date();\n",
       "  }\n",
       "\n",
       "  const force = true;\n",
       "\n",
       "  if (typeof root._bokeh_onload_callbacks === \"undefined\" || force === true) {\n",
       "    root._bokeh_onload_callbacks = [];\n",
       "    root._bokeh_is_loading = undefined;\n",
       "  }\n",
       "\n",
       "const JS_MIME_TYPE = 'application/javascript';\n",
       "  const HTML_MIME_TYPE = 'text/html';\n",
       "  const EXEC_MIME_TYPE = 'application/vnd.bokehjs_exec.v0+json';\n",
       "  const CLASS_NAME = 'output_bokeh rendered_html';\n",
       "\n",
       "  /**\n",
       "   * Render data to the DOM node\n",
       "   */\n",
       "  function render(props, node) {\n",
       "    const script = document.createElement(\"script\");\n",
       "    node.appendChild(script);\n",
       "  }\n",
       "\n",
       "  /**\n",
       "   * Handle when an output is cleared or removed\n",
       "   */\n",
       "  function handleClearOutput(event, handle) {\n",
       "    const cell = handle.cell;\n",
       "\n",
       "    const id = cell.output_area._bokeh_element_id;\n",
       "    const server_id = cell.output_area._bokeh_server_id;\n",
       "    // Clean up Bokeh references\n",
       "    if (id != null && id in Bokeh.index) {\n",
       "      Bokeh.index[id].model.document.clear();\n",
       "      delete Bokeh.index[id];\n",
       "    }\n",
       "\n",
       "    if (server_id !== undefined) {\n",
       "      // Clean up Bokeh references\n",
       "      const cmd_clean = \"from bokeh.io.state import curstate; print(curstate().uuid_to_server['\" + server_id + \"'].get_sessions()[0].document.roots[0]._id)\";\n",
       "      cell.notebook.kernel.execute(cmd_clean, {\n",
       "        iopub: {\n",
       "          output: function(msg) {\n",
       "            const id = msg.content.text.trim();\n",
       "            if (id in Bokeh.index) {\n",
       "              Bokeh.index[id].model.document.clear();\n",
       "              delete Bokeh.index[id];\n",
       "            }\n",
       "          }\n",
       "        }\n",
       "      });\n",
       "      // Destroy server and session\n",
       "      const cmd_destroy = \"import bokeh.io.notebook as ion; ion.destroy_server('\" + server_id + \"')\";\n",
       "      cell.notebook.kernel.execute(cmd_destroy);\n",
       "    }\n",
       "  }\n",
       "\n",
       "  /**\n",
       "   * Handle when a new output is added\n",
       "   */\n",
       "  function handleAddOutput(event, handle) {\n",
       "    const output_area = handle.output_area;\n",
       "    const output = handle.output;\n",
       "\n",
       "    // limit handleAddOutput to display_data with EXEC_MIME_TYPE content only\n",
       "    if ((output.output_type != \"display_data\") || (!Object.prototype.hasOwnProperty.call(output.data, EXEC_MIME_TYPE))) {\n",
       "      return\n",
       "    }\n",
       "\n",
       "    const toinsert = output_area.element.find(\".\" + CLASS_NAME.split(' ')[0]);\n",
       "\n",
       "    if (output.metadata[EXEC_MIME_TYPE][\"id\"] !== undefined) {\n",
       "      toinsert[toinsert.length - 1].firstChild.textContent = output.data[JS_MIME_TYPE];\n",
       "      // store reference to embed id on output_area\n",
       "      output_area._bokeh_element_id = output.metadata[EXEC_MIME_TYPE][\"id\"];\n",
       "    }\n",
       "    if (output.metadata[EXEC_MIME_TYPE][\"server_id\"] !== undefined) {\n",
       "      const bk_div = document.createElement(\"div\");\n",
       "      bk_div.innerHTML = output.data[HTML_MIME_TYPE];\n",
       "      const script_attrs = bk_div.children[0].attributes;\n",
       "      for (let i = 0; i < script_attrs.length; i++) {\n",
       "        toinsert[toinsert.length - 1].firstChild.setAttribute(script_attrs[i].name, script_attrs[i].value);\n",
       "        toinsert[toinsert.length - 1].firstChild.textContent = bk_div.children[0].textContent\n",
       "      }\n",
       "      // store reference to server id on output_area\n",
       "      output_area._bokeh_server_id = output.metadata[EXEC_MIME_TYPE][\"server_id\"];\n",
       "    }\n",
       "  }\n",
       "\n",
       "  function register_renderer(events, OutputArea) {\n",
       "\n",
       "    function append_mime(data, metadata, element) {\n",
       "      // create a DOM node to render to\n",
       "      const toinsert = this.create_output_subarea(\n",
       "        metadata,\n",
       "        CLASS_NAME,\n",
       "        EXEC_MIME_TYPE\n",
       "      );\n",
       "      this.keyboard_manager.register_events(toinsert);\n",
       "      // Render to node\n",
       "      const props = {data: data, metadata: metadata[EXEC_MIME_TYPE]};\n",
       "      render(props, toinsert[toinsert.length - 1]);\n",
       "      element.append(toinsert);\n",
       "      return toinsert\n",
       "    }\n",
       "\n",
       "    /* Handle when an output is cleared or removed */\n",
       "    events.on('clear_output.CodeCell', handleClearOutput);\n",
       "    events.on('delete.Cell', handleClearOutput);\n",
       "\n",
       "    /* Handle when a new output is added */\n",
       "    events.on('output_added.OutputArea', handleAddOutput);\n",
       "\n",
       "    /**\n",
       "     * Register the mime type and append_mime function with output_area\n",
       "     */\n",
       "    OutputArea.prototype.register_mime_type(EXEC_MIME_TYPE, append_mime, {\n",
       "      /* Is output safe? */\n",
       "      safe: true,\n",
       "      /* Index of renderer in `output_area.display_order` */\n",
       "      index: 0\n",
       "    });\n",
       "  }\n",
       "\n",
       "  // register the mime type if in Jupyter Notebook environment and previously unregistered\n",
       "  if (root.Jupyter !== undefined) {\n",
       "    const events = require('base/js/events');\n",
       "    const OutputArea = require('notebook/js/outputarea').OutputArea;\n",
       "\n",
       "    if (OutputArea.prototype.mime_types().indexOf(EXEC_MIME_TYPE) == -1) {\n",
       "      register_renderer(events, OutputArea);\n",
       "    }\n",
       "  }\n",
       "  if (typeof (root._bokeh_timeout) === \"undefined\" || force === true) {\n",
       "    root._bokeh_timeout = Date.now() + 5000;\n",
       "    root._bokeh_failed_load = false;\n",
       "  }\n",
       "\n",
       "  const NB_LOAD_WARNING = {'data': {'text/html':\n",
       "     \"<div style='background-color: #fdd'>\\n\"+\n",
       "     \"<p>\\n\"+\n",
       "     \"BokehJS does not appear to have successfully loaded. If loading BokehJS from CDN, this \\n\"+\n",
       "     \"may be due to a slow or bad network connection. Possible fixes:\\n\"+\n",
       "     \"</p>\\n\"+\n",
       "     \"<ul>\\n\"+\n",
       "     \"<li>re-rerun `output_notebook()` to attempt to load from CDN again, or</li>\\n\"+\n",
       "     \"<li>use INLINE resources instead, as so:</li>\\n\"+\n",
       "     \"</ul>\\n\"+\n",
       "     \"<code>\\n\"+\n",
       "     \"from bokeh.resources import INLINE\\n\"+\n",
       "     \"output_notebook(resources=INLINE)\\n\"+\n",
       "     \"</code>\\n\"+\n",
       "     \"</div>\"}};\n",
       "\n",
       "  function display_loaded() {\n",
       "    const el = document.getElementById(\"1002\");\n",
       "    if (el != null) {\n",
       "      el.textContent = \"BokehJS is loading...\";\n",
       "    }\n",
       "    if (root.Bokeh !== undefined) {\n",
       "      if (el != null) {\n",
       "        el.textContent = \"BokehJS \" + root.Bokeh.version + \" successfully loaded.\";\n",
       "      }\n",
       "    } else if (Date.now() < root._bokeh_timeout) {\n",
       "      setTimeout(display_loaded, 100)\n",
       "    }\n",
       "  }\n",
       "\n",
       "  function run_callbacks() {\n",
       "    try {\n",
       "      root._bokeh_onload_callbacks.forEach(function(callback) {\n",
       "        if (callback != null)\n",
       "          callback();\n",
       "      });\n",
       "    } finally {\n",
       "      delete root._bokeh_onload_callbacks\n",
       "    }\n",
       "    console.debug(\"Bokeh: all callbacks have finished\");\n",
       "  }\n",
       "\n",
       "  function load_libs(css_urls, js_urls, callback) {\n",
       "    if (css_urls == null) css_urls = [];\n",
       "    if (js_urls == null) js_urls = [];\n",
       "\n",
       "    root._bokeh_onload_callbacks.push(callback);\n",
       "    if (root._bokeh_is_loading > 0) {\n",
       "      console.debug(\"Bokeh: BokehJS is being loaded, scheduling callback at\", now());\n",
       "      return null;\n",
       "    }\n",
       "    if (js_urls == null || js_urls.length === 0) {\n",
       "      run_callbacks();\n",
       "      return null;\n",
       "    }\n",
       "    console.debug(\"Bokeh: BokehJS not loaded, scheduling load and callback at\", now());\n",
       "    root._bokeh_is_loading = css_urls.length + js_urls.length;\n",
       "\n",
       "    function on_load() {\n",
       "      root._bokeh_is_loading--;\n",
       "      if (root._bokeh_is_loading === 0) {\n",
       "        console.debug(\"Bokeh: all BokehJS libraries/stylesheets loaded\");\n",
       "        run_callbacks()\n",
       "      }\n",
       "    }\n",
       "\n",
       "    function on_error(url) {\n",
       "      console.error(\"failed to load \" + url);\n",
       "    }\n",
       "\n",
       "    for (let i = 0; i < css_urls.length; i++) {\n",
       "      const url = css_urls[i];\n",
       "      const element = document.createElement(\"link\");\n",
       "      element.onload = on_load;\n",
       "      element.onerror = on_error.bind(null, url);\n",
       "      element.rel = \"stylesheet\";\n",
       "      element.type = \"text/css\";\n",
       "      element.href = url;\n",
       "      console.debug(\"Bokeh: injecting link tag for BokehJS stylesheet: \", url);\n",
       "      document.body.appendChild(element);\n",
       "    }\n",
       "\n",
       "    for (let i = 0; i < js_urls.length; i++) {\n",
       "      const url = js_urls[i];\n",
       "      const element = document.createElement('script');\n",
       "      element.onload = on_load;\n",
       "      element.onerror = on_error.bind(null, url);\n",
       "      element.async = false;\n",
       "      element.src = url;\n",
       "      console.debug(\"Bokeh: injecting script tag for BokehJS library: \", url);\n",
       "      document.head.appendChild(element);\n",
       "    }\n",
       "  };\n",
       "\n",
       "  function inject_raw_css(css) {\n",
       "    const element = document.createElement(\"style\");\n",
       "    element.appendChild(document.createTextNode(css));\n",
       "    document.body.appendChild(element);\n",
       "  }\n",
       "\n",
       "  const js_urls = [\"https://cdn.bokeh.org/bokeh/release/bokeh-2.4.3.min.js\", \"https://cdn.bokeh.org/bokeh/release/bokeh-gl-2.4.3.min.js\", \"https://cdn.bokeh.org/bokeh/release/bokeh-widgets-2.4.3.min.js\", \"https://cdn.bokeh.org/bokeh/release/bokeh-tables-2.4.3.min.js\", \"https://cdn.bokeh.org/bokeh/release/bokeh-mathjax-2.4.3.min.js\"];\n",
       "  const css_urls = [];\n",
       "\n",
       "  const inline_js = [    function(Bokeh) {\n",
       "      Bokeh.set_log_level(\"info\");\n",
       "    },\n",
       "function(Bokeh) {\n",
       "    }\n",
       "  ];\n",
       "\n",
       "  function run_inline_js() {\n",
       "    if (root.Bokeh !== undefined || force === true) {\n",
       "          for (let i = 0; i < inline_js.length; i++) {\n",
       "      inline_js[i].call(root, root.Bokeh);\n",
       "    }\n",
       "if (force === true) {\n",
       "        display_loaded();\n",
       "      }} else if (Date.now() < root._bokeh_timeout) {\n",
       "      setTimeout(run_inline_js, 100);\n",
       "    } else if (!root._bokeh_failed_load) {\n",
       "      console.log(\"Bokeh: BokehJS failed to load within specified timeout.\");\n",
       "      root._bokeh_failed_load = true;\n",
       "    } else if (force !== true) {\n",
       "      const cell = $(document.getElementById(\"1002\")).parents('.cell').data().cell;\n",
       "      cell.output_area.append_execute_result(NB_LOAD_WARNING)\n",
       "    }\n",
       "  }\n",
       "\n",
       "  if (root._bokeh_is_loading === 0) {\n",
       "    console.debug(\"Bokeh: BokehJS loaded, going straight to plotting\");\n",
       "    run_inline_js();\n",
       "  } else {\n",
       "    load_libs(css_urls, js_urls, function() {\n",
       "      console.debug(\"Bokeh: BokehJS plotting callback run at\", now());\n",
       "      run_inline_js();\n",
       "    });\n",
       "  }\n",
       "}(window));"
      ],
      "application/vnd.bokehjs_load.v0+json": "(function(root) {\n  function now() {\n    return new Date();\n  }\n\n  const force = true;\n\n  if (typeof root._bokeh_onload_callbacks === \"undefined\" || force === true) {\n    root._bokeh_onload_callbacks = [];\n    root._bokeh_is_loading = undefined;\n  }\n\n\n  if (typeof (root._bokeh_timeout) === \"undefined\" || force === true) {\n    root._bokeh_timeout = Date.now() + 5000;\n    root._bokeh_failed_load = false;\n  }\n\n  const NB_LOAD_WARNING = {'data': {'text/html':\n     \"<div style='background-color: #fdd'>\\n\"+\n     \"<p>\\n\"+\n     \"BokehJS does not appear to have successfully loaded. If loading BokehJS from CDN, this \\n\"+\n     \"may be due to a slow or bad network connection. Possible fixes:\\n\"+\n     \"</p>\\n\"+\n     \"<ul>\\n\"+\n     \"<li>re-rerun `output_notebook()` to attempt to load from CDN again, or</li>\\n\"+\n     \"<li>use INLINE resources instead, as so:</li>\\n\"+\n     \"</ul>\\n\"+\n     \"<code>\\n\"+\n     \"from bokeh.resources import INLINE\\n\"+\n     \"output_notebook(resources=INLINE)\\n\"+\n     \"</code>\\n\"+\n     \"</div>\"}};\n\n  function display_loaded() {\n    const el = document.getElementById(\"1002\");\n    if (el != null) {\n      el.textContent = \"BokehJS is loading...\";\n    }\n    if (root.Bokeh !== undefined) {\n      if (el != null) {\n        el.textContent = \"BokehJS \" + root.Bokeh.version + \" successfully loaded.\";\n      }\n    } else if (Date.now() < root._bokeh_timeout) {\n      setTimeout(display_loaded, 100)\n    }\n  }\n\n  function run_callbacks() {\n    try {\n      root._bokeh_onload_callbacks.forEach(function(callback) {\n        if (callback != null)\n          callback();\n      });\n    } finally {\n      delete root._bokeh_onload_callbacks\n    }\n    console.debug(\"Bokeh: all callbacks have finished\");\n  }\n\n  function load_libs(css_urls, js_urls, callback) {\n    if (css_urls == null) css_urls = [];\n    if (js_urls == null) js_urls = [];\n\n    root._bokeh_onload_callbacks.push(callback);\n    if (root._bokeh_is_loading > 0) {\n      console.debug(\"Bokeh: BokehJS is being loaded, scheduling callback at\", now());\n      return null;\n    }\n    if (js_urls == null || js_urls.length === 0) {\n      run_callbacks();\n      return null;\n    }\n    console.debug(\"Bokeh: BokehJS not loaded, scheduling load and callback at\", now());\n    root._bokeh_is_loading = css_urls.length + js_urls.length;\n\n    function on_load() {\n      root._bokeh_is_loading--;\n      if (root._bokeh_is_loading === 0) {\n        console.debug(\"Bokeh: all BokehJS libraries/stylesheets loaded\");\n        run_callbacks()\n      }\n    }\n\n    function on_error(url) {\n      console.error(\"failed to load \" + url);\n    }\n\n    for (let i = 0; i < css_urls.length; i++) {\n      const url = css_urls[i];\n      const element = document.createElement(\"link\");\n      element.onload = on_load;\n      element.onerror = on_error.bind(null, url);\n      element.rel = \"stylesheet\";\n      element.type = \"text/css\";\n      element.href = url;\n      console.debug(\"Bokeh: injecting link tag for BokehJS stylesheet: \", url);\n      document.body.appendChild(element);\n    }\n\n    for (let i = 0; i < js_urls.length; i++) {\n      const url = js_urls[i];\n      const element = document.createElement('script');\n      element.onload = on_load;\n      element.onerror = on_error.bind(null, url);\n      element.async = false;\n      element.src = url;\n      console.debug(\"Bokeh: injecting script tag for BokehJS library: \", url);\n      document.head.appendChild(element);\n    }\n  };\n\n  function inject_raw_css(css) {\n    const element = document.createElement(\"style\");\n    element.appendChild(document.createTextNode(css));\n    document.body.appendChild(element);\n  }\n\n  const js_urls = [\"https://cdn.bokeh.org/bokeh/release/bokeh-2.4.3.min.js\", \"https://cdn.bokeh.org/bokeh/release/bokeh-gl-2.4.3.min.js\", \"https://cdn.bokeh.org/bokeh/release/bokeh-widgets-2.4.3.min.js\", \"https://cdn.bokeh.org/bokeh/release/bokeh-tables-2.4.3.min.js\", \"https://cdn.bokeh.org/bokeh/release/bokeh-mathjax-2.4.3.min.js\"];\n  const css_urls = [];\n\n  const inline_js = [    function(Bokeh) {\n      Bokeh.set_log_level(\"info\");\n    },\nfunction(Bokeh) {\n    }\n  ];\n\n  function run_inline_js() {\n    if (root.Bokeh !== undefined || force === true) {\n          for (let i = 0; i < inline_js.length; i++) {\n      inline_js[i].call(root, root.Bokeh);\n    }\nif (force === true) {\n        display_loaded();\n      }} else if (Date.now() < root._bokeh_timeout) {\n      setTimeout(run_inline_js, 100);\n    } else if (!root._bokeh_failed_load) {\n      console.log(\"Bokeh: BokehJS failed to load within specified timeout.\");\n      root._bokeh_failed_load = true;\n    } else if (force !== true) {\n      const cell = $(document.getElementById(\"1002\")).parents('.cell').data().cell;\n      cell.output_area.append_execute_result(NB_LOAD_WARNING)\n    }\n  }\n\n  if (root._bokeh_is_loading === 0) {\n    console.debug(\"Bokeh: BokehJS loaded, going straight to plotting\");\n    run_inline_js();\n  } else {\n    load_libs(css_urls, js_urls, function() {\n      console.debug(\"Bokeh: BokehJS plotting callback run at\", now());\n      run_inline_js();\n    });\n  }\n}(window));"
     },
     "metadata": {},
     "output_type": "display_data"
    }
   ],
   "source": [
    "import csv\n",
    "import numpy as np\n",
    "import pandas as pd\n",
    "import scipy.signal as signal\n",
    "from scipy.signal import find_peaks, peak_widths, peak_prominences, find_peaks_cwt, argrelextrema\n",
    "from tqdm.notebook import tqdm, trange\n",
    "# bokeh plot settings\n",
    "from bokeh.io import output_notebook, show, save\n",
    "from bokeh.models import ColumnDataSource, HoverTool, Scatter\n",
    "from bokeh.plotting import figure\n",
    "from bokeh.sampledata.autompg import autompg_clean\n",
    "from bokeh.transform import factor_cmap\n",
    "from bokeh.layouts import gridplot\n",
    "output_notebook()"
   ]
  },
  {
   "cell_type": "markdown",
   "metadata": {},
   "source": [
    "# Append System Path"
   ]
  },
  {
   "cell_type": "code",
   "execution_count": 2,
   "metadata": {
    "notebookRunGroups": {
     "groupValue": "1"
    }
   },
   "outputs": [],
   "source": [
    "# Path: tests/peak_detect.ipynb\n",
    "import os\n",
    "# find root directory\n",
    "root = os.path.dirname(os.path.abspath('./'))\n",
    "# append root directory to sys.path\n",
    "import sys\n",
    "sys.path.append(root)"
   ]
  },
  {
   "cell_type": "markdown",
   "metadata": {},
   "source": [
    "# Read data and pre-process"
   ]
  },
  {
   "cell_type": "code",
   "execution_count": 3,
   "metadata": {
    "notebookRunGroups": {
     "groupValue": ""
    }
   },
   "outputs": [
    {
     "name": "stderr",
     "output_type": "stream",
     "text": [
      "100%|████████████████████████████████████████████████████████████████| 23/23 [00:00<00:00, 71458.51it/s]\n",
      "100%|███████████████████████████████████████████████████████████████| 20/20 [00:00<00:00, 109942.44it/s]\n",
      "100%|███████████████████████████████████████████████████████████████| 49/49 [00:00<00:00, 277730.94it/s]\n",
      "100%|███████████████████████████████████████████████████████████████| 48/48 [00:00<00:00, 512281.40it/s]\n",
      "100%|███████████████████████████████████████████████████████████████| 57/57 [00:00<00:00, 402483.72it/s]\n",
      "100%|███████████████████████████████████████████████████████████████| 57/57 [00:00<00:00, 468775.15it/s]\n",
      "100%|███████████████████████████████████████████████████████████████| 47/47 [00:00<00:00, 306582.10it/s]\n",
      "100%|███████████████████████████████████████████████████████████████| 46/46 [00:00<00:00, 378309.77it/s]\n",
      "100%|███████████████████████████████████████████████████████████████| 81/81 [00:00<00:00, 749974.89it/s]\n",
      "100%|███████████████████████████████████████████████████████████████| 81/81 [00:00<00:00, 389162.23it/s]\n",
      "100%|███████████████████████████████████████████████████████████████| 57/57 [00:00<00:00, 580279.92it/s]\n",
      "100%|███████████████████████████████████████████████████████████████| 56/56 [00:00<00:00, 575688.78it/s]\n",
      "100%|█████████████████████████████████████████████████████████████████| 20/20 [00:00<00:00, 1924.17it/s]\n",
      "100%|█████████████████████████████████████████████████████████████████| 49/49 [00:00<00:00, 1314.50it/s]\n",
      "100%|█████████████████████████████████████████████████████████████████| 48/48 [00:00<00:00, 1609.57it/s]\n",
      "100%|█████████████████████████████████████████████████████████████████| 57/57 [00:00<00:00, 2972.61it/s]\n",
      "/home/gakkispy/Code/overlap_project/tools/read_mzxml.py:64: VisibleDeprecationWarning: Creating an ndarray from ragged nested sequences (which is a list-or-tuple of lists-or-tuples-or ndarrays with different lengths or shapes) is deprecated. If you meant to do this, you must specify 'dtype=object' when creating the ndarray.\n",
      "  point_list = np.array(point_list)\n",
      "100%|█████████████████████████████████████████████████████████████████| 57/57 [00:00<00:00, 3065.34it/s]\n",
      "100%|█████████████████████████████████████████████████████████████████| 47/47 [00:00<00:00, 1327.08it/s]\n",
      "100%|█████████████████████████████████████████████████████████████████| 46/46 [00:00<00:00, 1568.83it/s]\n",
      "100%|█████████████████████████████████████████████████████████████████| 81/81 [00:00<00:00, 6637.08it/s]\n",
      "100%|█████████████████████████████████████████████████████████████████| 81/81 [00:00<00:00, 6240.84it/s]\n",
      "100%|█████████████████████████████████████████████████████████████████| 57/57 [00:00<00:00, 2426.37it/s]\n",
      "100%|█████████████████████████████████████████████████████████████████| 56/56 [00:00<00:00, 2896.83it/s]\n"
     ]
    }
   ],
   "source": [
    "from tools.get_files import GetFiles\n",
    "from tools.read_mzxml import read_mzxml\n",
    "\n",
    "\n",
    "file_finder = GetFiles('/mnt/d/Data/LTQ数据/', 'mzXML')\n",
    "file_list = file_finder.get_files()\n",
    "xml_data_list = []\n",
    "filename_list = []\n",
    "for file in file_list:\n",
    "    filename_list.append(file.split('/')[-1])\n",
    "    xml_data_list.append([read_mzxml(file, env='Production')])"
   ]
  },
  {
   "cell_type": "code",
   "execution_count": 4,
   "metadata": {},
   "outputs": [],
   "source": [
    "def get_mass_spectrum(data):\n",
    "    \"\"\"\n",
    "    Get the mass spectrum of a specific mass from the data.\n",
    "    \"\"\"\n",
    "    spectrum_list = []\n",
    "    for i in range(len(data)):\n",
    "        spectrum = pd.DataFrame({'mz': data[i][0::2], 'intensity': data[i][1::2]},)\n",
    "        spectrum_list.append(spectrum)\n",
    "    return spectrum_list"
   ]
  },
  {
   "cell_type": "code",
   "execution_count": 5,
   "metadata": {},
   "outputs": [
    {
     "name": "stderr",
     "output_type": "stream",
     "text": [
      "/home/gakkispy/miniconda3/envs/findpeaks/lib/python3.7/site-packages/bokeh/io/saving.py:142: UserWarning: save() called but no resources were supplied and output_file(...) was never called, defaulting to resources.CDN\n",
      "  warn(\"save() called but no resources were supplied and output_file(...) was never called, defaulting to resources.CDN\")\n",
      "/home/gakkispy/miniconda3/envs/findpeaks/lib/python3.7/site-packages/bokeh/io/saving.py:154: UserWarning: save() called but no title was supplied and output_file(...) was never called, using default title 'Bokeh Plot'\n",
      "  warn(\"save() called but no title was supplied and output_file(...) was never called, using default title 'Bokeh Plot'\")\n"
     ]
    }
   ],
   "source": [
    "file_data_dict = dict(zip(filename_list, xml_data_list))\n",
    "spectrums_list = []\n",
    "for key, value in file_data_dict.items():\n",
    "    point_list = value[0][0]\n",
    "    spectrum_list = get_mass_spectrum(point_list)\n",
    "    spectrums_list.append(spectrum_list)\n",
    "\n",
    "file_spectrum_dict = dict(zip(filename_list, spectrums_list))\n",
    "\n",
    "for key, value in file_spectrum_dict.items():\n",
    "    for id, spectrum in enumerate(value):\n",
    "        p = figure(title=key, x_axis_label='m/z', y_axis_label='intensity')\n",
    "        p.line(spectrum['mz'], spectrum['intensity'], line_width=2)\n",
    "        save_dir = '/mnt/d/Data/LTQ数据/' + os.path.splitext(key)[0] + '/'\n",
    "        if not os.path.exists(save_dir):\n",
    "            os.makedirs(save_dir)\n",
    "        save(p, filename='{}.html'.format(save_dir + str(id)))\n"
   ]
  },
  {
   "cell_type": "code",
   "execution_count": 6,
   "metadata": {
    "notebookRunGroups": {
     "groupValue": "1"
    }
   },
   "outputs": [
    {
     "name": "stderr",
     "output_type": "stream",
     "text": [
      "100%|███████████████████████████████████████████████████████████████| 10/10 [00:00<00:00, 111254.75it/s]\n"
     ]
    }
   ],
   "source": [
    "# read data from csv file\n",
    "data_dir = os.path.join(root, 'data/')\n",
    "from tools.get_files import GetFiles\n",
    "file_finder = GetFiles(data_dir, '.csv')\n",
    "file_list = file_finder.get_files()"
   ]
  },
  {
   "cell_type": "code",
   "execution_count": 7,
   "metadata": {
    "notebookRunGroups": {
     "groupValue": "1"
    }
   },
   "outputs": [],
   "source": [
    "# read csv files\n",
    "def read_csv(file):\n",
    "    df = pd.read_csv(file, )\n",
    "    df.dropna()\n",
    "    filename = os.path.basename(os.path.splitext(file)[0])\n",
    "    return df, filename"
   ]
  },
  {
   "cell_type": "code",
   "execution_count": 8,
   "metadata": {
    "notebookRunGroups": {
     "groupValue": "1"
    }
   },
   "outputs": [
    {
     "data": {
      "application/vnd.jupyter.widget-view+json": {
       "model_id": "f348da9c8dd442129b9c3fcb3299431c",
       "version_major": 2,
       "version_minor": 0
      },
      "text/plain": [
       "0it [00:00, ?it/s]"
      ]
     },
     "metadata": {},
     "output_type": "display_data"
    }
   ],
   "source": [
    "\n",
    "data_list, filename_list = [], []\n",
    "for file in tqdm(file_list):\n",
    "    data, filename = read_csv(file)\n",
    "    data = data[['x','y']]\n",
    "    data_list.append(data)\n",
    "    filename_list.append(filename)"
   ]
  },
  {
   "cell_type": "markdown",
   "metadata": {},
   "source": [
    "# Main Content -- Data process and visualization"
   ]
  },
  {
   "cell_type": "markdown",
   "metadata": {},
   "source": [
    "## Denoise filter definition"
   ]
  },
  {
   "cell_type": "code",
   "execution_count": 9,
   "metadata": {
    "notebookRunGroups": {
     "groupValue": "2"
    }
   },
   "outputs": [],
   "source": [
    "# plot data with denoise function\n",
    "def plot_after_filted(filter, data, title:str):\n",
    "    if filter.__name__ == 'denoise':\n",
    "        p = figure(plot_width=800, plot_height=400, title=title + ' with uv_filter')\n",
    "        filted_data = filter(data['y'], 100)\n",
    "    else:\n",
    "        p = figure(plot_width=800, plot_height=400, title=title + ' with ' + filter.__name__)\n",
    "        filted_data = filter(data['y'])\n",
    "    p.line(data['x'], data['y'], line_dash = (4, 4), line_width=2, color='skyblue')\n",
    "    p.line(data['x'], filted_data, line_width=2, color='red')\n",
    "    return p"
   ]
  },
  {
   "cell_type": "code",
   "execution_count": 10,
   "metadata": {
    "notebookRunGroups": {
     "groupValue": "2"
    }
   },
   "outputs": [],
   "source": [
    "from filter import *\n",
    "uv_denoiser = Denoiser()\n",
    "\n",
    "# define filter function list\n",
    "filter_list = [conv_filter, wavelet_noising, savgol_filter, signal.medfilt, signal.wiener, uv_denoiser.denoise]"
   ]
  },
  {
   "cell_type": "markdown",
   "metadata": {},
   "source": [
    "## Data filter and plot"
   ]
  },
  {
   "cell_type": "code",
   "execution_count": 12,
   "metadata": {
    "notebookRunGroups": {
     "groupValue": "2"
    }
   },
   "outputs": [
    {
     "data": {
      "application/vnd.jupyter.widget-view+json": {
       "model_id": "ec7211dbddd54f92829be297e478e9fa",
       "version_major": 2,
       "version_minor": 0
      },
      "text/plain": [
       "0it [00:00, ?it/s]"
      ]
     },
     "metadata": {},
     "output_type": "display_data"
    },
    {
     "data": {
      "text/html": [
       "\n",
       "  <div class=\"bk-root\" id=\"5fd28905-5d20-48bd-b370-87502f2d18e5\" data-root-id=\"102840\"></div>\n"
      ]
     },
     "metadata": {},
     "output_type": "display_data"
    },
    {
     "data": {
      "application/javascript": [
       "(function(root) {\n",
       "  function embed_document(root) {\n",
       "  const docs_json = {\"a8075cef-f33f-4600-b890-04b6628ef83f\":{\"defs\":[],\"roots\":{\"references\":[{\"attributes\":{\"children\":[{\"id\":\"102839\"},{\"id\":\"102837\"}]},\"id\":\"102840\",\"type\":\"Column\"},{\"attributes\":{},\"id\":\"102838\",\"type\":\"ProxyToolbar\"},{\"attributes\":{},\"id\":\"102837\",\"type\":\"GridBox\"},{\"attributes\":{\"toolbar\":{\"id\":\"102838\"},\"toolbar_location\":\"above\"},\"id\":\"102839\",\"type\":\"ToolbarBox\"}],\"root_ids\":[\"102840\"]},\"title\":\"Bokeh Application\",\"version\":\"2.4.3\"}};\n",
       "  const render_items = [{\"docid\":\"a8075cef-f33f-4600-b890-04b6628ef83f\",\"root_ids\":[\"102840\"],\"roots\":{\"102840\":\"5fd28905-5d20-48bd-b370-87502f2d18e5\"}}];\n",
       "  root.Bokeh.embed.embed_items_notebook(docs_json, render_items);\n",
       "  }\n",
       "  if (root.Bokeh !== undefined) {\n",
       "    embed_document(root);\n",
       "  } else {\n",
       "    let attempts = 0;\n",
       "    const timer = setInterval(function(root) {\n",
       "      if (root.Bokeh !== undefined) {\n",
       "        clearInterval(timer);\n",
       "        embed_document(root);\n",
       "      } else {\n",
       "        attempts++;\n",
       "        if (attempts > 100) {\n",
       "          clearInterval(timer);\n",
       "          console.log(\"Bokeh: ERROR: Unable to run BokehJS code because BokehJS library is missing\");\n",
       "        }\n",
       "      }\n",
       "    }, 10, root)\n",
       "  }\n",
       "})(window);"
      ],
      "application/vnd.bokehjs_exec.v0+json": ""
     },
     "metadata": {
      "application/vnd.bokehjs_exec.v0+json": {
       "id": "102840"
      }
     },
     "output_type": "display_data"
    }
   ],
   "source": [
    "plot_list = []\n",
    "for i in trange(len(data_list)):\n",
    "    for filter in tqdm(filter_list):\n",
    "        temp_p = plot_after_filted(filter, data_list[i], filename_list[i])\n",
    "        plot_list.append(temp_p)\n",
    "\n",
    "grid = gridplot(plot_list, ncols=3, width=400, height=400)\n",
    "show(grid)"
   ]
  },
  {
   "cell_type": "markdown",
   "metadata": {},
   "source": [
    "## Define peak find function by using peakutils"
   ]
  },
  {
   "cell_type": "code",
   "execution_count": 13,
   "metadata": {
    "notebookRunGroups": {
     "groupValue": "1"
    }
   },
   "outputs": [],
   "source": [
    "def plot_peak(p, peak_index, peak_height, data, title:str):\n",
    "    p.scatter(data['x'][peak_index], peak_height, size=5, color='darkcyan')\n",
    "    return p"
   ]
  },
  {
   "cell_type": "code",
   "execution_count": 15,
   "metadata": {
    "notebookRunGroups": {
     "groupValue": "1"
    },
    "tags": [
     "main"
    ]
   },
   "outputs": [
    {
     "data": {
      "application/vnd.jupyter.widget-view+json": {
       "model_id": "284cba9d0b5e4c97ae5d569aaa7dd6cf",
       "version_major": 2,
       "version_minor": 0
      },
      "text/plain": [
       "0it [00:00, ?it/s]"
      ]
     },
     "metadata": {},
     "output_type": "display_data"
    },
    {
     "data": {
      "text/html": [
       "\n",
       "  <div class=\"bk-root\" id=\"0a13723f-427e-4da6-a0a0-acde3584261f\" data-root-id=\"102848\"></div>\n"
      ]
     },
     "metadata": {},
     "output_type": "display_data"
    },
    {
     "data": {
      "application/javascript": [
       "(function(root) {\n",
       "  function embed_document(root) {\n",
       "  const docs_json = {\"b2c98f3d-04ae-49c4-922d-a1b8d2931518\":{\"defs\":[],\"roots\":{\"references\":[{\"attributes\":{\"children\":[{\"id\":\"102847\"},{\"id\":\"102845\"}]},\"id\":\"102848\",\"type\":\"Column\"},{\"attributes\":{\"toolbar\":{\"id\":\"102846\"},\"toolbar_location\":\"above\"},\"id\":\"102847\",\"type\":\"ToolbarBox\"},{\"attributes\":{},\"id\":\"102845\",\"type\":\"GridBox\"},{\"attributes\":{},\"id\":\"102846\",\"type\":\"ProxyToolbar\"}],\"root_ids\":[\"102848\"]},\"title\":\"Bokeh Application\",\"version\":\"2.4.3\"}};\n",
       "  const render_items = [{\"docid\":\"b2c98f3d-04ae-49c4-922d-a1b8d2931518\",\"root_ids\":[\"102848\"],\"roots\":{\"102848\":\"0a13723f-427e-4da6-a0a0-acde3584261f\"}}];\n",
       "  root.Bokeh.embed.embed_items_notebook(docs_json, render_items);\n",
       "  }\n",
       "  if (root.Bokeh !== undefined) {\n",
       "    embed_document(root);\n",
       "  } else {\n",
       "    let attempts = 0;\n",
       "    const timer = setInterval(function(root) {\n",
       "      if (root.Bokeh !== undefined) {\n",
       "        clearInterval(timer);\n",
       "        embed_document(root);\n",
       "      } else {\n",
       "        attempts++;\n",
       "        if (attempts > 100) {\n",
       "          clearInterval(timer);\n",
       "          console.log(\"Bokeh: ERROR: Unable to run BokehJS code because BokehJS library is missing\");\n",
       "        }\n",
       "      }\n",
       "    }, 10, root)\n",
       "  }\n",
       "})(window);"
      ],
      "application/vnd.bokehjs_exec.v0+json": ""
     },
     "metadata": {
      "application/vnd.bokehjs_exec.v0+json": {
       "id": "102848"
      }
     },
     "output_type": "display_data"
    }
   ],
   "source": [
    "import peakutils\n",
    "\n",
    "peak_plot_list = []\n",
    "for i in trange(len(data_list)):\n",
    "    for filter in tqdm(filter_list):\n",
    "        temp_p = plot_after_filted(filter, data_list[i], filename_list[i])\n",
    "        peak_index = peakutils.indexes(data_list[i]['y'], thres=0.5, min_dist=100)\n",
    "        peak_height = data_list[i]['y'][peak_index]\n",
    "        temp_peak_p = plot_peak(temp_p, peak_index, peak_height, data_list[i], filename_list[i])\n",
    "        peak_plot_list.append(temp_peak_p)\n",
    "\n",
    "grid_peak = gridplot(peak_plot_list, ncols=3, width=400, height=400)\n",
    "show(grid_peak)"
   ]
  },
  {
   "cell_type": "code",
   "execution_count": 14,
   "metadata": {
    "notebookRunGroups": {
     "groupValue": "1"
    }
   },
   "outputs": [
    {
     "data": {
      "application/vnd.jupyter.widget-view+json": {
       "model_id": "45ffdf117d5e4c70b80b86afdfabde97",
       "version_major": 2,
       "version_minor": 0
      },
      "text/plain": [
       "0it [00:00, ?it/s]"
      ]
     },
     "metadata": {},
     "output_type": "display_data"
    }
   ],
   "source": [
    "## test gaussian fit\n",
    "for i in trange(len(data_list)):\n",
    "    test = peakutils.gaussian_fit(data_list[i]['x'], data_list[i]['y'], False)\n",
    "    peak_index = peakutils.indexes(data_list[i]['y'], thres=0.5, min_dist=100)\n",
    "    peak_height = data_list[i]['y'][peak_index]\n",
    "    gaussian = peakutils.gaussian(data_list[i]['x'], test[0], test[1], test[2])\n",
    "    p = figure(plot_width=800, plot_height=400, title=filename_list[i] + ' with gaussian fit')\n",
    "    p.line(data_list[i]['x'], data_list[i]['y'], line_dash = (4, 4), line_width=2, color='skyblue')\n",
    "    p.line(data_list[i]['x'], gaussian, line_width=2, color='red')\n",
    "    show(p)"
   ]
  },
  {
   "cell_type": "markdown",
   "metadata": {},
   "source": [
    "## Temporary gaussian fit definition"
   ]
  },
  {
   "cell_type": "code",
   "execution_count": 15,
   "metadata": {
    "notebookRunGroups": {
     "groupValue": "2"
    }
   },
   "outputs": [],
   "source": [
    "def guassian(x, *params):\n",
    "    num_func = int(len(params)/3)\n",
    "\n",
    "    y_list = []\n",
    "\n",
    "    for i in range(num_func):\n",
    "        y = np.zeros_like(x)\n",
    "        param_range = list(range(3*i, 3*(i+1), 1))\n",
    "        amp = params[int(param_range[0])]\n",
    "        ctr = params[int(param_range[1])]\n",
    "        wid = params[int(param_range[2])]\n",
    "        y += amp * np.exp(-(x - ctr)**2 / wid)\n",
    "        y_list.append(y)\n",
    "    \n",
    "    y_sum = np.zeros_like(x)\n",
    "    for i in y_list:\n",
    "        y_sum += i\n",
    "\n",
    "    y_sum += params[-1]\n",
    "\n",
    "    return y_sum\n",
    "\n",
    "def peaks_fit(x, *params):\n",
    "    num_func = int(len(params)/3)\n",
    "\n",
    "    y_list = []\n",
    "\n",
    "    for i in range(num_func):\n",
    "        y = np.zeros_like(x)\n",
    "        param_range = list(range(3*i, 3*(i+1), 1))\n",
    "        amp = params[int(param_range[0])]\n",
    "        ctr = params[int(param_range[1])]\n",
    "        wid = params[int(param_range[2])]\n",
    "        y += amp * np.exp(-(x - ctr)**2 / wid) + params[-1]\n",
    "        y_list.append(y)\n",
    "    return y_list"
   ]
  },
  {
   "cell_type": "markdown",
   "metadata": {},
   "source": [
    "## Define peak find function by using findpeaks\n"
   ]
  },
  {
   "cell_type": "code",
   "execution_count": 16,
   "metadata": {},
   "outputs": [],
   "source": [
    "from findpeaks import findpeaks\n",
    "from scipy.optimize import curve_fit\n",
    "\n",
    "def plot_peak_fit(p, peak_index, peak_height, data, title:str):\n",
    "    p.scatter(data['x'][peak_index], peak_height, size=5, color='darkcyan')\n",
    "    return p\n",
    "\n",
    "def plot_valley_fit(p, valley_index, valley_height, data, title:str):\n",
    "    p.star(data['x'][valley_index], valley_height, size=5, color='darkcyan')\n",
    "    return p"
   ]
  },
  {
   "cell_type": "code",
   "execution_count": 17,
   "metadata": {},
   "outputs": [],
   "source": [
    "# handle peak fit reuslt\n",
    "def peak_fit_result(result, data):\n",
    "    df = result['df']\n",
    "    df['x'] = data['x']\n",
    "    peak_index= df[lambda df: df['peak'] == True]\n",
    "    highest_peak = df.loc[peak_index.index.tolist()]['y'].max()\n",
    "    peak_index_list = peak_index[lambda peak_index: peak_index['y'] > .1 * highest_peak].index.tolist()\n",
    "    valley_index = df[lambda df: df['valley'] == True]\n",
    "    valley_index_list = valley_index[lambda valley_index: valley_index['y'] > .1 * highest_peak].index.tolist()\n",
    "    print('peak index: ', peak_index_list)\n",
    "    print('valley index: ', valley_index_list)\n",
    "    return peak_index_list, valley_index_list"
   ]
  },
  {
   "cell_type": "code",
   "execution_count": 18,
   "metadata": {},
   "outputs": [
    {
     "data": {
      "application/vnd.jupyter.widget-view+json": {
       "model_id": "80b8140ad26644359649b28df2066e0a",
       "version_major": 2,
       "version_minor": 0
      },
      "text/plain": [
       "0it [00:00, ?it/s]"
      ]
     },
     "metadata": {},
     "output_type": "display_data"
    },
    {
     "data": {
      "text/html": [
       "\n",
       "  <div class=\"bk-root\" id=\"3615d39d-3e3a-44af-a3d8-8e5e5993374b\" data-root-id=\"102844\"></div>\n"
      ]
     },
     "metadata": {},
     "output_type": "display_data"
    },
    {
     "data": {
      "application/javascript": [
       "(function(root) {\n",
       "  function embed_document(root) {\n",
       "  const docs_json = {\"cd3cc69b-7d11-4569-8090-915482603909\":{\"defs\":[],\"roots\":{\"references\":[{\"attributes\":{\"children\":[{\"id\":\"102843\"},{\"id\":\"102841\"}]},\"id\":\"102844\",\"type\":\"Column\"},{\"attributes\":{},\"id\":\"102841\",\"type\":\"GridBox\"},{\"attributes\":{\"toolbar\":{\"id\":\"102842\"},\"toolbar_location\":\"above\"},\"id\":\"102843\",\"type\":\"ToolbarBox\"},{\"attributes\":{},\"id\":\"102842\",\"type\":\"ProxyToolbar\"}],\"root_ids\":[\"102844\"]},\"title\":\"Bokeh Application\",\"version\":\"2.4.3\"}};\n",
       "  const render_items = [{\"docid\":\"cd3cc69b-7d11-4569-8090-915482603909\",\"root_ids\":[\"102844\"],\"roots\":{\"102844\":\"3615d39d-3e3a-44af-a3d8-8e5e5993374b\"}}];\n",
       "  root.Bokeh.embed.embed_items_notebook(docs_json, render_items);\n",
       "  }\n",
       "  if (root.Bokeh !== undefined) {\n",
       "    embed_document(root);\n",
       "  } else {\n",
       "    let attempts = 0;\n",
       "    const timer = setInterval(function(root) {\n",
       "      if (root.Bokeh !== undefined) {\n",
       "        clearInterval(timer);\n",
       "        embed_document(root);\n",
       "      } else {\n",
       "        attempts++;\n",
       "        if (attempts > 100) {\n",
       "          clearInterval(timer);\n",
       "          console.log(\"Bokeh: ERROR: Unable to run BokehJS code because BokehJS library is missing\");\n",
       "        }\n",
       "      }\n",
       "    }, 10, root)\n",
       "  }\n",
       "})(window);"
      ],
      "application/vnd.bokehjs_exec.v0+json": ""
     },
     "metadata": {
      "application/vnd.bokehjs_exec.v0+json": {
       "id": "102844"
      }
     },
     "output_type": "display_data"
    }
   ],
   "source": [
    "grid_fp_list = []\n",
    "for i in trange(len(data_list)):\n",
    "    # peak_ctr = peakutils.centroid(data_list[i]['x'], data_list[i]['y'])\n",
    "    fp = findpeaks(method='topology', interpolate=10, lookahead=100, limit=5)\n",
    "    try:\n",
    "        fp_result = fp.fit(data_list[i]['y'])\n",
    "        peak_index, valley_index = peak_fit_result(fp_result, data_list[i])\n",
    "        peak_height = data_list[i]['y'][peak_index]\n",
    "        p = figure(plot_width=800, plot_height=400, title=filename_list[i] + ' with peak fit')\n",
    "        p.line(data_list[i]['x'], data_list[i]['y'], line_dash = (4, 4), line_width=2, color='skyblue')\n",
    "        p = plot_peak_fit(p, peak_index, peak_height, data_list[i], filename_list[i])\n",
    "        p = plot_valley_fit(p, valley_index, data_list[i]['y'][valley_index], data_list[i], filename_list[i])\n",
    "        grid_fp_list.append(p)\n",
    "    except:\n",
    "        print('no peak found in ', filename_list[i])\n",
    "grid_fp = gridplot(grid_fp_list, ncols=3, plot_width=400, plot_height=400)\n",
    "show(grid_fp)"
   ]
  },
  {
   "cell_type": "markdown",
   "metadata": {},
   "source": [
    "## Curve fit with gaussian"
   ]
  },
  {
   "cell_type": "code",
   "execution_count": 19,
   "metadata": {},
   "outputs": [
    {
     "data": {
      "application/vnd.jupyter.widget-view+json": {
       "model_id": "c4387cbc8b5b4e7eba37e2a487a1dda0",
       "version_major": 2,
       "version_minor": 0
      },
      "text/plain": [
       "0it [00:00, ?it/s]"
      ]
     },
     "metadata": {},
     "output_type": "display_data"
    },
    {
     "data": {
      "text/html": [
       "\n",
       "  <div class=\"bk-root\" id=\"6d46dc1b-d732-4cd7-82a2-c54c3b6aca40\" data-root-id=\"102848\"></div>\n"
      ]
     },
     "metadata": {},
     "output_type": "display_data"
    },
    {
     "data": {
      "application/javascript": [
       "(function(root) {\n",
       "  function embed_document(root) {\n",
       "  const docs_json = {\"b1c29911-6955-49cd-8fcd-94bac49039d3\":{\"defs\":[],\"roots\":{\"references\":[{\"attributes\":{\"children\":[{\"id\":\"102847\"},{\"id\":\"102845\"}]},\"id\":\"102848\",\"type\":\"Column\"},{\"attributes\":{},\"id\":\"102846\",\"type\":\"ProxyToolbar\"},{\"attributes\":{\"toolbar\":{\"id\":\"102846\"},\"toolbar_location\":\"above\"},\"id\":\"102847\",\"type\":\"ToolbarBox\"},{\"attributes\":{},\"id\":\"102845\",\"type\":\"GridBox\"}],\"root_ids\":[\"102848\"]},\"title\":\"Bokeh Application\",\"version\":\"2.4.3\"}};\n",
       "  const render_items = [{\"docid\":\"b1c29911-6955-49cd-8fcd-94bac49039d3\",\"root_ids\":[\"102848\"],\"roots\":{\"102848\":\"6d46dc1b-d732-4cd7-82a2-c54c3b6aca40\"}}];\n",
       "  root.Bokeh.embed.embed_items_notebook(docs_json, render_items);\n",
       "  }\n",
       "  if (root.Bokeh !== undefined) {\n",
       "    embed_document(root);\n",
       "  } else {\n",
       "    let attempts = 0;\n",
       "    const timer = setInterval(function(root) {\n",
       "      if (root.Bokeh !== undefined) {\n",
       "        clearInterval(timer);\n",
       "        embed_document(root);\n",
       "      } else {\n",
       "        attempts++;\n",
       "        if (attempts > 100) {\n",
       "          clearInterval(timer);\n",
       "          console.log(\"Bokeh: ERROR: Unable to run BokehJS code because BokehJS library is missing\");\n",
       "        }\n",
       "      }\n",
       "    }, 10, root)\n",
       "  }\n",
       "})(window);"
      ],
      "application/vnd.bokehjs_exec.v0+json": ""
     },
     "metadata": {
      "application/vnd.bokehjs_exec.v0+json": {
       "id": "102848"
      }
     },
     "output_type": "display_data"
    }
   ],
   "source": [
    "# curve fit\n",
    "from lmfit.models import GaussianModel, LinearModel, ExponentialModel\n",
    "grid_cf_list = []\n",
    "for i in trange(len(data_list)):\n",
    "    exp_mod = ExponentialModel(prefix='exp_')\n",
    "    pars = exp_mod.guess(data_list[i]['y'], x=data_list[i]['x'])\n",
    "    gauss_main = GaussianModel(prefix='gauss_main_')\n",
    "    pars.update(gauss_main.make_params())\n",
    "    fp = findpeaks(method='topology', interpolate=10, lookahead=100, limit=5)\n",
    "    try:\n",
    "        fp_result = fp.fit(data_list[i]['y'])\n",
    "        peak_index, valley_index = peak_fit_result(fp_result, data_list[i])\n",
    "\n",
    "        pars['gauss_main_center'].set(data_list[i]['x'][peak_index[0]], min=data_list[i]['x'][peak_index[0]]-50, max=data_list[i]['x'][peak_index[0]]+50)\n",
    "        pars['gauss_main_sigma'].set(5, min=0.1, max=50)\n",
    "        pars['gauss_main_amplitude'].set(10, min=0, max=150)\n",
    "        p = figure(plot_width=800, plot_height=400, title=filename_list[i] + ' with curve fit')\n",
    "        p.line(data_list[i]['x'], data_list[i]['y'], line_dash = (4, 4), line_width=2, color='skyblue')\n",
    "        if len(peak_index) > 1:\n",
    "            gauss_side = GaussianModel(prefix='gauss_side_')\n",
    "            pars.update(gauss_side.make_params())\n",
    "            pars['gauss_side_center'].set(data_list[i]['x'][peak_index[1]], min=data_list[i]['x'][peak_index[1]]-50, max=data_list[i]['x'][peak_index[1]]+50)\n",
    "            pars['gauss_side_sigma'].set(5, min=0.1, max=50)\n",
    "            pars['gauss_side_amplitude'].set(10, min=0, max=150)\n",
    "            mod = exp_mod + gauss_main + gauss_side\n",
    "            out = mod.fit(data_list[i]['y'], pars, x=data_list[i]['x'])\n",
    "            comps = out.eval_components(x=data_list[i]['x'])\n",
    "            p.line(data_list[i]['x'], comps['gauss_side_'], line_width=2, color='lightcoral')\n",
    "        else:\n",
    "            mod = exp_mod + gauss_main\n",
    "            out = mod.fit(data_list[i]['y'], pars, x=data_list[i]['x'])\n",
    "            comps = out.eval_components(x=data_list[i]['x'])\n",
    "\n",
    "        # fwhm = [out.result.params['gauss_main_fwhm'].value, out.result.params['gauss_side_fwhm'].value]\n",
    "        # print(fwhm)\n",
    "        # break\n",
    "        print(out.fit_report())\n",
    "        p.line(data_list[i]['x'], comps['gauss_main_'], line_width=2, color='darkcyan')\n",
    "        peak_height = data_list[i]['y'][peak_index]\n",
    "        p.line(data_list[i]['x'], data_list[i]['y'], line_dash = (4, 4), line_width=2, color='skyblue')\n",
    "        p = plot_peak_fit(p, peak_index, peak_height, data_list[i], filename_list[i])\n",
    "        p = plot_valley_fit(p, valley_index, data_list[i]['y'][valley_index], data_list[i], filename_list[i])\n",
    "        grid_cf_list.append(p)\n",
    "    except:\n",
    "        print('no peak found in ', filename_list[i])\n",
    "grid_cf = gridplot(grid_cf_list, ncols=3, plot_width=400, plot_height=400)\n",
    "show(grid_cf)\n",
    "\n",
    "    "
   ]
  },
  {
   "cell_type": "markdown",
   "metadata": {},
   "source": [
    "## Curve fit with Lorentzian"
   ]
  },
  {
   "cell_type": "code",
   "execution_count": 20,
   "metadata": {
    "tags": []
   },
   "outputs": [
    {
     "data": {
      "application/vnd.jupyter.widget-view+json": {
       "model_id": "83df401c9d5b4776b4dd6664344130ae",
       "version_major": 2,
       "version_minor": 0
      },
      "text/plain": [
       "0it [00:00, ?it/s]"
      ]
     },
     "metadata": {},
     "output_type": "display_data"
    },
    {
     "data": {
      "text/html": [
       "\n",
       "  <div class=\"bk-root\" id=\"9793f255-581b-4c9e-bf67-84fc46cafb02\" data-root-id=\"102852\"></div>\n"
      ]
     },
     "metadata": {},
     "output_type": "display_data"
    },
    {
     "data": {
      "application/javascript": [
       "(function(root) {\n",
       "  function embed_document(root) {\n",
       "  const docs_json = {\"e2ef66ab-fd26-4f93-bcda-4b07c5957c0b\":{\"defs\":[],\"roots\":{\"references\":[{\"attributes\":{\"children\":[{\"id\":\"102851\"},{\"id\":\"102849\"}]},\"id\":\"102852\",\"type\":\"Column\"},{\"attributes\":{},\"id\":\"102849\",\"type\":\"GridBox\"},{\"attributes\":{},\"id\":\"102850\",\"type\":\"ProxyToolbar\"},{\"attributes\":{\"toolbar\":{\"id\":\"102850\"},\"toolbar_location\":\"above\"},\"id\":\"102851\",\"type\":\"ToolbarBox\"}],\"root_ids\":[\"102852\"]},\"title\":\"Bokeh Application\",\"version\":\"2.4.3\"}};\n",
       "  const render_items = [{\"docid\":\"e2ef66ab-fd26-4f93-bcda-4b07c5957c0b\",\"root_ids\":[\"102852\"],\"roots\":{\"102852\":\"9793f255-581b-4c9e-bf67-84fc46cafb02\"}}];\n",
       "  root.Bokeh.embed.embed_items_notebook(docs_json, render_items);\n",
       "  }\n",
       "  if (root.Bokeh !== undefined) {\n",
       "    embed_document(root);\n",
       "  } else {\n",
       "    let attempts = 0;\n",
       "    const timer = setInterval(function(root) {\n",
       "      if (root.Bokeh !== undefined) {\n",
       "        clearInterval(timer);\n",
       "        embed_document(root);\n",
       "      } else {\n",
       "        attempts++;\n",
       "        if (attempts > 100) {\n",
       "          clearInterval(timer);\n",
       "          console.log(\"Bokeh: ERROR: Unable to run BokehJS code because BokehJS library is missing\");\n",
       "        }\n",
       "      }\n",
       "    }, 10, root)\n",
       "  }\n",
       "})(window);"
      ],
      "application/vnd.bokehjs_exec.v0+json": ""
     },
     "metadata": {
      "application/vnd.bokehjs_exec.v0+json": {
       "id": "102852"
      }
     },
     "output_type": "display_data"
    }
   ],
   "source": [
    "# curve fit\n",
    "from lmfit.models import GaussianModel, LinearModel, ExponentialModel, LorentzianModel\n",
    "grid_cf_list = []\n",
    "for i in trange(len(data_list)):\n",
    "    exp_mod = ExponentialModel(prefix='exp_')\n",
    "    pars = exp_mod.guess(data_list[i]['y'], x=data_list[i]['x'])\n",
    "    loren_main = LorentzianModel(prefix='loren_main_')\n",
    "    pars.update(loren_main.make_params())\n",
    "    fp = findpeaks(method='topology', interpolate=10, lookahead=100, limit=5)\n",
    "    try:\n",
    "        fp_result = fp.fit(data_list[i]['y'])\n",
    "        peak_index, valley_index = peak_fit_result(fp_result, data_list[i])\n",
    "        gaussian_fit_result = peakutils.gaussian_fit(data_list[i]['x'], data_list[i]['y'], False)\n",
    "        pars['loren_main_center'].set(gaussian_fit_result[1], min=data_list[i]['x'][peak_index[0]]-50, max=data_list[i]['x'][peak_index[0]]+50)\n",
    "        pars['loren_main_sigma'].set(gaussian_fit_result[2], min=0.1, max=50)\n",
    "        pars['loren_main_amplitude'].set(gaussian_fit_result[0], min=0, max=150)\n",
    "        mod = exp_mod + loren_main\n",
    "        out = mod.fit(data_list[i]['y'], pars, x=data_list[i]['x'])\n",
    "        comps = out.eval_components(x=data_list[i]['x'])\n",
    "        print(out.fit_report())\n",
    "        p = figure(plot_width=800, plot_height=400, title=filename_list[i] + ' with curve fit')\n",
    "        p.line(data_list[i]['x'], data_list[i]['y'], line_dash = (4, 4), line_width=2, color='skyblue')\n",
    "        p.line(data_list[i]['x'], out.best_fit, line_width=2, color='darkcyan')\n",
    "        peak_height = data_list[i]['y'][peak_index]\n",
    "        p.line(data_list[i]['x'], data_list[i]['y'], line_dash = (4, 4), line_width=2, color='skyblue')\n",
    "        p = plot_peak_fit(p, peak_index, peak_height, data_list[i], filename_list[i])\n",
    "        p = plot_valley_fit(p, valley_index, data_list[i]['y'][valley_index], data_list[i], filename_list[i])\n",
    "        grid_cf_list.append(p)\n",
    "    except:\n",
    "        print('no peak found in ', filename_list[i])\n",
    "grid_cf = gridplot(grid_cf_list, ncols=3, plot_width=400, plot_height=400)\n",
    "show(grid_cf)\n"
   ]
  }
 ],
 "metadata": {
  "kernelspec": {
   "display_name": "Python 3 (ipykernel)",
   "language": "python",
   "name": "python3"
  },
  "language_info": {
   "codemirror_mode": {
    "name": "ipython",
    "version": 3
   },
   "file_extension": ".py",
   "mimetype": "text/x-python",
   "name": "python",
   "nbconvert_exporter": "python",
   "pygments_lexer": "ipython3",
   "version": "3.7.13"
  },
  "vscode": {
   "interpreter": {
    "hash": "988dc20507c9b8666a77143fe2ea187e26c55df0acae05133eb0d05f63ed1f23"
   }
  }
 },
 "nbformat": 4,
 "nbformat_minor": 2
}
