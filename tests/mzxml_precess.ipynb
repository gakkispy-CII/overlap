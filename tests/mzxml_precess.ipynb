{
 "cells": [
  {
   "cell_type": "code",
   "execution_count": 1,
   "metadata": {},
   "outputs": [
    {
     "data": {
      "text/html": [
       "<div class=\"bk-root\">\n",
       "        <a href=\"https://bokeh.org\" target=\"_blank\" class=\"bk-logo bk-logo-small bk-logo-notebook\"></a>\n",
       "        <span id=\"1001\">Loading BokehJS ...</span>\n",
       "    </div>\n"
      ]
     },
     "metadata": {},
     "output_type": "display_data"
    },
    {
     "data": {
      "application/javascript": "(function(root) {\n  function now() {\n    return new Date();\n  }\n\n  const force = true;\n\n  if (typeof root._bokeh_onload_callbacks === \"undefined\" || force === true) {\n    root._bokeh_onload_callbacks = [];\n    root._bokeh_is_loading = undefined;\n  }\n\nconst JS_MIME_TYPE = 'application/javascript';\n  const HTML_MIME_TYPE = 'text/html';\n  const EXEC_MIME_TYPE = 'application/vnd.bokehjs_exec.v0+json';\n  const CLASS_NAME = 'output_bokeh rendered_html';\n\n  /**\n   * Render data to the DOM node\n   */\n  function render(props, node) {\n    const script = document.createElement(\"script\");\n    node.appendChild(script);\n  }\n\n  /**\n   * Handle when an output is cleared or removed\n   */\n  function handleClearOutput(event, handle) {\n    const cell = handle.cell;\n\n    const id = cell.output_area._bokeh_element_id;\n    const server_id = cell.output_area._bokeh_server_id;\n    // Clean up Bokeh references\n    if (id != null && id in Bokeh.index) {\n      Bokeh.index[id].model.document.clear();\n      delete Bokeh.index[id];\n    }\n\n    if (server_id !== undefined) {\n      // Clean up Bokeh references\n      const cmd_clean = \"from bokeh.io.state import curstate; print(curstate().uuid_to_server['\" + server_id + \"'].get_sessions()[0].document.roots[0]._id)\";\n      cell.notebook.kernel.execute(cmd_clean, {\n        iopub: {\n          output: function(msg) {\n            const id = msg.content.text.trim();\n            if (id in Bokeh.index) {\n              Bokeh.index[id].model.document.clear();\n              delete Bokeh.index[id];\n            }\n          }\n        }\n      });\n      // Destroy server and session\n      const cmd_destroy = \"import bokeh.io.notebook as ion; ion.destroy_server('\" + server_id + \"')\";\n      cell.notebook.kernel.execute(cmd_destroy);\n    }\n  }\n\n  /**\n   * Handle when a new output is added\n   */\n  function handleAddOutput(event, handle) {\n    const output_area = handle.output_area;\n    const output = handle.output;\n\n    // limit handleAddOutput to display_data with EXEC_MIME_TYPE content only\n    if ((output.output_type != \"display_data\") || (!Object.prototype.hasOwnProperty.call(output.data, EXEC_MIME_TYPE))) {\n      return\n    }\n\n    const toinsert = output_area.element.find(\".\" + CLASS_NAME.split(' ')[0]);\n\n    if (output.metadata[EXEC_MIME_TYPE][\"id\"] !== undefined) {\n      toinsert[toinsert.length - 1].firstChild.textContent = output.data[JS_MIME_TYPE];\n      // store reference to embed id on output_area\n      output_area._bokeh_element_id = output.metadata[EXEC_MIME_TYPE][\"id\"];\n    }\n    if (output.metadata[EXEC_MIME_TYPE][\"server_id\"] !== undefined) {\n      const bk_div = document.createElement(\"div\");\n      bk_div.innerHTML = output.data[HTML_MIME_TYPE];\n      const script_attrs = bk_div.children[0].attributes;\n      for (let i = 0; i < script_attrs.length; i++) {\n        toinsert[toinsert.length - 1].firstChild.setAttribute(script_attrs[i].name, script_attrs[i].value);\n        toinsert[toinsert.length - 1].firstChild.textContent = bk_div.children[0].textContent\n      }\n      // store reference to server id on output_area\n      output_area._bokeh_server_id = output.metadata[EXEC_MIME_TYPE][\"server_id\"];\n    }\n  }\n\n  function register_renderer(events, OutputArea) {\n\n    function append_mime(data, metadata, element) {\n      // create a DOM node to render to\n      const toinsert = this.create_output_subarea(\n        metadata,\n        CLASS_NAME,\n        EXEC_MIME_TYPE\n      );\n      this.keyboard_manager.register_events(toinsert);\n      // Render to node\n      const props = {data: data, metadata: metadata[EXEC_MIME_TYPE]};\n      render(props, toinsert[toinsert.length - 1]);\n      element.append(toinsert);\n      return toinsert\n    }\n\n    /* Handle when an output is cleared or removed */\n    events.on('clear_output.CodeCell', handleClearOutput);\n    events.on('delete.Cell', handleClearOutput);\n\n    /* Handle when a new output is added */\n    events.on('output_added.OutputArea', handleAddOutput);\n\n    /**\n     * Register the mime type and append_mime function with output_area\n     */\n    OutputArea.prototype.register_mime_type(EXEC_MIME_TYPE, append_mime, {\n      /* Is output safe? */\n      safe: true,\n      /* Index of renderer in `output_area.display_order` */\n      index: 0\n    });\n  }\n\n  // register the mime type if in Jupyter Notebook environment and previously unregistered\n  if (root.Jupyter !== undefined) {\n    const events = require('base/js/events');\n    const OutputArea = require('notebook/js/outputarea').OutputArea;\n\n    if (OutputArea.prototype.mime_types().indexOf(EXEC_MIME_TYPE) == -1) {\n      register_renderer(events, OutputArea);\n    }\n  }\n  if (typeof (root._bokeh_timeout) === \"undefined\" || force === true) {\n    root._bokeh_timeout = Date.now() + 5000;\n    root._bokeh_failed_load = false;\n  }\n\n  const NB_LOAD_WARNING = {'data': {'text/html':\n     \"<div style='background-color: #fdd'>\\n\"+\n     \"<p>\\n\"+\n     \"BokehJS does not appear to have successfully loaded. If loading BokehJS from CDN, this \\n\"+\n     \"may be due to a slow or bad network connection. Possible fixes:\\n\"+\n     \"</p>\\n\"+\n     \"<ul>\\n\"+\n     \"<li>re-rerun `output_notebook()` to attempt to load from CDN again, or</li>\\n\"+\n     \"<li>use INLINE resources instead, as so:</li>\\n\"+\n     \"</ul>\\n\"+\n     \"<code>\\n\"+\n     \"from bokeh.resources import INLINE\\n\"+\n     \"output_notebook(resources=INLINE)\\n\"+\n     \"</code>\\n\"+\n     \"</div>\"}};\n\n  function display_loaded() {\n    const el = document.getElementById(\"1001\");\n    if (el != null) {\n      el.textContent = \"BokehJS is loading...\";\n    }\n    if (root.Bokeh !== undefined) {\n      if (el != null) {\n        el.textContent = \"BokehJS \" + root.Bokeh.version + \" successfully loaded.\";\n      }\n    } else if (Date.now() < root._bokeh_timeout) {\n      setTimeout(display_loaded, 100)\n    }\n  }\n\n  function run_callbacks() {\n    try {\n      root._bokeh_onload_callbacks.forEach(function(callback) {\n        if (callback != null)\n          callback();\n      });\n    } finally {\n      delete root._bokeh_onload_callbacks\n    }\n    console.debug(\"Bokeh: all callbacks have finished\");\n  }\n\n  function load_libs(css_urls, js_urls, callback) {\n    if (css_urls == null) css_urls = [];\n    if (js_urls == null) js_urls = [];\n\n    root._bokeh_onload_callbacks.push(callback);\n    if (root._bokeh_is_loading > 0) {\n      console.debug(\"Bokeh: BokehJS is being loaded, scheduling callback at\", now());\n      return null;\n    }\n    if (js_urls == null || js_urls.length === 0) {\n      run_callbacks();\n      return null;\n    }\n    console.debug(\"Bokeh: BokehJS not loaded, scheduling load and callback at\", now());\n    root._bokeh_is_loading = css_urls.length + js_urls.length;\n\n    function on_load() {\n      root._bokeh_is_loading--;\n      if (root._bokeh_is_loading === 0) {\n        console.debug(\"Bokeh: all BokehJS libraries/stylesheets loaded\");\n        run_callbacks()\n      }\n    }\n\n    function on_error(url) {\n      console.error(\"failed to load \" + url);\n    }\n\n    for (let i = 0; i < css_urls.length; i++) {\n      const url = css_urls[i];\n      const element = document.createElement(\"link\");\n      element.onload = on_load;\n      element.onerror = on_error.bind(null, url);\n      element.rel = \"stylesheet\";\n      element.type = \"text/css\";\n      element.href = url;\n      console.debug(\"Bokeh: injecting link tag for BokehJS stylesheet: \", url);\n      document.body.appendChild(element);\n    }\n\n    for (let i = 0; i < js_urls.length; i++) {\n      const url = js_urls[i];\n      const element = document.createElement('script');\n      element.onload = on_load;\n      element.onerror = on_error.bind(null, url);\n      element.async = false;\n      element.src = url;\n      console.debug(\"Bokeh: injecting script tag for BokehJS library: \", url);\n      document.head.appendChild(element);\n    }\n  };\n\n  function inject_raw_css(css) {\n    const element = document.createElement(\"style\");\n    element.appendChild(document.createTextNode(css));\n    document.body.appendChild(element);\n  }\n\n  const js_urls = [\"https://cdn.bokeh.org/bokeh/release/bokeh-2.4.3.min.js\", \"https://cdn.bokeh.org/bokeh/release/bokeh-gl-2.4.3.min.js\", \"https://cdn.bokeh.org/bokeh/release/bokeh-widgets-2.4.3.min.js\", \"https://cdn.bokeh.org/bokeh/release/bokeh-tables-2.4.3.min.js\", \"https://cdn.bokeh.org/bokeh/release/bokeh-mathjax-2.4.3.min.js\"];\n  const css_urls = [];\n\n  const inline_js = [    function(Bokeh) {\n      Bokeh.set_log_level(\"info\");\n    },\nfunction(Bokeh) {\n    }\n  ];\n\n  function run_inline_js() {\n    if (root.Bokeh !== undefined || force === true) {\n          for (let i = 0; i < inline_js.length; i++) {\n      inline_js[i].call(root, root.Bokeh);\n    }\nif (force === true) {\n        display_loaded();\n      }} else if (Date.now() < root._bokeh_timeout) {\n      setTimeout(run_inline_js, 100);\n    } else if (!root._bokeh_failed_load) {\n      console.log(\"Bokeh: BokehJS failed to load within specified timeout.\");\n      root._bokeh_failed_load = true;\n    } else if (force !== true) {\n      const cell = $(document.getElementById(\"1001\")).parents('.cell').data().cell;\n      cell.output_area.append_execute_result(NB_LOAD_WARNING)\n    }\n  }\n\n  if (root._bokeh_is_loading === 0) {\n    console.debug(\"Bokeh: BokehJS loaded, going straight to plotting\");\n    run_inline_js();\n  } else {\n    load_libs(css_urls, js_urls, function() {\n      console.debug(\"Bokeh: BokehJS plotting callback run at\", now());\n      run_inline_js();\n    });\n  }\n}(window));",
      "application/vnd.bokehjs_load.v0+json": ""
     },
     "metadata": {},
     "output_type": "display_data"
    }
   ],
   "source": [
    "import csv\n",
    "import numpy as np\n",
    "import pandas as pd\n",
    "import scipy.signal as signal\n",
    "from scipy.signal import find_peaks, peak_widths, peak_prominences, find_peaks_cwt, argrelextrema\n",
    "from tqdm.notebook import tqdm, trange\n",
    "# bokeh plot settings\n",
    "from bokeh.io import output_notebook, show, save\n",
    "output_notebook()\n",
    "from bokeh.models import ColumnDataSource, HoverTool, Scatter\n",
    "from bokeh.plotting import figure\n",
    "from bokeh.sampledata.autompg import autompg_clean\n",
    "from bokeh.transform import factor_cmap\n",
    "from bokeh.layouts import gridplot\n",
    "from bokeh.palettes import brewer\n",
    "from lmfit.models import GaussianModel, LinearModel, ExponentialModel"
   ]
  },
  {
   "cell_type": "code",
   "execution_count": 2,
   "metadata": {},
   "outputs": [],
   "source": [
    "# Path: tests/peak_detect.ipynb\n",
    "import os\n",
    "# find root directory\n",
    "root = os.path.dirname(os.path.abspath('./'))\n",
    "# append root directory to sys.path\n",
    "import sys\n",
    "sys.path.append(root)"
   ]
  },
  {
   "cell_type": "markdown",
   "metadata": {},
   "source": [
    "# Read data and pre-process"
   ]
  },
  {
   "cell_type": "code",
   "execution_count": 3,
   "metadata": {},
   "outputs": [
    {
     "name": "stderr",
     "output_type": "stream",
     "text": [
      "100%|██████████| 22/22 [00:00<00:00, 271396.14it/s]\n",
      "100%|██████████| 20/20 [00:00<00:00, 278691.30it/s]\n",
      "100%|██████████| 49/49 [00:00<00:00, 430861.42it/s]\n",
      "100%|██████████| 48/48 [00:00<00:00, 493447.53it/s]\n",
      "100%|██████████| 57/57 [00:00<00:00, 452794.18it/s]\n",
      "100%|██████████| 57/57 [00:00<00:00, 662258.53it/s]\n",
      "100%|██████████| 47/47 [00:00<00:00, 458447.18it/s]\n",
      "100%|██████████| 46/46 [00:00<00:00, 412260.65it/s]\n",
      "100%|██████████| 81/81 [00:00<00:00, 417369.32it/s]\n",
      "100%|██████████| 81/81 [00:00<00:00, 527544.45it/s]\n",
      "100%|██████████| 57/57 [00:00<00:00, 244203.60it/s]\n",
      "100%|██████████| 56/56 [00:00<00:00, 581388.67it/s]\n",
      "100%|██████████| 20/20 [00:00<00:00, 2095.84it/s]\n",
      "100%|██████████| 49/49 [00:00<00:00, 1485.74it/s]\n",
      "100%|██████████| 48/48 [00:00<00:00, 1559.46it/s]\n",
      "100%|██████████| 57/57 [00:00<00:00, 2895.81it/s]\n",
      "/home/gakkispy/Code/overlap_project/tools/read_mzxml.py:64: VisibleDeprecationWarning: Creating an ndarray from ragged nested sequences (which is a list-or-tuple of lists-or-tuples-or ndarrays with different lengths or shapes) is deprecated. If you meant to do this, you must specify 'dtype=object' when creating the ndarray.\n",
      "  point_list = np.array(point_list)\n",
      "100%|██████████| 57/57 [00:00<00:00, 2717.60it/s]\n",
      "100%|██████████| 47/47 [00:00<00:00, 1464.00it/s]\n",
      "100%|██████████| 46/46 [00:00<00:00, 1335.95it/s]\n",
      "100%|██████████| 81/81 [00:00<00:00, 6304.42it/s]\n",
      "100%|██████████| 81/81 [00:00<00:00, 5992.29it/s]\n",
      "100%|██████████| 57/57 [00:00<00:00, 2697.09it/s]\n",
      "100%|██████████| 56/56 [00:00<00:00, 2833.65it/s]\n"
     ]
    }
   ],
   "source": [
    "from tools.get_files import GetFiles\n",
    "from tools.read_mzxml import read_mzxml\n",
    "\n",
    "\n",
    "file_finder = GetFiles('/mnt/d/Data/LTQ数据/', 'mzXML')\n",
    "file_list = file_finder.get_files()\n",
    "xml_data_list = []\n",
    "filename_list = []\n",
    "for file in file_list:\n",
    "    filename_list.append(file.split('/')[-1])\n",
    "    xml_data_list.append([read_mzxml(file, env='Production')])"
   ]
  },
  {
   "cell_type": "code",
   "execution_count": 4,
   "metadata": {},
   "outputs": [],
   "source": [
    "def get_mass_spectrum(data):\n",
    "    \"\"\"\n",
    "    Get the mass spectrum of a specific mass from the data.\n",
    "    \"\"\"\n",
    "    spectrum_list = []\n",
    "    for i in range(len(data)):\n",
    "        spectrum = pd.DataFrame({'mz': data[i][0::2], 'intensity': data[i][1::2]},)\n",
    "        spectrum_list.append(spectrum)\n",
    "    return spectrum_list"
   ]
  },
  {
   "cell_type": "code",
   "execution_count": 12,
   "metadata": {},
   "outputs": [],
   "source": [
    "from findpeaks import findpeaks\n",
    "from scipy.optimize import curve_fit\n",
    "\n",
    "def plot_peak_fit(p, peak_index, peak_height, data, title:str):\n",
    "    p.scatter(data['mz'][peak_index], peak_height, size=5, color='darkcyan')\n",
    "    return p\n",
    "\n",
    "def plot_valley_fit(p, valley_index, valley_height, data, title:str):\n",
    "    p.star(data['mz'][valley_index], valley_height, size=5, color='darkcyan')\n",
    "    return p"
   ]
  },
  {
   "cell_type": "code",
   "execution_count": 28,
   "metadata": {},
   "outputs": [],
   "source": [
    "# handle peak fit reuslt\n",
    "def peak_fit_result(result, data):\n",
    "    df = result['df']\n",
    "    df['x'] = data['mz']\n",
    "    peak_index= df[lambda df: df['peak'] == True]\n",
    "    highest_peak = df.loc[peak_index.index.tolist()]['y'].max()\n",
    "    peak_index_list = peak_index[lambda peak_index: peak_index['y'] > .1 * highest_peak].index.tolist()\n",
    "    valley_index = df[lambda df: df['valley'] == True]\n",
    "    valley_index_list = valley_index[lambda valley_index: valley_index['y'] > .1 * highest_peak].index.tolist()\n",
    "    print('peak index: ', peak_index_list)\n",
    "    # print('valley index: ', valley_index_list)\n",
    "    return peak_index_list, valley_index_list"
   ]
  },
  {
   "cell_type": "code",
   "execution_count": 41,
   "metadata": {},
   "outputs": [
    {
     "data": {
      "application/vnd.jupyter.widget-view+json": {
       "model_id": "7e7572f14c4f4bde8b13922724adbd0b",
       "version_major": 2,
       "version_minor": 0
      },
      "text/plain": [
       "  0%|          | 0/11 [00:00<?, ?it/s]"
      ]
     },
     "metadata": {},
     "output_type": "display_data"
    },
    {
     "data": {
      "application/vnd.jupyter.widget-view+json": {
       "model_id": "51ee0e9a1a074e07a84c84e17a5e8730",
       "version_major": 2,
       "version_minor": 0
      },
      "text/plain": [
       "0it [00:00, ?it/s]"
      ]
     },
     "metadata": {},
     "output_type": "display_data"
    },
    {
     "data": {
      "application/vnd.jupyter.widget-view+json": {
       "model_id": "169710bfac344f0faffcdba932b10ad1",
       "version_major": 2,
       "version_minor": 0
      },
      "text/plain": [
       "0it [00:00, ?it/s]"
      ]
     },
     "metadata": {},
     "output_type": "display_data"
    },
    {
     "name": "stdout",
     "output_type": "stream",
     "text": [
      "peak index:  [1898, 3443, 3966, 6800, 9054, 9078]\n"
     ]
    },
    {
     "data": {
      "application/vnd.jupyter.widget-view+json": {
       "model_id": "069f5bf88c1e4820aadbbd81f6868ea3",
       "version_major": 2,
       "version_minor": 0
      },
      "text/plain": [
       "0it [00:00, ?it/s]"
      ]
     },
     "metadata": {},
     "output_type": "display_data"
    },
    {
     "name": "stdout",
     "output_type": "stream",
     "text": [
      "index: 0, peak location: 1898    129.768005\n",
      "3443    194.699997\n",
      "3966    216.679993\n",
      "6800    335.785004\n",
      "9054    430.514008\n",
      "9078    431.523010\n",
      "Name: mz, dtype: float64\n",
      "index: 1, peak location: 1898    129.768005\n",
      "3443    194.699997\n",
      "3966    216.679993\n",
      "6800    335.785004\n",
      "9054    430.514008\n",
      "9078    431.523010\n",
      "Name: mz, dtype: float64\n",
      "index: 2, peak location: 1898    129.768005\n",
      "3443    194.699997\n",
      "3966    216.679993\n",
      "6800    335.785004\n",
      "9054    430.514008\n",
      "9078    431.523010\n",
      "Name: mz, dtype: float64\n",
      "index: 3, peak location: 1898    129.768005\n",
      "3443    194.699997\n",
      "3966    216.679993\n",
      "6800    335.785004\n",
      "9054    430.514008\n",
      "9078    431.523010\n",
      "Name: mz, dtype: float64\n",
      "index: 4, peak location: 1898    129.768005\n",
      "3443    194.699997\n",
      "3966    216.679993\n",
      "6800    335.785004\n",
      "9054    430.514008\n",
      "9078    431.523010\n",
      "Name: mz, dtype: float64\n",
      "index: 5, peak location: 1898    129.768005\n",
      "3443    194.699997\n",
      "3966    216.679993\n",
      "6800    335.785004\n",
      "9054    430.514008\n",
      "9078    431.523010\n",
      "Name: mz, dtype: float64\n",
      "peak index:  [1899, 3443, 3966, 6797, 7374, 9053, 9055, 9088, 9093, 9115]\n"
     ]
    },
    {
     "data": {
      "application/vnd.jupyter.widget-view+json": {
       "model_id": "478f452c13284db7bf1fa5108d5d9871",
       "version_major": 2,
       "version_minor": 0
      },
      "text/plain": [
       "0it [00:00, ?it/s]"
      ]
     },
     "metadata": {},
     "output_type": "display_data"
    },
    {
     "name": "stdout",
     "output_type": "stream",
     "text": [
      "index: 0, peak location: 1899    129.809998\n",
      "3443    194.699997\n",
      "3966    216.679993\n",
      "6797    335.658997\n",
      "7374    359.907990\n",
      "9053    430.471985\n",
      "9055    430.556000\n",
      "9088    431.942993\n",
      "9093    432.153015\n",
      "9115    433.078003\n",
      "Name: mz, dtype: float64\n",
      "index: 1, peak location: 1899    129.809998\n",
      "3443    194.699997\n",
      "3966    216.679993\n",
      "6797    335.658997\n",
      "7374    359.907990\n",
      "9053    430.471985\n",
      "9055    430.556000\n",
      "9088    431.942993\n",
      "9093    432.153015\n",
      "9115    433.078003\n",
      "Name: mz, dtype: float64\n",
      "index: 2, peak location: 1899    129.809998\n",
      "3443    194.699997\n",
      "3966    216.679993\n",
      "6797    335.658997\n",
      "7374    359.907990\n",
      "9053    430.471985\n",
      "9055    430.556000\n",
      "9088    431.942993\n",
      "9093    432.153015\n",
      "9115    433.078003\n",
      "Name: mz, dtype: float64\n",
      "index: 3, peak location: 1899    129.809998\n",
      "3443    194.699997\n",
      "3966    216.679993\n",
      "6797    335.658997\n",
      "7374    359.907990\n",
      "9053    430.471985\n",
      "9055    430.556000\n",
      "9088    431.942993\n",
      "9093    432.153015\n",
      "9115    433.078003\n",
      "Name: mz, dtype: float64\n",
      "index: 4, peak location: 1899    129.809998\n",
      "3443    194.699997\n",
      "3966    216.679993\n",
      "6797    335.658997\n",
      "7374    359.907990\n",
      "9053    430.471985\n",
      "9055    430.556000\n",
      "9088    431.942993\n",
      "9093    432.153015\n",
      "9115    433.078003\n",
      "Name: mz, dtype: float64\n",
      "index: 5, peak location: 1899    129.809998\n",
      "3443    194.699997\n",
      "3966    216.679993\n",
      "6797    335.658997\n",
      "7374    359.907990\n",
      "9053    430.471985\n",
      "9055    430.556000\n",
      "9088    431.942993\n",
      "9093    432.153015\n",
      "9115    433.078003\n",
      "Name: mz, dtype: float64\n",
      "index: 6, peak location: 1899    129.809998\n",
      "3443    194.699997\n",
      "3966    216.679993\n",
      "6797    335.658997\n",
      "7374    359.907990\n",
      "9053    430.471985\n",
      "9055    430.556000\n",
      "9088    431.942993\n",
      "9093    432.153015\n",
      "9115    433.078003\n",
      "Name: mz, dtype: float64\n",
      "index: 7, peak location: 1899    129.809998\n",
      "3443    194.699997\n",
      "3966    216.679993\n",
      "6797    335.658997\n",
      "7374    359.907990\n",
      "9053    430.471985\n",
      "9055    430.556000\n",
      "9088    431.942993\n",
      "9093    432.153015\n",
      "9115    433.078003\n",
      "Name: mz, dtype: float64\n",
      "index: 8, peak location: 1899    129.809998\n",
      "3443    194.699997\n",
      "3966    216.679993\n",
      "6797    335.658997\n",
      "7374    359.907990\n",
      "9053    430.471985\n",
      "9055    430.556000\n",
      "9088    431.942993\n",
      "9093    432.153015\n",
      "9115    433.078003\n",
      "Name: mz, dtype: float64\n",
      "index: 9, peak location: 1899    129.809998\n",
      "3443    194.699997\n",
      "3966    216.679993\n",
      "6797    335.658997\n",
      "7374    359.907990\n",
      "9053    430.471985\n",
      "9055    430.556000\n",
      "9088    431.942993\n",
      "9093    432.153015\n",
      "9115    433.078003\n",
      "Name: mz, dtype: float64\n",
      "peak index:  [1898, 3443, 3966, 6799, 9052, 9054, 9074, 9078, 9092, 9116]\n"
     ]
    },
    {
     "data": {
      "application/vnd.jupyter.widget-view+json": {
       "model_id": "71b33a03fdde43e2a088463607bd9940",
       "version_major": 2,
       "version_minor": 0
      },
      "text/plain": [
       "0it [00:00, ?it/s]"
      ]
     },
     "metadata": {},
     "output_type": "display_data"
    },
    {
     "name": "stdout",
     "output_type": "stream",
     "text": [
      "index: 0, peak location: 1898    129.768005\n",
      "3443    194.699997\n",
      "3966    216.679993\n",
      "6799    335.743011\n",
      "9052    430.429993\n",
      "9054    430.514008\n",
      "9074    431.355011\n",
      "9078    431.523010\n",
      "9092    432.110992\n",
      "9116    433.119995\n",
      "Name: mz, dtype: float64\n",
      "index: 1, peak location: 1898    129.768005\n",
      "3443    194.699997\n",
      "3966    216.679993\n",
      "6799    335.743011\n",
      "9052    430.429993\n",
      "9054    430.514008\n",
      "9074    431.355011\n",
      "9078    431.523010\n",
      "9092    432.110992\n",
      "9116    433.119995\n",
      "Name: mz, dtype: float64\n",
      "index: 2, peak location: 1898    129.768005\n",
      "3443    194.699997\n",
      "3966    216.679993\n",
      "6799    335.743011\n",
      "9052    430.429993\n",
      "9054    430.514008\n",
      "9074    431.355011\n",
      "9078    431.523010\n",
      "9092    432.110992\n",
      "9116    433.119995\n",
      "Name: mz, dtype: float64\n",
      "index: 3, peak location: 1898    129.768005\n",
      "3443    194.699997\n",
      "3966    216.679993\n",
      "6799    335.743011\n",
      "9052    430.429993\n",
      "9054    430.514008\n",
      "9074    431.355011\n",
      "9078    431.523010\n",
      "9092    432.110992\n",
      "9116    433.119995\n",
      "Name: mz, dtype: float64\n",
      "index: 4, peak location: 1898    129.768005\n",
      "3443    194.699997\n",
      "3966    216.679993\n",
      "6799    335.743011\n",
      "9052    430.429993\n",
      "9054    430.514008\n",
      "9074    431.355011\n",
      "9078    431.523010\n",
      "9092    432.110992\n",
      "9116    433.119995\n",
      "Name: mz, dtype: float64\n",
      "index: 5, peak location: 1898    129.768005\n",
      "3443    194.699997\n",
      "3966    216.679993\n",
      "6799    335.743011\n",
      "9052    430.429993\n",
      "9054    430.514008\n",
      "9074    431.355011\n",
      "9078    431.523010\n",
      "9092    432.110992\n",
      "9116    433.119995\n",
      "Name: mz, dtype: float64\n",
      "index: 6, peak location: 1898    129.768005\n",
      "3443    194.699997\n",
      "3966    216.679993\n",
      "6799    335.743011\n",
      "9052    430.429993\n",
      "9054    430.514008\n",
      "9074    431.355011\n",
      "9078    431.523010\n",
      "9092    432.110992\n",
      "9116    433.119995\n",
      "Name: mz, dtype: float64\n",
      "index: 7, peak location: 1898    129.768005\n",
      "3443    194.699997\n",
      "3966    216.679993\n",
      "6799    335.743011\n",
      "9052    430.429993\n",
      "9054    430.514008\n",
      "9074    431.355011\n",
      "9078    431.523010\n",
      "9092    432.110992\n",
      "9116    433.119995\n",
      "Name: mz, dtype: float64\n",
      "index: 8, peak location: 1898    129.768005\n",
      "3443    194.699997\n",
      "3966    216.679993\n",
      "6799    335.743011\n",
      "9052    430.429993\n",
      "9054    430.514008\n",
      "9074    431.355011\n",
      "9078    431.523010\n",
      "9092    432.110992\n",
      "9116    433.119995\n",
      "Name: mz, dtype: float64\n",
      "index: 9, peak location: 1898    129.768005\n",
      "3443    194.699997\n",
      "3966    216.679993\n",
      "6799    335.743011\n",
      "9052    430.429993\n",
      "9054    430.514008\n",
      "9074    431.355011\n",
      "9078    431.523010\n",
      "9092    432.110992\n",
      "9116    433.119995\n",
      "Name: mz, dtype: float64\n",
      "peak index:  [3443, 3966, 6799, 9091, 9102, 9113]\n"
     ]
    },
    {
     "data": {
      "application/vnd.jupyter.widget-view+json": {
       "model_id": "1983afb4a8eb4e32818e6ed685c63cdc",
       "version_major": 2,
       "version_minor": 0
      },
      "text/plain": [
       "0it [00:00, ?it/s]"
      ]
     },
     "metadata": {},
     "output_type": "display_data"
    },
    {
     "name": "stdout",
     "output_type": "stream",
     "text": [
      "index: 0, peak location: 3443    194.699997\n",
      "3966    216.679993\n",
      "6799    335.743011\n",
      "9091    432.069000\n",
      "9102    432.531006\n",
      "9113    432.993988\n",
      "Name: mz, dtype: float64\n",
      "index: 1, peak location: 3443    194.699997\n",
      "3966    216.679993\n",
      "6799    335.743011\n",
      "9091    432.069000\n",
      "9102    432.531006\n",
      "9113    432.993988\n",
      "Name: mz, dtype: float64\n",
      "index: 2, peak location: 3443    194.699997\n",
      "3966    216.679993\n",
      "6799    335.743011\n",
      "9091    432.069000\n",
      "9102    432.531006\n",
      "9113    432.993988\n",
      "Name: mz, dtype: float64\n",
      "index: 3, peak location: 3443    194.699997\n",
      "3966    216.679993\n",
      "6799    335.743011\n",
      "9091    432.069000\n",
      "9102    432.531006\n",
      "9113    432.993988\n",
      "Name: mz, dtype: float64\n",
      "index: 4, peak location: 3443    194.699997\n",
      "3966    216.679993\n",
      "6799    335.743011\n",
      "9091    432.069000\n",
      "9102    432.531006\n",
      "9113    432.993988\n",
      "Name: mz, dtype: float64\n",
      "index: 5, peak location: 3443    194.699997\n",
      "3966    216.679993\n",
      "6799    335.743011\n",
      "9091    432.069000\n",
      "9102    432.531006\n",
      "9113    432.993988\n",
      "Name: mz, dtype: float64\n",
      "peak index:  [1898, 3444, 3966, 6799, 9054, 9075, 9078]\n"
     ]
    },
    {
     "data": {
      "application/vnd.jupyter.widget-view+json": {
       "model_id": "20aacaad03e344ff8556d6dab32cf9a8",
       "version_major": 2,
       "version_minor": 0
      },
      "text/plain": [
       "0it [00:00, ?it/s]"
      ]
     },
     "metadata": {},
     "output_type": "display_data"
    },
    {
     "name": "stdout",
     "output_type": "stream",
     "text": [
      "index: 0, peak location: 1898    129.768005\n",
      "3444    194.742004\n",
      "3966    216.679993\n",
      "6799    335.743011\n",
      "9054    430.514008\n",
      "9075    431.397003\n",
      "9078    431.523010\n",
      "Name: mz, dtype: float64\n",
      "index: 1, peak location: 1898    129.768005\n",
      "3444    194.742004\n",
      "3966    216.679993\n",
      "6799    335.743011\n",
      "9054    430.514008\n",
      "9075    431.397003\n",
      "9078    431.523010\n",
      "Name: mz, dtype: float64\n",
      "index: 2, peak location: 1898    129.768005\n",
      "3444    194.742004\n",
      "3966    216.679993\n",
      "6799    335.743011\n",
      "9054    430.514008\n",
      "9075    431.397003\n",
      "9078    431.523010\n",
      "Name: mz, dtype: float64\n",
      "index: 3, peak location: 1898    129.768005\n",
      "3444    194.742004\n",
      "3966    216.679993\n",
      "6799    335.743011\n",
      "9054    430.514008\n",
      "9075    431.397003\n",
      "9078    431.523010\n",
      "Name: mz, dtype: float64\n",
      "index: 4, peak location: 1898    129.768005\n",
      "3444    194.742004\n",
      "3966    216.679993\n",
      "6799    335.743011\n",
      "9054    430.514008\n",
      "9075    431.397003\n",
      "9078    431.523010\n",
      "Name: mz, dtype: float64\n",
      "index: 5, peak location: 1898    129.768005\n",
      "3444    194.742004\n",
      "3966    216.679993\n",
      "6799    335.743011\n",
      "9054    430.514008\n",
      "9075    431.397003\n",
      "9078    431.523010\n",
      "Name: mz, dtype: float64\n",
      "index: 6, peak location: 1898    129.768005\n",
      "3444    194.742004\n",
      "3966    216.679993\n",
      "6799    335.743011\n",
      "9054    430.514008\n",
      "9075    431.397003\n",
      "9078    431.523010\n",
      "Name: mz, dtype: float64\n",
      "peak index:  [3443, 3966, 6800, 9055, 9079]\n"
     ]
    },
    {
     "data": {
      "application/vnd.jupyter.widget-view+json": {
       "model_id": "d6c68b017a6d46a1ab6f62de2bdc4e12",
       "version_major": 2,
       "version_minor": 0
      },
      "text/plain": [
       "0it [00:00, ?it/s]"
      ]
     },
     "metadata": {},
     "output_type": "display_data"
    },
    {
     "name": "stdout",
     "output_type": "stream",
     "text": [
      "index: 0, peak location: 3443    194.699997\n",
      "3966    216.679993\n",
      "6800    335.785004\n",
      "9055    430.556000\n",
      "9079    431.565002\n",
      "Name: mz, dtype: float64\n",
      "index: 1, peak location: 3443    194.699997\n",
      "3966    216.679993\n",
      "6800    335.785004\n",
      "9055    430.556000\n",
      "9079    431.565002\n",
      "Name: mz, dtype: float64\n",
      "index: 2, peak location: 3443    194.699997\n",
      "3966    216.679993\n",
      "6800    335.785004\n",
      "9055    430.556000\n",
      "9079    431.565002\n",
      "Name: mz, dtype: float64\n",
      "index: 3, peak location: 3443    194.699997\n",
      "3966    216.679993\n",
      "6800    335.785004\n",
      "9055    430.556000\n",
      "9079    431.565002\n",
      "Name: mz, dtype: float64\n",
      "index: 4, peak location: 3443    194.699997\n",
      "3966    216.679993\n",
      "6800    335.785004\n",
      "9055    430.556000\n",
      "9079    431.565002\n",
      "Name: mz, dtype: float64\n",
      "peak index:  [1898, 3443, 3965, 6799, 9055, 9079]\n"
     ]
    },
    {
     "data": {
      "application/vnd.jupyter.widget-view+json": {
       "model_id": "6a54ce1fd7d74fc1ae85c708b8151bef",
       "version_major": 2,
       "version_minor": 0
      },
      "text/plain": [
       "0it [00:00, ?it/s]"
      ]
     },
     "metadata": {},
     "output_type": "display_data"
    },
    {
     "name": "stdout",
     "output_type": "stream",
     "text": [
      "index: 0, peak location: 1898    129.768005\n",
      "3443    194.699997\n",
      "3965    216.638000\n",
      "6799    335.743011\n",
      "9055    430.556000\n",
      "9079    431.565002\n",
      "Name: mz, dtype: float64\n",
      "index: 1, peak location: 1898    129.768005\n",
      "3443    194.699997\n",
      "3965    216.638000\n",
      "6799    335.743011\n",
      "9055    430.556000\n",
      "9079    431.565002\n",
      "Name: mz, dtype: float64\n",
      "index: 2, peak location: 1898    129.768005\n",
      "3443    194.699997\n",
      "3965    216.638000\n",
      "6799    335.743011\n",
      "9055    430.556000\n",
      "9079    431.565002\n",
      "Name: mz, dtype: float64\n",
      "index: 3, peak location: 1898    129.768005\n",
      "3443    194.699997\n",
      "3965    216.638000\n",
      "6799    335.743011\n",
      "9055    430.556000\n",
      "9079    431.565002\n",
      "Name: mz, dtype: float64\n",
      "index: 4, peak location: 1898    129.768005\n",
      "3443    194.699997\n",
      "3965    216.638000\n",
      "6799    335.743011\n",
      "9055    430.556000\n",
      "9079    431.565002\n",
      "Name: mz, dtype: float64\n",
      "index: 5, peak location: 1898    129.768005\n",
      "3443    194.699997\n",
      "3965    216.638000\n",
      "6799    335.743011\n",
      "9055    430.556000\n",
      "9079    431.565002\n",
      "Name: mz, dtype: float64\n",
      "peak index:  [1898, 3443, 3965, 6799, 9056, 9074, 9081, 9086, 9090, 9099]\n"
     ]
    },
    {
     "data": {
      "application/vnd.jupyter.widget-view+json": {
       "model_id": "8a1a371ab22e4d9f8fdea1275bff29e0",
       "version_major": 2,
       "version_minor": 0
      },
      "text/plain": [
       "0it [00:00, ?it/s]"
      ]
     },
     "metadata": {},
     "output_type": "display_data"
    },
    {
     "name": "stdout",
     "output_type": "stream",
     "text": [
      "index: 0, peak location: 1898    129.768005\n",
      "3443    194.699997\n",
      "3965    216.638000\n",
      "6799    335.743011\n",
      "9056    430.597992\n",
      "9074    431.355011\n",
      "9081    431.648987\n",
      "9086    431.859009\n",
      "9090    432.027008\n",
      "9099    432.404999\n",
      "Name: mz, dtype: float64\n",
      "index: 1, peak location: 1898    129.768005\n",
      "3443    194.699997\n",
      "3965    216.638000\n",
      "6799    335.743011\n",
      "9056    430.597992\n",
      "9074    431.355011\n",
      "9081    431.648987\n",
      "9086    431.859009\n",
      "9090    432.027008\n",
      "9099    432.404999\n",
      "Name: mz, dtype: float64\n",
      "index: 2, peak location: 1898    129.768005\n",
      "3443    194.699997\n",
      "3965    216.638000\n",
      "6799    335.743011\n",
      "9056    430.597992\n",
      "9074    431.355011\n",
      "9081    431.648987\n",
      "9086    431.859009\n",
      "9090    432.027008\n",
      "9099    432.404999\n",
      "Name: mz, dtype: float64\n",
      "index: 3, peak location: 1898    129.768005\n",
      "3443    194.699997\n",
      "3965    216.638000\n",
      "6799    335.743011\n",
      "9056    430.597992\n",
      "9074    431.355011\n",
      "9081    431.648987\n",
      "9086    431.859009\n",
      "9090    432.027008\n",
      "9099    432.404999\n",
      "Name: mz, dtype: float64\n",
      "index: 4, peak location: 1898    129.768005\n",
      "3443    194.699997\n",
      "3965    216.638000\n",
      "6799    335.743011\n",
      "9056    430.597992\n",
      "9074    431.355011\n",
      "9081    431.648987\n",
      "9086    431.859009\n",
      "9090    432.027008\n",
      "9099    432.404999\n",
      "Name: mz, dtype: float64\n",
      "index: 5, peak location: 1898    129.768005\n",
      "3443    194.699997\n",
      "3965    216.638000\n",
      "6799    335.743011\n",
      "9056    430.597992\n",
      "9074    431.355011\n",
      "9081    431.648987\n",
      "9086    431.859009\n",
      "9090    432.027008\n",
      "9099    432.404999\n",
      "Name: mz, dtype: float64\n",
      "index: 6, peak location: 1898    129.768005\n",
      "3443    194.699997\n",
      "3965    216.638000\n",
      "6799    335.743011\n",
      "9056    430.597992\n",
      "9074    431.355011\n",
      "9081    431.648987\n",
      "9086    431.859009\n",
      "9090    432.027008\n",
      "9099    432.404999\n",
      "Name: mz, dtype: float64\n",
      "index: 7, peak location: 1898    129.768005\n",
      "3443    194.699997\n",
      "3965    216.638000\n",
      "6799    335.743011\n",
      "9056    430.597992\n",
      "9074    431.355011\n",
      "9081    431.648987\n",
      "9086    431.859009\n",
      "9090    432.027008\n",
      "9099    432.404999\n",
      "Name: mz, dtype: float64\n",
      "index: 8, peak location: 1898    129.768005\n",
      "3443    194.699997\n",
      "3965    216.638000\n",
      "6799    335.743011\n",
      "9056    430.597992\n",
      "9074    431.355011\n",
      "9081    431.648987\n",
      "9086    431.859009\n",
      "9090    432.027008\n",
      "9099    432.404999\n",
      "Name: mz, dtype: float64\n",
      "index: 9, peak location: 1898    129.768005\n",
      "3443    194.699997\n",
      "3965    216.638000\n",
      "6799    335.743011\n",
      "9056    430.597992\n",
      "9074    431.355011\n",
      "9081    431.648987\n",
      "9086    431.859009\n",
      "9090    432.027008\n",
      "9099    432.404999\n",
      "Name: mz, dtype: float64\n",
      "peak index:  [1898, 3444, 3966, 6799, 9056, 9065, 9079, 9091, 9116]\n"
     ]
    },
    {
     "data": {
      "application/vnd.jupyter.widget-view+json": {
       "model_id": "f03325b8c1394ff09f472edd7d46973c",
       "version_major": 2,
       "version_minor": 0
      },
      "text/plain": [
       "0it [00:00, ?it/s]"
      ]
     },
     "metadata": {},
     "output_type": "display_data"
    },
    {
     "name": "stdout",
     "output_type": "stream",
     "text": [
      "index: 0, peak location: 1898    129.768005\n",
      "3444    194.742004\n",
      "3966    216.679993\n",
      "6799    335.743011\n",
      "9056    430.597992\n",
      "9065    430.976013\n",
      "9079    431.565002\n",
      "9091    432.069000\n",
      "9116    433.119995\n",
      "Name: mz, dtype: float64\n",
      "index: 1, peak location: 1898    129.768005\n",
      "3444    194.742004\n",
      "3966    216.679993\n",
      "6799    335.743011\n",
      "9056    430.597992\n",
      "9065    430.976013\n",
      "9079    431.565002\n",
      "9091    432.069000\n",
      "9116    433.119995\n",
      "Name: mz, dtype: float64\n",
      "index: 2, peak location: 1898    129.768005\n",
      "3444    194.742004\n",
      "3966    216.679993\n",
      "6799    335.743011\n",
      "9056    430.597992\n",
      "9065    430.976013\n",
      "9079    431.565002\n",
      "9091    432.069000\n",
      "9116    433.119995\n",
      "Name: mz, dtype: float64\n",
      "index: 3, peak location: 1898    129.768005\n",
      "3444    194.742004\n",
      "3966    216.679993\n",
      "6799    335.743011\n",
      "9056    430.597992\n",
      "9065    430.976013\n",
      "9079    431.565002\n",
      "9091    432.069000\n",
      "9116    433.119995\n",
      "Name: mz, dtype: float64\n",
      "index: 4, peak location: 1898    129.768005\n",
      "3444    194.742004\n",
      "3966    216.679993\n",
      "6799    335.743011\n",
      "9056    430.597992\n",
      "9065    430.976013\n",
      "9079    431.565002\n",
      "9091    432.069000\n",
      "9116    433.119995\n",
      "Name: mz, dtype: float64\n",
      "index: 5, peak location: 1898    129.768005\n",
      "3444    194.742004\n",
      "3966    216.679993\n",
      "6799    335.743011\n",
      "9056    430.597992\n",
      "9065    430.976013\n",
      "9079    431.565002\n",
      "9091    432.069000\n",
      "9116    433.119995\n",
      "Name: mz, dtype: float64\n",
      "index: 6, peak location: 1898    129.768005\n",
      "3444    194.742004\n",
      "3966    216.679993\n",
      "6799    335.743011\n",
      "9056    430.597992\n",
      "9065    430.976013\n",
      "9079    431.565002\n",
      "9091    432.069000\n",
      "9116    433.119995\n",
      "Name: mz, dtype: float64\n",
      "index: 7, peak location: 1898    129.768005\n",
      "3444    194.742004\n",
      "3966    216.679993\n",
      "6799    335.743011\n",
      "9056    430.597992\n",
      "9065    430.976013\n",
      "9079    431.565002\n",
      "9091    432.069000\n",
      "9116    433.119995\n",
      "Name: mz, dtype: float64\n",
      "index: 8, peak location: 1898    129.768005\n",
      "3444    194.742004\n",
      "3966    216.679993\n",
      "6799    335.743011\n",
      "9056    430.597992\n",
      "9065    430.976013\n",
      "9079    431.565002\n",
      "9091    432.069000\n",
      "9116    433.119995\n",
      "Name: mz, dtype: float64\n",
      "peak index:  [3444, 3965, 6799, 9091, 9115]\n"
     ]
    },
    {
     "data": {
      "application/vnd.jupyter.widget-view+json": {
       "model_id": "273affb2e3ae417a93cb6eaa7a17b0e3",
       "version_major": 2,
       "version_minor": 0
      },
      "text/plain": [
       "0it [00:00, ?it/s]"
      ]
     },
     "metadata": {},
     "output_type": "display_data"
    },
    {
     "name": "stdout",
     "output_type": "stream",
     "text": [
      "index: 0, peak location: 3444    194.742004\n",
      "3965    216.638000\n",
      "6799    335.743011\n",
      "9091    432.069000\n",
      "9115    433.078003\n",
      "Name: mz, dtype: float64\n",
      "index: 1, peak location: 3444    194.742004\n",
      "3965    216.638000\n",
      "6799    335.743011\n",
      "9091    432.069000\n",
      "9115    433.078003\n",
      "Name: mz, dtype: float64\n",
      "index: 2, peak location: 3444    194.742004\n",
      "3965    216.638000\n",
      "6799    335.743011\n",
      "9091    432.069000\n",
      "9115    433.078003\n",
      "Name: mz, dtype: float64\n",
      "index: 3, peak location: 3444    194.742004\n",
      "3965    216.638000\n",
      "6799    335.743011\n",
      "9091    432.069000\n",
      "9115    433.078003\n",
      "Name: mz, dtype: float64\n",
      "index: 4, peak location: 3444    194.742004\n",
      "3965    216.638000\n",
      "6799    335.743011\n",
      "9091    432.069000\n",
      "9115    433.078003\n",
      "Name: mz, dtype: float64\n",
      "peak index:  [1898, 3443, 3966, 6799, 9058, 9092, 9116]\n"
     ]
    },
    {
     "data": {
      "application/vnd.jupyter.widget-view+json": {
       "model_id": "15fc766d341f4cb88c77469ef5e32cb0",
       "version_major": 2,
       "version_minor": 0
      },
      "text/plain": [
       "0it [00:00, ?it/s]"
      ]
     },
     "metadata": {},
     "output_type": "display_data"
    },
    {
     "name": "stdout",
     "output_type": "stream",
     "text": [
      "index: 0, peak location: 1898    129.768005\n",
      "3443    194.699997\n",
      "3966    216.679993\n",
      "6799    335.743011\n",
      "9058    430.682007\n",
      "9092    432.110992\n",
      "9116    433.119995\n",
      "Name: mz, dtype: float64\n",
      "index: 1, peak location: 1898    129.768005\n",
      "3443    194.699997\n",
      "3966    216.679993\n",
      "6799    335.743011\n",
      "9058    430.682007\n",
      "9092    432.110992\n",
      "9116    433.119995\n",
      "Name: mz, dtype: float64\n",
      "index: 2, peak location: 1898    129.768005\n",
      "3443    194.699997\n",
      "3966    216.679993\n",
      "6799    335.743011\n",
      "9058    430.682007\n",
      "9092    432.110992\n",
      "9116    433.119995\n",
      "Name: mz, dtype: float64\n",
      "index: 3, peak location: 1898    129.768005\n",
      "3443    194.699997\n",
      "3966    216.679993\n",
      "6799    335.743011\n",
      "9058    430.682007\n",
      "9092    432.110992\n",
      "9116    433.119995\n",
      "Name: mz, dtype: float64\n",
      "index: 4, peak location: 1898    129.768005\n",
      "3443    194.699997\n",
      "3966    216.679993\n",
      "6799    335.743011\n",
      "9058    430.682007\n",
      "9092    432.110992\n",
      "9116    433.119995\n",
      "Name: mz, dtype: float64\n",
      "index: 5, peak location: 1898    129.768005\n",
      "3443    194.699997\n",
      "3966    216.679993\n",
      "6799    335.743011\n",
      "9058    430.682007\n",
      "9092    432.110992\n",
      "9116    433.119995\n",
      "Name: mz, dtype: float64\n",
      "index: 6, peak location: 1898    129.768005\n",
      "3443    194.699997\n",
      "3966    216.679993\n",
      "6799    335.743011\n",
      "9058    430.682007\n",
      "9092    432.110992\n",
      "9116    433.119995\n",
      "Name: mz, dtype: float64\n",
      "peak index:  [3443, 3966, 6800, 9092, 9115]\n"
     ]
    },
    {
     "data": {
      "application/vnd.jupyter.widget-view+json": {
       "model_id": "8edc7ba7d5e04f2a9055b6ac14afb88d",
       "version_major": 2,
       "version_minor": 0
      },
      "text/plain": [
       "0it [00:00, ?it/s]"
      ]
     },
     "metadata": {},
     "output_type": "display_data"
    },
    {
     "name": "stdout",
     "output_type": "stream",
     "text": [
      "index: 0, peak location: 3443    194.699997\n",
      "3966    216.679993\n",
      "6800    335.785004\n",
      "9092    432.110992\n",
      "9115    433.078003\n",
      "Name: mz, dtype: float64\n",
      "index: 1, peak location: 3443    194.699997\n",
      "3966    216.679993\n",
      "6800    335.785004\n",
      "9092    432.110992\n",
      "9115    433.078003\n",
      "Name: mz, dtype: float64\n",
      "index: 2, peak location: 3443    194.699997\n",
      "3966    216.679993\n",
      "6800    335.785004\n",
      "9092    432.110992\n",
      "9115    433.078003\n",
      "Name: mz, dtype: float64\n",
      "index: 3, peak location: 3443    194.699997\n",
      "3966    216.679993\n",
      "6800    335.785004\n",
      "9092    432.110992\n",
      "9115    433.078003\n",
      "Name: mz, dtype: float64\n",
      "index: 4, peak location: 3443    194.699997\n",
      "3966    216.679993\n",
      "6800    335.785004\n",
      "9092    432.110992\n",
      "9115    433.078003\n",
      "Name: mz, dtype: float64\n",
      "peak index:  [1898, 3443, 3965, 6799, 9090, 9114]\n"
     ]
    },
    {
     "data": {
      "application/vnd.jupyter.widget-view+json": {
       "model_id": "789c86a5c345468c93dac433aae01fa2",
       "version_major": 2,
       "version_minor": 0
      },
      "text/plain": [
       "0it [00:00, ?it/s]"
      ]
     },
     "metadata": {},
     "output_type": "display_data"
    },
    {
     "name": "stdout",
     "output_type": "stream",
     "text": [
      "index: 0, peak location: 1898    129.768005\n",
      "3443    194.699997\n",
      "3965    216.638000\n",
      "6799    335.743011\n",
      "9090    432.027008\n",
      "9114    433.036011\n",
      "Name: mz, dtype: float64\n",
      "index: 1, peak location: 1898    129.768005\n",
      "3443    194.699997\n",
      "3965    216.638000\n",
      "6799    335.743011\n",
      "9090    432.027008\n",
      "9114    433.036011\n",
      "Name: mz, dtype: float64\n",
      "index: 2, peak location: 1898    129.768005\n",
      "3443    194.699997\n",
      "3965    216.638000\n",
      "6799    335.743011\n",
      "9090    432.027008\n",
      "9114    433.036011\n",
      "Name: mz, dtype: float64\n",
      "index: 3, peak location: 1898    129.768005\n",
      "3443    194.699997\n",
      "3965    216.638000\n",
      "6799    335.743011\n",
      "9090    432.027008\n",
      "9114    433.036011\n",
      "Name: mz, dtype: float64\n",
      "index: 4, peak location: 1898    129.768005\n",
      "3443    194.699997\n",
      "3965    216.638000\n",
      "6799    335.743011\n",
      "9090    432.027008\n",
      "9114    433.036011\n",
      "Name: mz, dtype: float64\n",
      "index: 5, peak location: 1898    129.768005\n",
      "3443    194.699997\n",
      "3965    216.638000\n",
      "6799    335.743011\n",
      "9090    432.027008\n",
      "9114    433.036011\n",
      "Name: mz, dtype: float64\n",
      "peak index:  [3443, 3966, 6799, 9091, 9115]\n"
     ]
    },
    {
     "data": {
      "application/vnd.jupyter.widget-view+json": {
       "model_id": "17a75e56136847ab8916d233ee6778a2",
       "version_major": 2,
       "version_minor": 0
      },
      "text/plain": [
       "0it [00:00, ?it/s]"
      ]
     },
     "metadata": {},
     "output_type": "display_data"
    },
    {
     "name": "stdout",
     "output_type": "stream",
     "text": [
      "index: 0, peak location: 3443    194.699997\n",
      "3966    216.679993\n",
      "6799    335.743011\n",
      "9091    432.069000\n",
      "9115    433.078003\n",
      "Name: mz, dtype: float64\n",
      "index: 1, peak location: 3443    194.699997\n",
      "3966    216.679993\n",
      "6799    335.743011\n",
      "9091    432.069000\n",
      "9115    433.078003\n",
      "Name: mz, dtype: float64\n",
      "index: 2, peak location: 3443    194.699997\n",
      "3966    216.679993\n",
      "6799    335.743011\n",
      "9091    432.069000\n",
      "9115    433.078003\n",
      "Name: mz, dtype: float64\n",
      "index: 3, peak location: 3443    194.699997\n",
      "3966    216.679993\n",
      "6799    335.743011\n",
      "9091    432.069000\n",
      "9115    433.078003\n",
      "Name: mz, dtype: float64\n",
      "index: 4, peak location: 3443    194.699997\n",
      "3966    216.679993\n",
      "6799    335.743011\n",
      "9091    432.069000\n",
      "9115    433.078003\n",
      "Name: mz, dtype: float64\n",
      "peak index:  [3443, 3966, 6799, 9090, 9114]\n"
     ]
    },
    {
     "data": {
      "application/vnd.jupyter.widget-view+json": {
       "model_id": "76ed5c64bd0040be92e56d3ff6da74a0",
       "version_major": 2,
       "version_minor": 0
      },
      "text/plain": [
       "0it [00:00, ?it/s]"
      ]
     },
     "metadata": {},
     "output_type": "display_data"
    },
    {
     "name": "stdout",
     "output_type": "stream",
     "text": [
      "index: 0, peak location: 3443    194.699997\n",
      "3966    216.679993\n",
      "6799    335.743011\n",
      "9090    432.027008\n",
      "9114    433.036011\n",
      "Name: mz, dtype: float64\n",
      "index: 1, peak location: 3443    194.699997\n",
      "3966    216.679993\n",
      "6799    335.743011\n",
      "9090    432.027008\n",
      "9114    433.036011\n",
      "Name: mz, dtype: float64\n",
      "index: 2, peak location: 3443    194.699997\n",
      "3966    216.679993\n",
      "6799    335.743011\n",
      "9090    432.027008\n",
      "9114    433.036011\n",
      "Name: mz, dtype: float64\n",
      "index: 3, peak location: 3443    194.699997\n",
      "3966    216.679993\n",
      "6799    335.743011\n",
      "9090    432.027008\n",
      "9114    433.036011\n",
      "Name: mz, dtype: float64\n",
      "index: 4, peak location: 3443    194.699997\n",
      "3966    216.679993\n",
      "6799    335.743011\n",
      "9090    432.027008\n",
      "9114    433.036011\n",
      "Name: mz, dtype: float64\n",
      "peak index:  [3443, 3966, 6799, 9091, 9115]\n"
     ]
    },
    {
     "data": {
      "application/vnd.jupyter.widget-view+json": {
       "model_id": "866a0749f0394ffb8a1783e163a2c460",
       "version_major": 2,
       "version_minor": 0
      },
      "text/plain": [
       "0it [00:00, ?it/s]"
      ]
     },
     "metadata": {},
     "output_type": "display_data"
    },
    {
     "name": "stdout",
     "output_type": "stream",
     "text": [
      "index: 0, peak location: 3443    194.699997\n",
      "3966    216.679993\n",
      "6799    335.743011\n",
      "9091    432.069000\n",
      "9115    433.078003\n",
      "Name: mz, dtype: float64\n",
      "index: 1, peak location: 3443    194.699997\n",
      "3966    216.679993\n",
      "6799    335.743011\n",
      "9091    432.069000\n",
      "9115    433.078003\n",
      "Name: mz, dtype: float64\n",
      "index: 2, peak location: 3443    194.699997\n",
      "3966    216.679993\n",
      "6799    335.743011\n",
      "9091    432.069000\n",
      "9115    433.078003\n",
      "Name: mz, dtype: float64\n",
      "index: 3, peak location: 3443    194.699997\n",
      "3966    216.679993\n",
      "6799    335.743011\n",
      "9091    432.069000\n",
      "9115    433.078003\n",
      "Name: mz, dtype: float64\n",
      "index: 4, peak location: 3443    194.699997\n",
      "3966    216.679993\n",
      "6799    335.743011\n",
      "9091    432.069000\n",
      "9115    433.078003\n",
      "Name: mz, dtype: float64\n",
      "peak index:  [1898, 3444, 3966, 6800, 9092, 9115]\n"
     ]
    },
    {
     "data": {
      "application/vnd.jupyter.widget-view+json": {
       "model_id": "1bea6a5b3f8d4570916791d91a468371",
       "version_major": 2,
       "version_minor": 0
      },
      "text/plain": [
       "0it [00:00, ?it/s]"
      ]
     },
     "metadata": {},
     "output_type": "display_data"
    },
    {
     "name": "stdout",
     "output_type": "stream",
     "text": [
      "index: 0, peak location: 1898    129.768005\n",
      "3444    194.742004\n",
      "3966    216.679993\n",
      "6800    335.785004\n",
      "9092    432.110992\n",
      "9115    433.078003\n",
      "Name: mz, dtype: float64\n",
      "index: 1, peak location: 1898    129.768005\n",
      "3444    194.742004\n",
      "3966    216.679993\n",
      "6800    335.785004\n",
      "9092    432.110992\n",
      "9115    433.078003\n",
      "Name: mz, dtype: float64\n",
      "index: 2, peak location: 1898    129.768005\n",
      "3444    194.742004\n",
      "3966    216.679993\n",
      "6800    335.785004\n",
      "9092    432.110992\n",
      "9115    433.078003\n",
      "Name: mz, dtype: float64\n",
      "index: 3, peak location: 1898    129.768005\n",
      "3444    194.742004\n",
      "3966    216.679993\n",
      "6800    335.785004\n",
      "9092    432.110992\n",
      "9115    433.078003\n",
      "Name: mz, dtype: float64\n",
      "index: 4, peak location: 1898    129.768005\n",
      "3444    194.742004\n",
      "3966    216.679993\n",
      "6800    335.785004\n",
      "9092    432.110992\n",
      "9115    433.078003\n",
      "Name: mz, dtype: float64\n",
      "index: 5, peak location: 1898    129.768005\n",
      "3444    194.742004\n",
      "3966    216.679993\n",
      "6800    335.785004\n",
      "9092    432.110992\n",
      "9115    433.078003\n",
      "Name: mz, dtype: float64\n",
      "peak index:  [3443, 3966, 6799, 9092, 9115]\n"
     ]
    },
    {
     "data": {
      "application/vnd.jupyter.widget-view+json": {
       "model_id": "f7c6aadeef7e4fb08b5fc0b7eec69e98",
       "version_major": 2,
       "version_minor": 0
      },
      "text/plain": [
       "0it [00:00, ?it/s]"
      ]
     },
     "metadata": {},
     "output_type": "display_data"
    },
    {
     "name": "stdout",
     "output_type": "stream",
     "text": [
      "index: 0, peak location: 3443    194.699997\n",
      "3966    216.679993\n",
      "6799    335.743011\n",
      "9092    432.110992\n",
      "9115    433.078003\n",
      "Name: mz, dtype: float64\n",
      "index: 1, peak location: 3443    194.699997\n",
      "3966    216.679993\n",
      "6799    335.743011\n",
      "9092    432.110992\n",
      "9115    433.078003\n",
      "Name: mz, dtype: float64\n",
      "index: 2, peak location: 3443    194.699997\n",
      "3966    216.679993\n",
      "6799    335.743011\n",
      "9092    432.110992\n",
      "9115    433.078003\n",
      "Name: mz, dtype: float64\n",
      "index: 3, peak location: 3443    194.699997\n",
      "3966    216.679993\n",
      "6799    335.743011\n",
      "9092    432.110992\n",
      "9115    433.078003\n",
      "Name: mz, dtype: float64\n",
      "index: 4, peak location: 3443    194.699997\n",
      "3966    216.679993\n",
      "6799    335.743011\n",
      "9092    432.110992\n",
      "9115    433.078003\n",
      "Name: mz, dtype: float64\n",
      "peak index:  [3443, 3966, 6799, 9091, 9115]\n"
     ]
    },
    {
     "data": {
      "application/vnd.jupyter.widget-view+json": {
       "model_id": "df9d5afe06e048fe90dd66e82260b3a6",
       "version_major": 2,
       "version_minor": 0
      },
      "text/plain": [
       "0it [00:00, ?it/s]"
      ]
     },
     "metadata": {},
     "output_type": "display_data"
    },
    {
     "name": "stdout",
     "output_type": "stream",
     "text": [
      "index: 0, peak location: 3443    194.699997\n",
      "3966    216.679993\n",
      "6799    335.743011\n",
      "9091    432.069000\n",
      "9115    433.078003\n",
      "Name: mz, dtype: float64\n",
      "index: 1, peak location: 3443    194.699997\n",
      "3966    216.679993\n",
      "6799    335.743011\n",
      "9091    432.069000\n",
      "9115    433.078003\n",
      "Name: mz, dtype: float64\n",
      "index: 2, peak location: 3443    194.699997\n",
      "3966    216.679993\n",
      "6799    335.743011\n",
      "9091    432.069000\n",
      "9115    433.078003\n",
      "Name: mz, dtype: float64\n",
      "index: 3, peak location: 3443    194.699997\n",
      "3966    216.679993\n",
      "6799    335.743011\n",
      "9091    432.069000\n",
      "9115    433.078003\n",
      "Name: mz, dtype: float64\n",
      "index: 4, peak location: 3443    194.699997\n",
      "3966    216.679993\n",
      "6799    335.743011\n",
      "9091    432.069000\n",
      "9115    433.078003\n",
      "Name: mz, dtype: float64\n",
      "peak index:  [3444, 3966, 6800, 9091, 9115]\n"
     ]
    },
    {
     "data": {
      "application/vnd.jupyter.widget-view+json": {
       "model_id": "f4fb7e51d3a64ab99fdb7435d005963d",
       "version_major": 2,
       "version_minor": 0
      },
      "text/plain": [
       "0it [00:00, ?it/s]"
      ]
     },
     "metadata": {},
     "output_type": "display_data"
    },
    {
     "name": "stdout",
     "output_type": "stream",
     "text": [
      "index: 0, peak location: 3444    194.742004\n",
      "3966    216.679993\n",
      "6800    335.785004\n",
      "9091    432.069000\n",
      "9115    433.078003\n",
      "Name: mz, dtype: float64\n",
      "index: 1, peak location: 3444    194.742004\n",
      "3966    216.679993\n",
      "6800    335.785004\n",
      "9091    432.069000\n",
      "9115    433.078003\n",
      "Name: mz, dtype: float64\n",
      "index: 2, peak location: 3444    194.742004\n",
      "3966    216.679993\n",
      "6800    335.785004\n",
      "9091    432.069000\n",
      "9115    433.078003\n",
      "Name: mz, dtype: float64\n",
      "index: 3, peak location: 3444    194.742004\n",
      "3966    216.679993\n",
      "6800    335.785004\n",
      "9091    432.069000\n",
      "9115    433.078003\n",
      "Name: mz, dtype: float64\n",
      "index: 4, peak location: 3444    194.742004\n",
      "3966    216.679993\n",
      "6800    335.785004\n",
      "9091    432.069000\n",
      "9115    433.078003\n",
      "Name: mz, dtype: float64\n",
      "peak index:  [3443, 3966, 6798, 9091, 9115]\n"
     ]
    },
    {
     "data": {
      "application/vnd.jupyter.widget-view+json": {
       "model_id": "4870d5ff5d0a4a7c84ffbe0f62736322",
       "version_major": 2,
       "version_minor": 0
      },
      "text/plain": [
       "0it [00:00, ?it/s]"
      ]
     },
     "metadata": {},
     "output_type": "display_data"
    },
    {
     "name": "stdout",
     "output_type": "stream",
     "text": [
      "index: 0, peak location: 3443    194.699997\n",
      "3966    216.679993\n",
      "6798    335.700989\n",
      "9091    432.069000\n",
      "9115    433.078003\n",
      "Name: mz, dtype: float64\n",
      "index: 1, peak location: 3443    194.699997\n",
      "3966    216.679993\n",
      "6798    335.700989\n",
      "9091    432.069000\n",
      "9115    433.078003\n",
      "Name: mz, dtype: float64\n",
      "index: 2, peak location: 3443    194.699997\n",
      "3966    216.679993\n",
      "6798    335.700989\n",
      "9091    432.069000\n",
      "9115    433.078003\n",
      "Name: mz, dtype: float64\n",
      "index: 3, peak location: 3443    194.699997\n",
      "3966    216.679993\n",
      "6798    335.700989\n",
      "9091    432.069000\n",
      "9115    433.078003\n",
      "Name: mz, dtype: float64\n",
      "index: 4, peak location: 3443    194.699997\n",
      "3966    216.679993\n",
      "6798    335.700989\n",
      "9091    432.069000\n",
      "9115    433.078003\n",
      "Name: mz, dtype: float64\n",
      "peak index:  [3443, 3966, 6799, 9091, 9114]\n"
     ]
    },
    {
     "data": {
      "application/vnd.jupyter.widget-view+json": {
       "model_id": "fc991406104446b5a33da1d5614f402d",
       "version_major": 2,
       "version_minor": 0
      },
      "text/plain": [
       "0it [00:00, ?it/s]"
      ]
     },
     "metadata": {},
     "output_type": "display_data"
    },
    {
     "name": "stdout",
     "output_type": "stream",
     "text": [
      "index: 0, peak location: 3443    194.699997\n",
      "3966    216.679993\n",
      "6799    335.743011\n",
      "9091    432.069000\n",
      "9114    433.036011\n",
      "Name: mz, dtype: float64\n",
      "index: 1, peak location: 3443    194.699997\n",
      "3966    216.679993\n",
      "6799    335.743011\n",
      "9091    432.069000\n",
      "9114    433.036011\n",
      "Name: mz, dtype: float64\n",
      "index: 2, peak location: 3443    194.699997\n",
      "3966    216.679993\n",
      "6799    335.743011\n",
      "9091    432.069000\n",
      "9114    433.036011\n",
      "Name: mz, dtype: float64\n",
      "index: 3, peak location: 3443    194.699997\n",
      "3966    216.679993\n",
      "6799    335.743011\n",
      "9091    432.069000\n",
      "9114    433.036011\n",
      "Name: mz, dtype: float64\n",
      "index: 4, peak location: 3443    194.699997\n",
      "3966    216.679993\n",
      "6799    335.743011\n",
      "9091    432.069000\n",
      "9114    433.036011\n",
      "Name: mz, dtype: float64\n",
      "peak index:  [3443, 3965, 6799, 9091, 9114]\n"
     ]
    },
    {
     "data": {
      "application/vnd.jupyter.widget-view+json": {
       "model_id": "cb82825e55cf4c23b01710715cbe22ff",
       "version_major": 2,
       "version_minor": 0
      },
      "text/plain": [
       "0it [00:00, ?it/s]"
      ]
     },
     "metadata": {},
     "output_type": "display_data"
    },
    {
     "name": "stdout",
     "output_type": "stream",
     "text": [
      "index: 0, peak location: 3443    194.699997\n",
      "3965    216.638000\n",
      "6799    335.743011\n",
      "9091    432.069000\n",
      "9114    433.036011\n",
      "Name: mz, dtype: float64\n",
      "index: 1, peak location: 3443    194.699997\n",
      "3965    216.638000\n",
      "6799    335.743011\n",
      "9091    432.069000\n",
      "9114    433.036011\n",
      "Name: mz, dtype: float64\n",
      "index: 2, peak location: 3443    194.699997\n",
      "3965    216.638000\n",
      "6799    335.743011\n",
      "9091    432.069000\n",
      "9114    433.036011\n",
      "Name: mz, dtype: float64\n",
      "index: 3, peak location: 3443    194.699997\n",
      "3965    216.638000\n",
      "6799    335.743011\n",
      "9091    432.069000\n",
      "9114    433.036011\n",
      "Name: mz, dtype: float64\n",
      "index: 4, peak location: 3443    194.699997\n",
      "3965    216.638000\n",
      "6799    335.743011\n",
      "9091    432.069000\n",
      "9114    433.036011\n",
      "Name: mz, dtype: float64\n",
      "peak index:  [3443, 3966, 6799, 9092, 9116]\n"
     ]
    },
    {
     "data": {
      "application/vnd.jupyter.widget-view+json": {
       "model_id": "6045800aec2c486eb17bfc3abd8b80fe",
       "version_major": 2,
       "version_minor": 0
      },
      "text/plain": [
       "0it [00:00, ?it/s]"
      ]
     },
     "metadata": {},
     "output_type": "display_data"
    },
    {
     "name": "stdout",
     "output_type": "stream",
     "text": [
      "index: 0, peak location: 3443    194.699997\n",
      "3966    216.679993\n",
      "6799    335.743011\n",
      "9092    432.110992\n",
      "9116    433.119995\n",
      "Name: mz, dtype: float64\n",
      "index: 1, peak location: 3443    194.699997\n",
      "3966    216.679993\n",
      "6799    335.743011\n",
      "9092    432.110992\n",
      "9116    433.119995\n",
      "Name: mz, dtype: float64\n",
      "index: 2, peak location: 3443    194.699997\n",
      "3966    216.679993\n",
      "6799    335.743011\n",
      "9092    432.110992\n",
      "9116    433.119995\n",
      "Name: mz, dtype: float64\n",
      "index: 3, peak location: 3443    194.699997\n",
      "3966    216.679993\n",
      "6799    335.743011\n",
      "9092    432.110992\n",
      "9116    433.119995\n",
      "Name: mz, dtype: float64\n",
      "index: 4, peak location: 3443    194.699997\n",
      "3966    216.679993\n",
      "6799    335.743011\n",
      "9092    432.110992\n",
      "9116    433.119995\n",
      "Name: mz, dtype: float64\n",
      "peak index:  [3443, 3966, 6800, 9091, 9115]\n"
     ]
    },
    {
     "data": {
      "application/vnd.jupyter.widget-view+json": {
       "model_id": "c5a2e32128f24970bc9b005f6d4a475c",
       "version_major": 2,
       "version_minor": 0
      },
      "text/plain": [
       "0it [00:00, ?it/s]"
      ]
     },
     "metadata": {},
     "output_type": "display_data"
    },
    {
     "name": "stdout",
     "output_type": "stream",
     "text": [
      "index: 0, peak location: 3443    194.699997\n",
      "3966    216.679993\n",
      "6800    335.785004\n",
      "9091    432.069000\n",
      "9115    433.078003\n",
      "Name: mz, dtype: float64\n",
      "index: 1, peak location: 3443    194.699997\n",
      "3966    216.679993\n",
      "6800    335.785004\n",
      "9091    432.069000\n",
      "9115    433.078003\n",
      "Name: mz, dtype: float64\n",
      "index: 2, peak location: 3443    194.699997\n",
      "3966    216.679993\n",
      "6800    335.785004\n",
      "9091    432.069000\n",
      "9115    433.078003\n",
      "Name: mz, dtype: float64\n",
      "index: 3, peak location: 3443    194.699997\n",
      "3966    216.679993\n",
      "6800    335.785004\n",
      "9091    432.069000\n",
      "9115    433.078003\n",
      "Name: mz, dtype: float64\n",
      "index: 4, peak location: 3443    194.699997\n",
      "3966    216.679993\n",
      "6800    335.785004\n",
      "9091    432.069000\n",
      "9115    433.078003\n",
      "Name: mz, dtype: float64\n",
      "peak index:  [3443, 3966, 6799, 9092, 9116]\n"
     ]
    },
    {
     "data": {
      "application/vnd.jupyter.widget-view+json": {
       "model_id": "f648ad84e556407399aed94094121123",
       "version_major": 2,
       "version_minor": 0
      },
      "text/plain": [
       "0it [00:00, ?it/s]"
      ]
     },
     "metadata": {},
     "output_type": "display_data"
    },
    {
     "name": "stdout",
     "output_type": "stream",
     "text": [
      "index: 0, peak location: 3443    194.699997\n",
      "3966    216.679993\n",
      "6799    335.743011\n",
      "9092    432.110992\n",
      "9116    433.119995\n",
      "Name: mz, dtype: float64\n",
      "index: 1, peak location: 3443    194.699997\n",
      "3966    216.679993\n",
      "6799    335.743011\n",
      "9092    432.110992\n",
      "9116    433.119995\n",
      "Name: mz, dtype: float64\n",
      "index: 2, peak location: 3443    194.699997\n",
      "3966    216.679993\n",
      "6799    335.743011\n",
      "9092    432.110992\n",
      "9116    433.119995\n",
      "Name: mz, dtype: float64\n",
      "index: 3, peak location: 3443    194.699997\n",
      "3966    216.679993\n",
      "6799    335.743011\n",
      "9092    432.110992\n",
      "9116    433.119995\n",
      "Name: mz, dtype: float64\n",
      "index: 4, peak location: 3443    194.699997\n",
      "3966    216.679993\n",
      "6799    335.743011\n",
      "9092    432.110992\n",
      "9116    433.119995\n",
      "Name: mz, dtype: float64\n",
      "peak index:  [3443, 3965, 6798, 9091, 9115]\n"
     ]
    },
    {
     "data": {
      "application/vnd.jupyter.widget-view+json": {
       "model_id": "9e13c6b58309494998d8346804e0f0f8",
       "version_major": 2,
       "version_minor": 0
      },
      "text/plain": [
       "0it [00:00, ?it/s]"
      ]
     },
     "metadata": {},
     "output_type": "display_data"
    },
    {
     "name": "stdout",
     "output_type": "stream",
     "text": [
      "index: 0, peak location: 3443    194.699997\n",
      "3965    216.638000\n",
      "6798    335.700989\n",
      "9091    432.069000\n",
      "9115    433.078003\n",
      "Name: mz, dtype: float64\n",
      "index: 1, peak location: 3443    194.699997\n",
      "3965    216.638000\n",
      "6798    335.700989\n",
      "9091    432.069000\n",
      "9115    433.078003\n",
      "Name: mz, dtype: float64\n",
      "index: 2, peak location: 3443    194.699997\n",
      "3965    216.638000\n",
      "6798    335.700989\n",
      "9091    432.069000\n",
      "9115    433.078003\n",
      "Name: mz, dtype: float64\n",
      "index: 3, peak location: 3443    194.699997\n",
      "3965    216.638000\n",
      "6798    335.700989\n",
      "9091    432.069000\n",
      "9115    433.078003\n",
      "Name: mz, dtype: float64\n",
      "index: 4, peak location: 3443    194.699997\n",
      "3965    216.638000\n",
      "6798    335.700989\n",
      "9091    432.069000\n",
      "9115    433.078003\n",
      "Name: mz, dtype: float64\n",
      "peak index:  [3444, 3966, 6800, 9092, 9115]\n"
     ]
    },
    {
     "data": {
      "application/vnd.jupyter.widget-view+json": {
       "model_id": "8f8a2730c0da412fb633160ab3a5b632",
       "version_major": 2,
       "version_minor": 0
      },
      "text/plain": [
       "0it [00:00, ?it/s]"
      ]
     },
     "metadata": {},
     "output_type": "display_data"
    },
    {
     "name": "stdout",
     "output_type": "stream",
     "text": [
      "index: 0, peak location: 3444    194.742004\n",
      "3966    216.679993\n",
      "6800    335.785004\n",
      "9092    432.110992\n",
      "9115    433.078003\n",
      "Name: mz, dtype: float64\n",
      "index: 1, peak location: 3444    194.742004\n",
      "3966    216.679993\n",
      "6800    335.785004\n",
      "9092    432.110992\n",
      "9115    433.078003\n",
      "Name: mz, dtype: float64\n",
      "index: 2, peak location: 3444    194.742004\n",
      "3966    216.679993\n",
      "6800    335.785004\n",
      "9092    432.110992\n",
      "9115    433.078003\n",
      "Name: mz, dtype: float64\n",
      "index: 3, peak location: 3444    194.742004\n",
      "3966    216.679993\n",
      "6800    335.785004\n",
      "9092    432.110992\n",
      "9115    433.078003\n",
      "Name: mz, dtype: float64\n",
      "index: 4, peak location: 3444    194.742004\n",
      "3966    216.679993\n",
      "6800    335.785004\n",
      "9092    432.110992\n",
      "9115    433.078003\n",
      "Name: mz, dtype: float64\n",
      "peak index:  [1898, 3443, 3966, 6798, 9091, 9114]\n"
     ]
    },
    {
     "data": {
      "application/vnd.jupyter.widget-view+json": {
       "model_id": "21eea9eb40194782a1b05f085cd4bba0",
       "version_major": 2,
       "version_minor": 0
      },
      "text/plain": [
       "0it [00:00, ?it/s]"
      ]
     },
     "metadata": {},
     "output_type": "display_data"
    },
    {
     "name": "stdout",
     "output_type": "stream",
     "text": [
      "index: 0, peak location: 1898    129.768005\n",
      "3443    194.699997\n",
      "3966    216.679993\n",
      "6798    335.700989\n",
      "9091    432.069000\n",
      "9114    433.036011\n",
      "Name: mz, dtype: float64\n",
      "index: 1, peak location: 1898    129.768005\n",
      "3443    194.699997\n",
      "3966    216.679993\n",
      "6798    335.700989\n",
      "9091    432.069000\n",
      "9114    433.036011\n",
      "Name: mz, dtype: float64\n",
      "index: 2, peak location: 1898    129.768005\n",
      "3443    194.699997\n",
      "3966    216.679993\n",
      "6798    335.700989\n",
      "9091    432.069000\n",
      "9114    433.036011\n",
      "Name: mz, dtype: float64\n",
      "index: 3, peak location: 1898    129.768005\n",
      "3443    194.699997\n",
      "3966    216.679993\n",
      "6798    335.700989\n",
      "9091    432.069000\n",
      "9114    433.036011\n",
      "Name: mz, dtype: float64\n",
      "index: 4, peak location: 1898    129.768005\n",
      "3443    194.699997\n",
      "3966    216.679993\n",
      "6798    335.700989\n",
      "9091    432.069000\n",
      "9114    433.036011\n",
      "Name: mz, dtype: float64\n",
      "index: 5, peak location: 1898    129.768005\n",
      "3443    194.699997\n",
      "3966    216.679993\n",
      "6798    335.700989\n",
      "9091    432.069000\n",
      "9114    433.036011\n",
      "Name: mz, dtype: float64\n",
      "peak index:  [3443, 3966, 6799, 9092, 9116]\n"
     ]
    },
    {
     "data": {
      "application/vnd.jupyter.widget-view+json": {
       "model_id": "69b1b8de2bd04a76ae9ce19e815e359d",
       "version_major": 2,
       "version_minor": 0
      },
      "text/plain": [
       "0it [00:00, ?it/s]"
      ]
     },
     "metadata": {},
     "output_type": "display_data"
    },
    {
     "name": "stdout",
     "output_type": "stream",
     "text": [
      "index: 0, peak location: 3443    194.699997\n",
      "3966    216.679993\n",
      "6799    335.743011\n",
      "9092    432.110992\n",
      "9116    433.119995\n",
      "Name: mz, dtype: float64\n",
      "index: 1, peak location: 3443    194.699997\n",
      "3966    216.679993\n",
      "6799    335.743011\n",
      "9092    432.110992\n",
      "9116    433.119995\n",
      "Name: mz, dtype: float64\n",
      "index: 2, peak location: 3443    194.699997\n",
      "3966    216.679993\n",
      "6799    335.743011\n",
      "9092    432.110992\n",
      "9116    433.119995\n",
      "Name: mz, dtype: float64\n",
      "index: 3, peak location: 3443    194.699997\n",
      "3966    216.679993\n",
      "6799    335.743011\n",
      "9092    432.110992\n",
      "9116    433.119995\n",
      "Name: mz, dtype: float64\n",
      "index: 4, peak location: 3443    194.699997\n",
      "3966    216.679993\n",
      "6799    335.743011\n",
      "9092    432.110992\n",
      "9116    433.119995\n",
      "Name: mz, dtype: float64\n",
      "peak index:  [3443, 3966, 6800, 9092, 9116]\n"
     ]
    },
    {
     "data": {
      "application/vnd.jupyter.widget-view+json": {
       "model_id": "0cd820073ec14397b577e0b391452220",
       "version_major": 2,
       "version_minor": 0
      },
      "text/plain": [
       "0it [00:00, ?it/s]"
      ]
     },
     "metadata": {},
     "output_type": "display_data"
    },
    {
     "name": "stdout",
     "output_type": "stream",
     "text": [
      "index: 0, peak location: 3443    194.699997\n",
      "3966    216.679993\n",
      "6800    335.785004\n",
      "9092    432.110992\n",
      "9116    433.119995\n",
      "Name: mz, dtype: float64\n",
      "index: 1, peak location: 3443    194.699997\n",
      "3966    216.679993\n",
      "6800    335.785004\n",
      "9092    432.110992\n",
      "9116    433.119995\n",
      "Name: mz, dtype: float64\n",
      "index: 2, peak location: 3443    194.699997\n",
      "3966    216.679993\n",
      "6800    335.785004\n",
      "9092    432.110992\n",
      "9116    433.119995\n",
      "Name: mz, dtype: float64\n",
      "index: 3, peak location: 3443    194.699997\n",
      "3966    216.679993\n",
      "6800    335.785004\n",
      "9092    432.110992\n",
      "9116    433.119995\n",
      "Name: mz, dtype: float64\n",
      "index: 4, peak location: 3443    194.699997\n",
      "3966    216.679993\n",
      "6800    335.785004\n",
      "9092    432.110992\n",
      "9116    433.119995\n",
      "Name: mz, dtype: float64\n",
      "peak index:  [3443, 3966, 6798, 9092, 9114]\n"
     ]
    },
    {
     "data": {
      "application/vnd.jupyter.widget-view+json": {
       "model_id": "fdc443921b2548a9928641c851cda544",
       "version_major": 2,
       "version_minor": 0
      },
      "text/plain": [
       "0it [00:00, ?it/s]"
      ]
     },
     "metadata": {},
     "output_type": "display_data"
    },
    {
     "name": "stdout",
     "output_type": "stream",
     "text": [
      "index: 0, peak location: 3443    194.699997\n",
      "3966    216.679993\n",
      "6798    335.700989\n",
      "9092    432.110992\n",
      "9114    433.036011\n",
      "Name: mz, dtype: float64\n",
      "index: 1, peak location: 3443    194.699997\n",
      "3966    216.679993\n",
      "6798    335.700989\n",
      "9092    432.110992\n",
      "9114    433.036011\n",
      "Name: mz, dtype: float64\n",
      "index: 2, peak location: 3443    194.699997\n",
      "3966    216.679993\n",
      "6798    335.700989\n",
      "9092    432.110992\n",
      "9114    433.036011\n",
      "Name: mz, dtype: float64\n",
      "index: 3, peak location: 3443    194.699997\n",
      "3966    216.679993\n",
      "6798    335.700989\n",
      "9092    432.110992\n",
      "9114    433.036011\n",
      "Name: mz, dtype: float64\n",
      "index: 4, peak location: 3443    194.699997\n",
      "3966    216.679993\n",
      "6798    335.700989\n",
      "9092    432.110992\n",
      "9114    433.036011\n",
      "Name: mz, dtype: float64\n",
      "peak index:  [3443, 3965, 6799, 9091, 9115]\n"
     ]
    },
    {
     "data": {
      "application/vnd.jupyter.widget-view+json": {
       "model_id": "c6ac001c7cd84bf796a64b85bebbbb18",
       "version_major": 2,
       "version_minor": 0
      },
      "text/plain": [
       "0it [00:00, ?it/s]"
      ]
     },
     "metadata": {},
     "output_type": "display_data"
    },
    {
     "name": "stdout",
     "output_type": "stream",
     "text": [
      "index: 0, peak location: 3443    194.699997\n",
      "3965    216.638000\n",
      "6799    335.743011\n",
      "9091    432.069000\n",
      "9115    433.078003\n",
      "Name: mz, dtype: float64\n",
      "index: 1, peak location: 3443    194.699997\n",
      "3965    216.638000\n",
      "6799    335.743011\n",
      "9091    432.069000\n",
      "9115    433.078003\n",
      "Name: mz, dtype: float64\n",
      "index: 2, peak location: 3443    194.699997\n",
      "3965    216.638000\n",
      "6799    335.743011\n",
      "9091    432.069000\n",
      "9115    433.078003\n",
      "Name: mz, dtype: float64\n",
      "index: 3, peak location: 3443    194.699997\n",
      "3965    216.638000\n",
      "6799    335.743011\n",
      "9091    432.069000\n",
      "9115    433.078003\n",
      "Name: mz, dtype: float64\n",
      "index: 4, peak location: 3443    194.699997\n",
      "3965    216.638000\n",
      "6799    335.743011\n",
      "9091    432.069000\n",
      "9115    433.078003\n",
      "Name: mz, dtype: float64\n",
      "peak index:  [3443, 3966, 6799, 9091, 9115]\n"
     ]
    },
    {
     "data": {
      "application/vnd.jupyter.widget-view+json": {
       "model_id": "edc60f1011884c0cafacb9eb427c961b",
       "version_major": 2,
       "version_minor": 0
      },
      "text/plain": [
       "0it [00:00, ?it/s]"
      ]
     },
     "metadata": {},
     "output_type": "display_data"
    },
    {
     "name": "stdout",
     "output_type": "stream",
     "text": [
      "index: 0, peak location: 3443    194.699997\n",
      "3966    216.679993\n",
      "6799    335.743011\n",
      "9091    432.069000\n",
      "9115    433.078003\n",
      "Name: mz, dtype: float64\n",
      "index: 1, peak location: 3443    194.699997\n",
      "3966    216.679993\n",
      "6799    335.743011\n",
      "9091    432.069000\n",
      "9115    433.078003\n",
      "Name: mz, dtype: float64\n",
      "index: 2, peak location: 3443    194.699997\n",
      "3966    216.679993\n",
      "6799    335.743011\n",
      "9091    432.069000\n",
      "9115    433.078003\n",
      "Name: mz, dtype: float64\n",
      "index: 3, peak location: 3443    194.699997\n",
      "3966    216.679993\n",
      "6799    335.743011\n",
      "9091    432.069000\n",
      "9115    433.078003\n",
      "Name: mz, dtype: float64\n",
      "index: 4, peak location: 3443    194.699997\n",
      "3966    216.679993\n",
      "6799    335.743011\n",
      "9091    432.069000\n",
      "9115    433.078003\n",
      "Name: mz, dtype: float64\n",
      "peak index:  [3443, 3966, 6800, 9091, 9114]\n"
     ]
    },
    {
     "data": {
      "application/vnd.jupyter.widget-view+json": {
       "model_id": "6adff8592ffd4df182827690a4c7f280",
       "version_major": 2,
       "version_minor": 0
      },
      "text/plain": [
       "0it [00:00, ?it/s]"
      ]
     },
     "metadata": {},
     "output_type": "display_data"
    },
    {
     "name": "stdout",
     "output_type": "stream",
     "text": [
      "index: 0, peak location: 3443    194.699997\n",
      "3966    216.679993\n",
      "6800    335.785004\n",
      "9091    432.069000\n",
      "9114    433.036011\n",
      "Name: mz, dtype: float64\n",
      "index: 1, peak location: 3443    194.699997\n",
      "3966    216.679993\n",
      "6800    335.785004\n",
      "9091    432.069000\n",
      "9114    433.036011\n",
      "Name: mz, dtype: float64\n",
      "index: 2, peak location: 3443    194.699997\n",
      "3966    216.679993\n",
      "6800    335.785004\n",
      "9091    432.069000\n",
      "9114    433.036011\n",
      "Name: mz, dtype: float64\n",
      "index: 3, peak location: 3443    194.699997\n",
      "3966    216.679993\n",
      "6800    335.785004\n",
      "9091    432.069000\n",
      "9114    433.036011\n",
      "Name: mz, dtype: float64\n",
      "index: 4, peak location: 3443    194.699997\n",
      "3966    216.679993\n",
      "6800    335.785004\n",
      "9091    432.069000\n",
      "9114    433.036011\n",
      "Name: mz, dtype: float64\n",
      "peak index:  [3443, 3966, 6799, 9091, 9114]\n"
     ]
    },
    {
     "data": {
      "application/vnd.jupyter.widget-view+json": {
       "model_id": "fcc15b597d924d44b74a174a26891a0a",
       "version_major": 2,
       "version_minor": 0
      },
      "text/plain": [
       "0it [00:00, ?it/s]"
      ]
     },
     "metadata": {},
     "output_type": "display_data"
    },
    {
     "name": "stdout",
     "output_type": "stream",
     "text": [
      "index: 0, peak location: 3443    194.699997\n",
      "3966    216.679993\n",
      "6799    335.743011\n",
      "9091    432.069000\n",
      "9114    433.036011\n",
      "Name: mz, dtype: float64\n",
      "index: 1, peak location: 3443    194.699997\n",
      "3966    216.679993\n",
      "6799    335.743011\n",
      "9091    432.069000\n",
      "9114    433.036011\n",
      "Name: mz, dtype: float64\n",
      "index: 2, peak location: 3443    194.699997\n",
      "3966    216.679993\n",
      "6799    335.743011\n",
      "9091    432.069000\n",
      "9114    433.036011\n",
      "Name: mz, dtype: float64\n",
      "index: 3, peak location: 3443    194.699997\n",
      "3966    216.679993\n",
      "6799    335.743011\n",
      "9091    432.069000\n",
      "9114    433.036011\n",
      "Name: mz, dtype: float64\n",
      "index: 4, peak location: 3443    194.699997\n",
      "3966    216.679993\n",
      "6799    335.743011\n",
      "9091    432.069000\n",
      "9114    433.036011\n",
      "Name: mz, dtype: float64\n",
      "peak index:  [1899, 3443, 3966, 6799, 9091, 9115]\n"
     ]
    },
    {
     "data": {
      "application/vnd.jupyter.widget-view+json": {
       "model_id": "61093e6bc179448c8ca022d13412e111",
       "version_major": 2,
       "version_minor": 0
      },
      "text/plain": [
       "0it [00:00, ?it/s]"
      ]
     },
     "metadata": {},
     "output_type": "display_data"
    },
    {
     "name": "stdout",
     "output_type": "stream",
     "text": [
      "index: 0, peak location: 1899    129.809998\n",
      "3443    194.699997\n",
      "3966    216.679993\n",
      "6799    335.743011\n",
      "9091    432.069000\n",
      "9115    433.078003\n",
      "Name: mz, dtype: float64\n",
      "index: 1, peak location: 1899    129.809998\n",
      "3443    194.699997\n",
      "3966    216.679993\n",
      "6799    335.743011\n",
      "9091    432.069000\n",
      "9115    433.078003\n",
      "Name: mz, dtype: float64\n",
      "index: 2, peak location: 1899    129.809998\n",
      "3443    194.699997\n",
      "3966    216.679993\n",
      "6799    335.743011\n",
      "9091    432.069000\n",
      "9115    433.078003\n",
      "Name: mz, dtype: float64\n",
      "index: 3, peak location: 1899    129.809998\n",
      "3443    194.699997\n",
      "3966    216.679993\n",
      "6799    335.743011\n",
      "9091    432.069000\n",
      "9115    433.078003\n",
      "Name: mz, dtype: float64\n",
      "index: 4, peak location: 1899    129.809998\n",
      "3443    194.699997\n",
      "3966    216.679993\n",
      "6799    335.743011\n",
      "9091    432.069000\n",
      "9115    433.078003\n",
      "Name: mz, dtype: float64\n",
      "index: 5, peak location: 1899    129.809998\n",
      "3443    194.699997\n",
      "3966    216.679993\n",
      "6799    335.743011\n",
      "9091    432.069000\n",
      "9115    433.078003\n",
      "Name: mz, dtype: float64\n",
      "peak index:  [3443, 3966, 6800, 9092, 9115]\n"
     ]
    },
    {
     "data": {
      "application/vnd.jupyter.widget-view+json": {
       "model_id": "16c3104756714b92adcfc90b4a5ae95b",
       "version_major": 2,
       "version_minor": 0
      },
      "text/plain": [
       "0it [00:00, ?it/s]"
      ]
     },
     "metadata": {},
     "output_type": "display_data"
    },
    {
     "name": "stdout",
     "output_type": "stream",
     "text": [
      "index: 0, peak location: 3443    194.699997\n",
      "3966    216.679993\n",
      "6800    335.785004\n",
      "9092    432.110992\n",
      "9115    433.078003\n",
      "Name: mz, dtype: float64\n",
      "index: 1, peak location: 3443    194.699997\n",
      "3966    216.679993\n",
      "6800    335.785004\n",
      "9092    432.110992\n",
      "9115    433.078003\n",
      "Name: mz, dtype: float64\n",
      "index: 2, peak location: 3443    194.699997\n",
      "3966    216.679993\n",
      "6800    335.785004\n",
      "9092    432.110992\n",
      "9115    433.078003\n",
      "Name: mz, dtype: float64\n",
      "index: 3, peak location: 3443    194.699997\n",
      "3966    216.679993\n",
      "6800    335.785004\n",
      "9092    432.110992\n",
      "9115    433.078003\n",
      "Name: mz, dtype: float64\n",
      "index: 4, peak location: 3443    194.699997\n",
      "3966    216.679993\n",
      "6800    335.785004\n",
      "9092    432.110992\n",
      "9115    433.078003\n",
      "Name: mz, dtype: float64\n",
      "peak index:  [1898, 3443, 3965, 6799, 9091, 9114]\n"
     ]
    },
    {
     "data": {
      "application/vnd.jupyter.widget-view+json": {
       "model_id": "0123930f8d7244f48acee3483149ffb2",
       "version_major": 2,
       "version_minor": 0
      },
      "text/plain": [
       "0it [00:00, ?it/s]"
      ]
     },
     "metadata": {},
     "output_type": "display_data"
    },
    {
     "name": "stdout",
     "output_type": "stream",
     "text": [
      "index: 0, peak location: 1898    129.768005\n",
      "3443    194.699997\n",
      "3965    216.638000\n",
      "6799    335.743011\n",
      "9091    432.069000\n",
      "9114    433.036011\n",
      "Name: mz, dtype: float64\n",
      "index: 1, peak location: 1898    129.768005\n",
      "3443    194.699997\n",
      "3965    216.638000\n",
      "6799    335.743011\n",
      "9091    432.069000\n",
      "9114    433.036011\n",
      "Name: mz, dtype: float64\n",
      "index: 2, peak location: 1898    129.768005\n",
      "3443    194.699997\n",
      "3965    216.638000\n",
      "6799    335.743011\n",
      "9091    432.069000\n",
      "9114    433.036011\n",
      "Name: mz, dtype: float64\n",
      "index: 3, peak location: 1898    129.768005\n",
      "3443    194.699997\n",
      "3965    216.638000\n",
      "6799    335.743011\n",
      "9091    432.069000\n",
      "9114    433.036011\n",
      "Name: mz, dtype: float64\n",
      "index: 4, peak location: 1898    129.768005\n",
      "3443    194.699997\n",
      "3965    216.638000\n",
      "6799    335.743011\n",
      "9091    432.069000\n",
      "9114    433.036011\n",
      "Name: mz, dtype: float64\n",
      "index: 5, peak location: 1898    129.768005\n",
      "3443    194.699997\n",
      "3965    216.638000\n",
      "6799    335.743011\n",
      "9091    432.069000\n",
      "9114    433.036011\n",
      "Name: mz, dtype: float64\n",
      "peak index:  [3443, 3966, 6799, 9091, 9115]\n"
     ]
    },
    {
     "data": {
      "application/vnd.jupyter.widget-view+json": {
       "model_id": "c7163136b2b544b9947bb71f8ade1c68",
       "version_major": 2,
       "version_minor": 0
      },
      "text/plain": [
       "0it [00:00, ?it/s]"
      ]
     },
     "metadata": {},
     "output_type": "display_data"
    },
    {
     "name": "stdout",
     "output_type": "stream",
     "text": [
      "index: 0, peak location: 3443    194.699997\n",
      "3966    216.679993\n",
      "6799    335.743011\n",
      "9091    432.069000\n",
      "9115    433.078003\n",
      "Name: mz, dtype: float64\n",
      "index: 1, peak location: 3443    194.699997\n",
      "3966    216.679993\n",
      "6799    335.743011\n",
      "9091    432.069000\n",
      "9115    433.078003\n",
      "Name: mz, dtype: float64\n",
      "index: 2, peak location: 3443    194.699997\n",
      "3966    216.679993\n",
      "6799    335.743011\n",
      "9091    432.069000\n",
      "9115    433.078003\n",
      "Name: mz, dtype: float64\n",
      "index: 3, peak location: 3443    194.699997\n",
      "3966    216.679993\n",
      "6799    335.743011\n",
      "9091    432.069000\n",
      "9115    433.078003\n",
      "Name: mz, dtype: float64\n",
      "index: 4, peak location: 3443    194.699997\n",
      "3966    216.679993\n",
      "6799    335.743011\n",
      "9091    432.069000\n",
      "9115    433.078003\n",
      "Name: mz, dtype: float64\n",
      "peak index:  [3443, 3965, 6799, 9090, 9114]\n"
     ]
    },
    {
     "data": {
      "application/vnd.jupyter.widget-view+json": {
       "model_id": "bd84022753f14b38aaa7e3702a11a689",
       "version_major": 2,
       "version_minor": 0
      },
      "text/plain": [
       "0it [00:00, ?it/s]"
      ]
     },
     "metadata": {},
     "output_type": "display_data"
    },
    {
     "name": "stdout",
     "output_type": "stream",
     "text": [
      "index: 0, peak location: 3443    194.699997\n",
      "3965    216.638000\n",
      "6799    335.743011\n",
      "9090    432.027008\n",
      "9114    433.036011\n",
      "Name: mz, dtype: float64\n",
      "index: 1, peak location: 3443    194.699997\n",
      "3965    216.638000\n",
      "6799    335.743011\n",
      "9090    432.027008\n",
      "9114    433.036011\n",
      "Name: mz, dtype: float64\n",
      "index: 2, peak location: 3443    194.699997\n",
      "3965    216.638000\n",
      "6799    335.743011\n",
      "9090    432.027008\n",
      "9114    433.036011\n",
      "Name: mz, dtype: float64\n",
      "index: 3, peak location: 3443    194.699997\n",
      "3965    216.638000\n",
      "6799    335.743011\n",
      "9090    432.027008\n",
      "9114    433.036011\n",
      "Name: mz, dtype: float64\n",
      "index: 4, peak location: 3443    194.699997\n",
      "3965    216.638000\n",
      "6799    335.743011\n",
      "9090    432.027008\n",
      "9114    433.036011\n",
      "Name: mz, dtype: float64\n",
      "peak index:  [3443, 3967, 6799, 9092, 9115]\n"
     ]
    },
    {
     "data": {
      "application/vnd.jupyter.widget-view+json": {
       "model_id": "ac7752bf42f04b67bff609aeeb8424e0",
       "version_major": 2,
       "version_minor": 0
      },
      "text/plain": [
       "0it [00:00, ?it/s]"
      ]
     },
     "metadata": {},
     "output_type": "display_data"
    },
    {
     "name": "stdout",
     "output_type": "stream",
     "text": [
      "index: 0, peak location: 3443    194.699997\n",
      "3967    216.722000\n",
      "6799    335.743011\n",
      "9092    432.110992\n",
      "9115    433.078003\n",
      "Name: mz, dtype: float64\n",
      "index: 1, peak location: 3443    194.699997\n",
      "3967    216.722000\n",
      "6799    335.743011\n",
      "9092    432.110992\n",
      "9115    433.078003\n",
      "Name: mz, dtype: float64\n",
      "index: 2, peak location: 3443    194.699997\n",
      "3967    216.722000\n",
      "6799    335.743011\n",
      "9092    432.110992\n",
      "9115    433.078003\n",
      "Name: mz, dtype: float64\n",
      "index: 3, peak location: 3443    194.699997\n",
      "3967    216.722000\n",
      "6799    335.743011\n",
      "9092    432.110992\n",
      "9115    433.078003\n",
      "Name: mz, dtype: float64\n",
      "index: 4, peak location: 3443    194.699997\n",
      "3967    216.722000\n",
      "6799    335.743011\n",
      "9092    432.110992\n",
      "9115    433.078003\n",
      "Name: mz, dtype: float64\n",
      "peak index:  [3444, 3967, 6800, 9092, 9116]\n"
     ]
    },
    {
     "data": {
      "application/vnd.jupyter.widget-view+json": {
       "model_id": "309efe5f359849c99920af5938fb8265",
       "version_major": 2,
       "version_minor": 0
      },
      "text/plain": [
       "0it [00:00, ?it/s]"
      ]
     },
     "metadata": {},
     "output_type": "display_data"
    },
    {
     "name": "stdout",
     "output_type": "stream",
     "text": [
      "index: 0, peak location: 3444    194.742004\n",
      "3967    216.722000\n",
      "6800    335.785004\n",
      "9092    432.110992\n",
      "9116    433.119995\n",
      "Name: mz, dtype: float64\n",
      "index: 1, peak location: 3444    194.742004\n",
      "3967    216.722000\n",
      "6800    335.785004\n",
      "9092    432.110992\n",
      "9116    433.119995\n",
      "Name: mz, dtype: float64\n",
      "index: 2, peak location: 3444    194.742004\n",
      "3967    216.722000\n",
      "6800    335.785004\n",
      "9092    432.110992\n",
      "9116    433.119995\n",
      "Name: mz, dtype: float64\n",
      "index: 3, peak location: 3444    194.742004\n",
      "3967    216.722000\n",
      "6800    335.785004\n",
      "9092    432.110992\n",
      "9116    433.119995\n",
      "Name: mz, dtype: float64\n",
      "index: 4, peak location: 3444    194.742004\n",
      "3967    216.722000\n",
      "6800    335.785004\n",
      "9092    432.110992\n",
      "9116    433.119995\n",
      "Name: mz, dtype: float64\n",
      "peak index:  [3443, 3966, 6799, 9091, 9115]\n"
     ]
    },
    {
     "data": {
      "application/vnd.jupyter.widget-view+json": {
       "model_id": "fee7d61b0f0446b7be949e333123d9bf",
       "version_major": 2,
       "version_minor": 0
      },
      "text/plain": [
       "0it [00:00, ?it/s]"
      ]
     },
     "metadata": {},
     "output_type": "display_data"
    },
    {
     "name": "stdout",
     "output_type": "stream",
     "text": [
      "index: 0, peak location: 3443    194.699997\n",
      "3966    216.679993\n",
      "6799    335.743011\n",
      "9091    432.069000\n",
      "9115    433.078003\n",
      "Name: mz, dtype: float64\n",
      "index: 1, peak location: 3443    194.699997\n",
      "3966    216.679993\n",
      "6799    335.743011\n",
      "9091    432.069000\n",
      "9115    433.078003\n",
      "Name: mz, dtype: float64\n",
      "index: 2, peak location: 3443    194.699997\n",
      "3966    216.679993\n",
      "6799    335.743011\n",
      "9091    432.069000\n",
      "9115    433.078003\n",
      "Name: mz, dtype: float64\n",
      "index: 3, peak location: 3443    194.699997\n",
      "3966    216.679993\n",
      "6799    335.743011\n",
      "9091    432.069000\n",
      "9115    433.078003\n",
      "Name: mz, dtype: float64\n",
      "index: 4, peak location: 3443    194.699997\n",
      "3966    216.679993\n",
      "6799    335.743011\n",
      "9091    432.069000\n",
      "9115    433.078003\n",
      "Name: mz, dtype: float64\n",
      "peak index:  [1899, 3444, 3966, 6800, 9091, 9116]\n"
     ]
    },
    {
     "data": {
      "application/vnd.jupyter.widget-view+json": {
       "model_id": "2b8a0374b5544afca4d6f2662b1544f7",
       "version_major": 2,
       "version_minor": 0
      },
      "text/plain": [
       "0it [00:00, ?it/s]"
      ]
     },
     "metadata": {},
     "output_type": "display_data"
    },
    {
     "name": "stdout",
     "output_type": "stream",
     "text": [
      "index: 0, peak location: 1899    129.809998\n",
      "3444    194.742004\n",
      "3966    216.679993\n",
      "6800    335.785004\n",
      "9091    432.069000\n",
      "9116    433.119995\n",
      "Name: mz, dtype: float64\n",
      "index: 1, peak location: 1899    129.809998\n",
      "3444    194.742004\n",
      "3966    216.679993\n",
      "6800    335.785004\n",
      "9091    432.069000\n",
      "9116    433.119995\n",
      "Name: mz, dtype: float64\n",
      "index: 2, peak location: 1899    129.809998\n",
      "3444    194.742004\n",
      "3966    216.679993\n",
      "6800    335.785004\n",
      "9091    432.069000\n",
      "9116    433.119995\n",
      "Name: mz, dtype: float64\n",
      "index: 3, peak location: 1899    129.809998\n",
      "3444    194.742004\n",
      "3966    216.679993\n",
      "6800    335.785004\n",
      "9091    432.069000\n",
      "9116    433.119995\n",
      "Name: mz, dtype: float64\n",
      "index: 4, peak location: 1899    129.809998\n",
      "3444    194.742004\n",
      "3966    216.679993\n",
      "6800    335.785004\n",
      "9091    432.069000\n",
      "9116    433.119995\n",
      "Name: mz, dtype: float64\n",
      "index: 5, peak location: 1899    129.809998\n",
      "3444    194.742004\n",
      "3966    216.679993\n",
      "6800    335.785004\n",
      "9091    432.069000\n",
      "9116    433.119995\n",
      "Name: mz, dtype: float64\n",
      "peak index:  [3443, 3966, 6799, 9092, 9115]\n"
     ]
    },
    {
     "data": {
      "application/vnd.jupyter.widget-view+json": {
       "model_id": "2b7fe55e4b2e4763adc190e70994080b",
       "version_major": 2,
       "version_minor": 0
      },
      "text/plain": [
       "0it [00:00, ?it/s]"
      ]
     },
     "metadata": {},
     "output_type": "display_data"
    },
    {
     "name": "stdout",
     "output_type": "stream",
     "text": [
      "index: 0, peak location: 3443    194.699997\n",
      "3966    216.679993\n",
      "6799    335.743011\n",
      "9092    432.110992\n",
      "9115    433.078003\n",
      "Name: mz, dtype: float64\n",
      "index: 1, peak location: 3443    194.699997\n",
      "3966    216.679993\n",
      "6799    335.743011\n",
      "9092    432.110992\n",
      "9115    433.078003\n",
      "Name: mz, dtype: float64\n",
      "index: 2, peak location: 3443    194.699997\n",
      "3966    216.679993\n",
      "6799    335.743011\n",
      "9092    432.110992\n",
      "9115    433.078003\n",
      "Name: mz, dtype: float64\n",
      "index: 3, peak location: 3443    194.699997\n",
      "3966    216.679993\n",
      "6799    335.743011\n",
      "9092    432.110992\n",
      "9115    433.078003\n",
      "Name: mz, dtype: float64\n",
      "index: 4, peak location: 3443    194.699997\n",
      "3966    216.679993\n",
      "6799    335.743011\n",
      "9092    432.110992\n",
      "9115    433.078003\n",
      "Name: mz, dtype: float64\n",
      "peak index:  [3444, 3967, 6800, 9092, 9116]\n"
     ]
    },
    {
     "data": {
      "application/vnd.jupyter.widget-view+json": {
       "model_id": "7f34cf79f7e14254bddf1ed7a097c271",
       "version_major": 2,
       "version_minor": 0
      },
      "text/plain": [
       "0it [00:00, ?it/s]"
      ]
     },
     "metadata": {},
     "output_type": "display_data"
    },
    {
     "name": "stdout",
     "output_type": "stream",
     "text": [
      "index: 0, peak location: 3444    194.742004\n",
      "3967    216.722000\n",
      "6800    335.785004\n",
      "9092    432.110992\n",
      "9116    433.119995\n",
      "Name: mz, dtype: float64\n",
      "index: 1, peak location: 3444    194.742004\n",
      "3967    216.722000\n",
      "6800    335.785004\n",
      "9092    432.110992\n",
      "9116    433.119995\n",
      "Name: mz, dtype: float64\n",
      "index: 2, peak location: 3444    194.742004\n",
      "3967    216.722000\n",
      "6800    335.785004\n",
      "9092    432.110992\n",
      "9116    433.119995\n",
      "Name: mz, dtype: float64\n",
      "index: 3, peak location: 3444    194.742004\n",
      "3967    216.722000\n",
      "6800    335.785004\n",
      "9092    432.110992\n",
      "9116    433.119995\n",
      "Name: mz, dtype: float64\n",
      "index: 4, peak location: 3444    194.742004\n",
      "3967    216.722000\n",
      "6800    335.785004\n",
      "9092    432.110992\n",
      "9116    433.119995\n",
      "Name: mz, dtype: float64\n",
      "peak index:  [3443, 3966, 6799, 9092, 9115]\n"
     ]
    },
    {
     "data": {
      "application/vnd.jupyter.widget-view+json": {
       "model_id": "20e38e4a20e745b58650717305cb6be7",
       "version_major": 2,
       "version_minor": 0
      },
      "text/plain": [
       "0it [00:00, ?it/s]"
      ]
     },
     "metadata": {},
     "output_type": "display_data"
    },
    {
     "name": "stdout",
     "output_type": "stream",
     "text": [
      "index: 0, peak location: 3443    194.699997\n",
      "3966    216.679993\n",
      "6799    335.743011\n",
      "9092    432.110992\n",
      "9115    433.078003\n",
      "Name: mz, dtype: float64\n",
      "index: 1, peak location: 3443    194.699997\n",
      "3966    216.679993\n",
      "6799    335.743011\n",
      "9092    432.110992\n",
      "9115    433.078003\n",
      "Name: mz, dtype: float64\n",
      "index: 2, peak location: 3443    194.699997\n",
      "3966    216.679993\n",
      "6799    335.743011\n",
      "9092    432.110992\n",
      "9115    433.078003\n",
      "Name: mz, dtype: float64\n",
      "index: 3, peak location: 3443    194.699997\n",
      "3966    216.679993\n",
      "6799    335.743011\n",
      "9092    432.110992\n",
      "9115    433.078003\n",
      "Name: mz, dtype: float64\n",
      "index: 4, peak location: 3443    194.699997\n",
      "3966    216.679993\n",
      "6799    335.743011\n",
      "9092    432.110992\n",
      "9115    433.078003\n",
      "Name: mz, dtype: float64\n",
      "peak index:  [3444, 3967, 6799, 9092, 9116]\n"
     ]
    },
    {
     "data": {
      "application/vnd.jupyter.widget-view+json": {
       "model_id": "991f511271af4ae6b757dfc6d0cffb06",
       "version_major": 2,
       "version_minor": 0
      },
      "text/plain": [
       "0it [00:00, ?it/s]"
      ]
     },
     "metadata": {},
     "output_type": "display_data"
    },
    {
     "name": "stdout",
     "output_type": "stream",
     "text": [
      "index: 0, peak location: 3444    194.742004\n",
      "3967    216.722000\n",
      "6799    335.743011\n",
      "9092    432.110992\n",
      "9116    433.119995\n",
      "Name: mz, dtype: float64\n",
      "index: 1, peak location: 3444    194.742004\n",
      "3967    216.722000\n",
      "6799    335.743011\n",
      "9092    432.110992\n",
      "9116    433.119995\n",
      "Name: mz, dtype: float64\n",
      "index: 2, peak location: 3444    194.742004\n",
      "3967    216.722000\n",
      "6799    335.743011\n",
      "9092    432.110992\n",
      "9116    433.119995\n",
      "Name: mz, dtype: float64\n",
      "index: 3, peak location: 3444    194.742004\n",
      "3967    216.722000\n",
      "6799    335.743011\n",
      "9092    432.110992\n",
      "9116    433.119995\n",
      "Name: mz, dtype: float64\n",
      "index: 4, peak location: 3444    194.742004\n",
      "3967    216.722000\n",
      "6799    335.743011\n",
      "9092    432.110992\n",
      "9116    433.119995\n",
      "Name: mz, dtype: float64\n"
     ]
    },
    {
     "data": {
      "application/vnd.jupyter.widget-view+json": {
       "model_id": "d0abbf06a61840649d9ba0528a849456",
       "version_major": 2,
       "version_minor": 0
      },
      "text/plain": [
       "0it [00:00, ?it/s]"
      ]
     },
     "metadata": {},
     "output_type": "display_data"
    },
    {
     "name": "stdout",
     "output_type": "stream",
     "text": [
      "peak index:  [7288]\n"
     ]
    },
    {
     "data": {
      "application/vnd.jupyter.widget-view+json": {
       "model_id": "af1cd75b38e44bf49aed08b648d9ed3b",
       "version_major": 2,
       "version_minor": 0
      },
      "text/plain": [
       "0it [00:00, ?it/s]"
      ]
     },
     "metadata": {},
     "output_type": "display_data"
    },
    {
     "name": "stdout",
     "output_type": "stream",
     "text": [
      "index: 0, peak location: 7288    431.393005\n",
      "Name: mz, dtype: float64\n",
      "peak index:  [7305]\n"
     ]
    },
    {
     "data": {
      "application/vnd.jupyter.widget-view+json": {
       "model_id": "d0c997c8f9f04619935ab226b3485261",
       "version_major": 2,
       "version_minor": 0
      },
      "text/plain": [
       "0it [00:00, ?it/s]"
      ]
     },
     "metadata": {},
     "output_type": "display_data"
    },
    {
     "name": "stdout",
     "output_type": "stream",
     "text": [
      "index: 0, peak location: 7305    432.282013\n",
      "Name: mz, dtype: float64\n",
      "peak index:  [7307]\n"
     ]
    },
    {
     "data": {
      "application/vnd.jupyter.widget-view+json": {
       "model_id": "fa3295f2177444b3a5c82c7288b4e8c4",
       "version_major": 2,
       "version_minor": 0
      },
      "text/plain": [
       "0it [00:00, ?it/s]"
      ]
     },
     "metadata": {},
     "output_type": "display_data"
    },
    {
     "name": "stdout",
     "output_type": "stream",
     "text": [
      "index: 0, peak location: 7307    432.386993\n",
      "Name: mz, dtype: float64\n",
      "peak index:  [7301]\n"
     ]
    },
    {
     "data": {
      "application/vnd.jupyter.widget-view+json": {
       "model_id": "63f4a807bbf0486aa68e15ab3201e3a3",
       "version_major": 2,
       "version_minor": 0
      },
      "text/plain": [
       "0it [00:00, ?it/s]"
      ]
     },
     "metadata": {},
     "output_type": "display_data"
    },
    {
     "name": "stdout",
     "output_type": "stream",
     "text": [
      "index: 0, peak location: 7301    432.072998\n",
      "Name: mz, dtype: float64\n",
      "peak index:  [7303]\n"
     ]
    },
    {
     "data": {
      "application/vnd.jupyter.widget-view+json": {
       "model_id": "b8837146880442c298ce57a8fcce2754",
       "version_major": 2,
       "version_minor": 0
      },
      "text/plain": [
       "0it [00:00, ?it/s]"
      ]
     },
     "metadata": {},
     "output_type": "display_data"
    },
    {
     "name": "stdout",
     "output_type": "stream",
     "text": [
      "index: 0, peak location: 7303    432.178009\n",
      "Name: mz, dtype: float64\n",
      "peak index:  [7307]\n"
     ]
    },
    {
     "data": {
      "application/vnd.jupyter.widget-view+json": {
       "model_id": "c58aa76d60fc4c93a4a7645a4298fbf7",
       "version_major": 2,
       "version_minor": 0
      },
      "text/plain": [
       "0it [00:00, ?it/s]"
      ]
     },
     "metadata": {},
     "output_type": "display_data"
    },
    {
     "name": "stdout",
     "output_type": "stream",
     "text": [
      "index: 0, peak location: 7307    432.386993\n",
      "Name: mz, dtype: float64\n",
      "peak index:  [7299, 7305]\n"
     ]
    },
    {
     "data": {
      "application/vnd.jupyter.widget-view+json": {
       "model_id": "d503e828a8d84184ad62b9aa45aeb868",
       "version_major": 2,
       "version_minor": 0
      },
      "text/plain": [
       "0it [00:00, ?it/s]"
      ]
     },
     "metadata": {},
     "output_type": "display_data"
    },
    {
     "name": "stdout",
     "output_type": "stream",
     "text": [
      "index: 0, peak location: 7299    431.968994\n",
      "7305    432.282013\n",
      "Name: mz, dtype: float64\n",
      "index: 1, peak location: 7299    431.968994\n",
      "7305    432.282013\n",
      "Name: mz, dtype: float64\n",
      "peak index:  [7306]\n"
     ]
    },
    {
     "data": {
      "application/vnd.jupyter.widget-view+json": {
       "model_id": "dc305479f2d5453cad7a8a8aa47a647c",
       "version_major": 2,
       "version_minor": 0
      },
      "text/plain": [
       "0it [00:00, ?it/s]"
      ]
     },
     "metadata": {},
     "output_type": "display_data"
    },
    {
     "name": "stdout",
     "output_type": "stream",
     "text": [
      "index: 0, peak location: 7306    432.334991\n",
      "Name: mz, dtype: float64\n",
      "peak index:  [7301]\n"
     ]
    },
    {
     "data": {
      "application/vnd.jupyter.widget-view+json": {
       "model_id": "dda43973402848a59faa09cf5922c24e",
       "version_major": 2,
       "version_minor": 0
      },
      "text/plain": [
       "0it [00:00, ?it/s]"
      ]
     },
     "metadata": {},
     "output_type": "display_data"
    },
    {
     "name": "stdout",
     "output_type": "stream",
     "text": [
      "index: 0, peak location: 7301    432.072998\n",
      "Name: mz, dtype: float64\n",
      "peak index:  [7302, 7306]\n"
     ]
    },
    {
     "data": {
      "application/vnd.jupyter.widget-view+json": {
       "model_id": "b7ab3319631945f9b9b310d39d1f7d72",
       "version_major": 2,
       "version_minor": 0
      },
      "text/plain": [
       "0it [00:00, ?it/s]"
      ]
     },
     "metadata": {},
     "output_type": "display_data"
    },
    {
     "name": "stdout",
     "output_type": "stream",
     "text": [
      "index: 0, peak location: 7302    432.125000\n",
      "7306    432.334991\n",
      "Name: mz, dtype: float64\n",
      "index: 1, peak location: 7302    432.125000\n",
      "7306    432.334991\n",
      "Name: mz, dtype: float64\n",
      "peak index:  [7307]\n"
     ]
    },
    {
     "data": {
      "application/vnd.jupyter.widget-view+json": {
       "model_id": "c264f696100541ee91878c8fde94ad75",
       "version_major": 2,
       "version_minor": 0
      },
      "text/plain": [
       "0it [00:00, ?it/s]"
      ]
     },
     "metadata": {},
     "output_type": "display_data"
    },
    {
     "name": "stdout",
     "output_type": "stream",
     "text": [
      "index: 0, peak location: 7307    432.386993\n",
      "Name: mz, dtype: float64\n",
      "peak index:  [7305]\n"
     ]
    },
    {
     "data": {
      "application/vnd.jupyter.widget-view+json": {
       "model_id": "1b33ab70e5274f529026be9834650dd6",
       "version_major": 2,
       "version_minor": 0
      },
      "text/plain": [
       "0it [00:00, ?it/s]"
      ]
     },
     "metadata": {},
     "output_type": "display_data"
    },
    {
     "name": "stdout",
     "output_type": "stream",
     "text": [
      "index: 0, peak location: 7305    432.282013\n",
      "Name: mz, dtype: float64\n",
      "peak index:  [7304, 7308]\n"
     ]
    },
    {
     "data": {
      "application/vnd.jupyter.widget-view+json": {
       "model_id": "eef553a5ad7c4d0faefc0898ab2ee8f0",
       "version_major": 2,
       "version_minor": 0
      },
      "text/plain": [
       "0it [00:00, ?it/s]"
      ]
     },
     "metadata": {},
     "output_type": "display_data"
    },
    {
     "name": "stdout",
     "output_type": "stream",
     "text": [
      "index: 0, peak location: 7304    432.230011\n",
      "7308    432.438995\n",
      "Name: mz, dtype: float64\n",
      "index: 1, peak location: 7304    432.230011\n",
      "7308    432.438995\n",
      "Name: mz, dtype: float64\n",
      "peak index:  [7306]\n"
     ]
    },
    {
     "data": {
      "application/vnd.jupyter.widget-view+json": {
       "model_id": "7b92723cda1548bcad1af265271fb004",
       "version_major": 2,
       "version_minor": 0
      },
      "text/plain": [
       "0it [00:00, ?it/s]"
      ]
     },
     "metadata": {},
     "output_type": "display_data"
    },
    {
     "name": "stdout",
     "output_type": "stream",
     "text": [
      "index: 0, peak location: 7306    432.334991\n",
      "Name: mz, dtype: float64\n",
      "peak index:  [7304]\n"
     ]
    },
    {
     "data": {
      "application/vnd.jupyter.widget-view+json": {
       "model_id": "24ab9af96a9f4d6abfeccdaa7d02774a",
       "version_major": 2,
       "version_minor": 0
      },
      "text/plain": [
       "0it [00:00, ?it/s]"
      ]
     },
     "metadata": {},
     "output_type": "display_data"
    },
    {
     "name": "stdout",
     "output_type": "stream",
     "text": [
      "index: 0, peak location: 7304    432.230011\n",
      "Name: mz, dtype: float64\n",
      "peak index:  [7305]\n"
     ]
    },
    {
     "data": {
      "application/vnd.jupyter.widget-view+json": {
       "model_id": "03f2fcab7f1042e7a291841a95aa5f5f",
       "version_major": 2,
       "version_minor": 0
      },
      "text/plain": [
       "0it [00:00, ?it/s]"
      ]
     },
     "metadata": {},
     "output_type": "display_data"
    },
    {
     "name": "stdout",
     "output_type": "stream",
     "text": [
      "index: 0, peak location: 7305    432.282013\n",
      "Name: mz, dtype: float64\n",
      "peak index:  [7305]\n"
     ]
    },
    {
     "data": {
      "application/vnd.jupyter.widget-view+json": {
       "model_id": "351d5e7d956f4dc083c0bbec1b63ecfe",
       "version_major": 2,
       "version_minor": 0
      },
      "text/plain": [
       "0it [00:00, ?it/s]"
      ]
     },
     "metadata": {},
     "output_type": "display_data"
    },
    {
     "name": "stdout",
     "output_type": "stream",
     "text": [
      "index: 0, peak location: 7305    432.282013\n",
      "Name: mz, dtype: float64\n",
      "peak index:  [7303]\n"
     ]
    },
    {
     "data": {
      "application/vnd.jupyter.widget-view+json": {
       "model_id": "da2def4a3b294c10b68565965410fe88",
       "version_major": 2,
       "version_minor": 0
      },
      "text/plain": [
       "0it [00:00, ?it/s]"
      ]
     },
     "metadata": {},
     "output_type": "display_data"
    },
    {
     "name": "stdout",
     "output_type": "stream",
     "text": [
      "index: 0, peak location: 7303    432.178009\n",
      "Name: mz, dtype: float64\n",
      "peak index:  [7305]\n"
     ]
    },
    {
     "data": {
      "application/vnd.jupyter.widget-view+json": {
       "model_id": "77320f816af74e9ead652da35438cc14",
       "version_major": 2,
       "version_minor": 0
      },
      "text/plain": [
       "0it [00:00, ?it/s]"
      ]
     },
     "metadata": {},
     "output_type": "display_data"
    },
    {
     "name": "stdout",
     "output_type": "stream",
     "text": [
      "index: 0, peak location: 7305    432.282013\n",
      "Name: mz, dtype: float64\n",
      "peak index:  [7304]\n"
     ]
    },
    {
     "data": {
      "application/vnd.jupyter.widget-view+json": {
       "model_id": "aaf251a1b24c4858a696896cb5593b41",
       "version_major": 2,
       "version_minor": 0
      },
      "text/plain": [
       "0it [00:00, ?it/s]"
      ]
     },
     "metadata": {},
     "output_type": "display_data"
    },
    {
     "name": "stdout",
     "output_type": "stream",
     "text": [
      "index: 0, peak location: 7304    432.230011\n",
      "Name: mz, dtype: float64\n",
      "peak index:  [7300, 7305]\n"
     ]
    },
    {
     "data": {
      "application/vnd.jupyter.widget-view+json": {
       "model_id": "177169530ef74604987ff9c4c3a16372",
       "version_major": 2,
       "version_minor": 0
      },
      "text/plain": [
       "0it [00:00, ?it/s]"
      ]
     },
     "metadata": {},
     "output_type": "display_data"
    },
    {
     "name": "stdout",
     "output_type": "stream",
     "text": [
      "index: 0, peak location: 7300    432.020996\n",
      "7305    432.282013\n",
      "Name: mz, dtype: float64\n",
      "index: 1, peak location: 7300    432.020996\n",
      "7305    432.282013\n",
      "Name: mz, dtype: float64\n",
      "peak index:  [7301]\n"
     ]
    },
    {
     "data": {
      "application/vnd.jupyter.widget-view+json": {
       "model_id": "8c9016e84e4f4e2d80742dbeda06c051",
       "version_major": 2,
       "version_minor": 0
      },
      "text/plain": [
       "0it [00:00, ?it/s]"
      ]
     },
     "metadata": {},
     "output_type": "display_data"
    },
    {
     "name": "stdout",
     "output_type": "stream",
     "text": [
      "index: 0, peak location: 7301    432.072998\n",
      "Name: mz, dtype: float64\n",
      "peak index:  [7300]\n"
     ]
    },
    {
     "data": {
      "application/vnd.jupyter.widget-view+json": {
       "model_id": "80d3a0d6e4d74fb48ca4c50bd14479c5",
       "version_major": 2,
       "version_minor": 0
      },
      "text/plain": [
       "0it [00:00, ?it/s]"
      ]
     },
     "metadata": {},
     "output_type": "display_data"
    },
    {
     "name": "stdout",
     "output_type": "stream",
     "text": [
      "index: 0, peak location: 7300    432.020996\n",
      "Name: mz, dtype: float64\n",
      "peak index:  [7301]\n"
     ]
    },
    {
     "data": {
      "application/vnd.jupyter.widget-view+json": {
       "model_id": "f83367dc86d1499b92504cc23f00e07e",
       "version_major": 2,
       "version_minor": 0
      },
      "text/plain": [
       "0it [00:00, ?it/s]"
      ]
     },
     "metadata": {},
     "output_type": "display_data"
    },
    {
     "name": "stdout",
     "output_type": "stream",
     "text": [
      "index: 0, peak location: 7301    432.072998\n",
      "Name: mz, dtype: float64\n",
      "peak index:  [7308]\n"
     ]
    },
    {
     "data": {
      "application/vnd.jupyter.widget-view+json": {
       "model_id": "e57d283b18e348629a5797fdeba46db3",
       "version_major": 2,
       "version_minor": 0
      },
      "text/plain": [
       "0it [00:00, ?it/s]"
      ]
     },
     "metadata": {},
     "output_type": "display_data"
    },
    {
     "name": "stdout",
     "output_type": "stream",
     "text": [
      "index: 0, peak location: 7308    432.438995\n",
      "Name: mz, dtype: float64\n",
      "peak index:  [7306, 7308]\n"
     ]
    },
    {
     "data": {
      "application/vnd.jupyter.widget-view+json": {
       "model_id": "a834f2e0f272467ca918750dad272628",
       "version_major": 2,
       "version_minor": 0
      },
      "text/plain": [
       "0it [00:00, ?it/s]"
      ]
     },
     "metadata": {},
     "output_type": "display_data"
    },
    {
     "name": "stdout",
     "output_type": "stream",
     "text": [
      "index: 0, peak location: 7306    432.334991\n",
      "7308    432.438995\n",
      "Name: mz, dtype: float64\n",
      "index: 1, peak location: 7306    432.334991\n",
      "7308    432.438995\n",
      "Name: mz, dtype: float64\n",
      "peak index:  [7300]\n"
     ]
    },
    {
     "data": {
      "application/vnd.jupyter.widget-view+json": {
       "model_id": "843b4b2ea4f843018ca3dd5cc9a83759",
       "version_major": 2,
       "version_minor": 0
      },
      "text/plain": [
       "0it [00:00, ?it/s]"
      ]
     },
     "metadata": {},
     "output_type": "display_data"
    },
    {
     "name": "stdout",
     "output_type": "stream",
     "text": [
      "index: 0, peak location: 7300    432.020996\n",
      "Name: mz, dtype: float64\n",
      "peak index:  [7304]\n"
     ]
    },
    {
     "data": {
      "application/vnd.jupyter.widget-view+json": {
       "model_id": "953fa569c7714d7c82916de33730f50d",
       "version_major": 2,
       "version_minor": 0
      },
      "text/plain": [
       "0it [00:00, ?it/s]"
      ]
     },
     "metadata": {},
     "output_type": "display_data"
    },
    {
     "name": "stdout",
     "output_type": "stream",
     "text": [
      "index: 0, peak location: 7304    432.230011\n",
      "Name: mz, dtype: float64\n",
      "peak index:  [7307]\n"
     ]
    },
    {
     "data": {
      "application/vnd.jupyter.widget-view+json": {
       "model_id": "8a3950b6e4544b09ab87d7eea4a67997",
       "version_major": 2,
       "version_minor": 0
      },
      "text/plain": [
       "0it [00:00, ?it/s]"
      ]
     },
     "metadata": {},
     "output_type": "display_data"
    },
    {
     "name": "stdout",
     "output_type": "stream",
     "text": [
      "index: 0, peak location: 7307    432.386993\n",
      "Name: mz, dtype: float64\n",
      "peak index:  [7288, 7306]\n"
     ]
    },
    {
     "data": {
      "application/vnd.jupyter.widget-view+json": {
       "model_id": "a2c6f8af7d894b44b40ed4bd204011ea",
       "version_major": 2,
       "version_minor": 0
      },
      "text/plain": [
       "0it [00:00, ?it/s]"
      ]
     },
     "metadata": {},
     "output_type": "display_data"
    },
    {
     "name": "stdout",
     "output_type": "stream",
     "text": [
      "index: 0, peak location: 7288    431.393005\n",
      "7306    432.334991\n",
      "Name: mz, dtype: float64\n",
      "index: 1, peak location: 7288    431.393005\n",
      "7306    432.334991\n",
      "Name: mz, dtype: float64\n",
      "peak index:  [7303]\n"
     ]
    },
    {
     "data": {
      "application/vnd.jupyter.widget-view+json": {
       "model_id": "ad7bf483e8e143f0869e95387f0f3f3b",
       "version_major": 2,
       "version_minor": 0
      },
      "text/plain": [
       "0it [00:00, ?it/s]"
      ]
     },
     "metadata": {},
     "output_type": "display_data"
    },
    {
     "name": "stdout",
     "output_type": "stream",
     "text": [
      "index: 0, peak location: 7303    432.178009\n",
      "Name: mz, dtype: float64\n",
      "peak index:  [7302]\n"
     ]
    },
    {
     "data": {
      "application/vnd.jupyter.widget-view+json": {
       "model_id": "65f8ad4b426f46ac98b54b8a4f125c1c",
       "version_major": 2,
       "version_minor": 0
      },
      "text/plain": [
       "0it [00:00, ?it/s]"
      ]
     },
     "metadata": {},
     "output_type": "display_data"
    },
    {
     "name": "stdout",
     "output_type": "stream",
     "text": [
      "index: 0, peak location: 7302    432.125\n",
      "Name: mz, dtype: float64\n",
      "peak index:  [7302]\n"
     ]
    },
    {
     "data": {
      "application/vnd.jupyter.widget-view+json": {
       "model_id": "95245e16d500422c9bb3d80f49c42cec",
       "version_major": 2,
       "version_minor": 0
      },
      "text/plain": [
       "0it [00:00, ?it/s]"
      ]
     },
     "metadata": {},
     "output_type": "display_data"
    },
    {
     "name": "stdout",
     "output_type": "stream",
     "text": [
      "index: 0, peak location: 7302    432.125\n",
      "Name: mz, dtype: float64\n",
      "peak index:  [7304]\n"
     ]
    },
    {
     "data": {
      "application/vnd.jupyter.widget-view+json": {
       "model_id": "2ebed5f454a54b74b148be7f1536b715",
       "version_major": 2,
       "version_minor": 0
      },
      "text/plain": [
       "0it [00:00, ?it/s]"
      ]
     },
     "metadata": {},
     "output_type": "display_data"
    },
    {
     "name": "stdout",
     "output_type": "stream",
     "text": [
      "index: 0, peak location: 7304    432.230011\n",
      "Name: mz, dtype: float64\n",
      "peak index:  [7300]\n"
     ]
    },
    {
     "data": {
      "application/vnd.jupyter.widget-view+json": {
       "model_id": "a595b87ad40a4785a1781c6e0180035d",
       "version_major": 2,
       "version_minor": 0
      },
      "text/plain": [
       "0it [00:00, ?it/s]"
      ]
     },
     "metadata": {},
     "output_type": "display_data"
    },
    {
     "name": "stdout",
     "output_type": "stream",
     "text": [
      "index: 0, peak location: 7300    432.020996\n",
      "Name: mz, dtype: float64\n",
      "peak index:  [7301]\n"
     ]
    },
    {
     "data": {
      "application/vnd.jupyter.widget-view+json": {
       "model_id": "c75aa09fb1ee4a21b890e5155000f6af",
       "version_major": 2,
       "version_minor": 0
      },
      "text/plain": [
       "0it [00:00, ?it/s]"
      ]
     },
     "metadata": {},
     "output_type": "display_data"
    },
    {
     "name": "stdout",
     "output_type": "stream",
     "text": [
      "index: 0, peak location: 7301    432.072998\n",
      "Name: mz, dtype: float64\n",
      "peak index:  [7307]\n"
     ]
    },
    {
     "data": {
      "application/vnd.jupyter.widget-view+json": {
       "model_id": "10860d4965614c93be73e677ec8d97d1",
       "version_major": 2,
       "version_minor": 0
      },
      "text/plain": [
       "0it [00:00, ?it/s]"
      ]
     },
     "metadata": {},
     "output_type": "display_data"
    },
    {
     "name": "stdout",
     "output_type": "stream",
     "text": [
      "index: 0, peak location: 7307    432.386993\n",
      "Name: mz, dtype: float64\n",
      "peak index:  [7304]\n"
     ]
    },
    {
     "data": {
      "application/vnd.jupyter.widget-view+json": {
       "model_id": "4b97c62a65eb479bb9f163cf233522e2",
       "version_major": 2,
       "version_minor": 0
      },
      "text/plain": [
       "0it [00:00, ?it/s]"
      ]
     },
     "metadata": {},
     "output_type": "display_data"
    },
    {
     "name": "stdout",
     "output_type": "stream",
     "text": [
      "index: 0, peak location: 7304    432.230011\n",
      "Name: mz, dtype: float64\n",
      "peak index:  [7309]\n"
     ]
    },
    {
     "data": {
      "application/vnd.jupyter.widget-view+json": {
       "model_id": "8419938fe6cd45f19f82119b0f00c731",
       "version_major": 2,
       "version_minor": 0
      },
      "text/plain": [
       "0it [00:00, ?it/s]"
      ]
     },
     "metadata": {},
     "output_type": "display_data"
    },
    {
     "name": "stdout",
     "output_type": "stream",
     "text": [
      "index: 0, peak location: 7309    432.492004\n",
      "Name: mz, dtype: float64\n",
      "peak index:  [7307]\n"
     ]
    },
    {
     "data": {
      "application/vnd.jupyter.widget-view+json": {
       "model_id": "2ff0dc471392414a800c8aa14d418253",
       "version_major": 2,
       "version_minor": 0
      },
      "text/plain": [
       "0it [00:00, ?it/s]"
      ]
     },
     "metadata": {},
     "output_type": "display_data"
    },
    {
     "name": "stdout",
     "output_type": "stream",
     "text": [
      "index: 0, peak location: 7307    432.386993\n",
      "Name: mz, dtype: float64\n",
      "peak index:  [7304]\n"
     ]
    },
    {
     "data": {
      "application/vnd.jupyter.widget-view+json": {
       "model_id": "2bdef2ce38c6408a8550f497d75e168d",
       "version_major": 2,
       "version_minor": 0
      },
      "text/plain": [
       "0it [00:00, ?it/s]"
      ]
     },
     "metadata": {},
     "output_type": "display_data"
    },
    {
     "name": "stdout",
     "output_type": "stream",
     "text": [
      "index: 0, peak location: 7304    432.230011\n",
      "Name: mz, dtype: float64\n",
      "peak index:  [7310]\n"
     ]
    },
    {
     "data": {
      "application/vnd.jupyter.widget-view+json": {
       "model_id": "8af78e729155446cbd66abf871a6afc1",
       "version_major": 2,
       "version_minor": 0
      },
      "text/plain": [
       "0it [00:00, ?it/s]"
      ]
     },
     "metadata": {},
     "output_type": "display_data"
    },
    {
     "name": "stdout",
     "output_type": "stream",
     "text": [
      "index: 0, peak location: 7310    432.544006\n",
      "Name: mz, dtype: float64\n",
      "peak index:  [7299]\n"
     ]
    },
    {
     "data": {
      "application/vnd.jupyter.widget-view+json": {
       "model_id": "9f6e18665905407b87e7c9306301310e",
       "version_major": 2,
       "version_minor": 0
      },
      "text/plain": [
       "0it [00:00, ?it/s]"
      ]
     },
     "metadata": {},
     "output_type": "display_data"
    },
    {
     "name": "stdout",
     "output_type": "stream",
     "text": [
      "index: 0, peak location: 7299    431.968994\n",
      "Name: mz, dtype: float64\n",
      "peak index:  [7306]\n"
     ]
    },
    {
     "data": {
      "application/vnd.jupyter.widget-view+json": {
       "model_id": "4d84a1974f0f4d58a4eb7df03901f04e",
       "version_major": 2,
       "version_minor": 0
      },
      "text/plain": [
       "0it [00:00, ?it/s]"
      ]
     },
     "metadata": {},
     "output_type": "display_data"
    },
    {
     "name": "stdout",
     "output_type": "stream",
     "text": [
      "index: 0, peak location: 7306    432.334991\n",
      "Name: mz, dtype: float64\n",
      "peak index:  [7303, 7306]\n"
     ]
    },
    {
     "data": {
      "application/vnd.jupyter.widget-view+json": {
       "model_id": "be38a0406d1f4c46aa79ef1b5397e96c",
       "version_major": 2,
       "version_minor": 0
      },
      "text/plain": [
       "0it [00:00, ?it/s]"
      ]
     },
     "metadata": {},
     "output_type": "display_data"
    },
    {
     "name": "stdout",
     "output_type": "stream",
     "text": [
      "index: 0, peak location: 7303    432.178009\n",
      "7306    432.334991\n",
      "Name: mz, dtype: float64\n",
      "index: 1, peak location: 7303    432.178009\n",
      "7306    432.334991\n",
      "Name: mz, dtype: float64\n",
      "peak index:  [7302]\n"
     ]
    },
    {
     "data": {
      "application/vnd.jupyter.widget-view+json": {
       "model_id": "ee839946d322411b9e162cdcb81c58a1",
       "version_major": 2,
       "version_minor": 0
      },
      "text/plain": [
       "0it [00:00, ?it/s]"
      ]
     },
     "metadata": {},
     "output_type": "display_data"
    },
    {
     "name": "stdout",
     "output_type": "stream",
     "text": [
      "index: 0, peak location: 7302    432.125\n",
      "Name: mz, dtype: float64\n",
      "peak index:  [7302, 7308]\n"
     ]
    },
    {
     "data": {
      "application/vnd.jupyter.widget-view+json": {
       "model_id": "9110fa6075d84da8ad139f15919965ad",
       "version_major": 2,
       "version_minor": 0
      },
      "text/plain": [
       "0it [00:00, ?it/s]"
      ]
     },
     "metadata": {},
     "output_type": "display_data"
    },
    {
     "name": "stdout",
     "output_type": "stream",
     "text": [
      "index: 0, peak location: 7302    432.125000\n",
      "7308    432.438995\n",
      "Name: mz, dtype: float64\n",
      "index: 1, peak location: 7302    432.125000\n",
      "7308    432.438995\n",
      "Name: mz, dtype: float64\n",
      "peak index:  [7306]\n"
     ]
    },
    {
     "data": {
      "application/vnd.jupyter.widget-view+json": {
       "model_id": "8add8a3c0e3f407faf3329c1370aa07f",
       "version_major": 2,
       "version_minor": 0
      },
      "text/plain": [
       "0it [00:00, ?it/s]"
      ]
     },
     "metadata": {},
     "output_type": "display_data"
    },
    {
     "name": "stdout",
     "output_type": "stream",
     "text": [
      "index: 0, peak location: 7306    432.334991\n",
      "Name: mz, dtype: float64\n"
     ]
    },
    {
     "data": {
      "application/vnd.jupyter.widget-view+json": {
       "model_id": "de421b66640c4302b16353058e3a84d4",
       "version_major": 2,
       "version_minor": 0
      },
      "text/plain": [
       "0it [00:00, ?it/s]"
      ]
     },
     "metadata": {},
     "output_type": "display_data"
    },
    {
     "name": "stdout",
     "output_type": "stream",
     "text": [
      "peak index:  [1900, 3444, 3966, 6799, 9091, 9114]\n"
     ]
    },
    {
     "data": {
      "application/vnd.jupyter.widget-view+json": {
       "model_id": "421cdd3fabcd4ac8a3236364572bfcf8",
       "version_major": 2,
       "version_minor": 0
      },
      "text/plain": [
       "0it [00:00, ?it/s]"
      ]
     },
     "metadata": {},
     "output_type": "display_data"
    },
    {
     "name": "stdout",
     "output_type": "stream",
     "text": [
      "index: 0, peak location: 1900    129.852005\n",
      "3444    194.742004\n",
      "3966    216.679993\n",
      "6799    335.743011\n",
      "9091    432.069000\n",
      "9114    433.036011\n",
      "Name: mz, dtype: float64\n",
      "index: 1, peak location: 1900    129.852005\n",
      "3444    194.742004\n",
      "3966    216.679993\n",
      "6799    335.743011\n",
      "9091    432.069000\n",
      "9114    433.036011\n",
      "Name: mz, dtype: float64\n",
      "index: 2, peak location: 1900    129.852005\n",
      "3444    194.742004\n",
      "3966    216.679993\n",
      "6799    335.743011\n",
      "9091    432.069000\n",
      "9114    433.036011\n",
      "Name: mz, dtype: float64\n",
      "index: 3, peak location: 1900    129.852005\n",
      "3444    194.742004\n",
      "3966    216.679993\n",
      "6799    335.743011\n",
      "9091    432.069000\n",
      "9114    433.036011\n",
      "Name: mz, dtype: float64\n",
      "index: 4, peak location: 1900    129.852005\n",
      "3444    194.742004\n",
      "3966    216.679993\n",
      "6799    335.743011\n",
      "9091    432.069000\n",
      "9114    433.036011\n",
      "Name: mz, dtype: float64\n",
      "index: 5, peak location: 1900    129.852005\n",
      "3444    194.742004\n",
      "3966    216.679993\n",
      "6799    335.743011\n",
      "9091    432.069000\n",
      "9114    433.036011\n",
      "Name: mz, dtype: float64\n",
      "peak index:  [472]\n"
     ]
    },
    {
     "data": {
      "application/vnd.jupyter.widget-view+json": {
       "model_id": "537777651aca453b8a1f324dfc1da5f4",
       "version_major": 2,
       "version_minor": 0
      },
      "text/plain": [
       "0it [00:00, ?it/s]"
      ]
     },
     "metadata": {},
     "output_type": "display_data"
    },
    {
     "name": "stdout",
     "output_type": "stream",
     "text": [
      "index: 0, peak location: 472    129.848007\n",
      "Name: mz, dtype: float64\n",
      "peak index:  [1938, 1962]\n"
     ]
    },
    {
     "data": {
      "application/vnd.jupyter.widget-view+json": {
       "model_id": "34543c0840c947be933e34e924a92d62",
       "version_major": 2,
       "version_minor": 0
      },
      "text/plain": [
       "0it [00:00, ?it/s]"
      ]
     },
     "metadata": {},
     "output_type": "display_data"
    },
    {
     "name": "stdout",
     "output_type": "stream",
     "text": [
      "index: 0, peak location: 1938    335.567993\n",
      "1962    336.575989\n",
      "Name: mz, dtype: float64\n",
      "index: 1, peak location: 1938    335.567993\n",
      "1962    336.575989\n",
      "Name: mz, dtype: float64\n",
      "peak index:  [1900, 3444, 3966, 6799, 9091, 9114]\n"
     ]
    },
    {
     "data": {
      "application/vnd.jupyter.widget-view+json": {
       "model_id": "97bc49b728ed4770920e896b406f249b",
       "version_major": 2,
       "version_minor": 0
      },
      "text/plain": [
       "0it [00:00, ?it/s]"
      ]
     },
     "metadata": {},
     "output_type": "display_data"
    },
    {
     "name": "stdout",
     "output_type": "stream",
     "text": [
      "index: 0, peak location: 1900    129.852005\n",
      "3444    194.742004\n",
      "3966    216.679993\n",
      "6799    335.743011\n",
      "9091    432.069000\n",
      "9114    433.036011\n",
      "Name: mz, dtype: float64\n",
      "index: 1, peak location: 1900    129.852005\n",
      "3444    194.742004\n",
      "3966    216.679993\n",
      "6799    335.743011\n",
      "9091    432.069000\n",
      "9114    433.036011\n",
      "Name: mz, dtype: float64\n",
      "index: 2, peak location: 1900    129.852005\n",
      "3444    194.742004\n",
      "3966    216.679993\n",
      "6799    335.743011\n",
      "9091    432.069000\n",
      "9114    433.036011\n",
      "Name: mz, dtype: float64\n",
      "index: 3, peak location: 1900    129.852005\n",
      "3444    194.742004\n",
      "3966    216.679993\n",
      "6799    335.743011\n",
      "9091    432.069000\n",
      "9114    433.036011\n",
      "Name: mz, dtype: float64\n",
      "index: 4, peak location: 1900    129.852005\n",
      "3444    194.742004\n",
      "3966    216.679993\n",
      "6799    335.743011\n",
      "9091    432.069000\n",
      "9114    433.036011\n",
      "Name: mz, dtype: float64\n",
      "index: 5, peak location: 1900    129.852005\n",
      "3444    194.742004\n",
      "3966    216.679993\n",
      "6799    335.743011\n",
      "9091    432.069000\n",
      "9114    433.036011\n",
      "Name: mz, dtype: float64\n",
      "peak index:  [472]\n"
     ]
    },
    {
     "data": {
      "application/vnd.jupyter.widget-view+json": {
       "model_id": "234f81e3fbfb490c9726d72ca85ffd1a",
       "version_major": 2,
       "version_minor": 0
      },
      "text/plain": [
       "0it [00:00, ?it/s]"
      ]
     },
     "metadata": {},
     "output_type": "display_data"
    },
    {
     "name": "stdout",
     "output_type": "stream",
     "text": [
      "index: 0, peak location: 472    129.848007\n",
      "Name: mz, dtype: float64\n",
      "peak index:  [1939, 1962]\n"
     ]
    },
    {
     "data": {
      "application/vnd.jupyter.widget-view+json": {
       "model_id": "869cc315a5384c6180945cde9d48b7fd",
       "version_major": 2,
       "version_minor": 0
      },
      "text/plain": [
       "0it [00:00, ?it/s]"
      ]
     },
     "metadata": {},
     "output_type": "display_data"
    },
    {
     "name": "stdout",
     "output_type": "stream",
     "text": [
      "index: 0, peak location: 1939    335.609985\n",
      "1962    336.575989\n",
      "Name: mz, dtype: float64\n",
      "index: 1, peak location: 1939    335.609985\n",
      "1962    336.575989\n",
      "Name: mz, dtype: float64\n",
      "peak index:  [1900, 3444, 3967, 6799, 9091, 9114]\n"
     ]
    },
    {
     "data": {
      "application/vnd.jupyter.widget-view+json": {
       "model_id": "76ad863915344456acfac4d256d19f62",
       "version_major": 2,
       "version_minor": 0
      },
      "text/plain": [
       "0it [00:00, ?it/s]"
      ]
     },
     "metadata": {},
     "output_type": "display_data"
    },
    {
     "name": "stdout",
     "output_type": "stream",
     "text": [
      "index: 0, peak location: 1900    129.852005\n",
      "3444    194.742004\n",
      "3967    216.722000\n",
      "6799    335.743011\n",
      "9091    432.069000\n",
      "9114    433.036011\n",
      "Name: mz, dtype: float64\n",
      "index: 1, peak location: 1900    129.852005\n",
      "3444    194.742004\n",
      "3967    216.722000\n",
      "6799    335.743011\n",
      "9091    432.069000\n",
      "9114    433.036011\n",
      "Name: mz, dtype: float64\n",
      "index: 2, peak location: 1900    129.852005\n",
      "3444    194.742004\n",
      "3967    216.722000\n",
      "6799    335.743011\n",
      "9091    432.069000\n",
      "9114    433.036011\n",
      "Name: mz, dtype: float64\n",
      "index: 3, peak location: 1900    129.852005\n",
      "3444    194.742004\n",
      "3967    216.722000\n",
      "6799    335.743011\n",
      "9091    432.069000\n",
      "9114    433.036011\n",
      "Name: mz, dtype: float64\n",
      "index: 4, peak location: 1900    129.852005\n",
      "3444    194.742004\n",
      "3967    216.722000\n",
      "6799    335.743011\n",
      "9091    432.069000\n",
      "9114    433.036011\n",
      "Name: mz, dtype: float64\n",
      "index: 5, peak location: 1900    129.852005\n",
      "3444    194.742004\n",
      "3967    216.722000\n",
      "6799    335.743011\n",
      "9091    432.069000\n",
      "9114    433.036011\n",
      "Name: mz, dtype: float64\n",
      "peak index:  [473]\n"
     ]
    },
    {
     "data": {
      "application/vnd.jupyter.widget-view+json": {
       "model_id": "4a97f45b7ce241afa34dc9c467ceaf45",
       "version_major": 2,
       "version_minor": 0
      },
      "text/plain": [
       "0it [00:00, ?it/s]"
      ]
     },
     "metadata": {},
     "output_type": "display_data"
    },
    {
     "name": "stdout",
     "output_type": "stream",
     "text": [
      "index: 0, peak location: 473    129.889999\n",
      "Name: mz, dtype: float64\n",
      "peak index:  [1939, 1962]\n"
     ]
    },
    {
     "data": {
      "application/vnd.jupyter.widget-view+json": {
       "model_id": "a5df82255c514caabf2104aee19380a8",
       "version_major": 2,
       "version_minor": 0
      },
      "text/plain": [
       "0it [00:00, ?it/s]"
      ]
     },
     "metadata": {},
     "output_type": "display_data"
    },
    {
     "name": "stdout",
     "output_type": "stream",
     "text": [
      "index: 0, peak location: 1939    335.609985\n",
      "1962    336.575989\n",
      "Name: mz, dtype: float64\n",
      "index: 1, peak location: 1939    335.609985\n",
      "1962    336.575989\n",
      "Name: mz, dtype: float64\n",
      "peak index:  [1900, 3444, 3967, 6799, 9090, 9114]\n"
     ]
    },
    {
     "data": {
      "application/vnd.jupyter.widget-view+json": {
       "model_id": "f2d770cf21a84af6803df08ea950a9cf",
       "version_major": 2,
       "version_minor": 0
      },
      "text/plain": [
       "0it [00:00, ?it/s]"
      ]
     },
     "metadata": {},
     "output_type": "display_data"
    },
    {
     "name": "stdout",
     "output_type": "stream",
     "text": [
      "index: 0, peak location: 1900    129.852005\n",
      "3444    194.742004\n",
      "3967    216.722000\n",
      "6799    335.743011\n",
      "9090    432.027008\n",
      "9114    433.036011\n",
      "Name: mz, dtype: float64\n",
      "index: 1, peak location: 1900    129.852005\n",
      "3444    194.742004\n",
      "3967    216.722000\n",
      "6799    335.743011\n",
      "9090    432.027008\n",
      "9114    433.036011\n",
      "Name: mz, dtype: float64\n",
      "index: 2, peak location: 1900    129.852005\n",
      "3444    194.742004\n",
      "3967    216.722000\n",
      "6799    335.743011\n",
      "9090    432.027008\n",
      "9114    433.036011\n",
      "Name: mz, dtype: float64\n",
      "index: 3, peak location: 1900    129.852005\n",
      "3444    194.742004\n",
      "3967    216.722000\n",
      "6799    335.743011\n",
      "9090    432.027008\n",
      "9114    433.036011\n",
      "Name: mz, dtype: float64\n",
      "index: 4, peak location: 1900    129.852005\n",
      "3444    194.742004\n",
      "3967    216.722000\n",
      "6799    335.743011\n",
      "9090    432.027008\n",
      "9114    433.036011\n",
      "Name: mz, dtype: float64\n",
      "index: 5, peak location: 1900    129.852005\n",
      "3444    194.742004\n",
      "3967    216.722000\n",
      "6799    335.743011\n",
      "9090    432.027008\n",
      "9114    433.036011\n",
      "Name: mz, dtype: float64\n",
      "peak index:  [473]\n"
     ]
    },
    {
     "data": {
      "application/vnd.jupyter.widget-view+json": {
       "model_id": "36516570ad9a4930bf26ec0ca5d65e25",
       "version_major": 2,
       "version_minor": 0
      },
      "text/plain": [
       "0it [00:00, ?it/s]"
      ]
     },
     "metadata": {},
     "output_type": "display_data"
    },
    {
     "name": "stdout",
     "output_type": "stream",
     "text": [
      "index: 0, peak location: 473    129.889999\n",
      "Name: mz, dtype: float64\n",
      "peak index:  [1938, 1962]\n"
     ]
    },
    {
     "data": {
      "application/vnd.jupyter.widget-view+json": {
       "model_id": "68bff4d2ed004fb1a7d5bfeedb8c2500",
       "version_major": 2,
       "version_minor": 0
      },
      "text/plain": [
       "0it [00:00, ?it/s]"
      ]
     },
     "metadata": {},
     "output_type": "display_data"
    },
    {
     "name": "stdout",
     "output_type": "stream",
     "text": [
      "index: 0, peak location: 1938    335.567993\n",
      "1962    336.575989\n",
      "Name: mz, dtype: float64\n",
      "index: 1, peak location: 1938    335.567993\n",
      "1962    336.575989\n",
      "Name: mz, dtype: float64\n",
      "peak index:  [1900, 3444, 3967, 6799, 9091, 9114]\n"
     ]
    },
    {
     "data": {
      "application/vnd.jupyter.widget-view+json": {
       "model_id": "a98a94cb883647f8a7553d71cf79dca4",
       "version_major": 2,
       "version_minor": 0
      },
      "text/plain": [
       "0it [00:00, ?it/s]"
      ]
     },
     "metadata": {},
     "output_type": "display_data"
    },
    {
     "name": "stdout",
     "output_type": "stream",
     "text": [
      "index: 0, peak location: 1900    129.852005\n",
      "3444    194.742004\n",
      "3967    216.722000\n",
      "6799    335.743011\n",
      "9091    432.069000\n",
      "9114    433.036011\n",
      "Name: mz, dtype: float64\n",
      "index: 1, peak location: 1900    129.852005\n",
      "3444    194.742004\n",
      "3967    216.722000\n",
      "6799    335.743011\n",
      "9091    432.069000\n",
      "9114    433.036011\n",
      "Name: mz, dtype: float64\n",
      "index: 2, peak location: 1900    129.852005\n",
      "3444    194.742004\n",
      "3967    216.722000\n",
      "6799    335.743011\n",
      "9091    432.069000\n",
      "9114    433.036011\n",
      "Name: mz, dtype: float64\n",
      "index: 3, peak location: 1900    129.852005\n",
      "3444    194.742004\n",
      "3967    216.722000\n",
      "6799    335.743011\n",
      "9091    432.069000\n",
      "9114    433.036011\n",
      "Name: mz, dtype: float64\n",
      "index: 4, peak location: 1900    129.852005\n",
      "3444    194.742004\n",
      "3967    216.722000\n",
      "6799    335.743011\n",
      "9091    432.069000\n",
      "9114    433.036011\n",
      "Name: mz, dtype: float64\n",
      "index: 5, peak location: 1900    129.852005\n",
      "3444    194.742004\n",
      "3967    216.722000\n",
      "6799    335.743011\n",
      "9091    432.069000\n",
      "9114    433.036011\n",
      "Name: mz, dtype: float64\n",
      "peak index:  [473]\n"
     ]
    },
    {
     "data": {
      "application/vnd.jupyter.widget-view+json": {
       "model_id": "13ecb2fb64c84f5794ac80cade9f8ea8",
       "version_major": 2,
       "version_minor": 0
      },
      "text/plain": [
       "0it [00:00, ?it/s]"
      ]
     },
     "metadata": {},
     "output_type": "display_data"
    },
    {
     "name": "stdout",
     "output_type": "stream",
     "text": [
      "index: 0, peak location: 473    129.889999\n",
      "Name: mz, dtype: float64\n",
      "peak index:  [1939, 1962]\n"
     ]
    },
    {
     "data": {
      "application/vnd.jupyter.widget-view+json": {
       "model_id": "c139aaabea3b4dee9920867eff0d8c0e",
       "version_major": 2,
       "version_minor": 0
      },
      "text/plain": [
       "0it [00:00, ?it/s]"
      ]
     },
     "metadata": {},
     "output_type": "display_data"
    },
    {
     "name": "stdout",
     "output_type": "stream",
     "text": [
      "index: 0, peak location: 1939    335.609985\n",
      "1962    336.575989\n",
      "Name: mz, dtype: float64\n",
      "index: 1, peak location: 1939    335.609985\n",
      "1962    336.575989\n",
      "Name: mz, dtype: float64\n",
      "peak index:  [1899, 3444, 3967, 6798, 9090, 9114]\n"
     ]
    },
    {
     "data": {
      "application/vnd.jupyter.widget-view+json": {
       "model_id": "3a7277b57bf14524acc0ea23bb7d2411",
       "version_major": 2,
       "version_minor": 0
      },
      "text/plain": [
       "0it [00:00, ?it/s]"
      ]
     },
     "metadata": {},
     "output_type": "display_data"
    },
    {
     "name": "stdout",
     "output_type": "stream",
     "text": [
      "index: 0, peak location: 1899    129.809998\n",
      "3444    194.742004\n",
      "3967    216.722000\n",
      "6798    335.700989\n",
      "9090    432.027008\n",
      "9114    433.036011\n",
      "Name: mz, dtype: float64\n",
      "index: 1, peak location: 1899    129.809998\n",
      "3444    194.742004\n",
      "3967    216.722000\n",
      "6798    335.700989\n",
      "9090    432.027008\n",
      "9114    433.036011\n",
      "Name: mz, dtype: float64\n",
      "index: 2, peak location: 1899    129.809998\n",
      "3444    194.742004\n",
      "3967    216.722000\n",
      "6798    335.700989\n",
      "9090    432.027008\n",
      "9114    433.036011\n",
      "Name: mz, dtype: float64\n",
      "index: 3, peak location: 1899    129.809998\n",
      "3444    194.742004\n",
      "3967    216.722000\n",
      "6798    335.700989\n",
      "9090    432.027008\n",
      "9114    433.036011\n",
      "Name: mz, dtype: float64\n",
      "index: 4, peak location: 1899    129.809998\n",
      "3444    194.742004\n",
      "3967    216.722000\n",
      "6798    335.700989\n",
      "9090    432.027008\n",
      "9114    433.036011\n",
      "Name: mz, dtype: float64\n",
      "index: 5, peak location: 1899    129.809998\n",
      "3444    194.742004\n",
      "3967    216.722000\n",
      "6798    335.700989\n",
      "9090    432.027008\n",
      "9114    433.036011\n",
      "Name: mz, dtype: float64\n",
      "peak index:  [473]\n"
     ]
    },
    {
     "data": {
      "application/vnd.jupyter.widget-view+json": {
       "model_id": "7269360dd336462db1d0155d0fd6b737",
       "version_major": 2,
       "version_minor": 0
      },
      "text/plain": [
       "0it [00:00, ?it/s]"
      ]
     },
     "metadata": {},
     "output_type": "display_data"
    },
    {
     "name": "stdout",
     "output_type": "stream",
     "text": [
      "index: 0, peak location: 473    129.889999\n",
      "Name: mz, dtype: float64\n",
      "peak index:  [1938, 1962]\n"
     ]
    },
    {
     "data": {
      "application/vnd.jupyter.widget-view+json": {
       "model_id": "1578e983a496404ca2eb18ebfce79f11",
       "version_major": 2,
       "version_minor": 0
      },
      "text/plain": [
       "0it [00:00, ?it/s]"
      ]
     },
     "metadata": {},
     "output_type": "display_data"
    },
    {
     "name": "stdout",
     "output_type": "stream",
     "text": [
      "index: 0, peak location: 1938    335.567993\n",
      "1962    336.575989\n",
      "Name: mz, dtype: float64\n",
      "index: 1, peak location: 1938    335.567993\n",
      "1962    336.575989\n",
      "Name: mz, dtype: float64\n",
      "peak index:  [1900, 3444, 3967, 6799, 9090, 9114]\n"
     ]
    },
    {
     "data": {
      "application/vnd.jupyter.widget-view+json": {
       "model_id": "aad52c135a064807868d1d9c255871d3",
       "version_major": 2,
       "version_minor": 0
      },
      "text/plain": [
       "0it [00:00, ?it/s]"
      ]
     },
     "metadata": {},
     "output_type": "display_data"
    },
    {
     "name": "stdout",
     "output_type": "stream",
     "text": [
      "index: 0, peak location: 1900    129.852005\n",
      "3444    194.742004\n",
      "3967    216.722000\n",
      "6799    335.743011\n",
      "9090    432.027008\n",
      "9114    433.036011\n",
      "Name: mz, dtype: float64\n",
      "index: 1, peak location: 1900    129.852005\n",
      "3444    194.742004\n",
      "3967    216.722000\n",
      "6799    335.743011\n",
      "9090    432.027008\n",
      "9114    433.036011\n",
      "Name: mz, dtype: float64\n",
      "index: 2, peak location: 1900    129.852005\n",
      "3444    194.742004\n",
      "3967    216.722000\n",
      "6799    335.743011\n",
      "9090    432.027008\n",
      "9114    433.036011\n",
      "Name: mz, dtype: float64\n",
      "index: 3, peak location: 1900    129.852005\n",
      "3444    194.742004\n",
      "3967    216.722000\n",
      "6799    335.743011\n",
      "9090    432.027008\n",
      "9114    433.036011\n",
      "Name: mz, dtype: float64\n",
      "index: 4, peak location: 1900    129.852005\n",
      "3444    194.742004\n",
      "3967    216.722000\n",
      "6799    335.743011\n",
      "9090    432.027008\n",
      "9114    433.036011\n",
      "Name: mz, dtype: float64\n",
      "index: 5, peak location: 1900    129.852005\n",
      "3444    194.742004\n",
      "3967    216.722000\n",
      "6799    335.743011\n",
      "9090    432.027008\n",
      "9114    433.036011\n",
      "Name: mz, dtype: float64\n",
      "peak index:  [473]\n"
     ]
    },
    {
     "data": {
      "application/vnd.jupyter.widget-view+json": {
       "model_id": "0b3fa9e1191442ab854eb41b842a1fbc",
       "version_major": 2,
       "version_minor": 0
      },
      "text/plain": [
       "0it [00:00, ?it/s]"
      ]
     },
     "metadata": {},
     "output_type": "display_data"
    },
    {
     "name": "stdout",
     "output_type": "stream",
     "text": [
      "index: 0, peak location: 473    129.889999\n",
      "Name: mz, dtype: float64\n",
      "peak index:  [1938, 1962]\n"
     ]
    },
    {
     "data": {
      "application/vnd.jupyter.widget-view+json": {
       "model_id": "7a52dadecdf444d89d29660a366cf382",
       "version_major": 2,
       "version_minor": 0
      },
      "text/plain": [
       "0it [00:00, ?it/s]"
      ]
     },
     "metadata": {},
     "output_type": "display_data"
    },
    {
     "name": "stdout",
     "output_type": "stream",
     "text": [
      "index: 0, peak location: 1938    335.567993\n",
      "1962    336.575989\n",
      "Name: mz, dtype: float64\n",
      "index: 1, peak location: 1938    335.567993\n",
      "1962    336.575989\n",
      "Name: mz, dtype: float64\n",
      "peak index:  [1900, 3444, 3967, 6799, 9090, 9114]\n"
     ]
    },
    {
     "data": {
      "application/vnd.jupyter.widget-view+json": {
       "model_id": "9b5c683f67aa4b729efd495f2d51ff03",
       "version_major": 2,
       "version_minor": 0
      },
      "text/plain": [
       "0it [00:00, ?it/s]"
      ]
     },
     "metadata": {},
     "output_type": "display_data"
    },
    {
     "name": "stdout",
     "output_type": "stream",
     "text": [
      "index: 0, peak location: 1900    129.852005\n",
      "3444    194.742004\n",
      "3967    216.722000\n",
      "6799    335.743011\n",
      "9090    432.027008\n",
      "9114    433.036011\n",
      "Name: mz, dtype: float64\n",
      "index: 1, peak location: 1900    129.852005\n",
      "3444    194.742004\n",
      "3967    216.722000\n",
      "6799    335.743011\n",
      "9090    432.027008\n",
      "9114    433.036011\n",
      "Name: mz, dtype: float64\n",
      "index: 2, peak location: 1900    129.852005\n",
      "3444    194.742004\n",
      "3967    216.722000\n",
      "6799    335.743011\n",
      "9090    432.027008\n",
      "9114    433.036011\n",
      "Name: mz, dtype: float64\n",
      "index: 3, peak location: 1900    129.852005\n",
      "3444    194.742004\n",
      "3967    216.722000\n",
      "6799    335.743011\n",
      "9090    432.027008\n",
      "9114    433.036011\n",
      "Name: mz, dtype: float64\n",
      "index: 4, peak location: 1900    129.852005\n",
      "3444    194.742004\n",
      "3967    216.722000\n",
      "6799    335.743011\n",
      "9090    432.027008\n",
      "9114    433.036011\n",
      "Name: mz, dtype: float64\n",
      "index: 5, peak location: 1900    129.852005\n",
      "3444    194.742004\n",
      "3967    216.722000\n",
      "6799    335.743011\n",
      "9090    432.027008\n",
      "9114    433.036011\n",
      "Name: mz, dtype: float64\n",
      "peak index:  [472]\n"
     ]
    },
    {
     "data": {
      "application/vnd.jupyter.widget-view+json": {
       "model_id": "ae5c9350039940b8b3cdfe959b2a6f05",
       "version_major": 2,
       "version_minor": 0
      },
      "text/plain": [
       "0it [00:00, ?it/s]"
      ]
     },
     "metadata": {},
     "output_type": "display_data"
    },
    {
     "name": "stdout",
     "output_type": "stream",
     "text": [
      "index: 0, peak location: 472    129.848007\n",
      "Name: mz, dtype: float64\n",
      "peak index:  [1939, 1962]\n"
     ]
    },
    {
     "data": {
      "application/vnd.jupyter.widget-view+json": {
       "model_id": "c5637e299e174d8589ebb86a67a3e9f1",
       "version_major": 2,
       "version_minor": 0
      },
      "text/plain": [
       "0it [00:00, ?it/s]"
      ]
     },
     "metadata": {},
     "output_type": "display_data"
    },
    {
     "name": "stdout",
     "output_type": "stream",
     "text": [
      "index: 0, peak location: 1939    335.609985\n",
      "1962    336.575989\n",
      "Name: mz, dtype: float64\n",
      "index: 1, peak location: 1939    335.609985\n",
      "1962    336.575989\n",
      "Name: mz, dtype: float64\n",
      "peak index:  [1900, 3445, 3966, 6800, 9091, 9115]\n"
     ]
    },
    {
     "data": {
      "application/vnd.jupyter.widget-view+json": {
       "model_id": "ff607ad2fc294059ac92298145ae507d",
       "version_major": 2,
       "version_minor": 0
      },
      "text/plain": [
       "0it [00:00, ?it/s]"
      ]
     },
     "metadata": {},
     "output_type": "display_data"
    },
    {
     "name": "stdout",
     "output_type": "stream",
     "text": [
      "index: 0, peak location: 1900    129.852005\n",
      "3445    194.783997\n",
      "3966    216.679993\n",
      "6800    335.785004\n",
      "9091    432.069000\n",
      "9115    433.078003\n",
      "Name: mz, dtype: float64\n",
      "index: 1, peak location: 1900    129.852005\n",
      "3445    194.783997\n",
      "3966    216.679993\n",
      "6800    335.785004\n",
      "9091    432.069000\n",
      "9115    433.078003\n",
      "Name: mz, dtype: float64\n",
      "index: 2, peak location: 1900    129.852005\n",
      "3445    194.783997\n",
      "3966    216.679993\n",
      "6800    335.785004\n",
      "9091    432.069000\n",
      "9115    433.078003\n",
      "Name: mz, dtype: float64\n",
      "index: 3, peak location: 1900    129.852005\n",
      "3445    194.783997\n",
      "3966    216.679993\n",
      "6800    335.785004\n",
      "9091    432.069000\n",
      "9115    433.078003\n",
      "Name: mz, dtype: float64\n",
      "index: 4, peak location: 1900    129.852005\n",
      "3445    194.783997\n",
      "3966    216.679993\n",
      "6800    335.785004\n",
      "9091    432.069000\n",
      "9115    433.078003\n",
      "Name: mz, dtype: float64\n",
      "index: 5, peak location: 1900    129.852005\n",
      "3445    194.783997\n",
      "3966    216.679993\n",
      "6800    335.785004\n",
      "9091    432.069000\n",
      "9115    433.078003\n",
      "Name: mz, dtype: float64\n",
      "peak index:  [472]\n"
     ]
    },
    {
     "data": {
      "application/vnd.jupyter.widget-view+json": {
       "model_id": "326ef9d4447f47998d0dc31e5b1894b4",
       "version_major": 2,
       "version_minor": 0
      },
      "text/plain": [
       "0it [00:00, ?it/s]"
      ]
     },
     "metadata": {},
     "output_type": "display_data"
    },
    {
     "name": "stdout",
     "output_type": "stream",
     "text": [
      "index: 0, peak location: 472    129.848007\n",
      "Name: mz, dtype: float64\n",
      "peak index:  [1938, 1961]\n"
     ]
    },
    {
     "data": {
      "application/vnd.jupyter.widget-view+json": {
       "model_id": "cd079488cd0c419a8eca4a43abdb6140",
       "version_major": 2,
       "version_minor": 0
      },
      "text/plain": [
       "0it [00:00, ?it/s]"
      ]
     },
     "metadata": {},
     "output_type": "display_data"
    },
    {
     "name": "stdout",
     "output_type": "stream",
     "text": [
      "index: 0, peak location: 1938    335.567993\n",
      "1961    336.533997\n",
      "Name: mz, dtype: float64\n",
      "index: 1, peak location: 1938    335.567993\n",
      "1961    336.533997\n",
      "Name: mz, dtype: float64\n",
      "peak index:  [1900, 3444, 3967, 6800, 9091, 9114]\n"
     ]
    },
    {
     "data": {
      "application/vnd.jupyter.widget-view+json": {
       "model_id": "bdb1a48dd7334b049e21e1e10fa0680d",
       "version_major": 2,
       "version_minor": 0
      },
      "text/plain": [
       "0it [00:00, ?it/s]"
      ]
     },
     "metadata": {},
     "output_type": "display_data"
    },
    {
     "name": "stdout",
     "output_type": "stream",
     "text": [
      "index: 0, peak location: 1900    129.852005\n",
      "3444    194.742004\n",
      "3967    216.722000\n",
      "6800    335.785004\n",
      "9091    432.069000\n",
      "9114    433.036011\n",
      "Name: mz, dtype: float64\n",
      "index: 1, peak location: 1900    129.852005\n",
      "3444    194.742004\n",
      "3967    216.722000\n",
      "6800    335.785004\n",
      "9091    432.069000\n",
      "9114    433.036011\n",
      "Name: mz, dtype: float64\n",
      "index: 2, peak location: 1900    129.852005\n",
      "3444    194.742004\n",
      "3967    216.722000\n",
      "6800    335.785004\n",
      "9091    432.069000\n",
      "9114    433.036011\n",
      "Name: mz, dtype: float64\n",
      "index: 3, peak location: 1900    129.852005\n",
      "3444    194.742004\n",
      "3967    216.722000\n",
      "6800    335.785004\n",
      "9091    432.069000\n",
      "9114    433.036011\n",
      "Name: mz, dtype: float64\n",
      "index: 4, peak location: 1900    129.852005\n",
      "3444    194.742004\n",
      "3967    216.722000\n",
      "6800    335.785004\n",
      "9091    432.069000\n",
      "9114    433.036011\n",
      "Name: mz, dtype: float64\n",
      "index: 5, peak location: 1900    129.852005\n",
      "3444    194.742004\n",
      "3967    216.722000\n",
      "6800    335.785004\n",
      "9091    432.069000\n",
      "9114    433.036011\n",
      "Name: mz, dtype: float64\n",
      "peak index:  [473]\n"
     ]
    },
    {
     "data": {
      "application/vnd.jupyter.widget-view+json": {
       "model_id": "fddd83b85b344f23b3e653bcc2d9914a",
       "version_major": 2,
       "version_minor": 0
      },
      "text/plain": [
       "0it [00:00, ?it/s]"
      ]
     },
     "metadata": {},
     "output_type": "display_data"
    },
    {
     "name": "stdout",
     "output_type": "stream",
     "text": [
      "index: 0, peak location: 473    129.889999\n",
      "Name: mz, dtype: float64\n",
      "peak index:  [1938, 1962]\n"
     ]
    },
    {
     "data": {
      "application/vnd.jupyter.widget-view+json": {
       "model_id": "68f2995cbb0c42358d3147939fbe4e92",
       "version_major": 2,
       "version_minor": 0
      },
      "text/plain": [
       "0it [00:00, ?it/s]"
      ]
     },
     "metadata": {},
     "output_type": "display_data"
    },
    {
     "name": "stdout",
     "output_type": "stream",
     "text": [
      "index: 0, peak location: 1938    335.567993\n",
      "1962    336.575989\n",
      "Name: mz, dtype: float64\n",
      "index: 1, peak location: 1938    335.567993\n",
      "1962    336.575989\n",
      "Name: mz, dtype: float64\n",
      "peak index:  [1900, 3444, 3967, 6799, 9091, 9115]\n"
     ]
    },
    {
     "data": {
      "application/vnd.jupyter.widget-view+json": {
       "model_id": "b78d6d7ba0cb4969a33f53d787097d2a",
       "version_major": 2,
       "version_minor": 0
      },
      "text/plain": [
       "0it [00:00, ?it/s]"
      ]
     },
     "metadata": {},
     "output_type": "display_data"
    },
    {
     "name": "stdout",
     "output_type": "stream",
     "text": [
      "index: 0, peak location: 1900    129.852005\n",
      "3444    194.742004\n",
      "3967    216.722000\n",
      "6799    335.743011\n",
      "9091    432.069000\n",
      "9115    433.078003\n",
      "Name: mz, dtype: float64\n",
      "index: 1, peak location: 1900    129.852005\n",
      "3444    194.742004\n",
      "3967    216.722000\n",
      "6799    335.743011\n",
      "9091    432.069000\n",
      "9115    433.078003\n",
      "Name: mz, dtype: float64\n",
      "index: 2, peak location: 1900    129.852005\n",
      "3444    194.742004\n",
      "3967    216.722000\n",
      "6799    335.743011\n",
      "9091    432.069000\n",
      "9115    433.078003\n",
      "Name: mz, dtype: float64\n",
      "index: 3, peak location: 1900    129.852005\n",
      "3444    194.742004\n",
      "3967    216.722000\n",
      "6799    335.743011\n",
      "9091    432.069000\n",
      "9115    433.078003\n",
      "Name: mz, dtype: float64\n",
      "index: 4, peak location: 1900    129.852005\n",
      "3444    194.742004\n",
      "3967    216.722000\n",
      "6799    335.743011\n",
      "9091    432.069000\n",
      "9115    433.078003\n",
      "Name: mz, dtype: float64\n",
      "index: 5, peak location: 1900    129.852005\n",
      "3444    194.742004\n",
      "3967    216.722000\n",
      "6799    335.743011\n",
      "9091    432.069000\n",
      "9115    433.078003\n",
      "Name: mz, dtype: float64\n",
      "peak index:  [473]\n"
     ]
    },
    {
     "data": {
      "application/vnd.jupyter.widget-view+json": {
       "model_id": "bd092a7c623640d3ba1dc53fad276c7d",
       "version_major": 2,
       "version_minor": 0
      },
      "text/plain": [
       "0it [00:00, ?it/s]"
      ]
     },
     "metadata": {},
     "output_type": "display_data"
    },
    {
     "name": "stdout",
     "output_type": "stream",
     "text": [
      "index: 0, peak location: 473    129.889999\n",
      "Name: mz, dtype: float64\n",
      "peak index:  [1938, 1963]\n"
     ]
    },
    {
     "data": {
      "application/vnd.jupyter.widget-view+json": {
       "model_id": "67dd0ffad0a747b282f181b3945b8b2c",
       "version_major": 2,
       "version_minor": 0
      },
      "text/plain": [
       "0it [00:00, ?it/s]"
      ]
     },
     "metadata": {},
     "output_type": "display_data"
    },
    {
     "name": "stdout",
     "output_type": "stream",
     "text": [
      "index: 0, peak location: 1938    335.567993\n",
      "1963    336.618011\n",
      "Name: mz, dtype: float64\n",
      "index: 1, peak location: 1938    335.567993\n",
      "1963    336.618011\n",
      "Name: mz, dtype: float64\n",
      "peak index:  [1899, 3445, 3966, 6800, 9091, 9114]\n"
     ]
    },
    {
     "data": {
      "application/vnd.jupyter.widget-view+json": {
       "model_id": "3397a5f492c14b36ac629384205e45f6",
       "version_major": 2,
       "version_minor": 0
      },
      "text/plain": [
       "0it [00:00, ?it/s]"
      ]
     },
     "metadata": {},
     "output_type": "display_data"
    },
    {
     "name": "stdout",
     "output_type": "stream",
     "text": [
      "index: 0, peak location: 1899    129.809998\n",
      "3445    194.783997\n",
      "3966    216.679993\n",
      "6800    335.785004\n",
      "9091    432.069000\n",
      "9114    433.036011\n",
      "Name: mz, dtype: float64\n",
      "index: 1, peak location: 1899    129.809998\n",
      "3445    194.783997\n",
      "3966    216.679993\n",
      "6800    335.785004\n",
      "9091    432.069000\n",
      "9114    433.036011\n",
      "Name: mz, dtype: float64\n",
      "index: 2, peak location: 1899    129.809998\n",
      "3445    194.783997\n",
      "3966    216.679993\n",
      "6800    335.785004\n",
      "9091    432.069000\n",
      "9114    433.036011\n",
      "Name: mz, dtype: float64\n",
      "index: 3, peak location: 1899    129.809998\n",
      "3445    194.783997\n",
      "3966    216.679993\n",
      "6800    335.785004\n",
      "9091    432.069000\n",
      "9114    433.036011\n",
      "Name: mz, dtype: float64\n",
      "index: 4, peak location: 1899    129.809998\n",
      "3445    194.783997\n",
      "3966    216.679993\n",
      "6800    335.785004\n",
      "9091    432.069000\n",
      "9114    433.036011\n",
      "Name: mz, dtype: float64\n",
      "index: 5, peak location: 1899    129.809998\n",
      "3445    194.783997\n",
      "3966    216.679993\n",
      "6800    335.785004\n",
      "9091    432.069000\n",
      "9114    433.036011\n",
      "Name: mz, dtype: float64\n",
      "peak index:  [473]\n"
     ]
    },
    {
     "data": {
      "application/vnd.jupyter.widget-view+json": {
       "model_id": "b834818da106437e8be346093b80637a",
       "version_major": 2,
       "version_minor": 0
      },
      "text/plain": [
       "0it [00:00, ?it/s]"
      ]
     },
     "metadata": {},
     "output_type": "display_data"
    },
    {
     "name": "stdout",
     "output_type": "stream",
     "text": [
      "index: 0, peak location: 473    129.889999\n",
      "Name: mz, dtype: float64\n",
      "peak index:  [1938, 1962]\n"
     ]
    },
    {
     "data": {
      "application/vnd.jupyter.widget-view+json": {
       "model_id": "a86ff4d11fce4a718fc925f1c39f7862",
       "version_major": 2,
       "version_minor": 0
      },
      "text/plain": [
       "0it [00:00, ?it/s]"
      ]
     },
     "metadata": {},
     "output_type": "display_data"
    },
    {
     "name": "stdout",
     "output_type": "stream",
     "text": [
      "index: 0, peak location: 1938    335.567993\n",
      "1962    336.575989\n",
      "Name: mz, dtype: float64\n",
      "index: 1, peak location: 1938    335.567993\n",
      "1962    336.575989\n",
      "Name: mz, dtype: float64\n",
      "peak index:  [1900, 3444, 3967, 6800, 9091, 9114]\n"
     ]
    },
    {
     "data": {
      "application/vnd.jupyter.widget-view+json": {
       "model_id": "a0bec6444a724e0ba59e97c698cdde26",
       "version_major": 2,
       "version_minor": 0
      },
      "text/plain": [
       "0it [00:00, ?it/s]"
      ]
     },
     "metadata": {},
     "output_type": "display_data"
    },
    {
     "name": "stdout",
     "output_type": "stream",
     "text": [
      "index: 0, peak location: 1900    129.852005\n",
      "3444    194.742004\n",
      "3967    216.722000\n",
      "6800    335.785004\n",
      "9091    432.069000\n",
      "9114    433.036011\n",
      "Name: mz, dtype: float64\n",
      "index: 1, peak location: 1900    129.852005\n",
      "3444    194.742004\n",
      "3967    216.722000\n",
      "6800    335.785004\n",
      "9091    432.069000\n",
      "9114    433.036011\n",
      "Name: mz, dtype: float64\n",
      "index: 2, peak location: 1900    129.852005\n",
      "3444    194.742004\n",
      "3967    216.722000\n",
      "6800    335.785004\n",
      "9091    432.069000\n",
      "9114    433.036011\n",
      "Name: mz, dtype: float64\n",
      "index: 3, peak location: 1900    129.852005\n",
      "3444    194.742004\n",
      "3967    216.722000\n",
      "6800    335.785004\n",
      "9091    432.069000\n",
      "9114    433.036011\n",
      "Name: mz, dtype: float64\n",
      "index: 4, peak location: 1900    129.852005\n",
      "3444    194.742004\n",
      "3967    216.722000\n",
      "6800    335.785004\n",
      "9091    432.069000\n",
      "9114    433.036011\n",
      "Name: mz, dtype: float64\n",
      "index: 5, peak location: 1900    129.852005\n",
      "3444    194.742004\n",
      "3967    216.722000\n",
      "6800    335.785004\n",
      "9091    432.069000\n",
      "9114    433.036011\n",
      "Name: mz, dtype: float64\n",
      "peak index:  [473]\n"
     ]
    },
    {
     "data": {
      "application/vnd.jupyter.widget-view+json": {
       "model_id": "2cc1e1c92f664d3a86aa7ba1a1a33ac1",
       "version_major": 2,
       "version_minor": 0
      },
      "text/plain": [
       "0it [00:00, ?it/s]"
      ]
     },
     "metadata": {},
     "output_type": "display_data"
    },
    {
     "name": "stdout",
     "output_type": "stream",
     "text": [
      "index: 0, peak location: 473    129.889999\n",
      "Name: mz, dtype: float64\n",
      "peak index:  [1938, 1962]\n"
     ]
    },
    {
     "data": {
      "application/vnd.jupyter.widget-view+json": {
       "model_id": "18d60c7439034480818fc4cba1e3a35f",
       "version_major": 2,
       "version_minor": 0
      },
      "text/plain": [
       "0it [00:00, ?it/s]"
      ]
     },
     "metadata": {},
     "output_type": "display_data"
    },
    {
     "name": "stdout",
     "output_type": "stream",
     "text": [
      "index: 0, peak location: 1938    335.567993\n",
      "1962    336.575989\n",
      "Name: mz, dtype: float64\n",
      "index: 1, peak location: 1938    335.567993\n",
      "1962    336.575989\n",
      "Name: mz, dtype: float64\n",
      "peak index:  [1900, 3444, 3967, 6799, 9090, 9115]\n"
     ]
    },
    {
     "data": {
      "application/vnd.jupyter.widget-view+json": {
       "model_id": "bcb8f686d60e41b6b2b053a7009fd7dd",
       "version_major": 2,
       "version_minor": 0
      },
      "text/plain": [
       "0it [00:00, ?it/s]"
      ]
     },
     "metadata": {},
     "output_type": "display_data"
    },
    {
     "name": "stdout",
     "output_type": "stream",
     "text": [
      "index: 0, peak location: 1900    129.852005\n",
      "3444    194.742004\n",
      "3967    216.722000\n",
      "6799    335.743011\n",
      "9090    432.027008\n",
      "9115    433.078003\n",
      "Name: mz, dtype: float64\n",
      "index: 1, peak location: 1900    129.852005\n",
      "3444    194.742004\n",
      "3967    216.722000\n",
      "6799    335.743011\n",
      "9090    432.027008\n",
      "9115    433.078003\n",
      "Name: mz, dtype: float64\n",
      "index: 2, peak location: 1900    129.852005\n",
      "3444    194.742004\n",
      "3967    216.722000\n",
      "6799    335.743011\n",
      "9090    432.027008\n",
      "9115    433.078003\n",
      "Name: mz, dtype: float64\n",
      "index: 3, peak location: 1900    129.852005\n",
      "3444    194.742004\n",
      "3967    216.722000\n",
      "6799    335.743011\n",
      "9090    432.027008\n",
      "9115    433.078003\n",
      "Name: mz, dtype: float64\n",
      "index: 4, peak location: 1900    129.852005\n",
      "3444    194.742004\n",
      "3967    216.722000\n",
      "6799    335.743011\n",
      "9090    432.027008\n",
      "9115    433.078003\n",
      "Name: mz, dtype: float64\n",
      "index: 5, peak location: 1900    129.852005\n",
      "3444    194.742004\n",
      "3967    216.722000\n",
      "6799    335.743011\n",
      "9090    432.027008\n",
      "9115    433.078003\n",
      "Name: mz, dtype: float64\n",
      "peak index:  [473]\n"
     ]
    },
    {
     "data": {
      "application/vnd.jupyter.widget-view+json": {
       "model_id": "841be59e14de4836841f0734e718c1c8",
       "version_major": 2,
       "version_minor": 0
      },
      "text/plain": [
       "0it [00:00, ?it/s]"
      ]
     },
     "metadata": {},
     "output_type": "display_data"
    },
    {
     "name": "stdout",
     "output_type": "stream",
     "text": [
      "index: 0, peak location: 473    129.889999\n",
      "Name: mz, dtype: float64\n",
      "peak index:  [1938, 1962]\n"
     ]
    },
    {
     "data": {
      "application/vnd.jupyter.widget-view+json": {
       "model_id": "683aa7661a674070a83f6a9bc8772bde",
       "version_major": 2,
       "version_minor": 0
      },
      "text/plain": [
       "0it [00:00, ?it/s]"
      ]
     },
     "metadata": {},
     "output_type": "display_data"
    },
    {
     "name": "stdout",
     "output_type": "stream",
     "text": [
      "index: 0, peak location: 1938    335.567993\n",
      "1962    336.575989\n",
      "Name: mz, dtype: float64\n",
      "index: 1, peak location: 1938    335.567993\n",
      "1962    336.575989\n",
      "Name: mz, dtype: float64\n",
      "peak index:  [1901, 3444, 3967, 6800, 9091, 9115]\n"
     ]
    },
    {
     "data": {
      "application/vnd.jupyter.widget-view+json": {
       "model_id": "32dfb7c0ae464fc69300d52a895d8c42",
       "version_major": 2,
       "version_minor": 0
      },
      "text/plain": [
       "0it [00:00, ?it/s]"
      ]
     },
     "metadata": {},
     "output_type": "display_data"
    },
    {
     "name": "stdout",
     "output_type": "stream",
     "text": [
      "index: 0, peak location: 1901    129.893997\n",
      "3444    194.742004\n",
      "3967    216.722000\n",
      "6800    335.785004\n",
      "9091    432.069000\n",
      "9115    433.078003\n",
      "Name: mz, dtype: float64\n",
      "index: 1, peak location: 1901    129.893997\n",
      "3444    194.742004\n",
      "3967    216.722000\n",
      "6800    335.785004\n",
      "9091    432.069000\n",
      "9115    433.078003\n",
      "Name: mz, dtype: float64\n",
      "index: 2, peak location: 1901    129.893997\n",
      "3444    194.742004\n",
      "3967    216.722000\n",
      "6800    335.785004\n",
      "9091    432.069000\n",
      "9115    433.078003\n",
      "Name: mz, dtype: float64\n",
      "index: 3, peak location: 1901    129.893997\n",
      "3444    194.742004\n",
      "3967    216.722000\n",
      "6800    335.785004\n",
      "9091    432.069000\n",
      "9115    433.078003\n",
      "Name: mz, dtype: float64\n",
      "index: 4, peak location: 1901    129.893997\n",
      "3444    194.742004\n",
      "3967    216.722000\n",
      "6800    335.785004\n",
      "9091    432.069000\n",
      "9115    433.078003\n",
      "Name: mz, dtype: float64\n",
      "index: 5, peak location: 1901    129.893997\n",
      "3444    194.742004\n",
      "3967    216.722000\n",
      "6800    335.785004\n",
      "9091    432.069000\n",
      "9115    433.078003\n",
      "Name: mz, dtype: float64\n",
      "peak index:  [472]\n"
     ]
    },
    {
     "data": {
      "application/vnd.jupyter.widget-view+json": {
       "model_id": "0c827729d66a49cf86f51fd93344921a",
       "version_major": 2,
       "version_minor": 0
      },
      "text/plain": [
       "0it [00:00, ?it/s]"
      ]
     },
     "metadata": {},
     "output_type": "display_data"
    },
    {
     "name": "stdout",
     "output_type": "stream",
     "text": [
      "index: 0, peak location: 472    129.848007\n",
      "Name: mz, dtype: float64\n",
      "peak index:  [1938, 1962]\n"
     ]
    },
    {
     "data": {
      "application/vnd.jupyter.widget-view+json": {
       "model_id": "df78fbc9195f4ced9f2428923ee0005d",
       "version_major": 2,
       "version_minor": 0
      },
      "text/plain": [
       "0it [00:00, ?it/s]"
      ]
     },
     "metadata": {},
     "output_type": "display_data"
    },
    {
     "name": "stdout",
     "output_type": "stream",
     "text": [
      "index: 0, peak location: 1938    335.567993\n",
      "1962    336.575989\n",
      "Name: mz, dtype: float64\n",
      "index: 1, peak location: 1938    335.567993\n",
      "1962    336.575989\n",
      "Name: mz, dtype: float64\n",
      "peak index:  [1900, 3443, 3967, 6799, 9092, 9114]\n"
     ]
    },
    {
     "data": {
      "application/vnd.jupyter.widget-view+json": {
       "model_id": "c8d1aa44156f401d8d0d89b9516faaa2",
       "version_major": 2,
       "version_minor": 0
      },
      "text/plain": [
       "0it [00:00, ?it/s]"
      ]
     },
     "metadata": {},
     "output_type": "display_data"
    },
    {
     "name": "stdout",
     "output_type": "stream",
     "text": [
      "index: 0, peak location: 1900    129.852005\n",
      "3443    194.699997\n",
      "3967    216.722000\n",
      "6799    335.743011\n",
      "9092    432.110992\n",
      "9114    433.036011\n",
      "Name: mz, dtype: float64\n",
      "index: 1, peak location: 1900    129.852005\n",
      "3443    194.699997\n",
      "3967    216.722000\n",
      "6799    335.743011\n",
      "9092    432.110992\n",
      "9114    433.036011\n",
      "Name: mz, dtype: float64\n",
      "index: 2, peak location: 1900    129.852005\n",
      "3443    194.699997\n",
      "3967    216.722000\n",
      "6799    335.743011\n",
      "9092    432.110992\n",
      "9114    433.036011\n",
      "Name: mz, dtype: float64\n",
      "index: 3, peak location: 1900    129.852005\n",
      "3443    194.699997\n",
      "3967    216.722000\n",
      "6799    335.743011\n",
      "9092    432.110992\n",
      "9114    433.036011\n",
      "Name: mz, dtype: float64\n",
      "index: 4, peak location: 1900    129.852005\n",
      "3443    194.699997\n",
      "3967    216.722000\n",
      "6799    335.743011\n",
      "9092    432.110992\n",
      "9114    433.036011\n",
      "Name: mz, dtype: float64\n",
      "index: 5, peak location: 1900    129.852005\n",
      "3443    194.699997\n",
      "3967    216.722000\n",
      "6799    335.743011\n",
      "9092    432.110992\n",
      "9114    433.036011\n",
      "Name: mz, dtype: float64\n",
      "peak index:  [472]\n"
     ]
    },
    {
     "data": {
      "application/vnd.jupyter.widget-view+json": {
       "model_id": "1547494a4b9942e38a6cbeb41d0a11d5",
       "version_major": 2,
       "version_minor": 0
      },
      "text/plain": [
       "0it [00:00, ?it/s]"
      ]
     },
     "metadata": {},
     "output_type": "display_data"
    },
    {
     "name": "stdout",
     "output_type": "stream",
     "text": [
      "index: 0, peak location: 472    129.848007\n",
      "Name: mz, dtype: float64\n",
      "peak index:  [1939, 1962]\n"
     ]
    },
    {
     "data": {
      "application/vnd.jupyter.widget-view+json": {
       "model_id": "bdb9592b060c41038a4a66636c9fcb83",
       "version_major": 2,
       "version_minor": 0
      },
      "text/plain": [
       "0it [00:00, ?it/s]"
      ]
     },
     "metadata": {},
     "output_type": "display_data"
    },
    {
     "name": "stdout",
     "output_type": "stream",
     "text": [
      "index: 0, peak location: 1939    335.609985\n",
      "1962    336.575989\n",
      "Name: mz, dtype: float64\n",
      "index: 1, peak location: 1939    335.609985\n",
      "1962    336.575989\n",
      "Name: mz, dtype: float64\n",
      "peak index:  [1900, 3444, 3967, 6799, 9091, 9115]\n"
     ]
    },
    {
     "data": {
      "application/vnd.jupyter.widget-view+json": {
       "model_id": "ef5871c5adca459ea01ed160ea0e9ef4",
       "version_major": 2,
       "version_minor": 0
      },
      "text/plain": [
       "0it [00:00, ?it/s]"
      ]
     },
     "metadata": {},
     "output_type": "display_data"
    },
    {
     "name": "stdout",
     "output_type": "stream",
     "text": [
      "index: 0, peak location: 1900    129.852005\n",
      "3444    194.742004\n",
      "3967    216.722000\n",
      "6799    335.743011\n",
      "9091    432.069000\n",
      "9115    433.078003\n",
      "Name: mz, dtype: float64\n",
      "index: 1, peak location: 1900    129.852005\n",
      "3444    194.742004\n",
      "3967    216.722000\n",
      "6799    335.743011\n",
      "9091    432.069000\n",
      "9115    433.078003\n",
      "Name: mz, dtype: float64\n",
      "index: 2, peak location: 1900    129.852005\n",
      "3444    194.742004\n",
      "3967    216.722000\n",
      "6799    335.743011\n",
      "9091    432.069000\n",
      "9115    433.078003\n",
      "Name: mz, dtype: float64\n",
      "index: 3, peak location: 1900    129.852005\n",
      "3444    194.742004\n",
      "3967    216.722000\n",
      "6799    335.743011\n",
      "9091    432.069000\n",
      "9115    433.078003\n",
      "Name: mz, dtype: float64\n",
      "index: 4, peak location: 1900    129.852005\n",
      "3444    194.742004\n",
      "3967    216.722000\n",
      "6799    335.743011\n",
      "9091    432.069000\n",
      "9115    433.078003\n",
      "Name: mz, dtype: float64\n",
      "index: 5, peak location: 1900    129.852005\n",
      "3444    194.742004\n",
      "3967    216.722000\n",
      "6799    335.743011\n",
      "9091    432.069000\n",
      "9115    433.078003\n",
      "Name: mz, dtype: float64\n",
      "peak index:  [473]\n"
     ]
    },
    {
     "data": {
      "application/vnd.jupyter.widget-view+json": {
       "model_id": "a86abb2b72bb4329b6e9adb267fb5bdf",
       "version_major": 2,
       "version_minor": 0
      },
      "text/plain": [
       "0it [00:00, ?it/s]"
      ]
     },
     "metadata": {},
     "output_type": "display_data"
    },
    {
     "name": "stdout",
     "output_type": "stream",
     "text": [
      "index: 0, peak location: 473    129.889999\n",
      "Name: mz, dtype: float64\n",
      "peak index:  [1939, 1962]\n"
     ]
    },
    {
     "data": {
      "application/vnd.jupyter.widget-view+json": {
       "model_id": "d7b0fa8fc5d14d7cb25c3e23df56303f",
       "version_major": 2,
       "version_minor": 0
      },
      "text/plain": [
       "0it [00:00, ?it/s]"
      ]
     },
     "metadata": {},
     "output_type": "display_data"
    },
    {
     "name": "stdout",
     "output_type": "stream",
     "text": [
      "index: 0, peak location: 1939    335.609985\n",
      "1962    336.575989\n",
      "Name: mz, dtype: float64\n",
      "index: 1, peak location: 1939    335.609985\n",
      "1962    336.575989\n",
      "Name: mz, dtype: float64\n",
      "peak index:  [1900, 3444, 3967, 6799, 9091, 9116]\n"
     ]
    },
    {
     "data": {
      "application/vnd.jupyter.widget-view+json": {
       "model_id": "d9656534bbda451bbd3fe37cb1dc3a74",
       "version_major": 2,
       "version_minor": 0
      },
      "text/plain": [
       "0it [00:00, ?it/s]"
      ]
     },
     "metadata": {},
     "output_type": "display_data"
    },
    {
     "name": "stdout",
     "output_type": "stream",
     "text": [
      "index: 0, peak location: 1900    129.852005\n",
      "3444    194.742004\n",
      "3967    216.722000\n",
      "6799    335.743011\n",
      "9091    432.069000\n",
      "9116    433.119995\n",
      "Name: mz, dtype: float64\n",
      "index: 1, peak location: 1900    129.852005\n",
      "3444    194.742004\n",
      "3967    216.722000\n",
      "6799    335.743011\n",
      "9091    432.069000\n",
      "9116    433.119995\n",
      "Name: mz, dtype: float64\n",
      "index: 2, peak location: 1900    129.852005\n",
      "3444    194.742004\n",
      "3967    216.722000\n",
      "6799    335.743011\n",
      "9091    432.069000\n",
      "9116    433.119995\n",
      "Name: mz, dtype: float64\n",
      "index: 3, peak location: 1900    129.852005\n",
      "3444    194.742004\n",
      "3967    216.722000\n",
      "6799    335.743011\n",
      "9091    432.069000\n",
      "9116    433.119995\n",
      "Name: mz, dtype: float64\n",
      "index: 4, peak location: 1900    129.852005\n",
      "3444    194.742004\n",
      "3967    216.722000\n",
      "6799    335.743011\n",
      "9091    432.069000\n",
      "9116    433.119995\n",
      "Name: mz, dtype: float64\n",
      "index: 5, peak location: 1900    129.852005\n",
      "3444    194.742004\n",
      "3967    216.722000\n",
      "6799    335.743011\n",
      "9091    432.069000\n",
      "9116    433.119995\n",
      "Name: mz, dtype: float64\n",
      "peak index:  [473]\n"
     ]
    },
    {
     "data": {
      "application/vnd.jupyter.widget-view+json": {
       "model_id": "e7385ee7b33b41c98b353771fb6cc143",
       "version_major": 2,
       "version_minor": 0
      },
      "text/plain": [
       "0it [00:00, ?it/s]"
      ]
     },
     "metadata": {},
     "output_type": "display_data"
    },
    {
     "name": "stdout",
     "output_type": "stream",
     "text": [
      "index: 0, peak location: 473    129.889999\n",
      "Name: mz, dtype: float64\n",
      "peak index:  [1939, 1962]\n"
     ]
    },
    {
     "data": {
      "application/vnd.jupyter.widget-view+json": {
       "model_id": "950d0b1a88af42d2b3728f009573efb4",
       "version_major": 2,
       "version_minor": 0
      },
      "text/plain": [
       "0it [00:00, ?it/s]"
      ]
     },
     "metadata": {},
     "output_type": "display_data"
    },
    {
     "name": "stdout",
     "output_type": "stream",
     "text": [
      "index: 0, peak location: 1939    335.609985\n",
      "1962    336.575989\n",
      "Name: mz, dtype: float64\n",
      "index: 1, peak location: 1939    335.609985\n",
      "1962    336.575989\n",
      "Name: mz, dtype: float64\n",
      "peak index:  [1899, 3445, 3966, 6799, 9054, 9091, 9115]\n"
     ]
    },
    {
     "data": {
      "application/vnd.jupyter.widget-view+json": {
       "model_id": "a819b91feff945a6932270b60216c0a4",
       "version_major": 2,
       "version_minor": 0
      },
      "text/plain": [
       "0it [00:00, ?it/s]"
      ]
     },
     "metadata": {},
     "output_type": "display_data"
    },
    {
     "name": "stdout",
     "output_type": "stream",
     "text": [
      "index: 0, peak location: 1899    129.809998\n",
      "3445    194.783997\n",
      "3966    216.679993\n",
      "6799    335.743011\n",
      "9054    430.514008\n",
      "9091    432.069000\n",
      "9115    433.078003\n",
      "Name: mz, dtype: float64\n",
      "index: 1, peak location: 1899    129.809998\n",
      "3445    194.783997\n",
      "3966    216.679993\n",
      "6799    335.743011\n",
      "9054    430.514008\n",
      "9091    432.069000\n",
      "9115    433.078003\n",
      "Name: mz, dtype: float64\n",
      "index: 2, peak location: 1899    129.809998\n",
      "3445    194.783997\n",
      "3966    216.679993\n",
      "6799    335.743011\n",
      "9054    430.514008\n",
      "9091    432.069000\n",
      "9115    433.078003\n",
      "Name: mz, dtype: float64\n",
      "index: 3, peak location: 1899    129.809998\n",
      "3445    194.783997\n",
      "3966    216.679993\n",
      "6799    335.743011\n",
      "9054    430.514008\n",
      "9091    432.069000\n",
      "9115    433.078003\n",
      "Name: mz, dtype: float64\n",
      "index: 4, peak location: 1899    129.809998\n",
      "3445    194.783997\n",
      "3966    216.679993\n",
      "6799    335.743011\n",
      "9054    430.514008\n",
      "9091    432.069000\n",
      "9115    433.078003\n",
      "Name: mz, dtype: float64\n",
      "index: 5, peak location: 1899    129.809998\n",
      "3445    194.783997\n",
      "3966    216.679993\n",
      "6799    335.743011\n",
      "9054    430.514008\n",
      "9091    432.069000\n",
      "9115    433.078003\n",
      "Name: mz, dtype: float64\n",
      "index: 6, peak location: 1899    129.809998\n",
      "3445    194.783997\n",
      "3966    216.679993\n",
      "6799    335.743011\n",
      "9054    430.514008\n",
      "9091    432.069000\n",
      "9115    433.078003\n",
      "Name: mz, dtype: float64\n",
      "peak index:  [472]\n"
     ]
    },
    {
     "data": {
      "application/vnd.jupyter.widget-view+json": {
       "model_id": "ee7c05445c5b48669a42ca196ea9f779",
       "version_major": 2,
       "version_minor": 0
      },
      "text/plain": [
       "0it [00:00, ?it/s]"
      ]
     },
     "metadata": {},
     "output_type": "display_data"
    },
    {
     "name": "stdout",
     "output_type": "stream",
     "text": [
      "index: 0, peak location: 472    129.848007\n",
      "Name: mz, dtype: float64\n",
      "peak index:  [1938, 1962]\n"
     ]
    },
    {
     "data": {
      "application/vnd.jupyter.widget-view+json": {
       "model_id": "8ab5446dae2e402d950c18812343c2bf",
       "version_major": 2,
       "version_minor": 0
      },
      "text/plain": [
       "0it [00:00, ?it/s]"
      ]
     },
     "metadata": {},
     "output_type": "display_data"
    },
    {
     "name": "stdout",
     "output_type": "stream",
     "text": [
      "index: 0, peak location: 1938    335.567993\n",
      "1962    336.575989\n",
      "Name: mz, dtype: float64\n",
      "index: 1, peak location: 1938    335.567993\n",
      "1962    336.575989\n",
      "Name: mz, dtype: float64\n"
     ]
    },
    {
     "data": {
      "application/vnd.jupyter.widget-view+json": {
       "model_id": "95190ebb5d1b4947a1285d40f8cf7fee",
       "version_major": 2,
       "version_minor": 0
      },
      "text/plain": [
       "0it [00:00, ?it/s]"
      ]
     },
     "metadata": {},
     "output_type": "display_data"
    },
    {
     "name": "stdout",
     "output_type": "stream",
     "text": [
      "peak index:  [7296, 7304]\n"
     ]
    },
    {
     "data": {
      "application/vnd.jupyter.widget-view+json": {
       "model_id": "64bb9d2a1a9645f6a9cdf6292931b62e",
       "version_major": 2,
       "version_minor": 0
      },
      "text/plain": [
       "0it [00:00, ?it/s]"
      ]
     },
     "metadata": {},
     "output_type": "display_data"
    },
    {
     "name": "stdout",
     "output_type": "stream",
     "text": [
      "index: 0, peak location: 7296    431.812012\n",
      "7304    432.230011\n",
      "Name: mz, dtype: float64\n",
      "index: 1, peak location: 7296    431.812012\n",
      "7304    432.230011\n",
      "Name: mz, dtype: float64\n",
      "peak index:  [382]\n"
     ]
    },
    {
     "data": {
      "application/vnd.jupyter.widget-view+json": {
       "model_id": "365f6e9fe7974300be35a6cceef3c483",
       "version_major": 2,
       "version_minor": 0
      },
      "text/plain": [
       "0it [00:00, ?it/s]"
      ]
     },
     "metadata": {},
     "output_type": "display_data"
    },
    {
     "name": "stdout",
     "output_type": "stream",
     "text": [
      "index: 0, peak location: 382    130.022003\n",
      "Name: mz, dtype: float64\n",
      "peak index:  [1565, 1569]\n"
     ]
    },
    {
     "data": {
      "application/vnd.jupyter.widget-view+json": {
       "model_id": "fd914826ced948ff809b1ccd35b0d973",
       "version_major": 2,
       "version_minor": 0
      },
      "text/plain": [
       "0it [00:00, ?it/s]"
      ]
     },
     "metadata": {},
     "output_type": "display_data"
    },
    {
     "name": "stdout",
     "output_type": "stream",
     "text": [
      "index: 0, peak location: 1565    336.101013\n",
      "1569    336.311005\n",
      "Name: mz, dtype: float64\n",
      "index: 1, peak location: 1565    336.101013\n",
      "1569    336.311005\n",
      "Name: mz, dtype: float64\n",
      "peak index:  [7299, 7311, 7313, 7316]\n"
     ]
    },
    {
     "data": {
      "application/vnd.jupyter.widget-view+json": {
       "model_id": "0eef369333ea4aceb1f6d20c843b09fe",
       "version_major": 2,
       "version_minor": 0
      },
      "text/plain": [
       "0it [00:00, ?it/s]"
      ]
     },
     "metadata": {},
     "output_type": "display_data"
    },
    {
     "name": "stdout",
     "output_type": "stream",
     "text": [
      "index: 0, peak location: 7299    431.968994\n",
      "7311    432.596008\n",
      "7313    432.700989\n",
      "7316    432.858002\n",
      "Name: mz, dtype: float64\n",
      "index: 1, peak location: 7299    431.968994\n",
      "7311    432.596008\n",
      "7313    432.700989\n",
      "7316    432.858002\n",
      "Name: mz, dtype: float64\n",
      "index: 2, peak location: 7299    431.968994\n",
      "7311    432.596008\n",
      "7313    432.700989\n",
      "7316    432.858002\n",
      "Name: mz, dtype: float64\n",
      "index: 3, peak location: 7299    431.968994\n",
      "7311    432.596008\n",
      "7313    432.700989\n",
      "7316    432.858002\n",
      "Name: mz, dtype: float64\n",
      "peak index:  [378, 381, 383]\n"
     ]
    },
    {
     "data": {
      "application/vnd.jupyter.widget-view+json": {
       "model_id": "ce8b836af26e42fd875f423fedc02d42",
       "version_major": 2,
       "version_minor": 0
      },
      "text/plain": [
       "0it [00:00, ?it/s]"
      ]
     },
     "metadata": {},
     "output_type": "display_data"
    },
    {
     "name": "stdout",
     "output_type": "stream",
     "text": [
      "index: 0, peak location: 378    129.813004\n",
      "381    129.970001\n",
      "383    130.074997\n",
      "Name: mz, dtype: float64\n",
      "index: 1, peak location: 378    129.813004\n",
      "381    129.970001\n",
      "383    130.074997\n",
      "Name: mz, dtype: float64\n",
      "index: 2, peak location: 378    129.813004\n",
      "381    129.970001\n",
      "383    130.074997\n",
      "Name: mz, dtype: float64\n",
      "peak index:  [1560, 1562]\n"
     ]
    },
    {
     "data": {
      "application/vnd.jupyter.widget-view+json": {
       "model_id": "266ef01c820e4d6cbf7c361d0ef63ba9",
       "version_major": 2,
       "version_minor": 0
      },
      "text/plain": [
       "0it [00:00, ?it/s]"
      ]
     },
     "metadata": {},
     "output_type": "display_data"
    },
    {
     "name": "stdout",
     "output_type": "stream",
     "text": [
      "index: 0, peak location: 1560    335.839996\n",
      "1562    335.944000\n",
      "Name: mz, dtype: float64\n",
      "index: 1, peak location: 1560    335.839996\n",
      "1562    335.944000\n",
      "Name: mz, dtype: float64\n",
      "peak index:  [7307, 7310]\n"
     ]
    },
    {
     "data": {
      "application/vnd.jupyter.widget-view+json": {
       "model_id": "8b3e4dc1decd415b9dac38cecad52523",
       "version_major": 2,
       "version_minor": 0
      },
      "text/plain": [
       "0it [00:00, ?it/s]"
      ]
     },
     "metadata": {},
     "output_type": "display_data"
    },
    {
     "name": "stdout",
     "output_type": "stream",
     "text": [
      "index: 0, peak location: 7307    432.386993\n",
      "7310    432.544006\n",
      "Name: mz, dtype: float64\n",
      "index: 1, peak location: 7307    432.386993\n",
      "7310    432.544006\n",
      "Name: mz, dtype: float64\n",
      "peak index:  [382, 384]\n"
     ]
    },
    {
     "data": {
      "application/vnd.jupyter.widget-view+json": {
       "model_id": "9a6c9715118a4284ba2f76d471dee00c",
       "version_major": 2,
       "version_minor": 0
      },
      "text/plain": [
       "0it [00:00, ?it/s]"
      ]
     },
     "metadata": {},
     "output_type": "display_data"
    },
    {
     "name": "stdout",
     "output_type": "stream",
     "text": [
      "index: 0, peak location: 382    130.022003\n",
      "384    130.126999\n",
      "Name: mz, dtype: float64\n",
      "index: 1, peak location: 382    130.022003\n",
      "384    130.126999\n",
      "Name: mz, dtype: float64\n",
      "peak index:  [1556, 1560, 1563]\n"
     ]
    },
    {
     "data": {
      "application/vnd.jupyter.widget-view+json": {
       "model_id": "bbbc915a70ff4e518d11b7074e3cfdef",
       "version_major": 2,
       "version_minor": 0
      },
      "text/plain": [
       "0it [00:00, ?it/s]"
      ]
     },
     "metadata": {},
     "output_type": "display_data"
    },
    {
     "name": "stdout",
     "output_type": "stream",
     "text": [
      "index: 0, peak location: 1556    335.630005\n",
      "1560    335.839996\n",
      "1563    335.997009\n",
      "Name: mz, dtype: float64\n",
      "index: 1, peak location: 1556    335.630005\n",
      "1560    335.839996\n",
      "1563    335.997009\n",
      "Name: mz, dtype: float64\n",
      "index: 2, peak location: 1556    335.630005\n",
      "1560    335.839996\n",
      "1563    335.997009\n",
      "Name: mz, dtype: float64\n",
      "peak index:  [7307, 7310, 7312]\n"
     ]
    },
    {
     "data": {
      "application/vnd.jupyter.widget-view+json": {
       "model_id": "83144eec6ade494a9f91f101ce9778be",
       "version_major": 2,
       "version_minor": 0
      },
      "text/plain": [
       "0it [00:00, ?it/s]"
      ]
     },
     "metadata": {},
     "output_type": "display_data"
    },
    {
     "name": "stdout",
     "output_type": "stream",
     "text": [
      "index: 0, peak location: 7307    432.386993\n",
      "7310    432.544006\n",
      "7312    432.648987\n",
      "Name: mz, dtype: float64\n",
      "index: 1, peak location: 7307    432.386993\n",
      "7310    432.544006\n",
      "7312    432.648987\n",
      "Name: mz, dtype: float64\n",
      "index: 2, peak location: 7307    432.386993\n",
      "7310    432.544006\n",
      "7312    432.648987\n",
      "Name: mz, dtype: float64\n",
      "peak index:  [381]\n"
     ]
    },
    {
     "data": {
      "application/vnd.jupyter.widget-view+json": {
       "model_id": "03d07252d56a40b09b0cf70e798b6a35",
       "version_major": 2,
       "version_minor": 0
      },
      "text/plain": [
       "0it [00:00, ?it/s]"
      ]
     },
     "metadata": {},
     "output_type": "display_data"
    },
    {
     "name": "stdout",
     "output_type": "stream",
     "text": [
      "index: 0, peak location: 381    129.970001\n",
      "Name: mz, dtype: float64\n",
      "peak index:  [1565]\n"
     ]
    },
    {
     "data": {
      "application/vnd.jupyter.widget-view+json": {
       "model_id": "c3a067557e4a488b8ed25ee9e8144691",
       "version_major": 2,
       "version_minor": 0
      },
      "text/plain": [
       "0it [00:00, ?it/s]"
      ]
     },
     "metadata": {},
     "output_type": "display_data"
    },
    {
     "name": "stdout",
     "output_type": "stream",
     "text": [
      "index: 0, peak location: 1565    336.101013\n",
      "Name: mz, dtype: float64\n",
      "peak index:  [7308, 7313, 7316]\n"
     ]
    },
    {
     "data": {
      "application/vnd.jupyter.widget-view+json": {
       "model_id": "452971cccd4e42799843598b3cfb9afb",
       "version_major": 2,
       "version_minor": 0
      },
      "text/plain": [
       "0it [00:00, ?it/s]"
      ]
     },
     "metadata": {},
     "output_type": "display_data"
    },
    {
     "name": "stdout",
     "output_type": "stream",
     "text": [
      "index: 0, peak location: 7308    432.438995\n",
      "7313    432.700989\n",
      "7316    432.858002\n",
      "Name: mz, dtype: float64\n",
      "index: 1, peak location: 7308    432.438995\n",
      "7313    432.700989\n",
      "7316    432.858002\n",
      "Name: mz, dtype: float64\n",
      "index: 2, peak location: 7308    432.438995\n",
      "7313    432.700989\n",
      "7316    432.858002\n",
      "Name: mz, dtype: float64\n",
      "peak index:  [383]\n"
     ]
    },
    {
     "data": {
      "application/vnd.jupyter.widget-view+json": {
       "model_id": "d76acd8c0d554e4abb1ec9c597f85b8c",
       "version_major": 2,
       "version_minor": 0
      },
      "text/plain": [
       "0it [00:00, ?it/s]"
      ]
     },
     "metadata": {},
     "output_type": "display_data"
    },
    {
     "name": "stdout",
     "output_type": "stream",
     "text": [
      "index: 0, peak location: 383    130.074997\n",
      "Name: mz, dtype: float64\n",
      "peak index:  [1561, 1567]\n"
     ]
    },
    {
     "data": {
      "application/vnd.jupyter.widget-view+json": {
       "model_id": "b7501dc712e742458f849a6d3a74478f",
       "version_major": 2,
       "version_minor": 0
      },
      "text/plain": [
       "0it [00:00, ?it/s]"
      ]
     },
     "metadata": {},
     "output_type": "display_data"
    },
    {
     "name": "stdout",
     "output_type": "stream",
     "text": [
      "index: 0, peak location: 1561    335.891998\n",
      "1567    336.205994\n",
      "Name: mz, dtype: float64\n",
      "index: 1, peak location: 1561    335.891998\n",
      "1567    336.205994\n",
      "Name: mz, dtype: float64\n",
      "peak index:  [7308, 7311]\n"
     ]
    },
    {
     "data": {
      "application/vnd.jupyter.widget-view+json": {
       "model_id": "bb64c91fe23849afa2f72ad640b886e7",
       "version_major": 2,
       "version_minor": 0
      },
      "text/plain": [
       "0it [00:00, ?it/s]"
      ]
     },
     "metadata": {},
     "output_type": "display_data"
    },
    {
     "name": "stdout",
     "output_type": "stream",
     "text": [
      "index: 0, peak location: 7308    432.438995\n",
      "7311    432.596008\n",
      "Name: mz, dtype: float64\n",
      "index: 1, peak location: 7308    432.438995\n",
      "7311    432.596008\n",
      "Name: mz, dtype: float64\n",
      "peak index:  [379, 382, 384]\n"
     ]
    },
    {
     "data": {
      "application/vnd.jupyter.widget-view+json": {
       "model_id": "832665b6e5974fb689edf2966f1215cb",
       "version_major": 2,
       "version_minor": 0
      },
      "text/plain": [
       "0it [00:00, ?it/s]"
      ]
     },
     "metadata": {},
     "output_type": "display_data"
    },
    {
     "name": "stdout",
     "output_type": "stream",
     "text": [
      "index: 0, peak location: 379    129.865005\n",
      "382    130.022003\n",
      "384    130.126999\n",
      "Name: mz, dtype: float64\n",
      "index: 1, peak location: 379    129.865005\n",
      "382    130.022003\n",
      "384    130.126999\n",
      "Name: mz, dtype: float64\n",
      "index: 2, peak location: 379    129.865005\n",
      "382    130.022003\n",
      "384    130.126999\n",
      "Name: mz, dtype: float64\n",
      "peak index:  [1561]\n"
     ]
    },
    {
     "data": {
      "application/vnd.jupyter.widget-view+json": {
       "model_id": "67a0dbd0f3ae460a9c43154a8e867733",
       "version_major": 2,
       "version_minor": 0
      },
      "text/plain": [
       "0it [00:00, ?it/s]"
      ]
     },
     "metadata": {},
     "output_type": "display_data"
    },
    {
     "name": "stdout",
     "output_type": "stream",
     "text": [
      "index: 0, peak location: 1561    335.891998\n",
      "Name: mz, dtype: float64\n",
      "peak index:  [7308, 7311, 7313]\n"
     ]
    },
    {
     "data": {
      "application/vnd.jupyter.widget-view+json": {
       "model_id": "4cbdf233f5cf47939b6dea1f4a996cfc",
       "version_major": 2,
       "version_minor": 0
      },
      "text/plain": [
       "0it [00:00, ?it/s]"
      ]
     },
     "metadata": {},
     "output_type": "display_data"
    },
    {
     "name": "stdout",
     "output_type": "stream",
     "text": [
      "index: 0, peak location: 7308    432.438995\n",
      "7311    432.596008\n",
      "7313    432.700989\n",
      "Name: mz, dtype: float64\n",
      "index: 1, peak location: 7308    432.438995\n",
      "7311    432.596008\n",
      "7313    432.700989\n",
      "Name: mz, dtype: float64\n",
      "index: 2, peak location: 7308    432.438995\n",
      "7311    432.596008\n",
      "7313    432.700989\n",
      "Name: mz, dtype: float64\n",
      "peak index:  [380, 383]\n"
     ]
    },
    {
     "data": {
      "application/vnd.jupyter.widget-view+json": {
       "model_id": "371cf666dd904bc6a98ab6c518f33100",
       "version_major": 2,
       "version_minor": 0
      },
      "text/plain": [
       "0it [00:00, ?it/s]"
      ]
     },
     "metadata": {},
     "output_type": "display_data"
    },
    {
     "name": "stdout",
     "output_type": "stream",
     "text": [
      "index: 0, peak location: 380    129.917999\n",
      "383    130.074997\n",
      "Name: mz, dtype: float64\n",
      "index: 1, peak location: 380    129.917999\n",
      "383    130.074997\n",
      "Name: mz, dtype: float64\n",
      "peak index:  [1559, 1565]\n"
     ]
    },
    {
     "data": {
      "application/vnd.jupyter.widget-view+json": {
       "model_id": "e683c1986ba64beca9e349bfc8f880fc",
       "version_major": 2,
       "version_minor": 0
      },
      "text/plain": [
       "0it [00:00, ?it/s]"
      ]
     },
     "metadata": {},
     "output_type": "display_data"
    },
    {
     "name": "stdout",
     "output_type": "stream",
     "text": [
      "index: 0, peak location: 1559    335.786987\n",
      "1565    336.101013\n",
      "Name: mz, dtype: float64\n",
      "index: 1, peak location: 1559    335.786987\n",
      "1565    336.101013\n",
      "Name: mz, dtype: float64\n",
      "peak index:  [7306, 7313]\n"
     ]
    },
    {
     "data": {
      "application/vnd.jupyter.widget-view+json": {
       "model_id": "32773afc386743b390b33d1ca984fa6a",
       "version_major": 2,
       "version_minor": 0
      },
      "text/plain": [
       "0it [00:00, ?it/s]"
      ]
     },
     "metadata": {},
     "output_type": "display_data"
    },
    {
     "name": "stdout",
     "output_type": "stream",
     "text": [
      "index: 0, peak location: 7306    432.334991\n",
      "7313    432.700989\n",
      "Name: mz, dtype: float64\n",
      "index: 1, peak location: 7306    432.334991\n",
      "7313    432.700989\n",
      "Name: mz, dtype: float64\n",
      "peak index:  [379, 381]\n"
     ]
    },
    {
     "data": {
      "application/vnd.jupyter.widget-view+json": {
       "model_id": "145c6a0252ba472f92f7b97f1604a927",
       "version_major": 2,
       "version_minor": 0
      },
      "text/plain": [
       "0it [00:00, ?it/s]"
      ]
     },
     "metadata": {},
     "output_type": "display_data"
    },
    {
     "name": "stdout",
     "output_type": "stream",
     "text": [
      "index: 0, peak location: 379    129.865005\n",
      "381    129.970001\n",
      "Name: mz, dtype: float64\n",
      "index: 1, peak location: 379    129.865005\n",
      "381    129.970001\n",
      "Name: mz, dtype: float64\n",
      "peak index:  [1561]\n"
     ]
    },
    {
     "data": {
      "application/vnd.jupyter.widget-view+json": {
       "model_id": "73390f57dcfb451e943abc47959d6b11",
       "version_major": 2,
       "version_minor": 0
      },
      "text/plain": [
       "0it [00:00, ?it/s]"
      ]
     },
     "metadata": {},
     "output_type": "display_data"
    },
    {
     "name": "stdout",
     "output_type": "stream",
     "text": [
      "index: 0, peak location: 1561    335.891998\n",
      "Name: mz, dtype: float64\n",
      "peak index:  [7307, 7309, 7311]\n"
     ]
    },
    {
     "data": {
      "application/vnd.jupyter.widget-view+json": {
       "model_id": "39d053e32755458c81a4d481ae17ff05",
       "version_major": 2,
       "version_minor": 0
      },
      "text/plain": [
       "0it [00:00, ?it/s]"
      ]
     },
     "metadata": {},
     "output_type": "display_data"
    },
    {
     "name": "stdout",
     "output_type": "stream",
     "text": [
      "index: 0, peak location: 7307    432.386993\n",
      "7309    432.492004\n",
      "7311    432.596008\n",
      "Name: mz, dtype: float64\n",
      "index: 1, peak location: 7307    432.386993\n",
      "7309    432.492004\n",
      "7311    432.596008\n",
      "Name: mz, dtype: float64\n",
      "index: 2, peak location: 7307    432.386993\n",
      "7309    432.492004\n",
      "7311    432.596008\n",
      "Name: mz, dtype: float64\n",
      "peak index:  [381]\n"
     ]
    },
    {
     "data": {
      "application/vnd.jupyter.widget-view+json": {
       "model_id": "59e2f50484654a43b49f8bb84141833c",
       "version_major": 2,
       "version_minor": 0
      },
      "text/plain": [
       "0it [00:00, ?it/s]"
      ]
     },
     "metadata": {},
     "output_type": "display_data"
    },
    {
     "name": "stdout",
     "output_type": "stream",
     "text": [
      "index: 0, peak location: 381    129.970001\n",
      "Name: mz, dtype: float64\n",
      "peak index:  [1561, 1564]\n"
     ]
    },
    {
     "data": {
      "application/vnd.jupyter.widget-view+json": {
       "model_id": "f2ab365810a747b680aef9cf32aba27e",
       "version_major": 2,
       "version_minor": 0
      },
      "text/plain": [
       "0it [00:00, ?it/s]"
      ]
     },
     "metadata": {},
     "output_type": "display_data"
    },
    {
     "name": "stdout",
     "output_type": "stream",
     "text": [
      "index: 0, peak location: 1561    335.891998\n",
      "1564    336.049011\n",
      "Name: mz, dtype: float64\n",
      "index: 1, peak location: 1561    335.891998\n",
      "1564    336.049011\n",
      "Name: mz, dtype: float64\n",
      "peak index:  [7310]\n"
     ]
    },
    {
     "data": {
      "application/vnd.jupyter.widget-view+json": {
       "model_id": "69a1bde49f9f4080a5d0b2a9d69933a8",
       "version_major": 2,
       "version_minor": 0
      },
      "text/plain": [
       "0it [00:00, ?it/s]"
      ]
     },
     "metadata": {},
     "output_type": "display_data"
    },
    {
     "name": "stdout",
     "output_type": "stream",
     "text": [
      "index: 0, peak location: 7310    432.544006\n",
      "Name: mz, dtype: float64\n",
      "peak index:  [377, 379, 382, 384]\n"
     ]
    },
    {
     "data": {
      "application/vnd.jupyter.widget-view+json": {
       "model_id": "d783120087cb4d98b7e54f01065b1e43",
       "version_major": 2,
       "version_minor": 0
      },
      "text/plain": [
       "0it [00:00, ?it/s]"
      ]
     },
     "metadata": {},
     "output_type": "display_data"
    },
    {
     "name": "stdout",
     "output_type": "stream",
     "text": [
      "index: 0, peak location: 377    129.759995\n",
      "379    129.865005\n",
      "382    130.022003\n",
      "384    130.126999\n",
      "Name: mz, dtype: float64\n",
      "index: 1, peak location: 377    129.759995\n",
      "379    129.865005\n",
      "382    130.022003\n",
      "384    130.126999\n",
      "Name: mz, dtype: float64\n",
      "index: 2, peak location: 377    129.759995\n",
      "379    129.865005\n",
      "382    130.022003\n",
      "384    130.126999\n",
      "Name: mz, dtype: float64\n",
      "index: 3, peak location: 377    129.759995\n",
      "379    129.865005\n",
      "382    130.022003\n",
      "384    130.126999\n",
      "Name: mz, dtype: float64\n",
      "peak index:  [1561]\n"
     ]
    },
    {
     "data": {
      "application/vnd.jupyter.widget-view+json": {
       "model_id": "ccdf8b3ea3e7461c9d73a0b931b763fc",
       "version_major": 2,
       "version_minor": 0
      },
      "text/plain": [
       "0it [00:00, ?it/s]"
      ]
     },
     "metadata": {},
     "output_type": "display_data"
    },
    {
     "name": "stdout",
     "output_type": "stream",
     "text": [
      "index: 0, peak location: 1561    335.891998\n",
      "Name: mz, dtype: float64\n",
      "peak index:  [7301, 7309, 7311]\n"
     ]
    },
    {
     "data": {
      "application/vnd.jupyter.widget-view+json": {
       "model_id": "baed66c3138c4dec9421d6f213f26d62",
       "version_major": 2,
       "version_minor": 0
      },
      "text/plain": [
       "0it [00:00, ?it/s]"
      ]
     },
     "metadata": {},
     "output_type": "display_data"
    },
    {
     "name": "stdout",
     "output_type": "stream",
     "text": [
      "index: 0, peak location: 7301    432.072998\n",
      "7309    432.492004\n",
      "7311    432.596008\n",
      "Name: mz, dtype: float64\n",
      "index: 1, peak location: 7301    432.072998\n",
      "7309    432.492004\n",
      "7311    432.596008\n",
      "Name: mz, dtype: float64\n",
      "index: 2, peak location: 7301    432.072998\n",
      "7309    432.492004\n",
      "7311    432.596008\n",
      "Name: mz, dtype: float64\n",
      "peak index:  [378, 380]\n"
     ]
    },
    {
     "data": {
      "application/vnd.jupyter.widget-view+json": {
       "model_id": "8ac9b5fc5a5a4cc4b396c5e6cb39d963",
       "version_major": 2,
       "version_minor": 0
      },
      "text/plain": [
       "0it [00:00, ?it/s]"
      ]
     },
     "metadata": {},
     "output_type": "display_data"
    },
    {
     "name": "stdout",
     "output_type": "stream",
     "text": [
      "index: 0, peak location: 378    129.813004\n",
      "380    129.917999\n",
      "Name: mz, dtype: float64\n",
      "index: 1, peak location: 378    129.813004\n",
      "380    129.917999\n",
      "Name: mz, dtype: float64\n",
      "peak index:  [1563]\n"
     ]
    },
    {
     "data": {
      "application/vnd.jupyter.widget-view+json": {
       "model_id": "b3cfc8d4841449229915ed09ffa8a3e5",
       "version_major": 2,
       "version_minor": 0
      },
      "text/plain": [
       "0it [00:00, ?it/s]"
      ]
     },
     "metadata": {},
     "output_type": "display_data"
    },
    {
     "name": "stdout",
     "output_type": "stream",
     "text": [
      "index: 0, peak location: 1563    335.997009\n",
      "Name: mz, dtype: float64\n",
      "peak index:  [7307, 7312, 7315]\n"
     ]
    },
    {
     "data": {
      "application/vnd.jupyter.widget-view+json": {
       "model_id": "9741983bc8d84c789b3621cc54b2d514",
       "version_major": 2,
       "version_minor": 0
      },
      "text/plain": [
       "0it [00:00, ?it/s]"
      ]
     },
     "metadata": {},
     "output_type": "display_data"
    },
    {
     "name": "stdout",
     "output_type": "stream",
     "text": [
      "index: 0, peak location: 7307    432.386993\n",
      "7312    432.648987\n",
      "7315    432.806000\n",
      "Name: mz, dtype: float64\n",
      "index: 1, peak location: 7307    432.386993\n",
      "7312    432.648987\n",
      "7315    432.806000\n",
      "Name: mz, dtype: float64\n",
      "index: 2, peak location: 7307    432.386993\n",
      "7312    432.648987\n",
      "7315    432.806000\n",
      "Name: mz, dtype: float64\n",
      "peak index:  [377, 379, 382]\n"
     ]
    },
    {
     "data": {
      "application/vnd.jupyter.widget-view+json": {
       "model_id": "35bf9115a4014e98be644af2b08882ed",
       "version_major": 2,
       "version_minor": 0
      },
      "text/plain": [
       "0it [00:00, ?it/s]"
      ]
     },
     "metadata": {},
     "output_type": "display_data"
    },
    {
     "name": "stdout",
     "output_type": "stream",
     "text": [
      "index: 0, peak location: 377    129.759995\n",
      "379    129.865005\n",
      "382    130.022003\n",
      "Name: mz, dtype: float64\n",
      "index: 1, peak location: 377    129.759995\n",
      "379    129.865005\n",
      "382    130.022003\n",
      "Name: mz, dtype: float64\n",
      "index: 2, peak location: 377    129.759995\n",
      "379    129.865005\n",
      "382    130.022003\n",
      "Name: mz, dtype: float64\n",
      "peak index:  [1565]\n"
     ]
    },
    {
     "data": {
      "application/vnd.jupyter.widget-view+json": {
       "model_id": "36c5fd8eb3414edd89874a7a0f835735",
       "version_major": 2,
       "version_minor": 0
      },
      "text/plain": [
       "0it [00:00, ?it/s]"
      ]
     },
     "metadata": {},
     "output_type": "display_data"
    },
    {
     "name": "stdout",
     "output_type": "stream",
     "text": [
      "index: 0, peak location: 1565    336.101013\n",
      "Name: mz, dtype: float64\n",
      "peak index:  [7306, 7310, 7312]\n"
     ]
    },
    {
     "data": {
      "application/vnd.jupyter.widget-view+json": {
       "model_id": "ba5ed72b4f7c44ea88659800b23e8022",
       "version_major": 2,
       "version_minor": 0
      },
      "text/plain": [
       "0it [00:00, ?it/s]"
      ]
     },
     "metadata": {},
     "output_type": "display_data"
    },
    {
     "name": "stdout",
     "output_type": "stream",
     "text": [
      "index: 0, peak location: 7306    432.334991\n",
      "7310    432.544006\n",
      "7312    432.648987\n",
      "Name: mz, dtype: float64\n",
      "index: 1, peak location: 7306    432.334991\n",
      "7310    432.544006\n",
      "7312    432.648987\n",
      "Name: mz, dtype: float64\n",
      "index: 2, peak location: 7306    432.334991\n",
      "7310    432.544006\n",
      "7312    432.648987\n",
      "Name: mz, dtype: float64\n",
      "peak index:  [380]\n"
     ]
    },
    {
     "data": {
      "application/vnd.jupyter.widget-view+json": {
       "model_id": "d569e91032b94466b1465871c678b529",
       "version_major": 2,
       "version_minor": 0
      },
      "text/plain": [
       "0it [00:00, ?it/s]"
      ]
     },
     "metadata": {},
     "output_type": "display_data"
    },
    {
     "name": "stdout",
     "output_type": "stream",
     "text": [
      "index: 0, peak location: 380    129.917999\n",
      "Name: mz, dtype: float64\n",
      "peak index:  [1559]\n"
     ]
    },
    {
     "data": {
      "application/vnd.jupyter.widget-view+json": {
       "model_id": "6cba89664b594d07abda2bd21dfecafe",
       "version_major": 2,
       "version_minor": 0
      },
      "text/plain": [
       "0it [00:00, ?it/s]"
      ]
     },
     "metadata": {},
     "output_type": "display_data"
    },
    {
     "name": "stdout",
     "output_type": "stream",
     "text": [
      "index: 0, peak location: 1559    335.786987\n",
      "Name: mz, dtype: float64\n",
      "peak index:  [7305, 7309, 7312]\n"
     ]
    },
    {
     "data": {
      "application/vnd.jupyter.widget-view+json": {
       "model_id": "01b61017597f49b9bf95d63d1864c7e4",
       "version_major": 2,
       "version_minor": 0
      },
      "text/plain": [
       "0it [00:00, ?it/s]"
      ]
     },
     "metadata": {},
     "output_type": "display_data"
    },
    {
     "name": "stdout",
     "output_type": "stream",
     "text": [
      "index: 0, peak location: 7305    432.282013\n",
      "7309    432.492004\n",
      "7312    432.648987\n",
      "Name: mz, dtype: float64\n",
      "index: 1, peak location: 7305    432.282013\n",
      "7309    432.492004\n",
      "7312    432.648987\n",
      "Name: mz, dtype: float64\n",
      "index: 2, peak location: 7305    432.282013\n",
      "7309    432.492004\n",
      "7312    432.648987\n",
      "Name: mz, dtype: float64\n",
      "peak index:  [379, 381]\n"
     ]
    },
    {
     "data": {
      "application/vnd.jupyter.widget-view+json": {
       "model_id": "7ccac896dd6a49bca4e93bf0f19622ec",
       "version_major": 2,
       "version_minor": 0
      },
      "text/plain": [
       "0it [00:00, ?it/s]"
      ]
     },
     "metadata": {},
     "output_type": "display_data"
    },
    {
     "name": "stdout",
     "output_type": "stream",
     "text": [
      "index: 0, peak location: 379    129.865005\n",
      "381    129.970001\n",
      "Name: mz, dtype: float64\n",
      "index: 1, peak location: 379    129.865005\n",
      "381    129.970001\n",
      "Name: mz, dtype: float64\n",
      "peak index:  [1561]\n"
     ]
    },
    {
     "data": {
      "application/vnd.jupyter.widget-view+json": {
       "model_id": "1391246ded3d461bbb8f8172a8f851dc",
       "version_major": 2,
       "version_minor": 0
      },
      "text/plain": [
       "0it [00:00, ?it/s]"
      ]
     },
     "metadata": {},
     "output_type": "display_data"
    },
    {
     "name": "stdout",
     "output_type": "stream",
     "text": [
      "index: 0, peak location: 1561    335.891998\n",
      "Name: mz, dtype: float64\n",
      "peak index:  [7311]\n"
     ]
    },
    {
     "data": {
      "application/vnd.jupyter.widget-view+json": {
       "model_id": "60d7476f770041de9753183f2595b082",
       "version_major": 2,
       "version_minor": 0
      },
      "text/plain": [
       "0it [00:00, ?it/s]"
      ]
     },
     "metadata": {},
     "output_type": "display_data"
    },
    {
     "name": "stdout",
     "output_type": "stream",
     "text": [
      "index: 0, peak location: 7311    432.596008\n",
      "Name: mz, dtype: float64\n",
      "peak index:  [380, 383]\n"
     ]
    },
    {
     "data": {
      "application/vnd.jupyter.widget-view+json": {
       "model_id": "6ed14ff177a54ef79b6df826bda0058b",
       "version_major": 2,
       "version_minor": 0
      },
      "text/plain": [
       "0it [00:00, ?it/s]"
      ]
     },
     "metadata": {},
     "output_type": "display_data"
    },
    {
     "name": "stdout",
     "output_type": "stream",
     "text": [
      "index: 0, peak location: 380    129.917999\n",
      "383    130.074997\n",
      "Name: mz, dtype: float64\n",
      "index: 1, peak location: 380    129.917999\n",
      "383    130.074997\n",
      "Name: mz, dtype: float64\n",
      "peak index:  [1562]\n"
     ]
    },
    {
     "data": {
      "application/vnd.jupyter.widget-view+json": {
       "model_id": "a018099e5d684e578788dbcf37e691ec",
       "version_major": 2,
       "version_minor": 0
      },
      "text/plain": [
       "0it [00:00, ?it/s]"
      ]
     },
     "metadata": {},
     "output_type": "display_data"
    },
    {
     "name": "stdout",
     "output_type": "stream",
     "text": [
      "index: 0, peak location: 1562    335.944\n",
      "Name: mz, dtype: float64\n",
      "peak index:  [7307, 7312]\n"
     ]
    },
    {
     "data": {
      "application/vnd.jupyter.widget-view+json": {
       "model_id": "4ce421ce50b64a919507b8745b8f440f",
       "version_major": 2,
       "version_minor": 0
      },
      "text/plain": [
       "0it [00:00, ?it/s]"
      ]
     },
     "metadata": {},
     "output_type": "display_data"
    },
    {
     "name": "stdout",
     "output_type": "stream",
     "text": [
      "index: 0, peak location: 7307    432.386993\n",
      "7312    432.648987\n",
      "Name: mz, dtype: float64\n",
      "index: 1, peak location: 7307    432.386993\n",
      "7312    432.648987\n",
      "Name: mz, dtype: float64\n",
      "peak index:  [379, 381]\n"
     ]
    },
    {
     "data": {
      "application/vnd.jupyter.widget-view+json": {
       "model_id": "5e845f192a8041888e066c096f4bd442",
       "version_major": 2,
       "version_minor": 0
      },
      "text/plain": [
       "0it [00:00, ?it/s]"
      ]
     },
     "metadata": {},
     "output_type": "display_data"
    },
    {
     "name": "stdout",
     "output_type": "stream",
     "text": [
      "index: 0, peak location: 379    129.865005\n",
      "381    129.970001\n",
      "Name: mz, dtype: float64\n",
      "index: 1, peak location: 379    129.865005\n",
      "381    129.970001\n",
      "Name: mz, dtype: float64\n",
      "peak index:  [1562]\n"
     ]
    },
    {
     "data": {
      "application/vnd.jupyter.widget-view+json": {
       "model_id": "fbb05f3ecb8240de94649136659b2c43",
       "version_major": 2,
       "version_minor": 0
      },
      "text/plain": [
       "0it [00:00, ?it/s]"
      ]
     },
     "metadata": {},
     "output_type": "display_data"
    },
    {
     "name": "stdout",
     "output_type": "stream",
     "text": [
      "index: 0, peak location: 1562    335.944\n",
      "Name: mz, dtype: float64\n",
      "peak index:  [7308, 7311, 7318]\n"
     ]
    },
    {
     "data": {
      "application/vnd.jupyter.widget-view+json": {
       "model_id": "1d21be3a9da44f99b525145207fa82f4",
       "version_major": 2,
       "version_minor": 0
      },
      "text/plain": [
       "0it [00:00, ?it/s]"
      ]
     },
     "metadata": {},
     "output_type": "display_data"
    },
    {
     "name": "stdout",
     "output_type": "stream",
     "text": [
      "index: 0, peak location: 7308    432.438995\n",
      "7311    432.596008\n",
      "7318    432.963013\n",
      "Name: mz, dtype: float64\n",
      "index: 1, peak location: 7308    432.438995\n",
      "7311    432.596008\n",
      "7318    432.963013\n",
      "Name: mz, dtype: float64\n",
      "index: 2, peak location: 7308    432.438995\n",
      "7311    432.596008\n",
      "7318    432.963013\n",
      "Name: mz, dtype: float64\n",
      "peak index:  [380, 382]\n"
     ]
    },
    {
     "data": {
      "application/vnd.jupyter.widget-view+json": {
       "model_id": "f497f79830d749deb0f46b6589b115cb",
       "version_major": 2,
       "version_minor": 0
      },
      "text/plain": [
       "0it [00:00, ?it/s]"
      ]
     },
     "metadata": {},
     "output_type": "display_data"
    },
    {
     "name": "stdout",
     "output_type": "stream",
     "text": [
      "index: 0, peak location: 380    129.917999\n",
      "382    130.022003\n",
      "Name: mz, dtype: float64\n",
      "index: 1, peak location: 380    129.917999\n",
      "382    130.022003\n",
      "Name: mz, dtype: float64\n",
      "peak index:  [1560, 1563]\n"
     ]
    },
    {
     "data": {
      "application/vnd.jupyter.widget-view+json": {
       "model_id": "283beb01db7d4f9e83d9d142d44c3838",
       "version_major": 2,
       "version_minor": 0
      },
      "text/plain": [
       "0it [00:00, ?it/s]"
      ]
     },
     "metadata": {},
     "output_type": "display_data"
    },
    {
     "name": "stdout",
     "output_type": "stream",
     "text": [
      "index: 0, peak location: 1560    335.839996\n",
      "1563    335.997009\n",
      "Name: mz, dtype: float64\n",
      "index: 1, peak location: 1560    335.839996\n",
      "1563    335.997009\n",
      "Name: mz, dtype: float64\n",
      "peak index:  [7311]\n"
     ]
    },
    {
     "data": {
      "application/vnd.jupyter.widget-view+json": {
       "model_id": "a625dbf14a804b52a7f0bb172fea2dae",
       "version_major": 2,
       "version_minor": 0
      },
      "text/plain": [
       "0it [00:00, ?it/s]"
      ]
     },
     "metadata": {},
     "output_type": "display_data"
    },
    {
     "name": "stdout",
     "output_type": "stream",
     "text": [
      "index: 0, peak location: 7311    432.596008\n",
      "Name: mz, dtype: float64\n",
      "peak index:  [381]\n"
     ]
    },
    {
     "data": {
      "application/vnd.jupyter.widget-view+json": {
       "model_id": "5a5abe075bfe4b1f9e3bc0a73f34f0ef",
       "version_major": 2,
       "version_minor": 0
      },
      "text/plain": [
       "0it [00:00, ?it/s]"
      ]
     },
     "metadata": {},
     "output_type": "display_data"
    },
    {
     "name": "stdout",
     "output_type": "stream",
     "text": [
      "index: 0, peak location: 381    129.970001\n",
      "Name: mz, dtype: float64\n",
      "peak index:  [1559, 1563]\n"
     ]
    },
    {
     "data": {
      "application/vnd.jupyter.widget-view+json": {
       "model_id": "78d525d50ec745edb77b27865e5df9a3",
       "version_major": 2,
       "version_minor": 0
      },
      "text/plain": [
       "0it [00:00, ?it/s]"
      ]
     },
     "metadata": {},
     "output_type": "display_data"
    },
    {
     "name": "stdout",
     "output_type": "stream",
     "text": [
      "index: 0, peak location: 1559    335.786987\n",
      "1563    335.997009\n",
      "Name: mz, dtype: float64\n",
      "index: 1, peak location: 1559    335.786987\n",
      "1563    335.997009\n",
      "Name: mz, dtype: float64\n",
      "peak index:  [7307, 7310]\n"
     ]
    },
    {
     "data": {
      "application/vnd.jupyter.widget-view+json": {
       "model_id": "c37a45afd2924c6caa5e0eaf6893f43b",
       "version_major": 2,
       "version_minor": 0
      },
      "text/plain": [
       "0it [00:00, ?it/s]"
      ]
     },
     "metadata": {},
     "output_type": "display_data"
    },
    {
     "name": "stdout",
     "output_type": "stream",
     "text": [
      "index: 0, peak location: 7307    432.386993\n",
      "7310    432.544006\n",
      "Name: mz, dtype: float64\n",
      "index: 1, peak location: 7307    432.386993\n",
      "7310    432.544006\n",
      "Name: mz, dtype: float64\n",
      "peak index:  [379, 381]\n"
     ]
    },
    {
     "data": {
      "application/vnd.jupyter.widget-view+json": {
       "model_id": "187de2a91b7943aca7bb3d220a40330b",
       "version_major": 2,
       "version_minor": 0
      },
      "text/plain": [
       "0it [00:00, ?it/s]"
      ]
     },
     "metadata": {},
     "output_type": "display_data"
    },
    {
     "name": "stdout",
     "output_type": "stream",
     "text": [
      "index: 0, peak location: 379    129.865005\n",
      "381    129.970001\n",
      "Name: mz, dtype: float64\n",
      "index: 1, peak location: 379    129.865005\n",
      "381    129.970001\n",
      "Name: mz, dtype: float64\n",
      "peak index:  [1562]\n"
     ]
    },
    {
     "data": {
      "application/vnd.jupyter.widget-view+json": {
       "model_id": "e6e7e0ada4dd4822996dfa61accf9b61",
       "version_major": 2,
       "version_minor": 0
      },
      "text/plain": [
       "0it [00:00, ?it/s]"
      ]
     },
     "metadata": {},
     "output_type": "display_data"
    },
    {
     "name": "stdout",
     "output_type": "stream",
     "text": [
      "index: 0, peak location: 1562    335.944\n",
      "Name: mz, dtype: float64\n"
     ]
    },
    {
     "data": {
      "application/vnd.jupyter.widget-view+json": {
       "model_id": "45615d1e98334174b06d54fec5abed5a",
       "version_major": 2,
       "version_minor": 0
      },
      "text/plain": [
       "0it [00:00, ?it/s]"
      ]
     },
     "metadata": {},
     "output_type": "display_data"
    },
    {
     "name": "stdout",
     "output_type": "stream",
     "text": [
      "peak index:  [1904, 3449, 3450, 3970, 6802, 9056, 9079]\n"
     ]
    },
    {
     "data": {
      "application/vnd.jupyter.widget-view+json": {
       "model_id": "41621f3a1ae043de9cb350e3b73ec14b",
       "version_major": 2,
       "version_minor": 0
      },
      "text/plain": [
       "0it [00:00, ?it/s]"
      ]
     },
     "metadata": {},
     "output_type": "display_data"
    },
    {
     "name": "stdout",
     "output_type": "stream",
     "text": [
      "index: 0, peak location: 1904    130.020004\n",
      "3449    194.951996\n",
      "3450    194.994003\n",
      "3970    216.848007\n",
      "6802    335.868988\n",
      "9056    430.597992\n",
      "9079    431.565002\n",
      "Name: mz, dtype: float64\n",
      "index: 1, peak location: 1904    130.020004\n",
      "3449    194.951996\n",
      "3450    194.994003\n",
      "3970    216.848007\n",
      "6802    335.868988\n",
      "9056    430.597992\n",
      "9079    431.565002\n",
      "Name: mz, dtype: float64\n",
      "index: 2, peak location: 1904    130.020004\n",
      "3449    194.951996\n",
      "3450    194.994003\n",
      "3970    216.848007\n",
      "6802    335.868988\n",
      "9056    430.597992\n",
      "9079    431.565002\n",
      "Name: mz, dtype: float64\n",
      "index: 3, peak location: 1904    130.020004\n",
      "3449    194.951996\n",
      "3450    194.994003\n",
      "3970    216.848007\n",
      "6802    335.868988\n",
      "9056    430.597992\n",
      "9079    431.565002\n",
      "Name: mz, dtype: float64\n",
      "index: 4, peak location: 1904    130.020004\n",
      "3449    194.951996\n",
      "3450    194.994003\n",
      "3970    216.848007\n",
      "6802    335.868988\n",
      "9056    430.597992\n",
      "9079    431.565002\n",
      "Name: mz, dtype: float64\n",
      "index: 5, peak location: 1904    130.020004\n",
      "3449    194.951996\n",
      "3450    194.994003\n",
      "3970    216.848007\n",
      "6802    335.868988\n",
      "9056    430.597992\n",
      "9079    431.565002\n",
      "Name: mz, dtype: float64\n",
      "index: 6, peak location: 1904    130.020004\n",
      "3449    194.951996\n",
      "3450    194.994003\n",
      "3970    216.848007\n",
      "6802    335.868988\n",
      "9056    430.597992\n",
      "9079    431.565002\n",
      "Name: mz, dtype: float64\n",
      "peak index:  [1905, 3450, 3970, 6802, 9057, 9079]\n"
     ]
    },
    {
     "data": {
      "application/vnd.jupyter.widget-view+json": {
       "model_id": "e54bf6ab339c463fb9290f366f188b73",
       "version_major": 2,
       "version_minor": 0
      },
      "text/plain": [
       "0it [00:00, ?it/s]"
      ]
     },
     "metadata": {},
     "output_type": "display_data"
    },
    {
     "name": "stdout",
     "output_type": "stream",
     "text": [
      "index: 0, peak location: 1905    130.061996\n",
      "3450    194.994003\n",
      "3970    216.848007\n",
      "6802    335.868988\n",
      "9057    430.640015\n",
      "9079    431.565002\n",
      "Name: mz, dtype: float64\n",
      "index: 1, peak location: 1905    130.061996\n",
      "3450    194.994003\n",
      "3970    216.848007\n",
      "6802    335.868988\n",
      "9057    430.640015\n",
      "9079    431.565002\n",
      "Name: mz, dtype: float64\n",
      "index: 2, peak location: 1905    130.061996\n",
      "3450    194.994003\n",
      "3970    216.848007\n",
      "6802    335.868988\n",
      "9057    430.640015\n",
      "9079    431.565002\n",
      "Name: mz, dtype: float64\n",
      "index: 3, peak location: 1905    130.061996\n",
      "3450    194.994003\n",
      "3970    216.848007\n",
      "6802    335.868988\n",
      "9057    430.640015\n",
      "9079    431.565002\n",
      "Name: mz, dtype: float64\n",
      "index: 4, peak location: 1905    130.061996\n",
      "3450    194.994003\n",
      "3970    216.848007\n",
      "6802    335.868988\n",
      "9057    430.640015\n",
      "9079    431.565002\n",
      "Name: mz, dtype: float64\n",
      "index: 5, peak location: 1905    130.061996\n",
      "3450    194.994003\n",
      "3970    216.848007\n",
      "6802    335.868988\n",
      "9057    430.640015\n",
      "9079    431.565002\n",
      "Name: mz, dtype: float64\n",
      "peak index:  [1905, 3449, 3971, 6802, 9057, 9080]\n"
     ]
    },
    {
     "data": {
      "application/vnd.jupyter.widget-view+json": {
       "model_id": "1731393110ea4a53b0dc2905b595f1ac",
       "version_major": 2,
       "version_minor": 0
      },
      "text/plain": [
       "0it [00:00, ?it/s]"
      ]
     },
     "metadata": {},
     "output_type": "display_data"
    },
    {
     "name": "stdout",
     "output_type": "stream",
     "text": [
      "index: 0, peak location: 1905    130.061996\n",
      "3449    194.951996\n",
      "3971    216.889999\n",
      "6802    335.868988\n",
      "9057    430.640015\n",
      "9080    431.606995\n",
      "Name: mz, dtype: float64\n",
      "index: 1, peak location: 1905    130.061996\n",
      "3449    194.951996\n",
      "3971    216.889999\n",
      "6802    335.868988\n",
      "9057    430.640015\n",
      "9080    431.606995\n",
      "Name: mz, dtype: float64\n",
      "index: 2, peak location: 1905    130.061996\n",
      "3449    194.951996\n",
      "3971    216.889999\n",
      "6802    335.868988\n",
      "9057    430.640015\n",
      "9080    431.606995\n",
      "Name: mz, dtype: float64\n",
      "index: 3, peak location: 1905    130.061996\n",
      "3449    194.951996\n",
      "3971    216.889999\n",
      "6802    335.868988\n",
      "9057    430.640015\n",
      "9080    431.606995\n",
      "Name: mz, dtype: float64\n",
      "index: 4, peak location: 1905    130.061996\n",
      "3449    194.951996\n",
      "3971    216.889999\n",
      "6802    335.868988\n",
      "9057    430.640015\n",
      "9080    431.606995\n",
      "Name: mz, dtype: float64\n",
      "index: 5, peak location: 1905    130.061996\n",
      "3449    194.951996\n",
      "3971    216.889999\n",
      "6802    335.868988\n",
      "9057    430.640015\n",
      "9080    431.606995\n",
      "Name: mz, dtype: float64\n",
      "peak index:  [1904, 1906, 3450, 3971, 6803, 9056, 9079, 9090, 9092]\n"
     ]
    },
    {
     "data": {
      "application/vnd.jupyter.widget-view+json": {
       "model_id": "336745e638884e77bb9513eecd564dec",
       "version_major": 2,
       "version_minor": 0
      },
      "text/plain": [
       "0it [00:00, ?it/s]"
      ]
     },
     "metadata": {},
     "output_type": "display_data"
    },
    {
     "name": "stdout",
     "output_type": "stream",
     "text": [
      "index: 0, peak location: 1904    130.020004\n",
      "1906    130.104004\n",
      "3450    194.994003\n",
      "3971    216.889999\n",
      "6803    335.911011\n",
      "9056    430.597992\n",
      "9079    431.565002\n",
      "9090    432.027008\n",
      "9092    432.110992\n",
      "Name: mz, dtype: float64\n",
      "index: 1, peak location: 1904    130.020004\n",
      "1906    130.104004\n",
      "3450    194.994003\n",
      "3971    216.889999\n",
      "6803    335.911011\n",
      "9056    430.597992\n",
      "9079    431.565002\n",
      "9090    432.027008\n",
      "9092    432.110992\n",
      "Name: mz, dtype: float64\n",
      "index: 2, peak location: 1904    130.020004\n",
      "1906    130.104004\n",
      "3450    194.994003\n",
      "3971    216.889999\n",
      "6803    335.911011\n",
      "9056    430.597992\n",
      "9079    431.565002\n",
      "9090    432.027008\n",
      "9092    432.110992\n",
      "Name: mz, dtype: float64\n",
      "index: 3, peak location: 1904    130.020004\n",
      "1906    130.104004\n",
      "3450    194.994003\n",
      "3971    216.889999\n",
      "6803    335.911011\n",
      "9056    430.597992\n",
      "9079    431.565002\n",
      "9090    432.027008\n",
      "9092    432.110992\n",
      "Name: mz, dtype: float64\n",
      "index: 4, peak location: 1904    130.020004\n",
      "1906    130.104004\n",
      "3450    194.994003\n",
      "3971    216.889999\n",
      "6803    335.911011\n",
      "9056    430.597992\n",
      "9079    431.565002\n",
      "9090    432.027008\n",
      "9092    432.110992\n",
      "Name: mz, dtype: float64\n",
      "index: 5, peak location: 1904    130.020004\n",
      "1906    130.104004\n",
      "3450    194.994003\n",
      "3971    216.889999\n",
      "6803    335.911011\n",
      "9056    430.597992\n",
      "9079    431.565002\n",
      "9090    432.027008\n",
      "9092    432.110992\n",
      "Name: mz, dtype: float64\n",
      "index: 6, peak location: 1904    130.020004\n",
      "1906    130.104004\n",
      "3450    194.994003\n",
      "3971    216.889999\n",
      "6803    335.911011\n",
      "9056    430.597992\n",
      "9079    431.565002\n",
      "9090    432.027008\n",
      "9092    432.110992\n",
      "Name: mz, dtype: float64\n",
      "index: 7, peak location: 1904    130.020004\n",
      "1906    130.104004\n",
      "3450    194.994003\n",
      "3971    216.889999\n",
      "6803    335.911011\n",
      "9056    430.597992\n",
      "9079    431.565002\n",
      "9090    432.027008\n",
      "9092    432.110992\n",
      "Name: mz, dtype: float64\n",
      "index: 8, peak location: 1904    130.020004\n",
      "1906    130.104004\n",
      "3450    194.994003\n",
      "3971    216.889999\n",
      "6803    335.911011\n",
      "9056    430.597992\n",
      "9079    431.565002\n",
      "9090    432.027008\n",
      "9092    432.110992\n",
      "Name: mz, dtype: float64\n",
      "peak index:  [1906, 3450, 3970, 6803, 9056, 9072, 9077]\n"
     ]
    },
    {
     "data": {
      "application/vnd.jupyter.widget-view+json": {
       "model_id": "85411e239cc842beab7a33503c5e603d",
       "version_major": 2,
       "version_minor": 0
      },
      "text/plain": [
       "0it [00:00, ?it/s]"
      ]
     },
     "metadata": {},
     "output_type": "display_data"
    },
    {
     "name": "stdout",
     "output_type": "stream",
     "text": [
      "index: 0, peak location: 1906    130.104004\n",
      "3450    194.994003\n",
      "3970    216.848007\n",
      "6803    335.911011\n",
      "9056    430.597992\n",
      "9072    431.269989\n",
      "9077    431.480988\n",
      "Name: mz, dtype: float64\n",
      "index: 1, peak location: 1906    130.104004\n",
      "3450    194.994003\n",
      "3970    216.848007\n",
      "6803    335.911011\n",
      "9056    430.597992\n",
      "9072    431.269989\n",
      "9077    431.480988\n",
      "Name: mz, dtype: float64\n",
      "index: 2, peak location: 1906    130.104004\n",
      "3450    194.994003\n",
      "3970    216.848007\n",
      "6803    335.911011\n",
      "9056    430.597992\n",
      "9072    431.269989\n",
      "9077    431.480988\n",
      "Name: mz, dtype: float64\n",
      "index: 3, peak location: 1906    130.104004\n",
      "3450    194.994003\n",
      "3970    216.848007\n",
      "6803    335.911011\n",
      "9056    430.597992\n",
      "9072    431.269989\n",
      "9077    431.480988\n",
      "Name: mz, dtype: float64\n",
      "index: 4, peak location: 1906    130.104004\n",
      "3450    194.994003\n",
      "3970    216.848007\n",
      "6803    335.911011\n",
      "9056    430.597992\n",
      "9072    431.269989\n",
      "9077    431.480988\n",
      "Name: mz, dtype: float64\n",
      "index: 5, peak location: 1906    130.104004\n",
      "3450    194.994003\n",
      "3970    216.848007\n",
      "6803    335.911011\n",
      "9056    430.597992\n",
      "9072    431.269989\n",
      "9077    431.480988\n",
      "Name: mz, dtype: float64\n",
      "index: 6, peak location: 1906    130.104004\n",
      "3450    194.994003\n",
      "3970    216.848007\n",
      "6803    335.911011\n",
      "9056    430.597992\n",
      "9072    431.269989\n",
      "9077    431.480988\n",
      "Name: mz, dtype: float64\n",
      "peak index:  [1905, 3448, 3449, 3970, 6802, 9057, 9059, 9078, 9081, 9092, 9110, 9113]\n"
     ]
    },
    {
     "data": {
      "application/vnd.jupyter.widget-view+json": {
       "model_id": "49ea9435f48b4344ae2b280b84ce3991",
       "version_major": 2,
       "version_minor": 0
      },
      "text/plain": [
       "0it [00:00, ?it/s]"
      ]
     },
     "metadata": {},
     "output_type": "display_data"
    },
    {
     "name": "stdout",
     "output_type": "stream",
     "text": [
      "index: 0, peak location: 1905    130.061996\n",
      "3448    194.910004\n",
      "3449    194.951996\n",
      "3970    216.848007\n",
      "6802    335.868988\n",
      "9057    430.640015\n",
      "9059    430.723999\n",
      "9078    431.523010\n",
      "9081    431.648987\n",
      "9092    432.110992\n",
      "9110    432.868011\n",
      "9113    432.993988\n",
      "Name: mz, dtype: float64\n",
      "index: 1, peak location: 1905    130.061996\n",
      "3448    194.910004\n",
      "3449    194.951996\n",
      "3970    216.848007\n",
      "6802    335.868988\n",
      "9057    430.640015\n",
      "9059    430.723999\n",
      "9078    431.523010\n",
      "9081    431.648987\n",
      "9092    432.110992\n",
      "9110    432.868011\n",
      "9113    432.993988\n",
      "Name: mz, dtype: float64\n",
      "index: 2, peak location: 1905    130.061996\n",
      "3448    194.910004\n",
      "3449    194.951996\n",
      "3970    216.848007\n",
      "6802    335.868988\n",
      "9057    430.640015\n",
      "9059    430.723999\n",
      "9078    431.523010\n",
      "9081    431.648987\n",
      "9092    432.110992\n",
      "9110    432.868011\n",
      "9113    432.993988\n",
      "Name: mz, dtype: float64\n",
      "index: 3, peak location: 1905    130.061996\n",
      "3448    194.910004\n",
      "3449    194.951996\n",
      "3970    216.848007\n",
      "6802    335.868988\n",
      "9057    430.640015\n",
      "9059    430.723999\n",
      "9078    431.523010\n",
      "9081    431.648987\n",
      "9092    432.110992\n",
      "9110    432.868011\n",
      "9113    432.993988\n",
      "Name: mz, dtype: float64\n",
      "index: 4, peak location: 1905    130.061996\n",
      "3448    194.910004\n",
      "3449    194.951996\n",
      "3970    216.848007\n",
      "6802    335.868988\n",
      "9057    430.640015\n",
      "9059    430.723999\n",
      "9078    431.523010\n",
      "9081    431.648987\n",
      "9092    432.110992\n",
      "9110    432.868011\n",
      "9113    432.993988\n",
      "Name: mz, dtype: float64\n",
      "index: 5, peak location: 1905    130.061996\n",
      "3448    194.910004\n",
      "3449    194.951996\n",
      "3970    216.848007\n",
      "6802    335.868988\n",
      "9057    430.640015\n",
      "9059    430.723999\n",
      "9078    431.523010\n",
      "9081    431.648987\n",
      "9092    432.110992\n",
      "9110    432.868011\n",
      "9113    432.993988\n",
      "Name: mz, dtype: float64\n",
      "index: 6, peak location: 1905    130.061996\n",
      "3448    194.910004\n",
      "3449    194.951996\n",
      "3970    216.848007\n",
      "6802    335.868988\n",
      "9057    430.640015\n",
      "9059    430.723999\n",
      "9078    431.523010\n",
      "9081    431.648987\n",
      "9092    432.110992\n",
      "9110    432.868011\n",
      "9113    432.993988\n",
      "Name: mz, dtype: float64\n",
      "index: 7, peak location: 1905    130.061996\n",
      "3448    194.910004\n",
      "3449    194.951996\n",
      "3970    216.848007\n",
      "6802    335.868988\n",
      "9057    430.640015\n",
      "9059    430.723999\n",
      "9078    431.523010\n",
      "9081    431.648987\n",
      "9092    432.110992\n",
      "9110    432.868011\n",
      "9113    432.993988\n",
      "Name: mz, dtype: float64\n",
      "index: 8, peak location: 1905    130.061996\n",
      "3448    194.910004\n",
      "3449    194.951996\n",
      "3970    216.848007\n",
      "6802    335.868988\n",
      "9057    430.640015\n",
      "9059    430.723999\n",
      "9078    431.523010\n",
      "9081    431.648987\n",
      "9092    432.110992\n",
      "9110    432.868011\n",
      "9113    432.993988\n",
      "Name: mz, dtype: float64\n",
      "index: 9, peak location: 1905    130.061996\n",
      "3448    194.910004\n",
      "3449    194.951996\n",
      "3970    216.848007\n",
      "6802    335.868988\n",
      "9057    430.640015\n",
      "9059    430.723999\n",
      "9078    431.523010\n",
      "9081    431.648987\n",
      "9092    432.110992\n",
      "9110    432.868011\n",
      "9113    432.993988\n",
      "Name: mz, dtype: float64\n",
      "index: 10, peak location: 1905    130.061996\n",
      "3448    194.910004\n",
      "3449    194.951996\n",
      "3970    216.848007\n",
      "6802    335.868988\n",
      "9057    430.640015\n",
      "9059    430.723999\n",
      "9078    431.523010\n",
      "9081    431.648987\n",
      "9092    432.110992\n",
      "9110    432.868011\n",
      "9113    432.993988\n",
      "Name: mz, dtype: float64\n",
      "index: 11, peak location: 1905    130.061996\n",
      "3448    194.910004\n",
      "3449    194.951996\n",
      "3970    216.848007\n",
      "6802    335.868988\n",
      "9057    430.640015\n",
      "9059    430.723999\n",
      "9078    431.523010\n",
      "9081    431.648987\n",
      "9092    432.110992\n",
      "9110    432.868011\n",
      "9113    432.993988\n",
      "Name: mz, dtype: float64\n"
     ]
    },
    {
     "ename": "IndexError",
     "evalue": "tuple index out of range",
     "output_type": "error",
     "traceback": [
      "\u001b[0;31m---------------------------------------------------------------------------\u001b[0m",
      "\u001b[0;31mIndexError\u001b[0m                                Traceback (most recent call last)",
      "\u001b[0;32m/tmp/ipykernel_1323/2629335217.py\u001b[0m in \u001b[0;36m<module>\u001b[0;34m\u001b[0m\n\u001b[1;32m     41\u001b[0m             \u001b[0mcomps\u001b[0m \u001b[0;34m=\u001b[0m \u001b[0mout\u001b[0m\u001b[0;34m.\u001b[0m\u001b[0meval_components\u001b[0m\u001b[0;34m(\u001b[0m\u001b[0mx\u001b[0m\u001b[0;34m=\u001b[0m\u001b[0mspectrum\u001b[0m\u001b[0;34m[\u001b[0m\u001b[0;34m\"mz\"\u001b[0m\u001b[0;34m]\u001b[0m\u001b[0;34m)\u001b[0m\u001b[0;34m\u001b[0m\u001b[0;34m\u001b[0m\u001b[0m\n\u001b[1;32m     42\u001b[0m             \u001b[0;32mfor\u001b[0m \u001b[0mi\u001b[0m \u001b[0;32min\u001b[0m \u001b[0mrange\u001b[0m\u001b[0;34m(\u001b[0m\u001b[0mlen\u001b[0m\u001b[0;34m(\u001b[0m\u001b[0mpeak_index\u001b[0m\u001b[0;34m)\u001b[0m\u001b[0;34m)\u001b[0m\u001b[0;34m:\u001b[0m\u001b[0;34m\u001b[0m\u001b[0;34m\u001b[0m\u001b[0m\n\u001b[0;32m---> 43\u001b[0;31m                 \u001b[0mp\u001b[0m\u001b[0;34m.\u001b[0m\u001b[0mline\u001b[0m\u001b[0;34m(\u001b[0m\u001b[0mspectrum\u001b[0m\u001b[0;34m[\u001b[0m\u001b[0;34m\"mz\"\u001b[0m\u001b[0;34m]\u001b[0m\u001b[0;34m,\u001b[0m \u001b[0mcomps\u001b[0m\u001b[0;34m[\u001b[0m\u001b[0;34m'pcm'\u001b[0m \u001b[0;34m+\u001b[0m \u001b[0mstr\u001b[0m\u001b[0;34m(\u001b[0m\u001b[0mi\u001b[0m\u001b[0;34m)\u001b[0m \u001b[0;34m+\u001b[0m \u001b[0;34m'_'\u001b[0m\u001b[0;34m]\u001b[0m\u001b[0;34m,\u001b[0m \u001b[0mlegend_label\u001b[0m\u001b[0;34m=\u001b[0m \u001b[0;34mf'gaussian peak no {index}'\u001b[0m\u001b[0;34m,\u001b[0m \u001b[0mline_width\u001b[0m\u001b[0;34m=\u001b[0m\u001b[0;36m2\u001b[0m\u001b[0;34m,\u001b[0m \u001b[0mcolor\u001b[0m\u001b[0;34m=\u001b[0m\u001b[0mbrewer\u001b[0m\u001b[0;34m[\u001b[0m\u001b[0;34m'Spectral'\u001b[0m\u001b[0;34m]\u001b[0m\u001b[0;34m[\u001b[0m\u001b[0;36m11\u001b[0m\u001b[0;34m]\u001b[0m\u001b[0;34m[\u001b[0m\u001b[0mi\u001b[0m\u001b[0;34m]\u001b[0m\u001b[0;34m)\u001b[0m\u001b[0;34m\u001b[0m\u001b[0;34m\u001b[0m\u001b[0m\n\u001b[0m\u001b[1;32m     44\u001b[0m             \u001b[0mp\u001b[0m \u001b[0;34m=\u001b[0m \u001b[0mplot_peak_fit\u001b[0m\u001b[0;34m(\u001b[0m\u001b[0mp\u001b[0m\u001b[0;34m,\u001b[0m \u001b[0mpeak_index\u001b[0m\u001b[0;34m,\u001b[0m \u001b[0mspectrum\u001b[0m\u001b[0;34m[\u001b[0m\u001b[0;34m'intensity'\u001b[0m\u001b[0;34m]\u001b[0m\u001b[0;34m[\u001b[0m\u001b[0mpeak_index\u001b[0m\u001b[0;34m]\u001b[0m\u001b[0;34m,\u001b[0m \u001b[0mspectrum\u001b[0m\u001b[0;34m,\u001b[0m \u001b[0mkey\u001b[0m\u001b[0;34m)\u001b[0m\u001b[0;34m\u001b[0m\u001b[0;34m\u001b[0m\u001b[0m\n\u001b[1;32m     45\u001b[0m             \u001b[0mp\u001b[0m \u001b[0;34m=\u001b[0m \u001b[0mplot_valley_fit\u001b[0m\u001b[0;34m(\u001b[0m\u001b[0mp\u001b[0m\u001b[0;34m,\u001b[0m \u001b[0mvalley_index\u001b[0m\u001b[0;34m,\u001b[0m \u001b[0mspectrum\u001b[0m\u001b[0;34m[\u001b[0m\u001b[0;34m'intensity'\u001b[0m\u001b[0;34m]\u001b[0m\u001b[0;34m[\u001b[0m\u001b[0mpeak_index\u001b[0m\u001b[0;34m]\u001b[0m\u001b[0;34m,\u001b[0m \u001b[0mspectrum\u001b[0m\u001b[0;34m,\u001b[0m \u001b[0mkey\u001b[0m\u001b[0;34m)\u001b[0m\u001b[0;34m\u001b[0m\u001b[0;34m\u001b[0m\u001b[0m\n",
      "\u001b[0;31mIndexError\u001b[0m: tuple index out of range"
     ]
    }
   ],
   "source": [
    "file_data_dict = dict(zip(filename_list, xml_data_list))\n",
    "spectrums_list = []\n",
    "for key, value in file_data_dict.items():\n",
    "    point_list = value[0][0]\n",
    "    spectrum_list = get_mass_spectrum(point_list)\n",
    "    spectrums_list.append(spectrum_list)\n",
    "\n",
    "file_spectrum_dict = dict(zip(filename_list, spectrums_list))\n",
    "\n",
    "for key, value in tqdm(file_spectrum_dict.items()):\n",
    "    save_dir = '/mnt/d/Data/LTQ数据/' + os.path.splitext(key)[0] + '/'\n",
    "    if not os.path.exists(save_dir):\n",
    "            os.makedirs(save_dir)\n",
    "    for id, spectrum in tqdm(enumerate(value)):\n",
    "        exp_mod = ExponentialModel(prefix='exp_')\n",
    "        pars = exp_mod.guess(spectrum['intensity'], x=spectrum['mz'])\n",
    "        gauss_dict = dict()\n",
    "        fp = findpeaks(method='topology', interpolate=5, lookahead=10, limit=5, verbose=False)\n",
    "        mod = exp_mod\n",
    "        p = figure(title=key, plot_width=1440, plot_height=720)\n",
    "        # 设定寻峰规则，寻找m/z轴顶峰\n",
    "        try:\n",
    "            fp_result = fp.fit(spectrum[\"intensity\"])\n",
    "            peak_index, valley_index = peak_fit_result(fp_result, spectrum)\n",
    "        except Exception as e:\n",
    "            # print(e)\n",
    "            continue\n",
    "\n",
    "        if peak_index:\n",
    "            # 对峰的部分用guass拟合\n",
    "            for index, peak in tqdm(enumerate(peak_index)):\n",
    "                print('index: {}, peak location: {}'.format(index, spectrum['mz'][peak_index]))\n",
    "                gauss_dict['pcm'+str(index)+'_'] = GaussianModel(prefix='pcm'+str(index)+'_')\n",
    "                pars.update(gauss_dict['pcm'+str(index)+'_'].make_params())\n",
    "                pars['pcm'+str(index)+'_center'].set(spectrum[\"mz\"][peak] , min=spectrum[\"mz\"][peak] - 50, max= spectrum[\"mz\"][peak] + 50)\n",
    "                pars['pcm'+str(index)+'_amplitude'].set(5, max = spectrum['intensity'][peak].max(), min=0.1)\n",
    "                pars['pcm'+str(index)+'_sigma'].set(10, min=0.1, max=50)\n",
    "                mod += gauss_dict['pcm'+str(index)+'_']\n",
    "            out = mod.fit(spectrum[\"intensity\"], pars, x=spectrum['mz'])\n",
    "            # break\n",
    "            comps = out.eval_components(x=spectrum[\"mz\"])\n",
    "            for i in range(len(peak_index)):\n",
    "                p.line(spectrum[\"mz\"], comps['pcm' + str(i) + '_'], legend_label= f'gaussian peak no {index}', line_width=2, color=brewer['Spectral'][11][i])\n",
    "            p = plot_peak_fit(p, peak_index, spectrum['intensity'][peak_index], spectrum, key)\n",
    "            p = plot_valley_fit(p, valley_index, spectrum['intensity'][peak_index], spectrum, key)\n",
    "           \n",
    "        p.line(spectrum['mz'], spectrum['intensity'], line_width=2, line_dash = (4,4), color='darkcyan')\n",
    "        save(p, filename='{}.html'.format(save_dir + str(id)))"
   ]
  }
 ],
 "metadata": {
  "kernelspec": {
   "display_name": "Python 3.7.13 ('findpeaks')",
   "language": "python",
   "name": "python3"
  },
  "language_info": {
   "codemirror_mode": {
    "name": "ipython",
    "version": 3
   },
   "file_extension": ".py",
   "mimetype": "text/x-python",
   "name": "python",
   "nbconvert_exporter": "python",
   "pygments_lexer": "ipython3",
   "version": "3.7.13"
  },
  "orig_nbformat": 4,
  "vscode": {
   "interpreter": {
    "hash": "988dc20507c9b8666a77143fe2ea187e26c55df0acae05133eb0d05f63ed1f23"
   }
  }
 },
 "nbformat": 4,
 "nbformat_minor": 2
}
