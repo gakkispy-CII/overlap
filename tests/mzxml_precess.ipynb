{
 "cells": [
  {
   "cell_type": "code",
   "execution_count": 1,
   "metadata": {},
   "outputs": [
    {
     "data": {
      "text/html": [
       "<div class=\"bk-root\">\n",
       "        <a href=\"https://bokeh.org\" target=\"_blank\" class=\"bk-logo bk-logo-small bk-logo-notebook\"></a>\n",
       "        <span id=\"1001\">Loading BokehJS ...</span>\n",
       "    </div>\n"
      ]
     },
     "metadata": {},
     "output_type": "display_data"
    },
    {
     "data": {
      "application/javascript": "(function(root) {\n  function now() {\n    return new Date();\n  }\n\n  const force = true;\n\n  if (typeof root._bokeh_onload_callbacks === \"undefined\" || force === true) {\n    root._bokeh_onload_callbacks = [];\n    root._bokeh_is_loading = undefined;\n  }\n\nconst JS_MIME_TYPE = 'application/javascript';\n  const HTML_MIME_TYPE = 'text/html';\n  const EXEC_MIME_TYPE = 'application/vnd.bokehjs_exec.v0+json';\n  const CLASS_NAME = 'output_bokeh rendered_html';\n\n  /**\n   * Render data to the DOM node\n   */\n  function render(props, node) {\n    const script = document.createElement(\"script\");\n    node.appendChild(script);\n  }\n\n  /**\n   * Handle when an output is cleared or removed\n   */\n  function handleClearOutput(event, handle) {\n    const cell = handle.cell;\n\n    const id = cell.output_area._bokeh_element_id;\n    const server_id = cell.output_area._bokeh_server_id;\n    // Clean up Bokeh references\n    if (id != null && id in Bokeh.index) {\n      Bokeh.index[id].model.document.clear();\n      delete Bokeh.index[id];\n    }\n\n    if (server_id !== undefined) {\n      // Clean up Bokeh references\n      const cmd_clean = \"from bokeh.io.state import curstate; print(curstate().uuid_to_server['\" + server_id + \"'].get_sessions()[0].document.roots[0]._id)\";\n      cell.notebook.kernel.execute(cmd_clean, {\n        iopub: {\n          output: function(msg) {\n            const id = msg.content.text.trim();\n            if (id in Bokeh.index) {\n              Bokeh.index[id].model.document.clear();\n              delete Bokeh.index[id];\n            }\n          }\n        }\n      });\n      // Destroy server and session\n      const cmd_destroy = \"import bokeh.io.notebook as ion; ion.destroy_server('\" + server_id + \"')\";\n      cell.notebook.kernel.execute(cmd_destroy);\n    }\n  }\n\n  /**\n   * Handle when a new output is added\n   */\n  function handleAddOutput(event, handle) {\n    const output_area = handle.output_area;\n    const output = handle.output;\n\n    // limit handleAddOutput to display_data with EXEC_MIME_TYPE content only\n    if ((output.output_type != \"display_data\") || (!Object.prototype.hasOwnProperty.call(output.data, EXEC_MIME_TYPE))) {\n      return\n    }\n\n    const toinsert = output_area.element.find(\".\" + CLASS_NAME.split(' ')[0]);\n\n    if (output.metadata[EXEC_MIME_TYPE][\"id\"] !== undefined) {\n      toinsert[toinsert.length - 1].firstChild.textContent = output.data[JS_MIME_TYPE];\n      // store reference to embed id on output_area\n      output_area._bokeh_element_id = output.metadata[EXEC_MIME_TYPE][\"id\"];\n    }\n    if (output.metadata[EXEC_MIME_TYPE][\"server_id\"] !== undefined) {\n      const bk_div = document.createElement(\"div\");\n      bk_div.innerHTML = output.data[HTML_MIME_TYPE];\n      const script_attrs = bk_div.children[0].attributes;\n      for (let i = 0; i < script_attrs.length; i++) {\n        toinsert[toinsert.length - 1].firstChild.setAttribute(script_attrs[i].name, script_attrs[i].value);\n        toinsert[toinsert.length - 1].firstChild.textContent = bk_div.children[0].textContent\n      }\n      // store reference to server id on output_area\n      output_area._bokeh_server_id = output.metadata[EXEC_MIME_TYPE][\"server_id\"];\n    }\n  }\n\n  function register_renderer(events, OutputArea) {\n\n    function append_mime(data, metadata, element) {\n      // create a DOM node to render to\n      const toinsert = this.create_output_subarea(\n        metadata,\n        CLASS_NAME,\n        EXEC_MIME_TYPE\n      );\n      this.keyboard_manager.register_events(toinsert);\n      // Render to node\n      const props = {data: data, metadata: metadata[EXEC_MIME_TYPE]};\n      render(props, toinsert[toinsert.length - 1]);\n      element.append(toinsert);\n      return toinsert\n    }\n\n    /* Handle when an output is cleared or removed */\n    events.on('clear_output.CodeCell', handleClearOutput);\n    events.on('delete.Cell', handleClearOutput);\n\n    /* Handle when a new output is added */\n    events.on('output_added.OutputArea', handleAddOutput);\n\n    /**\n     * Register the mime type and append_mime function with output_area\n     */\n    OutputArea.prototype.register_mime_type(EXEC_MIME_TYPE, append_mime, {\n      /* Is output safe? */\n      safe: true,\n      /* Index of renderer in `output_area.display_order` */\n      index: 0\n    });\n  }\n\n  // register the mime type if in Jupyter Notebook environment and previously unregistered\n  if (root.Jupyter !== undefined) {\n    const events = require('base/js/events');\n    const OutputArea = require('notebook/js/outputarea').OutputArea;\n\n    if (OutputArea.prototype.mime_types().indexOf(EXEC_MIME_TYPE) == -1) {\n      register_renderer(events, OutputArea);\n    }\n  }\n  if (typeof (root._bokeh_timeout) === \"undefined\" || force === true) {\n    root._bokeh_timeout = Date.now() + 5000;\n    root._bokeh_failed_load = false;\n  }\n\n  const NB_LOAD_WARNING = {'data': {'text/html':\n     \"<div style='background-color: #fdd'>\\n\"+\n     \"<p>\\n\"+\n     \"BokehJS does not appear to have successfully loaded. If loading BokehJS from CDN, this \\n\"+\n     \"may be due to a slow or bad network connection. Possible fixes:\\n\"+\n     \"</p>\\n\"+\n     \"<ul>\\n\"+\n     \"<li>re-rerun `output_notebook()` to attempt to load from CDN again, or</li>\\n\"+\n     \"<li>use INLINE resources instead, as so:</li>\\n\"+\n     \"</ul>\\n\"+\n     \"<code>\\n\"+\n     \"from bokeh.resources import INLINE\\n\"+\n     \"output_notebook(resources=INLINE)\\n\"+\n     \"</code>\\n\"+\n     \"</div>\"}};\n\n  function display_loaded() {\n    const el = document.getElementById(\"1001\");\n    if (el != null) {\n      el.textContent = \"BokehJS is loading...\";\n    }\n    if (root.Bokeh !== undefined) {\n      if (el != null) {\n        el.textContent = \"BokehJS \" + root.Bokeh.version + \" successfully loaded.\";\n      }\n    } else if (Date.now() < root._bokeh_timeout) {\n      setTimeout(display_loaded, 100)\n    }\n  }\n\n  function run_callbacks() {\n    try {\n      root._bokeh_onload_callbacks.forEach(function(callback) {\n        if (callback != null)\n          callback();\n      });\n    } finally {\n      delete root._bokeh_onload_callbacks\n    }\n    console.debug(\"Bokeh: all callbacks have finished\");\n  }\n\n  function load_libs(css_urls, js_urls, callback) {\n    if (css_urls == null) css_urls = [];\n    if (js_urls == null) js_urls = [];\n\n    root._bokeh_onload_callbacks.push(callback);\n    if (root._bokeh_is_loading > 0) {\n      console.debug(\"Bokeh: BokehJS is being loaded, scheduling callback at\", now());\n      return null;\n    }\n    if (js_urls == null || js_urls.length === 0) {\n      run_callbacks();\n      return null;\n    }\n    console.debug(\"Bokeh: BokehJS not loaded, scheduling load and callback at\", now());\n    root._bokeh_is_loading = css_urls.length + js_urls.length;\n\n    function on_load() {\n      root._bokeh_is_loading--;\n      if (root._bokeh_is_loading === 0) {\n        console.debug(\"Bokeh: all BokehJS libraries/stylesheets loaded\");\n        run_callbacks()\n      }\n    }\n\n    function on_error(url) {\n      console.error(\"failed to load \" + url);\n    }\n\n    for (let i = 0; i < css_urls.length; i++) {\n      const url = css_urls[i];\n      const element = document.createElement(\"link\");\n      element.onload = on_load;\n      element.onerror = on_error.bind(null, url);\n      element.rel = \"stylesheet\";\n      element.type = \"text/css\";\n      element.href = url;\n      console.debug(\"Bokeh: injecting link tag for BokehJS stylesheet: \", url);\n      document.body.appendChild(element);\n    }\n\n    for (let i = 0; i < js_urls.length; i++) {\n      const url = js_urls[i];\n      const element = document.createElement('script');\n      element.onload = on_load;\n      element.onerror = on_error.bind(null, url);\n      element.async = false;\n      element.src = url;\n      console.debug(\"Bokeh: injecting script tag for BokehJS library: \", url);\n      document.head.appendChild(element);\n    }\n  };\n\n  function inject_raw_css(css) {\n    const element = document.createElement(\"style\");\n    element.appendChild(document.createTextNode(css));\n    document.body.appendChild(element);\n  }\n\n  const js_urls = [\"https://cdn.bokeh.org/bokeh/release/bokeh-2.4.3.min.js\", \"https://cdn.bokeh.org/bokeh/release/bokeh-gl-2.4.3.min.js\", \"https://cdn.bokeh.org/bokeh/release/bokeh-widgets-2.4.3.min.js\", \"https://cdn.bokeh.org/bokeh/release/bokeh-tables-2.4.3.min.js\", \"https://cdn.bokeh.org/bokeh/release/bokeh-mathjax-2.4.3.min.js\"];\n  const css_urls = [];\n\n  const inline_js = [    function(Bokeh) {\n      Bokeh.set_log_level(\"info\");\n    },\nfunction(Bokeh) {\n    }\n  ];\n\n  function run_inline_js() {\n    if (root.Bokeh !== undefined || force === true) {\n          for (let i = 0; i < inline_js.length; i++) {\n      inline_js[i].call(root, root.Bokeh);\n    }\nif (force === true) {\n        display_loaded();\n      }} else if (Date.now() < root._bokeh_timeout) {\n      setTimeout(run_inline_js, 100);\n    } else if (!root._bokeh_failed_load) {\n      console.log(\"Bokeh: BokehJS failed to load within specified timeout.\");\n      root._bokeh_failed_load = true;\n    } else if (force !== true) {\n      const cell = $(document.getElementById(\"1001\")).parents('.cell').data().cell;\n      cell.output_area.append_execute_result(NB_LOAD_WARNING)\n    }\n  }\n\n  if (root._bokeh_is_loading === 0) {\n    console.debug(\"Bokeh: BokehJS loaded, going straight to plotting\");\n    run_inline_js();\n  } else {\n    load_libs(css_urls, js_urls, function() {\n      console.debug(\"Bokeh: BokehJS plotting callback run at\", now());\n      run_inline_js();\n    });\n  }\n}(window));",
      "application/vnd.bokehjs_load.v0+json": ""
     },
     "metadata": {},
     "output_type": "display_data"
    }
   ],
   "source": [
    "import csv\n",
    "import numpy as np\n",
    "import pandas as pd\n",
    "import scipy.signal as signal\n",
    "from scipy.signal import find_peaks, peak_widths, peak_prominences, find_peaks_cwt, argrelextrema\n",
    "from tqdm.notebook import tqdm, trange\n",
    "# bokeh plot settings\n",
    "from bokeh.io import output_notebook, show, save\n",
    "output_notebook()\n",
    "from bokeh.models import ColumnDataSource, HoverTool, Scatter\n",
    "from bokeh.plotting import figure\n",
    "from bokeh.sampledata.autompg import autompg_clean\n",
    "from bokeh.transform import factor_cmap\n",
    "from bokeh.layouts import gridplot\n",
    "from bokeh.palettes import brewer\n",
    "from lmfit.models import GaussianModel, LinearModel, ExponentialModel"
   ]
  },
  {
   "cell_type": "code",
   "execution_count": 2,
   "metadata": {},
   "outputs": [],
   "source": [
    "# Path: tests/peak_detect.ipynb\n",
    "import os\n",
    "# find root directory\n",
    "root = os.path.dirname(os.path.abspath('./'))\n",
    "# append root directory to sys.path\n",
    "import sys\n",
    "sys.path.append(root)"
   ]
  },
  {
   "cell_type": "markdown",
   "metadata": {},
   "source": [
    "# Read data and pre-process"
   ]
  },
  {
   "cell_type": "code",
   "execution_count": 3,
   "metadata": {},
   "outputs": [
    {
     "name": "stderr",
     "output_type": "stream",
     "text": [
      "100%|██████████| 23/23 [00:00<00:00, 191027.71it/s]\n",
      "100%|██████████| 20/20 [00:00<00:00, 226719.14it/s]\n",
      "100%|██████████| 49/49 [00:00<00:00, 362470.72it/s]\n",
      "100%|██████████| 48/48 [00:00<00:00, 320074.07it/s]\n",
      "100%|██████████| 57/57 [00:00<00:00, 581691.80it/s]\n",
      "100%|██████████| 57/57 [00:00<00:00, 520861.28it/s]\n",
      "100%|██████████| 47/47 [00:00<00:00, 532789.97it/s]\n",
      "100%|██████████| 46/46 [00:00<00:00, 440497.68it/s]\n",
      "100%|██████████| 81/81 [00:00<00:00, 353526.14it/s]\n",
      "100%|██████████| 81/81 [00:00<00:00, 679477.25it/s]\n",
      "100%|██████████| 57/57 [00:00<00:00, 498073.60it/s]\n",
      "100%|██████████| 56/56 [00:00<00:00, 557912.17it/s]\n",
      "100%|██████████| 20/20 [00:00<00:00, 2046.20it/s]\n",
      "100%|██████████| 49/49 [00:00<00:00, 1491.31it/s]\n",
      "100%|██████████| 48/48 [00:00<00:00, 1550.75it/s]\n",
      "100%|██████████| 57/57 [00:00<00:00, 2993.23it/s]\n",
      "/home/gakkispy/Code/overlap_project/tools/read_mzxml.py:64: VisibleDeprecationWarning: Creating an ndarray from ragged nested sequences (which is a list-or-tuple of lists-or-tuples-or ndarrays with different lengths or shapes) is deprecated. If you meant to do this, you must specify 'dtype=object' when creating the ndarray.\n",
      "  point_list = np.array(point_list)\n",
      "100%|██████████| 57/57 [00:00<00:00, 2703.22it/s]\n",
      "100%|██████████| 47/47 [00:00<00:00, 1228.21it/s]\n",
      "100%|██████████| 46/46 [00:00<00:00, 1531.72it/s]\n",
      "100%|██████████| 81/81 [00:00<00:00, 6093.31it/s]\n",
      "100%|██████████| 81/81 [00:00<00:00, 6105.68it/s]\n",
      "100%|██████████| 57/57 [00:00<00:00, 2280.86it/s]\n",
      "100%|██████████| 56/56 [00:00<00:00, 2522.46it/s]\n"
     ]
    }
   ],
   "source": [
    "from tools.get_files import GetFiles\n",
    "from tools.read_mzxml import read_mzxml\n",
    "\n",
    "\n",
    "file_finder = GetFiles('/mnt/d/Data/LTQ数据/', 'mzXML')\n",
    "file_list = file_finder.get_files()\n",
    "xml_data_list = []\n",
    "filename_list = []\n",
    "for file in file_list:\n",
    "    filename_list.append(file.split('/')[-1])\n",
    "    xml_data_list.append([read_mzxml(file, env='Production')])"
   ]
  },
  {
   "cell_type": "code",
   "execution_count": 4,
   "metadata": {},
   "outputs": [],
   "source": [
    "def get_mass_spectrum(data):\n",
    "    \"\"\"\n",
    "    Get the mass spectrum of a specific mass from the data.\n",
    "    \"\"\"\n",
    "    spectrum_list = []\n",
    "    for i in range(len(data)):\n",
    "        spectrum = pd.DataFrame({'mz': data[i][0::2], 'intensity': data[i][1::2]},)\n",
    "        spectrum_list.append(spectrum)\n",
    "    return spectrum_list"
   ]
  },
  {
   "cell_type": "code",
   "execution_count": 5,
   "metadata": {},
   "outputs": [],
   "source": [
    "from findpeaks import findpeaks\n",
    "from scipy.optimize import curve_fit\n",
    "\n",
    "def plot_peak_fit(p, peak_index, peak_height, data, title:str):\n",
    "    p.scatter(data['mz'][peak_index], peak_height, size=5, color='darkcyan')\n",
    "    return p\n",
    "\n",
    "def plot_valley_fit(p, valley_index, valley_height, data, title:str):\n",
    "    p.star(data['mz'][valley_index], valley_height, size=5, color='darkcyan')\n",
    "    return p"
   ]
  },
  {
   "cell_type": "code",
   "execution_count": 6,
   "metadata": {},
   "outputs": [],
   "source": [
    "# handle peak fit reuslt\n",
    "def peak_fit_result(result, data):\n",
    "    df = result['df']\n",
    "    df['x'] = data['mz']\n",
    "    peak_index= df[lambda df: df['peak'] == True]\n",
    "    highest_peak = df.loc[peak_index.index.tolist()]['y'].max()\n",
    "    peak_index_list = peak_index[lambda peak_index: peak_index['y'] > .1 * highest_peak].index.tolist()\n",
    "    valley_index = df[lambda df: df['valley'] == True]\n",
    "    valley_index_list = valley_index[lambda valley_index: valley_index['y'] > .1 * highest_peak].index.tolist()\n",
    "    print('peak index: ', peak_index_list)\n",
    "    # print('valley index: ', valley_index_list)\n",
    "    return peak_index_list, valley_index_list"
   ]
  },
  {
   "cell_type": "code",
   "execution_count": 8,
   "metadata": {},
   "outputs": [
    {
     "data": {
      "application/vnd.jupyter.widget-view+json": {
       "model_id": "3a6fecc98dfc4f75959d5266d53607ec",
       "version_major": 2,
       "version_minor": 0
      },
      "text/plain": [
       "  0%|          | 0/11 [00:00<?, ?it/s]"
      ]
     },
     "metadata": {},
     "output_type": "display_data"
    },
    {
     "data": {
      "application/vnd.jupyter.widget-view+json": {
       "model_id": "d24cfcb2bb6545959ccb00da06c7b881",
       "version_major": 2,
       "version_minor": 0
      },
      "text/plain": [
       "0it [00:00, ?it/s]"
      ]
     },
     "metadata": {},
     "output_type": "display_data"
    },
    {
     "data": {
      "application/vnd.jupyter.widget-view+json": {
       "model_id": "2578cfe303b04ed2a656b5d26be00ae1",
       "version_major": 2,
       "version_minor": 0
      },
      "text/plain": [
       "0it [00:00, ?it/s]"
      ]
     },
     "metadata": {},
     "output_type": "display_data"
    },
    {
     "name": "stdout",
     "output_type": "stream",
     "text": [
      "peak index:  [1898, 3443, 3966, 6800, 9054, 9078]\n"
     ]
    },
    {
     "data": {
      "application/vnd.jupyter.widget-view+json": {
       "model_id": "57b24d875ce14b16a3284b2feceba182",
       "version_major": 2,
       "version_minor": 0
      },
      "text/plain": [
       "0it [00:00, ?it/s]"
      ]
     },
     "metadata": {},
     "output_type": "display_data"
    },
    {
     "name": "stdout",
     "output_type": "stream",
     "text": [
      "index: 0, peak location: 1898    129.768005\n",
      "3443    194.699997\n",
      "3966    216.679993\n",
      "6800    335.785004\n",
      "9054    430.514008\n",
      "9078    431.523010\n",
      "Name: mz, dtype: float64\n",
      "index: 1, peak location: 1898    129.768005\n",
      "3443    194.699997\n",
      "3966    216.679993\n",
      "6800    335.785004\n",
      "9054    430.514008\n",
      "9078    431.523010\n",
      "Name: mz, dtype: float64\n",
      "index: 2, peak location: 1898    129.768005\n",
      "3443    194.699997\n",
      "3966    216.679993\n",
      "6800    335.785004\n",
      "9054    430.514008\n",
      "9078    431.523010\n",
      "Name: mz, dtype: float64\n",
      "index: 3, peak location: 1898    129.768005\n",
      "3443    194.699997\n",
      "3966    216.679993\n",
      "6800    335.785004\n",
      "9054    430.514008\n",
      "9078    431.523010\n",
      "Name: mz, dtype: float64\n",
      "index: 4, peak location: 1898    129.768005\n",
      "3443    194.699997\n",
      "3966    216.679993\n",
      "6800    335.785004\n",
      "9054    430.514008\n",
      "9078    431.523010\n",
      "Name: mz, dtype: float64\n",
      "index: 5, peak location: 1898    129.768005\n",
      "3443    194.699997\n",
      "3966    216.679993\n",
      "6800    335.785004\n",
      "9054    430.514008\n",
      "9078    431.523010\n",
      "Name: mz, dtype: float64\n",
      "peak index:  [1899, 3443, 3966, 6797, 7374, 9053, 9055, 9088, 9093, 9115]\n"
     ]
    },
    {
     "data": {
      "application/vnd.jupyter.widget-view+json": {
       "model_id": "430dcd9ed7e04b438ce3d6b018ce17b0",
       "version_major": 2,
       "version_minor": 0
      },
      "text/plain": [
       "0it [00:00, ?it/s]"
      ]
     },
     "metadata": {},
     "output_type": "display_data"
    },
    {
     "name": "stdout",
     "output_type": "stream",
     "text": [
      "index: 0, peak location: 1899    129.809998\n",
      "3443    194.699997\n",
      "3966    216.679993\n",
      "6797    335.658997\n",
      "7374    359.907990\n",
      "9053    430.471985\n",
      "9055    430.556000\n",
      "9088    431.942993\n",
      "9093    432.153015\n",
      "9115    433.078003\n",
      "Name: mz, dtype: float64\n",
      "index: 1, peak location: 1899    129.809998\n",
      "3443    194.699997\n",
      "3966    216.679993\n",
      "6797    335.658997\n",
      "7374    359.907990\n",
      "9053    430.471985\n",
      "9055    430.556000\n",
      "9088    431.942993\n",
      "9093    432.153015\n",
      "9115    433.078003\n",
      "Name: mz, dtype: float64\n",
      "index: 2, peak location: 1899    129.809998\n",
      "3443    194.699997\n",
      "3966    216.679993\n",
      "6797    335.658997\n",
      "7374    359.907990\n",
      "9053    430.471985\n",
      "9055    430.556000\n",
      "9088    431.942993\n",
      "9093    432.153015\n",
      "9115    433.078003\n",
      "Name: mz, dtype: float64\n",
      "index: 3, peak location: 1899    129.809998\n",
      "3443    194.699997\n",
      "3966    216.679993\n",
      "6797    335.658997\n",
      "7374    359.907990\n",
      "9053    430.471985\n",
      "9055    430.556000\n",
      "9088    431.942993\n",
      "9093    432.153015\n",
      "9115    433.078003\n",
      "Name: mz, dtype: float64\n",
      "index: 4, peak location: 1899    129.809998\n",
      "3443    194.699997\n",
      "3966    216.679993\n",
      "6797    335.658997\n",
      "7374    359.907990\n",
      "9053    430.471985\n",
      "9055    430.556000\n",
      "9088    431.942993\n",
      "9093    432.153015\n",
      "9115    433.078003\n",
      "Name: mz, dtype: float64\n",
      "index: 5, peak location: 1899    129.809998\n",
      "3443    194.699997\n",
      "3966    216.679993\n",
      "6797    335.658997\n",
      "7374    359.907990\n",
      "9053    430.471985\n",
      "9055    430.556000\n",
      "9088    431.942993\n",
      "9093    432.153015\n",
      "9115    433.078003\n",
      "Name: mz, dtype: float64\n",
      "index: 6, peak location: 1899    129.809998\n",
      "3443    194.699997\n",
      "3966    216.679993\n",
      "6797    335.658997\n",
      "7374    359.907990\n",
      "9053    430.471985\n",
      "9055    430.556000\n",
      "9088    431.942993\n",
      "9093    432.153015\n",
      "9115    433.078003\n",
      "Name: mz, dtype: float64\n",
      "index: 7, peak location: 1899    129.809998\n",
      "3443    194.699997\n",
      "3966    216.679993\n",
      "6797    335.658997\n",
      "7374    359.907990\n",
      "9053    430.471985\n",
      "9055    430.556000\n",
      "9088    431.942993\n",
      "9093    432.153015\n",
      "9115    433.078003\n",
      "Name: mz, dtype: float64\n",
      "index: 8, peak location: 1899    129.809998\n",
      "3443    194.699997\n",
      "3966    216.679993\n",
      "6797    335.658997\n",
      "7374    359.907990\n",
      "9053    430.471985\n",
      "9055    430.556000\n",
      "9088    431.942993\n",
      "9093    432.153015\n",
      "9115    433.078003\n",
      "Name: mz, dtype: float64\n",
      "index: 9, peak location: 1899    129.809998\n",
      "3443    194.699997\n",
      "3966    216.679993\n",
      "6797    335.658997\n",
      "7374    359.907990\n",
      "9053    430.471985\n",
      "9055    430.556000\n",
      "9088    431.942993\n",
      "9093    432.153015\n",
      "9115    433.078003\n",
      "Name: mz, dtype: float64\n",
      "peak index:  [1898, 3443, 3966, 6799, 9052, 9054, 9074, 9078, 9092, 9116]\n"
     ]
    },
    {
     "data": {
      "application/vnd.jupyter.widget-view+json": {
       "model_id": "7cc5243802134182af0b153aa3ee4577",
       "version_major": 2,
       "version_minor": 0
      },
      "text/plain": [
       "0it [00:00, ?it/s]"
      ]
     },
     "metadata": {},
     "output_type": "display_data"
    },
    {
     "name": "stdout",
     "output_type": "stream",
     "text": [
      "index: 0, peak location: 1898    129.768005\n",
      "3443    194.699997\n",
      "3966    216.679993\n",
      "6799    335.743011\n",
      "9052    430.429993\n",
      "9054    430.514008\n",
      "9074    431.355011\n",
      "9078    431.523010\n",
      "9092    432.110992\n",
      "9116    433.119995\n",
      "Name: mz, dtype: float64\n",
      "index: 1, peak location: 1898    129.768005\n",
      "3443    194.699997\n",
      "3966    216.679993\n",
      "6799    335.743011\n",
      "9052    430.429993\n",
      "9054    430.514008\n",
      "9074    431.355011\n",
      "9078    431.523010\n",
      "9092    432.110992\n",
      "9116    433.119995\n",
      "Name: mz, dtype: float64\n",
      "index: 2, peak location: 1898    129.768005\n",
      "3443    194.699997\n",
      "3966    216.679993\n",
      "6799    335.743011\n",
      "9052    430.429993\n",
      "9054    430.514008\n",
      "9074    431.355011\n",
      "9078    431.523010\n",
      "9092    432.110992\n",
      "9116    433.119995\n",
      "Name: mz, dtype: float64\n",
      "index: 3, peak location: 1898    129.768005\n",
      "3443    194.699997\n",
      "3966    216.679993\n",
      "6799    335.743011\n",
      "9052    430.429993\n",
      "9054    430.514008\n",
      "9074    431.355011\n",
      "9078    431.523010\n",
      "9092    432.110992\n",
      "9116    433.119995\n",
      "Name: mz, dtype: float64\n",
      "index: 4, peak location: 1898    129.768005\n",
      "3443    194.699997\n",
      "3966    216.679993\n",
      "6799    335.743011\n",
      "9052    430.429993\n",
      "9054    430.514008\n",
      "9074    431.355011\n",
      "9078    431.523010\n",
      "9092    432.110992\n",
      "9116    433.119995\n",
      "Name: mz, dtype: float64\n",
      "index: 5, peak location: 1898    129.768005\n",
      "3443    194.699997\n",
      "3966    216.679993\n",
      "6799    335.743011\n",
      "9052    430.429993\n",
      "9054    430.514008\n",
      "9074    431.355011\n",
      "9078    431.523010\n",
      "9092    432.110992\n",
      "9116    433.119995\n",
      "Name: mz, dtype: float64\n",
      "index: 6, peak location: 1898    129.768005\n",
      "3443    194.699997\n",
      "3966    216.679993\n",
      "6799    335.743011\n",
      "9052    430.429993\n",
      "9054    430.514008\n",
      "9074    431.355011\n",
      "9078    431.523010\n",
      "9092    432.110992\n",
      "9116    433.119995\n",
      "Name: mz, dtype: float64\n",
      "index: 7, peak location: 1898    129.768005\n",
      "3443    194.699997\n",
      "3966    216.679993\n",
      "6799    335.743011\n",
      "9052    430.429993\n",
      "9054    430.514008\n",
      "9074    431.355011\n",
      "9078    431.523010\n",
      "9092    432.110992\n",
      "9116    433.119995\n",
      "Name: mz, dtype: float64\n",
      "index: 8, peak location: 1898    129.768005\n",
      "3443    194.699997\n",
      "3966    216.679993\n",
      "6799    335.743011\n",
      "9052    430.429993\n",
      "9054    430.514008\n",
      "9074    431.355011\n",
      "9078    431.523010\n",
      "9092    432.110992\n",
      "9116    433.119995\n",
      "Name: mz, dtype: float64\n",
      "index: 9, peak location: 1898    129.768005\n",
      "3443    194.699997\n",
      "3966    216.679993\n",
      "6799    335.743011\n",
      "9052    430.429993\n",
      "9054    430.514008\n",
      "9074    431.355011\n",
      "9078    431.523010\n",
      "9092    432.110992\n",
      "9116    433.119995\n",
      "Name: mz, dtype: float64\n",
      "peak index:  [3443, 3966, 6799, 9091, 9102, 9113]\n"
     ]
    },
    {
     "data": {
      "application/vnd.jupyter.widget-view+json": {
       "model_id": "fe23c27648854c7aa1fda2720530de8d",
       "version_major": 2,
       "version_minor": 0
      },
      "text/plain": [
       "0it [00:00, ?it/s]"
      ]
     },
     "metadata": {},
     "output_type": "display_data"
    },
    {
     "name": "stdout",
     "output_type": "stream",
     "text": [
      "index: 0, peak location: 3443    194.699997\n",
      "3966    216.679993\n",
      "6799    335.743011\n",
      "9091    432.069000\n",
      "9102    432.531006\n",
      "9113    432.993988\n",
      "Name: mz, dtype: float64\n",
      "index: 1, peak location: 3443    194.699997\n",
      "3966    216.679993\n",
      "6799    335.743011\n",
      "9091    432.069000\n",
      "9102    432.531006\n",
      "9113    432.993988\n",
      "Name: mz, dtype: float64\n",
      "index: 2, peak location: 3443    194.699997\n",
      "3966    216.679993\n",
      "6799    335.743011\n",
      "9091    432.069000\n",
      "9102    432.531006\n",
      "9113    432.993988\n",
      "Name: mz, dtype: float64\n",
      "index: 3, peak location: 3443    194.699997\n",
      "3966    216.679993\n",
      "6799    335.743011\n",
      "9091    432.069000\n",
      "9102    432.531006\n",
      "9113    432.993988\n",
      "Name: mz, dtype: float64\n",
      "index: 4, peak location: 3443    194.699997\n",
      "3966    216.679993\n",
      "6799    335.743011\n",
      "9091    432.069000\n",
      "9102    432.531006\n",
      "9113    432.993988\n",
      "Name: mz, dtype: float64\n",
      "index: 5, peak location: 3443    194.699997\n",
      "3966    216.679993\n",
      "6799    335.743011\n",
      "9091    432.069000\n",
      "9102    432.531006\n",
      "9113    432.993988\n",
      "Name: mz, dtype: float64\n",
      "peak index:  [1898, 3444, 3966, 6799, 9054, 9075, 9078]\n"
     ]
    },
    {
     "data": {
      "application/vnd.jupyter.widget-view+json": {
       "model_id": "25de0f4034cc49eb93256d5162f7b2d3",
       "version_major": 2,
       "version_minor": 0
      },
      "text/plain": [
       "0it [00:00, ?it/s]"
      ]
     },
     "metadata": {},
     "output_type": "display_data"
    },
    {
     "name": "stdout",
     "output_type": "stream",
     "text": [
      "index: 0, peak location: 1898    129.768005\n",
      "3444    194.742004\n",
      "3966    216.679993\n",
      "6799    335.743011\n",
      "9054    430.514008\n",
      "9075    431.397003\n",
      "9078    431.523010\n",
      "Name: mz, dtype: float64\n",
      "index: 1, peak location: 1898    129.768005\n",
      "3444    194.742004\n",
      "3966    216.679993\n",
      "6799    335.743011\n",
      "9054    430.514008\n",
      "9075    431.397003\n",
      "9078    431.523010\n",
      "Name: mz, dtype: float64\n",
      "index: 2, peak location: 1898    129.768005\n",
      "3444    194.742004\n",
      "3966    216.679993\n",
      "6799    335.743011\n",
      "9054    430.514008\n",
      "9075    431.397003\n",
      "9078    431.523010\n",
      "Name: mz, dtype: float64\n",
      "index: 3, peak location: 1898    129.768005\n",
      "3444    194.742004\n",
      "3966    216.679993\n",
      "6799    335.743011\n",
      "9054    430.514008\n",
      "9075    431.397003\n",
      "9078    431.523010\n",
      "Name: mz, dtype: float64\n",
      "index: 4, peak location: 1898    129.768005\n",
      "3444    194.742004\n",
      "3966    216.679993\n",
      "6799    335.743011\n",
      "9054    430.514008\n",
      "9075    431.397003\n",
      "9078    431.523010\n",
      "Name: mz, dtype: float64\n",
      "index: 5, peak location: 1898    129.768005\n",
      "3444    194.742004\n",
      "3966    216.679993\n",
      "6799    335.743011\n",
      "9054    430.514008\n",
      "9075    431.397003\n",
      "9078    431.523010\n",
      "Name: mz, dtype: float64\n",
      "index: 6, peak location: 1898    129.768005\n",
      "3444    194.742004\n",
      "3966    216.679993\n",
      "6799    335.743011\n",
      "9054    430.514008\n",
      "9075    431.397003\n",
      "9078    431.523010\n",
      "Name: mz, dtype: float64\n",
      "peak index:  [3443, 3966, 6800, 9055, 9079]\n"
     ]
    },
    {
     "data": {
      "application/vnd.jupyter.widget-view+json": {
       "model_id": "96cb2ab8bae24c5383d361af2abd333e",
       "version_major": 2,
       "version_minor": 0
      },
      "text/plain": [
       "0it [00:00, ?it/s]"
      ]
     },
     "metadata": {},
     "output_type": "display_data"
    },
    {
     "name": "stdout",
     "output_type": "stream",
     "text": [
      "index: 0, peak location: 3443    194.699997\n",
      "3966    216.679993\n",
      "6800    335.785004\n",
      "9055    430.556000\n",
      "9079    431.565002\n",
      "Name: mz, dtype: float64\n",
      "index: 1, peak location: 3443    194.699997\n",
      "3966    216.679993\n",
      "6800    335.785004\n",
      "9055    430.556000\n",
      "9079    431.565002\n",
      "Name: mz, dtype: float64\n",
      "index: 2, peak location: 3443    194.699997\n",
      "3966    216.679993\n",
      "6800    335.785004\n",
      "9055    430.556000\n",
      "9079    431.565002\n",
      "Name: mz, dtype: float64\n",
      "index: 3, peak location: 3443    194.699997\n",
      "3966    216.679993\n",
      "6800    335.785004\n",
      "9055    430.556000\n",
      "9079    431.565002\n",
      "Name: mz, dtype: float64\n",
      "index: 4, peak location: 3443    194.699997\n",
      "3966    216.679993\n",
      "6800    335.785004\n",
      "9055    430.556000\n",
      "9079    431.565002\n",
      "Name: mz, dtype: float64\n",
      "peak index:  [1898, 3443, 3965, 6799, 9055, 9079]\n"
     ]
    },
    {
     "data": {
      "application/vnd.jupyter.widget-view+json": {
       "model_id": "b58bed5a36e64e119274eff5edc7d328",
       "version_major": 2,
       "version_minor": 0
      },
      "text/plain": [
       "0it [00:00, ?it/s]"
      ]
     },
     "metadata": {},
     "output_type": "display_data"
    },
    {
     "name": "stdout",
     "output_type": "stream",
     "text": [
      "index: 0, peak location: 1898    129.768005\n",
      "3443    194.699997\n",
      "3965    216.638000\n",
      "6799    335.743011\n",
      "9055    430.556000\n",
      "9079    431.565002\n",
      "Name: mz, dtype: float64\n",
      "index: 1, peak location: 1898    129.768005\n",
      "3443    194.699997\n",
      "3965    216.638000\n",
      "6799    335.743011\n",
      "9055    430.556000\n",
      "9079    431.565002\n",
      "Name: mz, dtype: float64\n",
      "index: 2, peak location: 1898    129.768005\n",
      "3443    194.699997\n",
      "3965    216.638000\n",
      "6799    335.743011\n",
      "9055    430.556000\n",
      "9079    431.565002\n",
      "Name: mz, dtype: float64\n",
      "index: 3, peak location: 1898    129.768005\n",
      "3443    194.699997\n",
      "3965    216.638000\n",
      "6799    335.743011\n",
      "9055    430.556000\n",
      "9079    431.565002\n",
      "Name: mz, dtype: float64\n",
      "index: 4, peak location: 1898    129.768005\n",
      "3443    194.699997\n",
      "3965    216.638000\n",
      "6799    335.743011\n",
      "9055    430.556000\n",
      "9079    431.565002\n",
      "Name: mz, dtype: float64\n",
      "index: 5, peak location: 1898    129.768005\n",
      "3443    194.699997\n",
      "3965    216.638000\n",
      "6799    335.743011\n",
      "9055    430.556000\n",
      "9079    431.565002\n",
      "Name: mz, dtype: float64\n",
      "peak index:  [1898, 3443, 3965, 6799, 9056, 9074, 9081, 9086, 9090, 9099]\n"
     ]
    },
    {
     "data": {
      "application/vnd.jupyter.widget-view+json": {
       "model_id": "843b062549cf484588e8ebfa72140c41",
       "version_major": 2,
       "version_minor": 0
      },
      "text/plain": [
       "0it [00:00, ?it/s]"
      ]
     },
     "metadata": {},
     "output_type": "display_data"
    },
    {
     "name": "stdout",
     "output_type": "stream",
     "text": [
      "index: 0, peak location: 1898    129.768005\n",
      "3443    194.699997\n",
      "3965    216.638000\n",
      "6799    335.743011\n",
      "9056    430.597992\n",
      "9074    431.355011\n",
      "9081    431.648987\n",
      "9086    431.859009\n",
      "9090    432.027008\n",
      "9099    432.404999\n",
      "Name: mz, dtype: float64\n",
      "index: 1, peak location: 1898    129.768005\n",
      "3443    194.699997\n",
      "3965    216.638000\n",
      "6799    335.743011\n",
      "9056    430.597992\n",
      "9074    431.355011\n",
      "9081    431.648987\n",
      "9086    431.859009\n",
      "9090    432.027008\n",
      "9099    432.404999\n",
      "Name: mz, dtype: float64\n",
      "index: 2, peak location: 1898    129.768005\n",
      "3443    194.699997\n",
      "3965    216.638000\n",
      "6799    335.743011\n",
      "9056    430.597992\n",
      "9074    431.355011\n",
      "9081    431.648987\n",
      "9086    431.859009\n",
      "9090    432.027008\n",
      "9099    432.404999\n",
      "Name: mz, dtype: float64\n",
      "index: 3, peak location: 1898    129.768005\n",
      "3443    194.699997\n",
      "3965    216.638000\n",
      "6799    335.743011\n",
      "9056    430.597992\n",
      "9074    431.355011\n",
      "9081    431.648987\n",
      "9086    431.859009\n",
      "9090    432.027008\n",
      "9099    432.404999\n",
      "Name: mz, dtype: float64\n",
      "index: 4, peak location: 1898    129.768005\n",
      "3443    194.699997\n",
      "3965    216.638000\n",
      "6799    335.743011\n",
      "9056    430.597992\n",
      "9074    431.355011\n",
      "9081    431.648987\n",
      "9086    431.859009\n",
      "9090    432.027008\n",
      "9099    432.404999\n",
      "Name: mz, dtype: float64\n",
      "index: 5, peak location: 1898    129.768005\n",
      "3443    194.699997\n",
      "3965    216.638000\n",
      "6799    335.743011\n",
      "9056    430.597992\n",
      "9074    431.355011\n",
      "9081    431.648987\n",
      "9086    431.859009\n",
      "9090    432.027008\n",
      "9099    432.404999\n",
      "Name: mz, dtype: float64\n",
      "index: 6, peak location: 1898    129.768005\n",
      "3443    194.699997\n",
      "3965    216.638000\n",
      "6799    335.743011\n",
      "9056    430.597992\n",
      "9074    431.355011\n",
      "9081    431.648987\n",
      "9086    431.859009\n",
      "9090    432.027008\n",
      "9099    432.404999\n",
      "Name: mz, dtype: float64\n",
      "index: 7, peak location: 1898    129.768005\n",
      "3443    194.699997\n",
      "3965    216.638000\n",
      "6799    335.743011\n",
      "9056    430.597992\n",
      "9074    431.355011\n",
      "9081    431.648987\n",
      "9086    431.859009\n",
      "9090    432.027008\n",
      "9099    432.404999\n",
      "Name: mz, dtype: float64\n",
      "index: 8, peak location: 1898    129.768005\n",
      "3443    194.699997\n",
      "3965    216.638000\n",
      "6799    335.743011\n",
      "9056    430.597992\n",
      "9074    431.355011\n",
      "9081    431.648987\n",
      "9086    431.859009\n",
      "9090    432.027008\n",
      "9099    432.404999\n",
      "Name: mz, dtype: float64\n",
      "index: 9, peak location: 1898    129.768005\n",
      "3443    194.699997\n",
      "3965    216.638000\n",
      "6799    335.743011\n",
      "9056    430.597992\n",
      "9074    431.355011\n",
      "9081    431.648987\n",
      "9086    431.859009\n",
      "9090    432.027008\n",
      "9099    432.404999\n",
      "Name: mz, dtype: float64\n",
      "peak index:  [1898, 3444, 3966, 6799, 9056, 9065, 9079, 9091, 9116]\n"
     ]
    },
    {
     "data": {
      "application/vnd.jupyter.widget-view+json": {
       "model_id": "dbd5a160b44441149bc8d2a421cb71b1",
       "version_major": 2,
       "version_minor": 0
      },
      "text/plain": [
       "0it [00:00, ?it/s]"
      ]
     },
     "metadata": {},
     "output_type": "display_data"
    },
    {
     "name": "stdout",
     "output_type": "stream",
     "text": [
      "index: 0, peak location: 1898    129.768005\n",
      "3444    194.742004\n",
      "3966    216.679993\n",
      "6799    335.743011\n",
      "9056    430.597992\n",
      "9065    430.976013\n",
      "9079    431.565002\n",
      "9091    432.069000\n",
      "9116    433.119995\n",
      "Name: mz, dtype: float64\n",
      "index: 1, peak location: 1898    129.768005\n",
      "3444    194.742004\n",
      "3966    216.679993\n",
      "6799    335.743011\n",
      "9056    430.597992\n",
      "9065    430.976013\n",
      "9079    431.565002\n",
      "9091    432.069000\n",
      "9116    433.119995\n",
      "Name: mz, dtype: float64\n",
      "index: 2, peak location: 1898    129.768005\n",
      "3444    194.742004\n",
      "3966    216.679993\n",
      "6799    335.743011\n",
      "9056    430.597992\n",
      "9065    430.976013\n",
      "9079    431.565002\n",
      "9091    432.069000\n",
      "9116    433.119995\n",
      "Name: mz, dtype: float64\n",
      "index: 3, peak location: 1898    129.768005\n",
      "3444    194.742004\n",
      "3966    216.679993\n",
      "6799    335.743011\n",
      "9056    430.597992\n",
      "9065    430.976013\n",
      "9079    431.565002\n",
      "9091    432.069000\n",
      "9116    433.119995\n",
      "Name: mz, dtype: float64\n",
      "index: 4, peak location: 1898    129.768005\n",
      "3444    194.742004\n",
      "3966    216.679993\n",
      "6799    335.743011\n",
      "9056    430.597992\n",
      "9065    430.976013\n",
      "9079    431.565002\n",
      "9091    432.069000\n",
      "9116    433.119995\n",
      "Name: mz, dtype: float64\n",
      "index: 5, peak location: 1898    129.768005\n",
      "3444    194.742004\n",
      "3966    216.679993\n",
      "6799    335.743011\n",
      "9056    430.597992\n",
      "9065    430.976013\n",
      "9079    431.565002\n",
      "9091    432.069000\n",
      "9116    433.119995\n",
      "Name: mz, dtype: float64\n",
      "index: 6, peak location: 1898    129.768005\n",
      "3444    194.742004\n",
      "3966    216.679993\n",
      "6799    335.743011\n",
      "9056    430.597992\n",
      "9065    430.976013\n",
      "9079    431.565002\n",
      "9091    432.069000\n",
      "9116    433.119995\n",
      "Name: mz, dtype: float64\n",
      "index: 7, peak location: 1898    129.768005\n",
      "3444    194.742004\n",
      "3966    216.679993\n",
      "6799    335.743011\n",
      "9056    430.597992\n",
      "9065    430.976013\n",
      "9079    431.565002\n",
      "9091    432.069000\n",
      "9116    433.119995\n",
      "Name: mz, dtype: float64\n",
      "index: 8, peak location: 1898    129.768005\n",
      "3444    194.742004\n",
      "3966    216.679993\n",
      "6799    335.743011\n",
      "9056    430.597992\n",
      "9065    430.976013\n",
      "9079    431.565002\n",
      "9091    432.069000\n",
      "9116    433.119995\n",
      "Name: mz, dtype: float64\n",
      "peak index:  [3444, 3965, 6799, 9091, 9115]\n"
     ]
    },
    {
     "data": {
      "application/vnd.jupyter.widget-view+json": {
       "model_id": "76dc81ed327e4dac8c40b73d0358847a",
       "version_major": 2,
       "version_minor": 0
      },
      "text/plain": [
       "0it [00:00, ?it/s]"
      ]
     },
     "metadata": {},
     "output_type": "display_data"
    },
    {
     "name": "stdout",
     "output_type": "stream",
     "text": [
      "index: 0, peak location: 3444    194.742004\n",
      "3965    216.638000\n",
      "6799    335.743011\n",
      "9091    432.069000\n",
      "9115    433.078003\n",
      "Name: mz, dtype: float64\n",
      "index: 1, peak location: 3444    194.742004\n",
      "3965    216.638000\n",
      "6799    335.743011\n",
      "9091    432.069000\n",
      "9115    433.078003\n",
      "Name: mz, dtype: float64\n",
      "index: 2, peak location: 3444    194.742004\n",
      "3965    216.638000\n",
      "6799    335.743011\n",
      "9091    432.069000\n",
      "9115    433.078003\n",
      "Name: mz, dtype: float64\n",
      "index: 3, peak location: 3444    194.742004\n",
      "3965    216.638000\n",
      "6799    335.743011\n",
      "9091    432.069000\n",
      "9115    433.078003\n",
      "Name: mz, dtype: float64\n",
      "index: 4, peak location: 3444    194.742004\n",
      "3965    216.638000\n",
      "6799    335.743011\n",
      "9091    432.069000\n",
      "9115    433.078003\n",
      "Name: mz, dtype: float64\n",
      "peak index:  [1898, 3443, 3966, 6799, 9058, 9092, 9116]\n"
     ]
    },
    {
     "data": {
      "application/vnd.jupyter.widget-view+json": {
       "model_id": "ac9c5386e1ea45a79ac21f18c220aab5",
       "version_major": 2,
       "version_minor": 0
      },
      "text/plain": [
       "0it [00:00, ?it/s]"
      ]
     },
     "metadata": {},
     "output_type": "display_data"
    },
    {
     "name": "stdout",
     "output_type": "stream",
     "text": [
      "index: 0, peak location: 1898    129.768005\n",
      "3443    194.699997\n",
      "3966    216.679993\n",
      "6799    335.743011\n",
      "9058    430.682007\n",
      "9092    432.110992\n",
      "9116    433.119995\n",
      "Name: mz, dtype: float64\n",
      "index: 1, peak location: 1898    129.768005\n",
      "3443    194.699997\n",
      "3966    216.679993\n",
      "6799    335.743011\n",
      "9058    430.682007\n",
      "9092    432.110992\n",
      "9116    433.119995\n",
      "Name: mz, dtype: float64\n",
      "index: 2, peak location: 1898    129.768005\n",
      "3443    194.699997\n",
      "3966    216.679993\n",
      "6799    335.743011\n",
      "9058    430.682007\n",
      "9092    432.110992\n",
      "9116    433.119995\n",
      "Name: mz, dtype: float64\n",
      "index: 3, peak location: 1898    129.768005\n",
      "3443    194.699997\n",
      "3966    216.679993\n",
      "6799    335.743011\n",
      "9058    430.682007\n",
      "9092    432.110992\n",
      "9116    433.119995\n",
      "Name: mz, dtype: float64\n",
      "index: 4, peak location: 1898    129.768005\n",
      "3443    194.699997\n",
      "3966    216.679993\n",
      "6799    335.743011\n",
      "9058    430.682007\n",
      "9092    432.110992\n",
      "9116    433.119995\n",
      "Name: mz, dtype: float64\n",
      "index: 5, peak location: 1898    129.768005\n",
      "3443    194.699997\n",
      "3966    216.679993\n",
      "6799    335.743011\n",
      "9058    430.682007\n",
      "9092    432.110992\n",
      "9116    433.119995\n",
      "Name: mz, dtype: float64\n",
      "index: 6, peak location: 1898    129.768005\n",
      "3443    194.699997\n",
      "3966    216.679993\n",
      "6799    335.743011\n",
      "9058    430.682007\n",
      "9092    432.110992\n",
      "9116    433.119995\n",
      "Name: mz, dtype: float64\n",
      "peak index:  [3443, 3966, 6800, 9092, 9115]\n"
     ]
    },
    {
     "data": {
      "application/vnd.jupyter.widget-view+json": {
       "model_id": "a0e4d72c09ac4e19b9e740d5391cc3d5",
       "version_major": 2,
       "version_minor": 0
      },
      "text/plain": [
       "0it [00:00, ?it/s]"
      ]
     },
     "metadata": {},
     "output_type": "display_data"
    },
    {
     "name": "stdout",
     "output_type": "stream",
     "text": [
      "index: 0, peak location: 3443    194.699997\n",
      "3966    216.679993\n",
      "6800    335.785004\n",
      "9092    432.110992\n",
      "9115    433.078003\n",
      "Name: mz, dtype: float64\n",
      "index: 1, peak location: 3443    194.699997\n",
      "3966    216.679993\n",
      "6800    335.785004\n",
      "9092    432.110992\n",
      "9115    433.078003\n",
      "Name: mz, dtype: float64\n",
      "index: 2, peak location: 3443    194.699997\n",
      "3966    216.679993\n",
      "6800    335.785004\n",
      "9092    432.110992\n",
      "9115    433.078003\n",
      "Name: mz, dtype: float64\n",
      "index: 3, peak location: 3443    194.699997\n",
      "3966    216.679993\n",
      "6800    335.785004\n",
      "9092    432.110992\n",
      "9115    433.078003\n",
      "Name: mz, dtype: float64\n",
      "index: 4, peak location: 3443    194.699997\n",
      "3966    216.679993\n",
      "6800    335.785004\n",
      "9092    432.110992\n",
      "9115    433.078003\n",
      "Name: mz, dtype: float64\n",
      "peak index:  [1898, 3443, 3965, 6799, 9090, 9114]\n"
     ]
    },
    {
     "data": {
      "application/vnd.jupyter.widget-view+json": {
       "model_id": "f71e05f136ea4ef7afc38d038153d901",
       "version_major": 2,
       "version_minor": 0
      },
      "text/plain": [
       "0it [00:00, ?it/s]"
      ]
     },
     "metadata": {},
     "output_type": "display_data"
    },
    {
     "name": "stdout",
     "output_type": "stream",
     "text": [
      "index: 0, peak location: 1898    129.768005\n",
      "3443    194.699997\n",
      "3965    216.638000\n",
      "6799    335.743011\n",
      "9090    432.027008\n",
      "9114    433.036011\n",
      "Name: mz, dtype: float64\n",
      "index: 1, peak location: 1898    129.768005\n",
      "3443    194.699997\n",
      "3965    216.638000\n",
      "6799    335.743011\n",
      "9090    432.027008\n",
      "9114    433.036011\n",
      "Name: mz, dtype: float64\n",
      "index: 2, peak location: 1898    129.768005\n",
      "3443    194.699997\n",
      "3965    216.638000\n",
      "6799    335.743011\n",
      "9090    432.027008\n",
      "9114    433.036011\n",
      "Name: mz, dtype: float64\n",
      "index: 3, peak location: 1898    129.768005\n",
      "3443    194.699997\n",
      "3965    216.638000\n",
      "6799    335.743011\n",
      "9090    432.027008\n",
      "9114    433.036011\n",
      "Name: mz, dtype: float64\n",
      "index: 4, peak location: 1898    129.768005\n",
      "3443    194.699997\n",
      "3965    216.638000\n",
      "6799    335.743011\n",
      "9090    432.027008\n",
      "9114    433.036011\n",
      "Name: mz, dtype: float64\n",
      "index: 5, peak location: 1898    129.768005\n",
      "3443    194.699997\n",
      "3965    216.638000\n",
      "6799    335.743011\n",
      "9090    432.027008\n",
      "9114    433.036011\n",
      "Name: mz, dtype: float64\n",
      "peak index:  [3443, 3966, 6799, 9091, 9115]\n"
     ]
    },
    {
     "data": {
      "application/vnd.jupyter.widget-view+json": {
       "model_id": "f1320d89fa414656ad5631d6a35545e4",
       "version_major": 2,
       "version_minor": 0
      },
      "text/plain": [
       "0it [00:00, ?it/s]"
      ]
     },
     "metadata": {},
     "output_type": "display_data"
    },
    {
     "name": "stdout",
     "output_type": "stream",
     "text": [
      "index: 0, peak location: 3443    194.699997\n",
      "3966    216.679993\n",
      "6799    335.743011\n",
      "9091    432.069000\n",
      "9115    433.078003\n",
      "Name: mz, dtype: float64\n",
      "index: 1, peak location: 3443    194.699997\n",
      "3966    216.679993\n",
      "6799    335.743011\n",
      "9091    432.069000\n",
      "9115    433.078003\n",
      "Name: mz, dtype: float64\n",
      "index: 2, peak location: 3443    194.699997\n",
      "3966    216.679993\n",
      "6799    335.743011\n",
      "9091    432.069000\n",
      "9115    433.078003\n",
      "Name: mz, dtype: float64\n",
      "index: 3, peak location: 3443    194.699997\n",
      "3966    216.679993\n",
      "6799    335.743011\n",
      "9091    432.069000\n",
      "9115    433.078003\n",
      "Name: mz, dtype: float64\n",
      "index: 4, peak location: 3443    194.699997\n",
      "3966    216.679993\n",
      "6799    335.743011\n",
      "9091    432.069000\n",
      "9115    433.078003\n",
      "Name: mz, dtype: float64\n",
      "peak index:  [3443, 3966, 6799, 9090, 9114]\n"
     ]
    },
    {
     "data": {
      "application/vnd.jupyter.widget-view+json": {
       "model_id": "545f3b2463ee4143804c275052aba656",
       "version_major": 2,
       "version_minor": 0
      },
      "text/plain": [
       "0it [00:00, ?it/s]"
      ]
     },
     "metadata": {},
     "output_type": "display_data"
    },
    {
     "name": "stdout",
     "output_type": "stream",
     "text": [
      "index: 0, peak location: 3443    194.699997\n",
      "3966    216.679993\n",
      "6799    335.743011\n",
      "9090    432.027008\n",
      "9114    433.036011\n",
      "Name: mz, dtype: float64\n",
      "index: 1, peak location: 3443    194.699997\n",
      "3966    216.679993\n",
      "6799    335.743011\n",
      "9090    432.027008\n",
      "9114    433.036011\n",
      "Name: mz, dtype: float64\n",
      "index: 2, peak location: 3443    194.699997\n",
      "3966    216.679993\n",
      "6799    335.743011\n",
      "9090    432.027008\n",
      "9114    433.036011\n",
      "Name: mz, dtype: float64\n",
      "index: 3, peak location: 3443    194.699997\n",
      "3966    216.679993\n",
      "6799    335.743011\n",
      "9090    432.027008\n",
      "9114    433.036011\n",
      "Name: mz, dtype: float64\n",
      "index: 4, peak location: 3443    194.699997\n",
      "3966    216.679993\n",
      "6799    335.743011\n",
      "9090    432.027008\n",
      "9114    433.036011\n",
      "Name: mz, dtype: float64\n",
      "peak index:  [3443, 3966, 6799, 9091, 9115]\n"
     ]
    },
    {
     "data": {
      "application/vnd.jupyter.widget-view+json": {
       "model_id": "defdd57862644c6da141ff9a91c9bc02",
       "version_major": 2,
       "version_minor": 0
      },
      "text/plain": [
       "0it [00:00, ?it/s]"
      ]
     },
     "metadata": {},
     "output_type": "display_data"
    },
    {
     "name": "stdout",
     "output_type": "stream",
     "text": [
      "index: 0, peak location: 3443    194.699997\n",
      "3966    216.679993\n",
      "6799    335.743011\n",
      "9091    432.069000\n",
      "9115    433.078003\n",
      "Name: mz, dtype: float64\n",
      "index: 1, peak location: 3443    194.699997\n",
      "3966    216.679993\n",
      "6799    335.743011\n",
      "9091    432.069000\n",
      "9115    433.078003\n",
      "Name: mz, dtype: float64\n",
      "index: 2, peak location: 3443    194.699997\n",
      "3966    216.679993\n",
      "6799    335.743011\n",
      "9091    432.069000\n",
      "9115    433.078003\n",
      "Name: mz, dtype: float64\n",
      "index: 3, peak location: 3443    194.699997\n",
      "3966    216.679993\n",
      "6799    335.743011\n",
      "9091    432.069000\n",
      "9115    433.078003\n",
      "Name: mz, dtype: float64\n",
      "index: 4, peak location: 3443    194.699997\n",
      "3966    216.679993\n",
      "6799    335.743011\n",
      "9091    432.069000\n",
      "9115    433.078003\n",
      "Name: mz, dtype: float64\n",
      "peak index:  [1898, 3444, 3966, 6800, 9092, 9115]\n"
     ]
    },
    {
     "data": {
      "application/vnd.jupyter.widget-view+json": {
       "model_id": "4153feca556144568b7093eff9966836",
       "version_major": 2,
       "version_minor": 0
      },
      "text/plain": [
       "0it [00:00, ?it/s]"
      ]
     },
     "metadata": {},
     "output_type": "display_data"
    },
    {
     "name": "stdout",
     "output_type": "stream",
     "text": [
      "index: 0, peak location: 1898    129.768005\n",
      "3444    194.742004\n",
      "3966    216.679993\n",
      "6800    335.785004\n",
      "9092    432.110992\n",
      "9115    433.078003\n",
      "Name: mz, dtype: float64\n",
      "index: 1, peak location: 1898    129.768005\n",
      "3444    194.742004\n",
      "3966    216.679993\n",
      "6800    335.785004\n",
      "9092    432.110992\n",
      "9115    433.078003\n",
      "Name: mz, dtype: float64\n",
      "index: 2, peak location: 1898    129.768005\n",
      "3444    194.742004\n",
      "3966    216.679993\n",
      "6800    335.785004\n",
      "9092    432.110992\n",
      "9115    433.078003\n",
      "Name: mz, dtype: float64\n",
      "index: 3, peak location: 1898    129.768005\n",
      "3444    194.742004\n",
      "3966    216.679993\n",
      "6800    335.785004\n",
      "9092    432.110992\n",
      "9115    433.078003\n",
      "Name: mz, dtype: float64\n",
      "index: 4, peak location: 1898    129.768005\n",
      "3444    194.742004\n",
      "3966    216.679993\n",
      "6800    335.785004\n",
      "9092    432.110992\n",
      "9115    433.078003\n",
      "Name: mz, dtype: float64\n",
      "index: 5, peak location: 1898    129.768005\n",
      "3444    194.742004\n",
      "3966    216.679993\n",
      "6800    335.785004\n",
      "9092    432.110992\n",
      "9115    433.078003\n",
      "Name: mz, dtype: float64\n",
      "peak index:  [3443, 3966, 6799, 9092, 9115]\n"
     ]
    },
    {
     "data": {
      "application/vnd.jupyter.widget-view+json": {
       "model_id": "71ad02c1fd9d480cba36e903f243d48c",
       "version_major": 2,
       "version_minor": 0
      },
      "text/plain": [
       "0it [00:00, ?it/s]"
      ]
     },
     "metadata": {},
     "output_type": "display_data"
    },
    {
     "name": "stdout",
     "output_type": "stream",
     "text": [
      "index: 0, peak location: 3443    194.699997\n",
      "3966    216.679993\n",
      "6799    335.743011\n",
      "9092    432.110992\n",
      "9115    433.078003\n",
      "Name: mz, dtype: float64\n",
      "index: 1, peak location: 3443    194.699997\n",
      "3966    216.679993\n",
      "6799    335.743011\n",
      "9092    432.110992\n",
      "9115    433.078003\n",
      "Name: mz, dtype: float64\n",
      "index: 2, peak location: 3443    194.699997\n",
      "3966    216.679993\n",
      "6799    335.743011\n",
      "9092    432.110992\n",
      "9115    433.078003\n",
      "Name: mz, dtype: float64\n",
      "index: 3, peak location: 3443    194.699997\n",
      "3966    216.679993\n",
      "6799    335.743011\n",
      "9092    432.110992\n",
      "9115    433.078003\n",
      "Name: mz, dtype: float64\n",
      "index: 4, peak location: 3443    194.699997\n",
      "3966    216.679993\n",
      "6799    335.743011\n",
      "9092    432.110992\n",
      "9115    433.078003\n",
      "Name: mz, dtype: float64\n",
      "peak index:  [3443, 3966, 6799, 9091, 9115]\n"
     ]
    },
    {
     "data": {
      "application/vnd.jupyter.widget-view+json": {
       "model_id": "558f9441019344ddbf0972e34f958260",
       "version_major": 2,
       "version_minor": 0
      },
      "text/plain": [
       "0it [00:00, ?it/s]"
      ]
     },
     "metadata": {},
     "output_type": "display_data"
    },
    {
     "name": "stdout",
     "output_type": "stream",
     "text": [
      "index: 0, peak location: 3443    194.699997\n",
      "3966    216.679993\n",
      "6799    335.743011\n",
      "9091    432.069000\n",
      "9115    433.078003\n",
      "Name: mz, dtype: float64\n",
      "index: 1, peak location: 3443    194.699997\n",
      "3966    216.679993\n",
      "6799    335.743011\n",
      "9091    432.069000\n",
      "9115    433.078003\n",
      "Name: mz, dtype: float64\n",
      "index: 2, peak location: 3443    194.699997\n",
      "3966    216.679993\n",
      "6799    335.743011\n",
      "9091    432.069000\n",
      "9115    433.078003\n",
      "Name: mz, dtype: float64\n",
      "index: 3, peak location: 3443    194.699997\n",
      "3966    216.679993\n",
      "6799    335.743011\n",
      "9091    432.069000\n",
      "9115    433.078003\n",
      "Name: mz, dtype: float64\n",
      "index: 4, peak location: 3443    194.699997\n",
      "3966    216.679993\n",
      "6799    335.743011\n",
      "9091    432.069000\n",
      "9115    433.078003\n",
      "Name: mz, dtype: float64\n",
      "peak index:  [3444, 3966, 6800, 9091, 9115]\n"
     ]
    },
    {
     "data": {
      "application/vnd.jupyter.widget-view+json": {
       "model_id": "6cf9e433d0ff4e66893d3f3e8f0a23f7",
       "version_major": 2,
       "version_minor": 0
      },
      "text/plain": [
       "0it [00:00, ?it/s]"
      ]
     },
     "metadata": {},
     "output_type": "display_data"
    },
    {
     "name": "stdout",
     "output_type": "stream",
     "text": [
      "index: 0, peak location: 3444    194.742004\n",
      "3966    216.679993\n",
      "6800    335.785004\n",
      "9091    432.069000\n",
      "9115    433.078003\n",
      "Name: mz, dtype: float64\n",
      "index: 1, peak location: 3444    194.742004\n",
      "3966    216.679993\n",
      "6800    335.785004\n",
      "9091    432.069000\n",
      "9115    433.078003\n",
      "Name: mz, dtype: float64\n",
      "index: 2, peak location: 3444    194.742004\n",
      "3966    216.679993\n",
      "6800    335.785004\n",
      "9091    432.069000\n",
      "9115    433.078003\n",
      "Name: mz, dtype: float64\n",
      "index: 3, peak location: 3444    194.742004\n",
      "3966    216.679993\n",
      "6800    335.785004\n",
      "9091    432.069000\n",
      "9115    433.078003\n",
      "Name: mz, dtype: float64\n",
      "index: 4, peak location: 3444    194.742004\n",
      "3966    216.679993\n",
      "6800    335.785004\n",
      "9091    432.069000\n",
      "9115    433.078003\n",
      "Name: mz, dtype: float64\n",
      "peak index:  [3443, 3966, 6798, 9091, 9115]\n"
     ]
    },
    {
     "data": {
      "application/vnd.jupyter.widget-view+json": {
       "model_id": "24462ce729cf4fc8b46ec62e53e46f9b",
       "version_major": 2,
       "version_minor": 0
      },
      "text/plain": [
       "0it [00:00, ?it/s]"
      ]
     },
     "metadata": {},
     "output_type": "display_data"
    },
    {
     "name": "stdout",
     "output_type": "stream",
     "text": [
      "index: 0, peak location: 3443    194.699997\n",
      "3966    216.679993\n",
      "6798    335.700989\n",
      "9091    432.069000\n",
      "9115    433.078003\n",
      "Name: mz, dtype: float64\n",
      "index: 1, peak location: 3443    194.699997\n",
      "3966    216.679993\n",
      "6798    335.700989\n",
      "9091    432.069000\n",
      "9115    433.078003\n",
      "Name: mz, dtype: float64\n",
      "index: 2, peak location: 3443    194.699997\n",
      "3966    216.679993\n",
      "6798    335.700989\n",
      "9091    432.069000\n",
      "9115    433.078003\n",
      "Name: mz, dtype: float64\n",
      "index: 3, peak location: 3443    194.699997\n",
      "3966    216.679993\n",
      "6798    335.700989\n",
      "9091    432.069000\n",
      "9115    433.078003\n",
      "Name: mz, dtype: float64\n",
      "index: 4, peak location: 3443    194.699997\n",
      "3966    216.679993\n",
      "6798    335.700989\n",
      "9091    432.069000\n",
      "9115    433.078003\n",
      "Name: mz, dtype: float64\n",
      "peak index:  [3443, 3966, 6799, 9091, 9114]\n"
     ]
    },
    {
     "data": {
      "application/vnd.jupyter.widget-view+json": {
       "model_id": "e5ea29b879164640b044d47955aa76fe",
       "version_major": 2,
       "version_minor": 0
      },
      "text/plain": [
       "0it [00:00, ?it/s]"
      ]
     },
     "metadata": {},
     "output_type": "display_data"
    },
    {
     "name": "stdout",
     "output_type": "stream",
     "text": [
      "index: 0, peak location: 3443    194.699997\n",
      "3966    216.679993\n",
      "6799    335.743011\n",
      "9091    432.069000\n",
      "9114    433.036011\n",
      "Name: mz, dtype: float64\n",
      "index: 1, peak location: 3443    194.699997\n",
      "3966    216.679993\n",
      "6799    335.743011\n",
      "9091    432.069000\n",
      "9114    433.036011\n",
      "Name: mz, dtype: float64\n",
      "index: 2, peak location: 3443    194.699997\n",
      "3966    216.679993\n",
      "6799    335.743011\n",
      "9091    432.069000\n",
      "9114    433.036011\n",
      "Name: mz, dtype: float64\n",
      "index: 3, peak location: 3443    194.699997\n",
      "3966    216.679993\n",
      "6799    335.743011\n",
      "9091    432.069000\n",
      "9114    433.036011\n",
      "Name: mz, dtype: float64\n",
      "index: 4, peak location: 3443    194.699997\n",
      "3966    216.679993\n",
      "6799    335.743011\n",
      "9091    432.069000\n",
      "9114    433.036011\n",
      "Name: mz, dtype: float64\n",
      "peak index:  [3443, 3965, 6799, 9091, 9114]\n"
     ]
    },
    {
     "data": {
      "application/vnd.jupyter.widget-view+json": {
       "model_id": "79c40f18c7ad4b9a8bb8938b09c578b6",
       "version_major": 2,
       "version_minor": 0
      },
      "text/plain": [
       "0it [00:00, ?it/s]"
      ]
     },
     "metadata": {},
     "output_type": "display_data"
    },
    {
     "name": "stdout",
     "output_type": "stream",
     "text": [
      "index: 0, peak location: 3443    194.699997\n",
      "3965    216.638000\n",
      "6799    335.743011\n",
      "9091    432.069000\n",
      "9114    433.036011\n",
      "Name: mz, dtype: float64\n",
      "index: 1, peak location: 3443    194.699997\n",
      "3965    216.638000\n",
      "6799    335.743011\n",
      "9091    432.069000\n",
      "9114    433.036011\n",
      "Name: mz, dtype: float64\n",
      "index: 2, peak location: 3443    194.699997\n",
      "3965    216.638000\n",
      "6799    335.743011\n",
      "9091    432.069000\n",
      "9114    433.036011\n",
      "Name: mz, dtype: float64\n",
      "index: 3, peak location: 3443    194.699997\n",
      "3965    216.638000\n",
      "6799    335.743011\n",
      "9091    432.069000\n",
      "9114    433.036011\n",
      "Name: mz, dtype: float64\n",
      "index: 4, peak location: 3443    194.699997\n",
      "3965    216.638000\n",
      "6799    335.743011\n",
      "9091    432.069000\n",
      "9114    433.036011\n",
      "Name: mz, dtype: float64\n",
      "peak index:  [3443, 3966, 6799, 9092, 9116]\n"
     ]
    },
    {
     "data": {
      "application/vnd.jupyter.widget-view+json": {
       "model_id": "98a5080e697e44e8a951733f06bb2170",
       "version_major": 2,
       "version_minor": 0
      },
      "text/plain": [
       "0it [00:00, ?it/s]"
      ]
     },
     "metadata": {},
     "output_type": "display_data"
    },
    {
     "name": "stdout",
     "output_type": "stream",
     "text": [
      "index: 0, peak location: 3443    194.699997\n",
      "3966    216.679993\n",
      "6799    335.743011\n",
      "9092    432.110992\n",
      "9116    433.119995\n",
      "Name: mz, dtype: float64\n",
      "index: 1, peak location: 3443    194.699997\n",
      "3966    216.679993\n",
      "6799    335.743011\n",
      "9092    432.110992\n",
      "9116    433.119995\n",
      "Name: mz, dtype: float64\n",
      "index: 2, peak location: 3443    194.699997\n",
      "3966    216.679993\n",
      "6799    335.743011\n",
      "9092    432.110992\n",
      "9116    433.119995\n",
      "Name: mz, dtype: float64\n",
      "index: 3, peak location: 3443    194.699997\n",
      "3966    216.679993\n",
      "6799    335.743011\n",
      "9092    432.110992\n",
      "9116    433.119995\n",
      "Name: mz, dtype: float64\n",
      "index: 4, peak location: 3443    194.699997\n",
      "3966    216.679993\n",
      "6799    335.743011\n",
      "9092    432.110992\n",
      "9116    433.119995\n",
      "Name: mz, dtype: float64\n",
      "peak index:  [3443, 3966, 6800, 9091, 9115]\n"
     ]
    },
    {
     "data": {
      "application/vnd.jupyter.widget-view+json": {
       "model_id": "858638d2eaff48e992950dd14e4e27dd",
       "version_major": 2,
       "version_minor": 0
      },
      "text/plain": [
       "0it [00:00, ?it/s]"
      ]
     },
     "metadata": {},
     "output_type": "display_data"
    },
    {
     "name": "stdout",
     "output_type": "stream",
     "text": [
      "index: 0, peak location: 3443    194.699997\n",
      "3966    216.679993\n",
      "6800    335.785004\n",
      "9091    432.069000\n",
      "9115    433.078003\n",
      "Name: mz, dtype: float64\n",
      "index: 1, peak location: 3443    194.699997\n",
      "3966    216.679993\n",
      "6800    335.785004\n",
      "9091    432.069000\n",
      "9115    433.078003\n",
      "Name: mz, dtype: float64\n",
      "index: 2, peak location: 3443    194.699997\n",
      "3966    216.679993\n",
      "6800    335.785004\n",
      "9091    432.069000\n",
      "9115    433.078003\n",
      "Name: mz, dtype: float64\n",
      "index: 3, peak location: 3443    194.699997\n",
      "3966    216.679993\n",
      "6800    335.785004\n",
      "9091    432.069000\n",
      "9115    433.078003\n",
      "Name: mz, dtype: float64\n",
      "index: 4, peak location: 3443    194.699997\n",
      "3966    216.679993\n",
      "6800    335.785004\n",
      "9091    432.069000\n",
      "9115    433.078003\n",
      "Name: mz, dtype: float64\n",
      "peak index:  [3443, 3966, 6799, 9092, 9116]\n"
     ]
    },
    {
     "data": {
      "application/vnd.jupyter.widget-view+json": {
       "model_id": "36c05500e01344f0a454a54f206ed53e",
       "version_major": 2,
       "version_minor": 0
      },
      "text/plain": [
       "0it [00:00, ?it/s]"
      ]
     },
     "metadata": {},
     "output_type": "display_data"
    },
    {
     "name": "stdout",
     "output_type": "stream",
     "text": [
      "index: 0, peak location: 3443    194.699997\n",
      "3966    216.679993\n",
      "6799    335.743011\n",
      "9092    432.110992\n",
      "9116    433.119995\n",
      "Name: mz, dtype: float64\n",
      "index: 1, peak location: 3443    194.699997\n",
      "3966    216.679993\n",
      "6799    335.743011\n",
      "9092    432.110992\n",
      "9116    433.119995\n",
      "Name: mz, dtype: float64\n",
      "index: 2, peak location: 3443    194.699997\n",
      "3966    216.679993\n",
      "6799    335.743011\n",
      "9092    432.110992\n",
      "9116    433.119995\n",
      "Name: mz, dtype: float64\n",
      "index: 3, peak location: 3443    194.699997\n",
      "3966    216.679993\n",
      "6799    335.743011\n",
      "9092    432.110992\n",
      "9116    433.119995\n",
      "Name: mz, dtype: float64\n",
      "index: 4, peak location: 3443    194.699997\n",
      "3966    216.679993\n",
      "6799    335.743011\n",
      "9092    432.110992\n",
      "9116    433.119995\n",
      "Name: mz, dtype: float64\n",
      "peak index:  [3443, 3965, 6798, 9091, 9115]\n"
     ]
    },
    {
     "data": {
      "application/vnd.jupyter.widget-view+json": {
       "model_id": "dbf88721558148af81b79a4ef08e6bfa",
       "version_major": 2,
       "version_minor": 0
      },
      "text/plain": [
       "0it [00:00, ?it/s]"
      ]
     },
     "metadata": {},
     "output_type": "display_data"
    },
    {
     "name": "stdout",
     "output_type": "stream",
     "text": [
      "index: 0, peak location: 3443    194.699997\n",
      "3965    216.638000\n",
      "6798    335.700989\n",
      "9091    432.069000\n",
      "9115    433.078003\n",
      "Name: mz, dtype: float64\n",
      "index: 1, peak location: 3443    194.699997\n",
      "3965    216.638000\n",
      "6798    335.700989\n",
      "9091    432.069000\n",
      "9115    433.078003\n",
      "Name: mz, dtype: float64\n",
      "index: 2, peak location: 3443    194.699997\n",
      "3965    216.638000\n",
      "6798    335.700989\n",
      "9091    432.069000\n",
      "9115    433.078003\n",
      "Name: mz, dtype: float64\n",
      "index: 3, peak location: 3443    194.699997\n",
      "3965    216.638000\n",
      "6798    335.700989\n",
      "9091    432.069000\n",
      "9115    433.078003\n",
      "Name: mz, dtype: float64\n",
      "index: 4, peak location: 3443    194.699997\n",
      "3965    216.638000\n",
      "6798    335.700989\n",
      "9091    432.069000\n",
      "9115    433.078003\n",
      "Name: mz, dtype: float64\n",
      "peak index:  [3444, 3966, 6800, 9092, 9115]\n"
     ]
    },
    {
     "data": {
      "application/vnd.jupyter.widget-view+json": {
       "model_id": "217d5223b5e64da4917dd968b870c86f",
       "version_major": 2,
       "version_minor": 0
      },
      "text/plain": [
       "0it [00:00, ?it/s]"
      ]
     },
     "metadata": {},
     "output_type": "display_data"
    },
    {
     "name": "stdout",
     "output_type": "stream",
     "text": [
      "index: 0, peak location: 3444    194.742004\n",
      "3966    216.679993\n",
      "6800    335.785004\n",
      "9092    432.110992\n",
      "9115    433.078003\n",
      "Name: mz, dtype: float64\n",
      "index: 1, peak location: 3444    194.742004\n",
      "3966    216.679993\n",
      "6800    335.785004\n",
      "9092    432.110992\n",
      "9115    433.078003\n",
      "Name: mz, dtype: float64\n",
      "index: 2, peak location: 3444    194.742004\n",
      "3966    216.679993\n",
      "6800    335.785004\n",
      "9092    432.110992\n",
      "9115    433.078003\n",
      "Name: mz, dtype: float64\n",
      "index: 3, peak location: 3444    194.742004\n",
      "3966    216.679993\n",
      "6800    335.785004\n",
      "9092    432.110992\n",
      "9115    433.078003\n",
      "Name: mz, dtype: float64\n",
      "index: 4, peak location: 3444    194.742004\n",
      "3966    216.679993\n",
      "6800    335.785004\n",
      "9092    432.110992\n",
      "9115    433.078003\n",
      "Name: mz, dtype: float64\n",
      "peak index:  [1898, 3443, 3966, 6798, 9091, 9114]\n"
     ]
    },
    {
     "data": {
      "application/vnd.jupyter.widget-view+json": {
       "model_id": "e9d1367993f444428bffff14d32633c9",
       "version_major": 2,
       "version_minor": 0
      },
      "text/plain": [
       "0it [00:00, ?it/s]"
      ]
     },
     "metadata": {},
     "output_type": "display_data"
    },
    {
     "name": "stdout",
     "output_type": "stream",
     "text": [
      "index: 0, peak location: 1898    129.768005\n",
      "3443    194.699997\n",
      "3966    216.679993\n",
      "6798    335.700989\n",
      "9091    432.069000\n",
      "9114    433.036011\n",
      "Name: mz, dtype: float64\n",
      "index: 1, peak location: 1898    129.768005\n",
      "3443    194.699997\n",
      "3966    216.679993\n",
      "6798    335.700989\n",
      "9091    432.069000\n",
      "9114    433.036011\n",
      "Name: mz, dtype: float64\n",
      "index: 2, peak location: 1898    129.768005\n",
      "3443    194.699997\n",
      "3966    216.679993\n",
      "6798    335.700989\n",
      "9091    432.069000\n",
      "9114    433.036011\n",
      "Name: mz, dtype: float64\n",
      "index: 3, peak location: 1898    129.768005\n",
      "3443    194.699997\n",
      "3966    216.679993\n",
      "6798    335.700989\n",
      "9091    432.069000\n",
      "9114    433.036011\n",
      "Name: mz, dtype: float64\n",
      "index: 4, peak location: 1898    129.768005\n",
      "3443    194.699997\n",
      "3966    216.679993\n",
      "6798    335.700989\n",
      "9091    432.069000\n",
      "9114    433.036011\n",
      "Name: mz, dtype: float64\n",
      "index: 5, peak location: 1898    129.768005\n",
      "3443    194.699997\n",
      "3966    216.679993\n",
      "6798    335.700989\n",
      "9091    432.069000\n",
      "9114    433.036011\n",
      "Name: mz, dtype: float64\n",
      "peak index:  [3443, 3966, 6799, 9092, 9116]\n"
     ]
    },
    {
     "data": {
      "application/vnd.jupyter.widget-view+json": {
       "model_id": "dc52c911af1e414ca0cf7e3df3e1db84",
       "version_major": 2,
       "version_minor": 0
      },
      "text/plain": [
       "0it [00:00, ?it/s]"
      ]
     },
     "metadata": {},
     "output_type": "display_data"
    },
    {
     "name": "stdout",
     "output_type": "stream",
     "text": [
      "index: 0, peak location: 3443    194.699997\n",
      "3966    216.679993\n",
      "6799    335.743011\n",
      "9092    432.110992\n",
      "9116    433.119995\n",
      "Name: mz, dtype: float64\n",
      "index: 1, peak location: 3443    194.699997\n",
      "3966    216.679993\n",
      "6799    335.743011\n",
      "9092    432.110992\n",
      "9116    433.119995\n",
      "Name: mz, dtype: float64\n",
      "index: 2, peak location: 3443    194.699997\n",
      "3966    216.679993\n",
      "6799    335.743011\n",
      "9092    432.110992\n",
      "9116    433.119995\n",
      "Name: mz, dtype: float64\n",
      "index: 3, peak location: 3443    194.699997\n",
      "3966    216.679993\n",
      "6799    335.743011\n",
      "9092    432.110992\n",
      "9116    433.119995\n",
      "Name: mz, dtype: float64\n",
      "index: 4, peak location: 3443    194.699997\n",
      "3966    216.679993\n",
      "6799    335.743011\n",
      "9092    432.110992\n",
      "9116    433.119995\n",
      "Name: mz, dtype: float64\n",
      "peak index:  [3443, 3966, 6800, 9092, 9116]\n"
     ]
    },
    {
     "data": {
      "application/vnd.jupyter.widget-view+json": {
       "model_id": "fda09371e6f94d6ca0c02bef24dc69ae",
       "version_major": 2,
       "version_minor": 0
      },
      "text/plain": [
       "0it [00:00, ?it/s]"
      ]
     },
     "metadata": {},
     "output_type": "display_data"
    },
    {
     "name": "stdout",
     "output_type": "stream",
     "text": [
      "index: 0, peak location: 3443    194.699997\n",
      "3966    216.679993\n",
      "6800    335.785004\n",
      "9092    432.110992\n",
      "9116    433.119995\n",
      "Name: mz, dtype: float64\n",
      "index: 1, peak location: 3443    194.699997\n",
      "3966    216.679993\n",
      "6800    335.785004\n",
      "9092    432.110992\n",
      "9116    433.119995\n",
      "Name: mz, dtype: float64\n",
      "index: 2, peak location: 3443    194.699997\n",
      "3966    216.679993\n",
      "6800    335.785004\n",
      "9092    432.110992\n",
      "9116    433.119995\n",
      "Name: mz, dtype: float64\n",
      "index: 3, peak location: 3443    194.699997\n",
      "3966    216.679993\n",
      "6800    335.785004\n",
      "9092    432.110992\n",
      "9116    433.119995\n",
      "Name: mz, dtype: float64\n",
      "index: 4, peak location: 3443    194.699997\n",
      "3966    216.679993\n",
      "6800    335.785004\n",
      "9092    432.110992\n",
      "9116    433.119995\n",
      "Name: mz, dtype: float64\n",
      "peak index:  [3443, 3966, 6798, 9092, 9114]\n"
     ]
    },
    {
     "data": {
      "application/vnd.jupyter.widget-view+json": {
       "model_id": "83e9f60682a8467d90bbf3b1d5feafeb",
       "version_major": 2,
       "version_minor": 0
      },
      "text/plain": [
       "0it [00:00, ?it/s]"
      ]
     },
     "metadata": {},
     "output_type": "display_data"
    },
    {
     "name": "stdout",
     "output_type": "stream",
     "text": [
      "index: 0, peak location: 3443    194.699997\n",
      "3966    216.679993\n",
      "6798    335.700989\n",
      "9092    432.110992\n",
      "9114    433.036011\n",
      "Name: mz, dtype: float64\n",
      "index: 1, peak location: 3443    194.699997\n",
      "3966    216.679993\n",
      "6798    335.700989\n",
      "9092    432.110992\n",
      "9114    433.036011\n",
      "Name: mz, dtype: float64\n",
      "index: 2, peak location: 3443    194.699997\n",
      "3966    216.679993\n",
      "6798    335.700989\n",
      "9092    432.110992\n",
      "9114    433.036011\n",
      "Name: mz, dtype: float64\n",
      "index: 3, peak location: 3443    194.699997\n",
      "3966    216.679993\n",
      "6798    335.700989\n",
      "9092    432.110992\n",
      "9114    433.036011\n",
      "Name: mz, dtype: float64\n",
      "index: 4, peak location: 3443    194.699997\n",
      "3966    216.679993\n",
      "6798    335.700989\n",
      "9092    432.110992\n",
      "9114    433.036011\n",
      "Name: mz, dtype: float64\n",
      "peak index:  [3443, 3965, 6799, 9091, 9115]\n"
     ]
    },
    {
     "data": {
      "application/vnd.jupyter.widget-view+json": {
       "model_id": "c31ea967e27244f6b5dfa10ce331f6d1",
       "version_major": 2,
       "version_minor": 0
      },
      "text/plain": [
       "0it [00:00, ?it/s]"
      ]
     },
     "metadata": {},
     "output_type": "display_data"
    },
    {
     "name": "stdout",
     "output_type": "stream",
     "text": [
      "index: 0, peak location: 3443    194.699997\n",
      "3965    216.638000\n",
      "6799    335.743011\n",
      "9091    432.069000\n",
      "9115    433.078003\n",
      "Name: mz, dtype: float64\n",
      "index: 1, peak location: 3443    194.699997\n",
      "3965    216.638000\n",
      "6799    335.743011\n",
      "9091    432.069000\n",
      "9115    433.078003\n",
      "Name: mz, dtype: float64\n",
      "index: 2, peak location: 3443    194.699997\n",
      "3965    216.638000\n",
      "6799    335.743011\n",
      "9091    432.069000\n",
      "9115    433.078003\n",
      "Name: mz, dtype: float64\n",
      "index: 3, peak location: 3443    194.699997\n",
      "3965    216.638000\n",
      "6799    335.743011\n",
      "9091    432.069000\n",
      "9115    433.078003\n",
      "Name: mz, dtype: float64\n",
      "index: 4, peak location: 3443    194.699997\n",
      "3965    216.638000\n",
      "6799    335.743011\n",
      "9091    432.069000\n",
      "9115    433.078003\n",
      "Name: mz, dtype: float64\n",
      "peak index:  [3443, 3966, 6799, 9091, 9115]\n"
     ]
    },
    {
     "data": {
      "application/vnd.jupyter.widget-view+json": {
       "model_id": "c4f5145582024ee8aa64bcad3aa04bc9",
       "version_major": 2,
       "version_minor": 0
      },
      "text/plain": [
       "0it [00:00, ?it/s]"
      ]
     },
     "metadata": {},
     "output_type": "display_data"
    },
    {
     "name": "stdout",
     "output_type": "stream",
     "text": [
      "index: 0, peak location: 3443    194.699997\n",
      "3966    216.679993\n",
      "6799    335.743011\n",
      "9091    432.069000\n",
      "9115    433.078003\n",
      "Name: mz, dtype: float64\n",
      "index: 1, peak location: 3443    194.699997\n",
      "3966    216.679993\n",
      "6799    335.743011\n",
      "9091    432.069000\n",
      "9115    433.078003\n",
      "Name: mz, dtype: float64\n",
      "index: 2, peak location: 3443    194.699997\n",
      "3966    216.679993\n",
      "6799    335.743011\n",
      "9091    432.069000\n",
      "9115    433.078003\n",
      "Name: mz, dtype: float64\n",
      "index: 3, peak location: 3443    194.699997\n",
      "3966    216.679993\n",
      "6799    335.743011\n",
      "9091    432.069000\n",
      "9115    433.078003\n",
      "Name: mz, dtype: float64\n",
      "index: 4, peak location: 3443    194.699997\n",
      "3966    216.679993\n",
      "6799    335.743011\n",
      "9091    432.069000\n",
      "9115    433.078003\n",
      "Name: mz, dtype: float64\n",
      "peak index:  [3443, 3966, 6800, 9091, 9114]\n"
     ]
    },
    {
     "data": {
      "application/vnd.jupyter.widget-view+json": {
       "model_id": "21d857db4808434d847f49ec1c6231c0",
       "version_major": 2,
       "version_minor": 0
      },
      "text/plain": [
       "0it [00:00, ?it/s]"
      ]
     },
     "metadata": {},
     "output_type": "display_data"
    },
    {
     "name": "stdout",
     "output_type": "stream",
     "text": [
      "index: 0, peak location: 3443    194.699997\n",
      "3966    216.679993\n",
      "6800    335.785004\n",
      "9091    432.069000\n",
      "9114    433.036011\n",
      "Name: mz, dtype: float64\n",
      "index: 1, peak location: 3443    194.699997\n",
      "3966    216.679993\n",
      "6800    335.785004\n",
      "9091    432.069000\n",
      "9114    433.036011\n",
      "Name: mz, dtype: float64\n",
      "index: 2, peak location: 3443    194.699997\n",
      "3966    216.679993\n",
      "6800    335.785004\n",
      "9091    432.069000\n",
      "9114    433.036011\n",
      "Name: mz, dtype: float64\n",
      "index: 3, peak location: 3443    194.699997\n",
      "3966    216.679993\n",
      "6800    335.785004\n",
      "9091    432.069000\n",
      "9114    433.036011\n",
      "Name: mz, dtype: float64\n",
      "index: 4, peak location: 3443    194.699997\n",
      "3966    216.679993\n",
      "6800    335.785004\n",
      "9091    432.069000\n",
      "9114    433.036011\n",
      "Name: mz, dtype: float64\n",
      "peak index:  [3443, 3966, 6799, 9091, 9114]\n"
     ]
    },
    {
     "data": {
      "application/vnd.jupyter.widget-view+json": {
       "model_id": "267e3d4a17ba4ec3a26d7394b0c7b984",
       "version_major": 2,
       "version_minor": 0
      },
      "text/plain": [
       "0it [00:00, ?it/s]"
      ]
     },
     "metadata": {},
     "output_type": "display_data"
    },
    {
     "name": "stdout",
     "output_type": "stream",
     "text": [
      "index: 0, peak location: 3443    194.699997\n",
      "3966    216.679993\n",
      "6799    335.743011\n",
      "9091    432.069000\n",
      "9114    433.036011\n",
      "Name: mz, dtype: float64\n",
      "index: 1, peak location: 3443    194.699997\n",
      "3966    216.679993\n",
      "6799    335.743011\n",
      "9091    432.069000\n",
      "9114    433.036011\n",
      "Name: mz, dtype: float64\n",
      "index: 2, peak location: 3443    194.699997\n",
      "3966    216.679993\n",
      "6799    335.743011\n",
      "9091    432.069000\n",
      "9114    433.036011\n",
      "Name: mz, dtype: float64\n",
      "index: 3, peak location: 3443    194.699997\n",
      "3966    216.679993\n",
      "6799    335.743011\n",
      "9091    432.069000\n",
      "9114    433.036011\n",
      "Name: mz, dtype: float64\n",
      "index: 4, peak location: 3443    194.699997\n",
      "3966    216.679993\n",
      "6799    335.743011\n",
      "9091    432.069000\n",
      "9114    433.036011\n",
      "Name: mz, dtype: float64\n",
      "peak index:  [1899, 3443, 3966, 6799, 9091, 9115]\n"
     ]
    },
    {
     "data": {
      "application/vnd.jupyter.widget-view+json": {
       "model_id": "5de6b54674464f228aa3fb243ffe4baa",
       "version_major": 2,
       "version_minor": 0
      },
      "text/plain": [
       "0it [00:00, ?it/s]"
      ]
     },
     "metadata": {},
     "output_type": "display_data"
    },
    {
     "name": "stdout",
     "output_type": "stream",
     "text": [
      "index: 0, peak location: 1899    129.809998\n",
      "3443    194.699997\n",
      "3966    216.679993\n",
      "6799    335.743011\n",
      "9091    432.069000\n",
      "9115    433.078003\n",
      "Name: mz, dtype: float64\n",
      "index: 1, peak location: 1899    129.809998\n",
      "3443    194.699997\n",
      "3966    216.679993\n",
      "6799    335.743011\n",
      "9091    432.069000\n",
      "9115    433.078003\n",
      "Name: mz, dtype: float64\n",
      "index: 2, peak location: 1899    129.809998\n",
      "3443    194.699997\n",
      "3966    216.679993\n",
      "6799    335.743011\n",
      "9091    432.069000\n",
      "9115    433.078003\n",
      "Name: mz, dtype: float64\n",
      "index: 3, peak location: 1899    129.809998\n",
      "3443    194.699997\n",
      "3966    216.679993\n",
      "6799    335.743011\n",
      "9091    432.069000\n",
      "9115    433.078003\n",
      "Name: mz, dtype: float64\n",
      "index: 4, peak location: 1899    129.809998\n",
      "3443    194.699997\n",
      "3966    216.679993\n",
      "6799    335.743011\n",
      "9091    432.069000\n",
      "9115    433.078003\n",
      "Name: mz, dtype: float64\n",
      "index: 5, peak location: 1899    129.809998\n",
      "3443    194.699997\n",
      "3966    216.679993\n",
      "6799    335.743011\n",
      "9091    432.069000\n",
      "9115    433.078003\n",
      "Name: mz, dtype: float64\n",
      "peak index:  [3443, 3966, 6800, 9092, 9115]\n"
     ]
    },
    {
     "data": {
      "application/vnd.jupyter.widget-view+json": {
       "model_id": "469a49cece5c4abca6e55727393f1231",
       "version_major": 2,
       "version_minor": 0
      },
      "text/plain": [
       "0it [00:00, ?it/s]"
      ]
     },
     "metadata": {},
     "output_type": "display_data"
    },
    {
     "name": "stdout",
     "output_type": "stream",
     "text": [
      "index: 0, peak location: 3443    194.699997\n",
      "3966    216.679993\n",
      "6800    335.785004\n",
      "9092    432.110992\n",
      "9115    433.078003\n",
      "Name: mz, dtype: float64\n",
      "index: 1, peak location: 3443    194.699997\n",
      "3966    216.679993\n",
      "6800    335.785004\n",
      "9092    432.110992\n",
      "9115    433.078003\n",
      "Name: mz, dtype: float64\n",
      "index: 2, peak location: 3443    194.699997\n",
      "3966    216.679993\n",
      "6800    335.785004\n",
      "9092    432.110992\n",
      "9115    433.078003\n",
      "Name: mz, dtype: float64\n",
      "index: 3, peak location: 3443    194.699997\n",
      "3966    216.679993\n",
      "6800    335.785004\n",
      "9092    432.110992\n",
      "9115    433.078003\n",
      "Name: mz, dtype: float64\n",
      "index: 4, peak location: 3443    194.699997\n",
      "3966    216.679993\n",
      "6800    335.785004\n",
      "9092    432.110992\n",
      "9115    433.078003\n",
      "Name: mz, dtype: float64\n",
      "peak index:  [1898, 3443, 3965, 6799, 9091, 9114]\n"
     ]
    },
    {
     "data": {
      "application/vnd.jupyter.widget-view+json": {
       "model_id": "e98044c1cb294979bf3120b502720d9d",
       "version_major": 2,
       "version_minor": 0
      },
      "text/plain": [
       "0it [00:00, ?it/s]"
      ]
     },
     "metadata": {},
     "output_type": "display_data"
    },
    {
     "name": "stdout",
     "output_type": "stream",
     "text": [
      "index: 0, peak location: 1898    129.768005\n",
      "3443    194.699997\n",
      "3965    216.638000\n",
      "6799    335.743011\n",
      "9091    432.069000\n",
      "9114    433.036011\n",
      "Name: mz, dtype: float64\n",
      "index: 1, peak location: 1898    129.768005\n",
      "3443    194.699997\n",
      "3965    216.638000\n",
      "6799    335.743011\n",
      "9091    432.069000\n",
      "9114    433.036011\n",
      "Name: mz, dtype: float64\n",
      "index: 2, peak location: 1898    129.768005\n",
      "3443    194.699997\n",
      "3965    216.638000\n",
      "6799    335.743011\n",
      "9091    432.069000\n",
      "9114    433.036011\n",
      "Name: mz, dtype: float64\n",
      "index: 3, peak location: 1898    129.768005\n",
      "3443    194.699997\n",
      "3965    216.638000\n",
      "6799    335.743011\n",
      "9091    432.069000\n",
      "9114    433.036011\n",
      "Name: mz, dtype: float64\n",
      "index: 4, peak location: 1898    129.768005\n",
      "3443    194.699997\n",
      "3965    216.638000\n",
      "6799    335.743011\n",
      "9091    432.069000\n",
      "9114    433.036011\n",
      "Name: mz, dtype: float64\n",
      "index: 5, peak location: 1898    129.768005\n",
      "3443    194.699997\n",
      "3965    216.638000\n",
      "6799    335.743011\n",
      "9091    432.069000\n",
      "9114    433.036011\n",
      "Name: mz, dtype: float64\n",
      "peak index:  [3443, 3966, 6799, 9091, 9115]\n"
     ]
    },
    {
     "data": {
      "application/vnd.jupyter.widget-view+json": {
       "model_id": "ecb63326c4e44263bbf9c943e7626d96",
       "version_major": 2,
       "version_minor": 0
      },
      "text/plain": [
       "0it [00:00, ?it/s]"
      ]
     },
     "metadata": {},
     "output_type": "display_data"
    },
    {
     "name": "stdout",
     "output_type": "stream",
     "text": [
      "index: 0, peak location: 3443    194.699997\n",
      "3966    216.679993\n",
      "6799    335.743011\n",
      "9091    432.069000\n",
      "9115    433.078003\n",
      "Name: mz, dtype: float64\n",
      "index: 1, peak location: 3443    194.699997\n",
      "3966    216.679993\n",
      "6799    335.743011\n",
      "9091    432.069000\n",
      "9115    433.078003\n",
      "Name: mz, dtype: float64\n",
      "index: 2, peak location: 3443    194.699997\n",
      "3966    216.679993\n",
      "6799    335.743011\n",
      "9091    432.069000\n",
      "9115    433.078003\n",
      "Name: mz, dtype: float64\n",
      "index: 3, peak location: 3443    194.699997\n",
      "3966    216.679993\n",
      "6799    335.743011\n",
      "9091    432.069000\n",
      "9115    433.078003\n",
      "Name: mz, dtype: float64\n",
      "index: 4, peak location: 3443    194.699997\n",
      "3966    216.679993\n",
      "6799    335.743011\n",
      "9091    432.069000\n",
      "9115    433.078003\n",
      "Name: mz, dtype: float64\n",
      "peak index:  [3443, 3965, 6799, 9090, 9114]\n"
     ]
    },
    {
     "data": {
      "application/vnd.jupyter.widget-view+json": {
       "model_id": "80ae990fe64e4287acf533dd13feddc0",
       "version_major": 2,
       "version_minor": 0
      },
      "text/plain": [
       "0it [00:00, ?it/s]"
      ]
     },
     "metadata": {},
     "output_type": "display_data"
    },
    {
     "name": "stdout",
     "output_type": "stream",
     "text": [
      "index: 0, peak location: 3443    194.699997\n",
      "3965    216.638000\n",
      "6799    335.743011\n",
      "9090    432.027008\n",
      "9114    433.036011\n",
      "Name: mz, dtype: float64\n",
      "index: 1, peak location: 3443    194.699997\n",
      "3965    216.638000\n",
      "6799    335.743011\n",
      "9090    432.027008\n",
      "9114    433.036011\n",
      "Name: mz, dtype: float64\n",
      "index: 2, peak location: 3443    194.699997\n",
      "3965    216.638000\n",
      "6799    335.743011\n",
      "9090    432.027008\n",
      "9114    433.036011\n",
      "Name: mz, dtype: float64\n",
      "index: 3, peak location: 3443    194.699997\n",
      "3965    216.638000\n",
      "6799    335.743011\n",
      "9090    432.027008\n",
      "9114    433.036011\n",
      "Name: mz, dtype: float64\n",
      "index: 4, peak location: 3443    194.699997\n",
      "3965    216.638000\n",
      "6799    335.743011\n",
      "9090    432.027008\n",
      "9114    433.036011\n",
      "Name: mz, dtype: float64\n",
      "peak index:  [3443, 3967, 6799, 9092, 9115]\n"
     ]
    },
    {
     "data": {
      "application/vnd.jupyter.widget-view+json": {
       "model_id": "ae113ce8423646a192cd3367332fd0c1",
       "version_major": 2,
       "version_minor": 0
      },
      "text/plain": [
       "0it [00:00, ?it/s]"
      ]
     },
     "metadata": {},
     "output_type": "display_data"
    },
    {
     "name": "stdout",
     "output_type": "stream",
     "text": [
      "index: 0, peak location: 3443    194.699997\n",
      "3967    216.722000\n",
      "6799    335.743011\n",
      "9092    432.110992\n",
      "9115    433.078003\n",
      "Name: mz, dtype: float64\n",
      "index: 1, peak location: 3443    194.699997\n",
      "3967    216.722000\n",
      "6799    335.743011\n",
      "9092    432.110992\n",
      "9115    433.078003\n",
      "Name: mz, dtype: float64\n",
      "index: 2, peak location: 3443    194.699997\n",
      "3967    216.722000\n",
      "6799    335.743011\n",
      "9092    432.110992\n",
      "9115    433.078003\n",
      "Name: mz, dtype: float64\n",
      "index: 3, peak location: 3443    194.699997\n",
      "3967    216.722000\n",
      "6799    335.743011\n",
      "9092    432.110992\n",
      "9115    433.078003\n",
      "Name: mz, dtype: float64\n",
      "index: 4, peak location: 3443    194.699997\n",
      "3967    216.722000\n",
      "6799    335.743011\n",
      "9092    432.110992\n",
      "9115    433.078003\n",
      "Name: mz, dtype: float64\n",
      "peak index:  [3444, 3967, 6800, 9092, 9116]\n"
     ]
    },
    {
     "data": {
      "application/vnd.jupyter.widget-view+json": {
       "model_id": "0c9478d0a3d14636930c0e7b467bf050",
       "version_major": 2,
       "version_minor": 0
      },
      "text/plain": [
       "0it [00:00, ?it/s]"
      ]
     },
     "metadata": {},
     "output_type": "display_data"
    },
    {
     "name": "stdout",
     "output_type": "stream",
     "text": [
      "index: 0, peak location: 3444    194.742004\n",
      "3967    216.722000\n",
      "6800    335.785004\n",
      "9092    432.110992\n",
      "9116    433.119995\n",
      "Name: mz, dtype: float64\n",
      "index: 1, peak location: 3444    194.742004\n",
      "3967    216.722000\n",
      "6800    335.785004\n",
      "9092    432.110992\n",
      "9116    433.119995\n",
      "Name: mz, dtype: float64\n",
      "index: 2, peak location: 3444    194.742004\n",
      "3967    216.722000\n",
      "6800    335.785004\n",
      "9092    432.110992\n",
      "9116    433.119995\n",
      "Name: mz, dtype: float64\n",
      "index: 3, peak location: 3444    194.742004\n",
      "3967    216.722000\n",
      "6800    335.785004\n",
      "9092    432.110992\n",
      "9116    433.119995\n",
      "Name: mz, dtype: float64\n",
      "index: 4, peak location: 3444    194.742004\n",
      "3967    216.722000\n",
      "6800    335.785004\n",
      "9092    432.110992\n",
      "9116    433.119995\n",
      "Name: mz, dtype: float64\n",
      "peak index:  [3443, 3966, 6799, 9091, 9115]\n"
     ]
    },
    {
     "data": {
      "application/vnd.jupyter.widget-view+json": {
       "model_id": "3013f26f7a9f42929982dd407078c585",
       "version_major": 2,
       "version_minor": 0
      },
      "text/plain": [
       "0it [00:00, ?it/s]"
      ]
     },
     "metadata": {},
     "output_type": "display_data"
    },
    {
     "name": "stdout",
     "output_type": "stream",
     "text": [
      "index: 0, peak location: 3443    194.699997\n",
      "3966    216.679993\n",
      "6799    335.743011\n",
      "9091    432.069000\n",
      "9115    433.078003\n",
      "Name: mz, dtype: float64\n",
      "index: 1, peak location: 3443    194.699997\n",
      "3966    216.679993\n",
      "6799    335.743011\n",
      "9091    432.069000\n",
      "9115    433.078003\n",
      "Name: mz, dtype: float64\n",
      "index: 2, peak location: 3443    194.699997\n",
      "3966    216.679993\n",
      "6799    335.743011\n",
      "9091    432.069000\n",
      "9115    433.078003\n",
      "Name: mz, dtype: float64\n",
      "index: 3, peak location: 3443    194.699997\n",
      "3966    216.679993\n",
      "6799    335.743011\n",
      "9091    432.069000\n",
      "9115    433.078003\n",
      "Name: mz, dtype: float64\n",
      "index: 4, peak location: 3443    194.699997\n",
      "3966    216.679993\n",
      "6799    335.743011\n",
      "9091    432.069000\n",
      "9115    433.078003\n",
      "Name: mz, dtype: float64\n",
      "peak index:  [1899, 3444, 3966, 6800, 9091, 9116]\n"
     ]
    },
    {
     "data": {
      "application/vnd.jupyter.widget-view+json": {
       "model_id": "089e3125b80e494689d3b6d28d7e7716",
       "version_major": 2,
       "version_minor": 0
      },
      "text/plain": [
       "0it [00:00, ?it/s]"
      ]
     },
     "metadata": {},
     "output_type": "display_data"
    },
    {
     "name": "stdout",
     "output_type": "stream",
     "text": [
      "index: 0, peak location: 1899    129.809998\n",
      "3444    194.742004\n",
      "3966    216.679993\n",
      "6800    335.785004\n",
      "9091    432.069000\n",
      "9116    433.119995\n",
      "Name: mz, dtype: float64\n",
      "index: 1, peak location: 1899    129.809998\n",
      "3444    194.742004\n",
      "3966    216.679993\n",
      "6800    335.785004\n",
      "9091    432.069000\n",
      "9116    433.119995\n",
      "Name: mz, dtype: float64\n",
      "index: 2, peak location: 1899    129.809998\n",
      "3444    194.742004\n",
      "3966    216.679993\n",
      "6800    335.785004\n",
      "9091    432.069000\n",
      "9116    433.119995\n",
      "Name: mz, dtype: float64\n",
      "index: 3, peak location: 1899    129.809998\n",
      "3444    194.742004\n",
      "3966    216.679993\n",
      "6800    335.785004\n",
      "9091    432.069000\n",
      "9116    433.119995\n",
      "Name: mz, dtype: float64\n",
      "index: 4, peak location: 1899    129.809998\n",
      "3444    194.742004\n",
      "3966    216.679993\n",
      "6800    335.785004\n",
      "9091    432.069000\n",
      "9116    433.119995\n",
      "Name: mz, dtype: float64\n",
      "index: 5, peak location: 1899    129.809998\n",
      "3444    194.742004\n",
      "3966    216.679993\n",
      "6800    335.785004\n",
      "9091    432.069000\n",
      "9116    433.119995\n",
      "Name: mz, dtype: float64\n",
      "peak index:  [3443, 3966, 6799, 9092, 9115]\n"
     ]
    },
    {
     "data": {
      "application/vnd.jupyter.widget-view+json": {
       "model_id": "10ab32dbc6c54ab6a308068240477c12",
       "version_major": 2,
       "version_minor": 0
      },
      "text/plain": [
       "0it [00:00, ?it/s]"
      ]
     },
     "metadata": {},
     "output_type": "display_data"
    },
    {
     "name": "stdout",
     "output_type": "stream",
     "text": [
      "index: 0, peak location: 3443    194.699997\n",
      "3966    216.679993\n",
      "6799    335.743011\n",
      "9092    432.110992\n",
      "9115    433.078003\n",
      "Name: mz, dtype: float64\n",
      "index: 1, peak location: 3443    194.699997\n",
      "3966    216.679993\n",
      "6799    335.743011\n",
      "9092    432.110992\n",
      "9115    433.078003\n",
      "Name: mz, dtype: float64\n",
      "index: 2, peak location: 3443    194.699997\n",
      "3966    216.679993\n",
      "6799    335.743011\n",
      "9092    432.110992\n",
      "9115    433.078003\n",
      "Name: mz, dtype: float64\n",
      "index: 3, peak location: 3443    194.699997\n",
      "3966    216.679993\n",
      "6799    335.743011\n",
      "9092    432.110992\n",
      "9115    433.078003\n",
      "Name: mz, dtype: float64\n",
      "index: 4, peak location: 3443    194.699997\n",
      "3966    216.679993\n",
      "6799    335.743011\n",
      "9092    432.110992\n",
      "9115    433.078003\n",
      "Name: mz, dtype: float64\n",
      "peak index:  [3444, 3967, 6800, 9092, 9116]\n"
     ]
    },
    {
     "data": {
      "application/vnd.jupyter.widget-view+json": {
       "model_id": "3c6d961e57e34164988a485c4f113f92",
       "version_major": 2,
       "version_minor": 0
      },
      "text/plain": [
       "0it [00:00, ?it/s]"
      ]
     },
     "metadata": {},
     "output_type": "display_data"
    },
    {
     "name": "stdout",
     "output_type": "stream",
     "text": [
      "index: 0, peak location: 3444    194.742004\n",
      "3967    216.722000\n",
      "6800    335.785004\n",
      "9092    432.110992\n",
      "9116    433.119995\n",
      "Name: mz, dtype: float64\n",
      "index: 1, peak location: 3444    194.742004\n",
      "3967    216.722000\n",
      "6800    335.785004\n",
      "9092    432.110992\n",
      "9116    433.119995\n",
      "Name: mz, dtype: float64\n",
      "index: 2, peak location: 3444    194.742004\n",
      "3967    216.722000\n",
      "6800    335.785004\n",
      "9092    432.110992\n",
      "9116    433.119995\n",
      "Name: mz, dtype: float64\n",
      "index: 3, peak location: 3444    194.742004\n",
      "3967    216.722000\n",
      "6800    335.785004\n",
      "9092    432.110992\n",
      "9116    433.119995\n",
      "Name: mz, dtype: float64\n",
      "index: 4, peak location: 3444    194.742004\n",
      "3967    216.722000\n",
      "6800    335.785004\n",
      "9092    432.110992\n",
      "9116    433.119995\n",
      "Name: mz, dtype: float64\n",
      "peak index:  [3443, 3966, 6799, 9092, 9115]\n"
     ]
    },
    {
     "data": {
      "application/vnd.jupyter.widget-view+json": {
       "model_id": "9216467b407247c3beabf07f47bcf15e",
       "version_major": 2,
       "version_minor": 0
      },
      "text/plain": [
       "0it [00:00, ?it/s]"
      ]
     },
     "metadata": {},
     "output_type": "display_data"
    },
    {
     "name": "stdout",
     "output_type": "stream",
     "text": [
      "index: 0, peak location: 3443    194.699997\n",
      "3966    216.679993\n",
      "6799    335.743011\n",
      "9092    432.110992\n",
      "9115    433.078003\n",
      "Name: mz, dtype: float64\n",
      "index: 1, peak location: 3443    194.699997\n",
      "3966    216.679993\n",
      "6799    335.743011\n",
      "9092    432.110992\n",
      "9115    433.078003\n",
      "Name: mz, dtype: float64\n",
      "index: 2, peak location: 3443    194.699997\n",
      "3966    216.679993\n",
      "6799    335.743011\n",
      "9092    432.110992\n",
      "9115    433.078003\n",
      "Name: mz, dtype: float64\n",
      "index: 3, peak location: 3443    194.699997\n",
      "3966    216.679993\n",
      "6799    335.743011\n",
      "9092    432.110992\n",
      "9115    433.078003\n",
      "Name: mz, dtype: float64\n",
      "index: 4, peak location: 3443    194.699997\n",
      "3966    216.679993\n",
      "6799    335.743011\n",
      "9092    432.110992\n",
      "9115    433.078003\n",
      "Name: mz, dtype: float64\n",
      "peak index:  [3444, 3967, 6799, 9092, 9116]\n"
     ]
    },
    {
     "data": {
      "application/vnd.jupyter.widget-view+json": {
       "model_id": "d9d8aa8116f947d29d23456d9218522b",
       "version_major": 2,
       "version_minor": 0
      },
      "text/plain": [
       "0it [00:00, ?it/s]"
      ]
     },
     "metadata": {},
     "output_type": "display_data"
    },
    {
     "name": "stdout",
     "output_type": "stream",
     "text": [
      "index: 0, peak location: 3444    194.742004\n",
      "3967    216.722000\n",
      "6799    335.743011\n",
      "9092    432.110992\n",
      "9116    433.119995\n",
      "Name: mz, dtype: float64\n",
      "index: 1, peak location: 3444    194.742004\n",
      "3967    216.722000\n",
      "6799    335.743011\n",
      "9092    432.110992\n",
      "9116    433.119995\n",
      "Name: mz, dtype: float64\n",
      "index: 2, peak location: 3444    194.742004\n",
      "3967    216.722000\n",
      "6799    335.743011\n",
      "9092    432.110992\n",
      "9116    433.119995\n",
      "Name: mz, dtype: float64\n",
      "index: 3, peak location: 3444    194.742004\n",
      "3967    216.722000\n",
      "6799    335.743011\n",
      "9092    432.110992\n",
      "9116    433.119995\n",
      "Name: mz, dtype: float64\n",
      "index: 4, peak location: 3444    194.742004\n",
      "3967    216.722000\n",
      "6799    335.743011\n",
      "9092    432.110992\n",
      "9116    433.119995\n",
      "Name: mz, dtype: float64\n"
     ]
    },
    {
     "data": {
      "application/vnd.jupyter.widget-view+json": {
       "model_id": "975029c318994e1abdb63acefea33fe5",
       "version_major": 2,
       "version_minor": 0
      },
      "text/plain": [
       "0it [00:00, ?it/s]"
      ]
     },
     "metadata": {},
     "output_type": "display_data"
    },
    {
     "name": "stdout",
     "output_type": "stream",
     "text": [
      "peak index:  [7288]\n"
     ]
    },
    {
     "data": {
      "application/vnd.jupyter.widget-view+json": {
       "model_id": "3dabb6f85cab4ab9af31a1d5e4c93e46",
       "version_major": 2,
       "version_minor": 0
      },
      "text/plain": [
       "0it [00:00, ?it/s]"
      ]
     },
     "metadata": {},
     "output_type": "display_data"
    },
    {
     "name": "stdout",
     "output_type": "stream",
     "text": [
      "index: 0, peak location: 7288    431.393005\n",
      "Name: mz, dtype: float64\n",
      "peak index:  [7305]\n"
     ]
    },
    {
     "data": {
      "application/vnd.jupyter.widget-view+json": {
       "model_id": "b6e1438f50ff460e83969130f75fea97",
       "version_major": 2,
       "version_minor": 0
      },
      "text/plain": [
       "0it [00:00, ?it/s]"
      ]
     },
     "metadata": {},
     "output_type": "display_data"
    },
    {
     "name": "stdout",
     "output_type": "stream",
     "text": [
      "index: 0, peak location: 7305    432.282013\n",
      "Name: mz, dtype: float64\n",
      "peak index:  [7307]\n"
     ]
    },
    {
     "data": {
      "application/vnd.jupyter.widget-view+json": {
       "model_id": "a2ae10997a6547ec94ba9e35fcc83078",
       "version_major": 2,
       "version_minor": 0
      },
      "text/plain": [
       "0it [00:00, ?it/s]"
      ]
     },
     "metadata": {},
     "output_type": "display_data"
    },
    {
     "name": "stdout",
     "output_type": "stream",
     "text": [
      "index: 0, peak location: 7307    432.386993\n",
      "Name: mz, dtype: float64\n",
      "peak index:  [7301]\n"
     ]
    },
    {
     "data": {
      "application/vnd.jupyter.widget-view+json": {
       "model_id": "a73ce6131f7f45da84aefbe8cc2f0112",
       "version_major": 2,
       "version_minor": 0
      },
      "text/plain": [
       "0it [00:00, ?it/s]"
      ]
     },
     "metadata": {},
     "output_type": "display_data"
    },
    {
     "name": "stdout",
     "output_type": "stream",
     "text": [
      "index: 0, peak location: 7301    432.072998\n",
      "Name: mz, dtype: float64\n",
      "peak index:  [7303]\n"
     ]
    },
    {
     "data": {
      "application/vnd.jupyter.widget-view+json": {
       "model_id": "d8de9b129a9c43cd99a44097268855dc",
       "version_major": 2,
       "version_minor": 0
      },
      "text/plain": [
       "0it [00:00, ?it/s]"
      ]
     },
     "metadata": {},
     "output_type": "display_data"
    },
    {
     "name": "stdout",
     "output_type": "stream",
     "text": [
      "index: 0, peak location: 7303    432.178009\n",
      "Name: mz, dtype: float64\n",
      "peak index:  [7307]\n"
     ]
    },
    {
     "data": {
      "application/vnd.jupyter.widget-view+json": {
       "model_id": "3ae2e42c296242bd87eec4fb44ff7a25",
       "version_major": 2,
       "version_minor": 0
      },
      "text/plain": [
       "0it [00:00, ?it/s]"
      ]
     },
     "metadata": {},
     "output_type": "display_data"
    },
    {
     "name": "stdout",
     "output_type": "stream",
     "text": [
      "index: 0, peak location: 7307    432.386993\n",
      "Name: mz, dtype: float64\n",
      "peak index:  [7299, 7305]\n"
     ]
    },
    {
     "data": {
      "application/vnd.jupyter.widget-view+json": {
       "model_id": "5e6732d0bc1246beb21d7969a35cf91b",
       "version_major": 2,
       "version_minor": 0
      },
      "text/plain": [
       "0it [00:00, ?it/s]"
      ]
     },
     "metadata": {},
     "output_type": "display_data"
    },
    {
     "name": "stdout",
     "output_type": "stream",
     "text": [
      "index: 0, peak location: 7299    431.968994\n",
      "7305    432.282013\n",
      "Name: mz, dtype: float64\n",
      "index: 1, peak location: 7299    431.968994\n",
      "7305    432.282013\n",
      "Name: mz, dtype: float64\n",
      "peak index:  [7306]\n"
     ]
    },
    {
     "data": {
      "application/vnd.jupyter.widget-view+json": {
       "model_id": "40444db7ff094c06b04f05d21c5b5e37",
       "version_major": 2,
       "version_minor": 0
      },
      "text/plain": [
       "0it [00:00, ?it/s]"
      ]
     },
     "metadata": {},
     "output_type": "display_data"
    },
    {
     "name": "stdout",
     "output_type": "stream",
     "text": [
      "index: 0, peak location: 7306    432.334991\n",
      "Name: mz, dtype: float64\n",
      "peak index:  [7301]\n"
     ]
    },
    {
     "data": {
      "application/vnd.jupyter.widget-view+json": {
       "model_id": "9ed75480cef34cdf95de717878cf9b2a",
       "version_major": 2,
       "version_minor": 0
      },
      "text/plain": [
       "0it [00:00, ?it/s]"
      ]
     },
     "metadata": {},
     "output_type": "display_data"
    },
    {
     "name": "stdout",
     "output_type": "stream",
     "text": [
      "index: 0, peak location: 7301    432.072998\n",
      "Name: mz, dtype: float64\n",
      "peak index:  [7302, 7306]\n"
     ]
    },
    {
     "data": {
      "application/vnd.jupyter.widget-view+json": {
       "model_id": "7b708fb98ef948039a3ee18a2269477c",
       "version_major": 2,
       "version_minor": 0
      },
      "text/plain": [
       "0it [00:00, ?it/s]"
      ]
     },
     "metadata": {},
     "output_type": "display_data"
    },
    {
     "name": "stdout",
     "output_type": "stream",
     "text": [
      "index: 0, peak location: 7302    432.125000\n",
      "7306    432.334991\n",
      "Name: mz, dtype: float64\n",
      "index: 1, peak location: 7302    432.125000\n",
      "7306    432.334991\n",
      "Name: mz, dtype: float64\n",
      "peak index:  [7307]\n"
     ]
    },
    {
     "data": {
      "application/vnd.jupyter.widget-view+json": {
       "model_id": "df6d42ac6e3b4efc8645fa8773c8777e",
       "version_major": 2,
       "version_minor": 0
      },
      "text/plain": [
       "0it [00:00, ?it/s]"
      ]
     },
     "metadata": {},
     "output_type": "display_data"
    },
    {
     "name": "stdout",
     "output_type": "stream",
     "text": [
      "index: 0, peak location: 7307    432.386993\n",
      "Name: mz, dtype: float64\n",
      "peak index:  [7305]\n"
     ]
    },
    {
     "data": {
      "application/vnd.jupyter.widget-view+json": {
       "model_id": "f543a1f414d049f9932bed49d0dbfead",
       "version_major": 2,
       "version_minor": 0
      },
      "text/plain": [
       "0it [00:00, ?it/s]"
      ]
     },
     "metadata": {},
     "output_type": "display_data"
    },
    {
     "name": "stdout",
     "output_type": "stream",
     "text": [
      "index: 0, peak location: 7305    432.282013\n",
      "Name: mz, dtype: float64\n",
      "peak index:  [7304, 7308]\n"
     ]
    },
    {
     "data": {
      "application/vnd.jupyter.widget-view+json": {
       "model_id": "c139554f89c04f408b5ffcbdfdee144b",
       "version_major": 2,
       "version_minor": 0
      },
      "text/plain": [
       "0it [00:00, ?it/s]"
      ]
     },
     "metadata": {},
     "output_type": "display_data"
    },
    {
     "name": "stdout",
     "output_type": "stream",
     "text": [
      "index: 0, peak location: 7304    432.230011\n",
      "7308    432.438995\n",
      "Name: mz, dtype: float64\n",
      "index: 1, peak location: 7304    432.230011\n",
      "7308    432.438995\n",
      "Name: mz, dtype: float64\n",
      "peak index:  [7306]\n"
     ]
    },
    {
     "data": {
      "application/vnd.jupyter.widget-view+json": {
       "model_id": "69984876b2624fb5aa10e63041ffb011",
       "version_major": 2,
       "version_minor": 0
      },
      "text/plain": [
       "0it [00:00, ?it/s]"
      ]
     },
     "metadata": {},
     "output_type": "display_data"
    },
    {
     "name": "stdout",
     "output_type": "stream",
     "text": [
      "index: 0, peak location: 7306    432.334991\n",
      "Name: mz, dtype: float64\n",
      "peak index:  [7304]\n"
     ]
    },
    {
     "data": {
      "application/vnd.jupyter.widget-view+json": {
       "model_id": "4b0f9e4488f449e8800d247f80bad21e",
       "version_major": 2,
       "version_minor": 0
      },
      "text/plain": [
       "0it [00:00, ?it/s]"
      ]
     },
     "metadata": {},
     "output_type": "display_data"
    },
    {
     "name": "stdout",
     "output_type": "stream",
     "text": [
      "index: 0, peak location: 7304    432.230011\n",
      "Name: mz, dtype: float64\n",
      "peak index:  [7305]\n"
     ]
    },
    {
     "data": {
      "application/vnd.jupyter.widget-view+json": {
       "model_id": "849a12d307154a449bee20ba667e08f3",
       "version_major": 2,
       "version_minor": 0
      },
      "text/plain": [
       "0it [00:00, ?it/s]"
      ]
     },
     "metadata": {},
     "output_type": "display_data"
    },
    {
     "name": "stdout",
     "output_type": "stream",
     "text": [
      "index: 0, peak location: 7305    432.282013\n",
      "Name: mz, dtype: float64\n",
      "peak index:  [7305]\n"
     ]
    },
    {
     "data": {
      "application/vnd.jupyter.widget-view+json": {
       "model_id": "0e6447e79742446dafc23fe15ea28414",
       "version_major": 2,
       "version_minor": 0
      },
      "text/plain": [
       "0it [00:00, ?it/s]"
      ]
     },
     "metadata": {},
     "output_type": "display_data"
    },
    {
     "name": "stdout",
     "output_type": "stream",
     "text": [
      "index: 0, peak location: 7305    432.282013\n",
      "Name: mz, dtype: float64\n",
      "peak index:  [7303]\n"
     ]
    },
    {
     "data": {
      "application/vnd.jupyter.widget-view+json": {
       "model_id": "37e7bdef2eef46a49222e653553d95b6",
       "version_major": 2,
       "version_minor": 0
      },
      "text/plain": [
       "0it [00:00, ?it/s]"
      ]
     },
     "metadata": {},
     "output_type": "display_data"
    },
    {
     "name": "stdout",
     "output_type": "stream",
     "text": [
      "index: 0, peak location: 7303    432.178009\n",
      "Name: mz, dtype: float64\n",
      "peak index:  [7305]\n"
     ]
    },
    {
     "data": {
      "application/vnd.jupyter.widget-view+json": {
       "model_id": "48ea2347016a45b58896d12ded2aa0fe",
       "version_major": 2,
       "version_minor": 0
      },
      "text/plain": [
       "0it [00:00, ?it/s]"
      ]
     },
     "metadata": {},
     "output_type": "display_data"
    },
    {
     "name": "stdout",
     "output_type": "stream",
     "text": [
      "index: 0, peak location: 7305    432.282013\n",
      "Name: mz, dtype: float64\n",
      "peak index:  [7304]\n"
     ]
    },
    {
     "data": {
      "application/vnd.jupyter.widget-view+json": {
       "model_id": "9e698c0f565a45eea892eee99752c91b",
       "version_major": 2,
       "version_minor": 0
      },
      "text/plain": [
       "0it [00:00, ?it/s]"
      ]
     },
     "metadata": {},
     "output_type": "display_data"
    },
    {
     "name": "stdout",
     "output_type": "stream",
     "text": [
      "index: 0, peak location: 7304    432.230011\n",
      "Name: mz, dtype: float64\n",
      "peak index:  [7300, 7305]\n"
     ]
    },
    {
     "data": {
      "application/vnd.jupyter.widget-view+json": {
       "model_id": "d6b81168837e4cd7b50c1e2bb74fda59",
       "version_major": 2,
       "version_minor": 0
      },
      "text/plain": [
       "0it [00:00, ?it/s]"
      ]
     },
     "metadata": {},
     "output_type": "display_data"
    },
    {
     "name": "stdout",
     "output_type": "stream",
     "text": [
      "index: 0, peak location: 7300    432.020996\n",
      "7305    432.282013\n",
      "Name: mz, dtype: float64\n",
      "index: 1, peak location: 7300    432.020996\n",
      "7305    432.282013\n",
      "Name: mz, dtype: float64\n",
      "peak index:  [7301]\n"
     ]
    },
    {
     "data": {
      "application/vnd.jupyter.widget-view+json": {
       "model_id": "4e2319e0761d443f9301816de22ed9bd",
       "version_major": 2,
       "version_minor": 0
      },
      "text/plain": [
       "0it [00:00, ?it/s]"
      ]
     },
     "metadata": {},
     "output_type": "display_data"
    },
    {
     "name": "stdout",
     "output_type": "stream",
     "text": [
      "index: 0, peak location: 7301    432.072998\n",
      "Name: mz, dtype: float64\n",
      "peak index:  [7300]\n"
     ]
    },
    {
     "data": {
      "application/vnd.jupyter.widget-view+json": {
       "model_id": "07de2e9103f54dde8456f69c1961c88b",
       "version_major": 2,
       "version_minor": 0
      },
      "text/plain": [
       "0it [00:00, ?it/s]"
      ]
     },
     "metadata": {},
     "output_type": "display_data"
    },
    {
     "name": "stdout",
     "output_type": "stream",
     "text": [
      "index: 0, peak location: 7300    432.020996\n",
      "Name: mz, dtype: float64\n",
      "peak index:  [7301]\n"
     ]
    },
    {
     "data": {
      "application/vnd.jupyter.widget-view+json": {
       "model_id": "bb333c8b9ae043089a952a8d174d544a",
       "version_major": 2,
       "version_minor": 0
      },
      "text/plain": [
       "0it [00:00, ?it/s]"
      ]
     },
     "metadata": {},
     "output_type": "display_data"
    },
    {
     "name": "stdout",
     "output_type": "stream",
     "text": [
      "index: 0, peak location: 7301    432.072998\n",
      "Name: mz, dtype: float64\n",
      "peak index:  [7308]\n"
     ]
    },
    {
     "data": {
      "application/vnd.jupyter.widget-view+json": {
       "model_id": "35b4741f2d59413995af6c54f71c9799",
       "version_major": 2,
       "version_minor": 0
      },
      "text/plain": [
       "0it [00:00, ?it/s]"
      ]
     },
     "metadata": {},
     "output_type": "display_data"
    },
    {
     "name": "stdout",
     "output_type": "stream",
     "text": [
      "index: 0, peak location: 7308    432.438995\n",
      "Name: mz, dtype: float64\n",
      "peak index:  [7306, 7308]\n"
     ]
    },
    {
     "data": {
      "application/vnd.jupyter.widget-view+json": {
       "model_id": "611ff0375ed144ab8b986a82a5f2b3d1",
       "version_major": 2,
       "version_minor": 0
      },
      "text/plain": [
       "0it [00:00, ?it/s]"
      ]
     },
     "metadata": {},
     "output_type": "display_data"
    },
    {
     "name": "stdout",
     "output_type": "stream",
     "text": [
      "index: 0, peak location: 7306    432.334991\n",
      "7308    432.438995\n",
      "Name: mz, dtype: float64\n",
      "index: 1, peak location: 7306    432.334991\n",
      "7308    432.438995\n",
      "Name: mz, dtype: float64\n",
      "peak index:  [7300]\n"
     ]
    },
    {
     "data": {
      "application/vnd.jupyter.widget-view+json": {
       "model_id": "bde842ca95aa4646a976fee8f4900460",
       "version_major": 2,
       "version_minor": 0
      },
      "text/plain": [
       "0it [00:00, ?it/s]"
      ]
     },
     "metadata": {},
     "output_type": "display_data"
    },
    {
     "name": "stdout",
     "output_type": "stream",
     "text": [
      "index: 0, peak location: 7300    432.020996\n",
      "Name: mz, dtype: float64\n",
      "peak index:  [7304]\n"
     ]
    },
    {
     "data": {
      "application/vnd.jupyter.widget-view+json": {
       "model_id": "b7e90b8793874ff1a0bdf6d5eaa46327",
       "version_major": 2,
       "version_minor": 0
      },
      "text/plain": [
       "0it [00:00, ?it/s]"
      ]
     },
     "metadata": {},
     "output_type": "display_data"
    },
    {
     "name": "stdout",
     "output_type": "stream",
     "text": [
      "index: 0, peak location: 7304    432.230011\n",
      "Name: mz, dtype: float64\n",
      "peak index:  [7307]\n"
     ]
    },
    {
     "data": {
      "application/vnd.jupyter.widget-view+json": {
       "model_id": "d4ff772c5b854f8b8682ddb7321607eb",
       "version_major": 2,
       "version_minor": 0
      },
      "text/plain": [
       "0it [00:00, ?it/s]"
      ]
     },
     "metadata": {},
     "output_type": "display_data"
    },
    {
     "name": "stdout",
     "output_type": "stream",
     "text": [
      "index: 0, peak location: 7307    432.386993\n",
      "Name: mz, dtype: float64\n",
      "peak index:  [7288, 7306]\n"
     ]
    },
    {
     "data": {
      "application/vnd.jupyter.widget-view+json": {
       "model_id": "c232deafb02941eab649273cf421befb",
       "version_major": 2,
       "version_minor": 0
      },
      "text/plain": [
       "0it [00:00, ?it/s]"
      ]
     },
     "metadata": {},
     "output_type": "display_data"
    },
    {
     "name": "stdout",
     "output_type": "stream",
     "text": [
      "index: 0, peak location: 7288    431.393005\n",
      "7306    432.334991\n",
      "Name: mz, dtype: float64\n",
      "index: 1, peak location: 7288    431.393005\n",
      "7306    432.334991\n",
      "Name: mz, dtype: float64\n",
      "peak index:  [7303]\n"
     ]
    },
    {
     "data": {
      "application/vnd.jupyter.widget-view+json": {
       "model_id": "6bcb2cc1785c428094c4c763b4411726",
       "version_major": 2,
       "version_minor": 0
      },
      "text/plain": [
       "0it [00:00, ?it/s]"
      ]
     },
     "metadata": {},
     "output_type": "display_data"
    },
    {
     "name": "stdout",
     "output_type": "stream",
     "text": [
      "index: 0, peak location: 7303    432.178009\n",
      "Name: mz, dtype: float64\n",
      "peak index:  [7302]\n"
     ]
    },
    {
     "data": {
      "application/vnd.jupyter.widget-view+json": {
       "model_id": "fe275c1e8a994c7fb2149f3f32bcec6b",
       "version_major": 2,
       "version_minor": 0
      },
      "text/plain": [
       "0it [00:00, ?it/s]"
      ]
     },
     "metadata": {},
     "output_type": "display_data"
    },
    {
     "name": "stdout",
     "output_type": "stream",
     "text": [
      "index: 0, peak location: 7302    432.125\n",
      "Name: mz, dtype: float64\n",
      "peak index:  [7302]\n"
     ]
    },
    {
     "data": {
      "application/vnd.jupyter.widget-view+json": {
       "model_id": "0b3c5e42593a4cfaac47479e50b672f4",
       "version_major": 2,
       "version_minor": 0
      },
      "text/plain": [
       "0it [00:00, ?it/s]"
      ]
     },
     "metadata": {},
     "output_type": "display_data"
    },
    {
     "name": "stdout",
     "output_type": "stream",
     "text": [
      "index: 0, peak location: 7302    432.125\n",
      "Name: mz, dtype: float64\n",
      "peak index:  [7304]\n"
     ]
    },
    {
     "data": {
      "application/vnd.jupyter.widget-view+json": {
       "model_id": "0fe224b4b160487291e7578c8a719d6c",
       "version_major": 2,
       "version_minor": 0
      },
      "text/plain": [
       "0it [00:00, ?it/s]"
      ]
     },
     "metadata": {},
     "output_type": "display_data"
    },
    {
     "name": "stdout",
     "output_type": "stream",
     "text": [
      "index: 0, peak location: 7304    432.230011\n",
      "Name: mz, dtype: float64\n",
      "peak index:  [7300]\n"
     ]
    },
    {
     "data": {
      "application/vnd.jupyter.widget-view+json": {
       "model_id": "36fbbc46477d41ba8de6056596dccf39",
       "version_major": 2,
       "version_minor": 0
      },
      "text/plain": [
       "0it [00:00, ?it/s]"
      ]
     },
     "metadata": {},
     "output_type": "display_data"
    },
    {
     "name": "stdout",
     "output_type": "stream",
     "text": [
      "index: 0, peak location: 7300    432.020996\n",
      "Name: mz, dtype: float64\n",
      "peak index:  [7301]\n"
     ]
    },
    {
     "data": {
      "application/vnd.jupyter.widget-view+json": {
       "model_id": "b9f1246d79334e95b5083e07fd2942e3",
       "version_major": 2,
       "version_minor": 0
      },
      "text/plain": [
       "0it [00:00, ?it/s]"
      ]
     },
     "metadata": {},
     "output_type": "display_data"
    },
    {
     "name": "stdout",
     "output_type": "stream",
     "text": [
      "index: 0, peak location: 7301    432.072998\n",
      "Name: mz, dtype: float64\n",
      "peak index:  [7307]\n"
     ]
    },
    {
     "data": {
      "application/vnd.jupyter.widget-view+json": {
       "model_id": "72033fe52f214947b66967dc20202c68",
       "version_major": 2,
       "version_minor": 0
      },
      "text/plain": [
       "0it [00:00, ?it/s]"
      ]
     },
     "metadata": {},
     "output_type": "display_data"
    },
    {
     "name": "stdout",
     "output_type": "stream",
     "text": [
      "index: 0, peak location: 7307    432.386993\n",
      "Name: mz, dtype: float64\n",
      "peak index:  [7304]\n"
     ]
    },
    {
     "data": {
      "application/vnd.jupyter.widget-view+json": {
       "model_id": "3c95451cf4ea4dd591a1a0118d1f7012",
       "version_major": 2,
       "version_minor": 0
      },
      "text/plain": [
       "0it [00:00, ?it/s]"
      ]
     },
     "metadata": {},
     "output_type": "display_data"
    },
    {
     "name": "stdout",
     "output_type": "stream",
     "text": [
      "index: 0, peak location: 7304    432.230011\n",
      "Name: mz, dtype: float64\n",
      "peak index:  [7309]\n"
     ]
    },
    {
     "data": {
      "application/vnd.jupyter.widget-view+json": {
       "model_id": "64628ad6ac8f48c2a61745484907dc25",
       "version_major": 2,
       "version_minor": 0
      },
      "text/plain": [
       "0it [00:00, ?it/s]"
      ]
     },
     "metadata": {},
     "output_type": "display_data"
    },
    {
     "name": "stdout",
     "output_type": "stream",
     "text": [
      "index: 0, peak location: 7309    432.492004\n",
      "Name: mz, dtype: float64\n",
      "peak index:  [7307]\n"
     ]
    },
    {
     "data": {
      "application/vnd.jupyter.widget-view+json": {
       "model_id": "a22b4fe1f7574ea6a6d1bc5613593d54",
       "version_major": 2,
       "version_minor": 0
      },
      "text/plain": [
       "0it [00:00, ?it/s]"
      ]
     },
     "metadata": {},
     "output_type": "display_data"
    },
    {
     "name": "stdout",
     "output_type": "stream",
     "text": [
      "index: 0, peak location: 7307    432.386993\n",
      "Name: mz, dtype: float64\n",
      "peak index:  [7304]\n"
     ]
    },
    {
     "data": {
      "application/vnd.jupyter.widget-view+json": {
       "model_id": "d4069751bce7457484e6f8bf7f6198a3",
       "version_major": 2,
       "version_minor": 0
      },
      "text/plain": [
       "0it [00:00, ?it/s]"
      ]
     },
     "metadata": {},
     "output_type": "display_data"
    },
    {
     "name": "stdout",
     "output_type": "stream",
     "text": [
      "index: 0, peak location: 7304    432.230011\n",
      "Name: mz, dtype: float64\n",
      "peak index:  [7310]\n"
     ]
    },
    {
     "data": {
      "application/vnd.jupyter.widget-view+json": {
       "model_id": "1522f88a2aa14bdf985c6b0bddfc1837",
       "version_major": 2,
       "version_minor": 0
      },
      "text/plain": [
       "0it [00:00, ?it/s]"
      ]
     },
     "metadata": {},
     "output_type": "display_data"
    },
    {
     "name": "stdout",
     "output_type": "stream",
     "text": [
      "index: 0, peak location: 7310    432.544006\n",
      "Name: mz, dtype: float64\n",
      "peak index:  [7299]\n"
     ]
    },
    {
     "data": {
      "application/vnd.jupyter.widget-view+json": {
       "model_id": "ffa85ee352404047af52c02547275033",
       "version_major": 2,
       "version_minor": 0
      },
      "text/plain": [
       "0it [00:00, ?it/s]"
      ]
     },
     "metadata": {},
     "output_type": "display_data"
    },
    {
     "name": "stdout",
     "output_type": "stream",
     "text": [
      "index: 0, peak location: 7299    431.968994\n",
      "Name: mz, dtype: float64\n",
      "peak index:  [7306]\n"
     ]
    },
    {
     "data": {
      "application/vnd.jupyter.widget-view+json": {
       "model_id": "3e665864174c4e368d71403d578b407c",
       "version_major": 2,
       "version_minor": 0
      },
      "text/plain": [
       "0it [00:00, ?it/s]"
      ]
     },
     "metadata": {},
     "output_type": "display_data"
    },
    {
     "name": "stdout",
     "output_type": "stream",
     "text": [
      "index: 0, peak location: 7306    432.334991\n",
      "Name: mz, dtype: float64\n",
      "peak index:  [7303, 7306]\n"
     ]
    },
    {
     "data": {
      "application/vnd.jupyter.widget-view+json": {
       "model_id": "8bf74162a6cb4daf8b3f8c74db2ff087",
       "version_major": 2,
       "version_minor": 0
      },
      "text/plain": [
       "0it [00:00, ?it/s]"
      ]
     },
     "metadata": {},
     "output_type": "display_data"
    },
    {
     "name": "stdout",
     "output_type": "stream",
     "text": [
      "index: 0, peak location: 7303    432.178009\n",
      "7306    432.334991\n",
      "Name: mz, dtype: float64\n",
      "index: 1, peak location: 7303    432.178009\n",
      "7306    432.334991\n",
      "Name: mz, dtype: float64\n",
      "peak index:  [7302]\n"
     ]
    },
    {
     "data": {
      "application/vnd.jupyter.widget-view+json": {
       "model_id": "fc443661c89b482b8d79db3431d89bdc",
       "version_major": 2,
       "version_minor": 0
      },
      "text/plain": [
       "0it [00:00, ?it/s]"
      ]
     },
     "metadata": {},
     "output_type": "display_data"
    },
    {
     "name": "stdout",
     "output_type": "stream",
     "text": [
      "index: 0, peak location: 7302    432.125\n",
      "Name: mz, dtype: float64\n",
      "peak index:  [7302, 7308]\n"
     ]
    },
    {
     "data": {
      "application/vnd.jupyter.widget-view+json": {
       "model_id": "720e36286af0427cb75afc30999f8941",
       "version_major": 2,
       "version_minor": 0
      },
      "text/plain": [
       "0it [00:00, ?it/s]"
      ]
     },
     "metadata": {},
     "output_type": "display_data"
    },
    {
     "name": "stdout",
     "output_type": "stream",
     "text": [
      "index: 0, peak location: 7302    432.125000\n",
      "7308    432.438995\n",
      "Name: mz, dtype: float64\n",
      "index: 1, peak location: 7302    432.125000\n",
      "7308    432.438995\n",
      "Name: mz, dtype: float64\n",
      "peak index:  [7306]\n"
     ]
    },
    {
     "data": {
      "application/vnd.jupyter.widget-view+json": {
       "model_id": "37542f04b6fb4bc6af83205712776246",
       "version_major": 2,
       "version_minor": 0
      },
      "text/plain": [
       "0it [00:00, ?it/s]"
      ]
     },
     "metadata": {},
     "output_type": "display_data"
    },
    {
     "name": "stdout",
     "output_type": "stream",
     "text": [
      "index: 0, peak location: 7306    432.334991\n",
      "Name: mz, dtype: float64\n"
     ]
    },
    {
     "data": {
      "application/vnd.jupyter.widget-view+json": {
       "model_id": "5e43f78e089845ef8235242c2e79334e",
       "version_major": 2,
       "version_minor": 0
      },
      "text/plain": [
       "0it [00:00, ?it/s]"
      ]
     },
     "metadata": {},
     "output_type": "display_data"
    },
    {
     "name": "stdout",
     "output_type": "stream",
     "text": [
      "peak index:  [1900, 3444, 3966, 6799, 9091, 9114]\n"
     ]
    },
    {
     "data": {
      "application/vnd.jupyter.widget-view+json": {
       "model_id": "9e63ef3c1c0f40ba8653c23f8c4a47bd",
       "version_major": 2,
       "version_minor": 0
      },
      "text/plain": [
       "0it [00:00, ?it/s]"
      ]
     },
     "metadata": {},
     "output_type": "display_data"
    },
    {
     "name": "stdout",
     "output_type": "stream",
     "text": [
      "index: 0, peak location: 1900    129.852005\n",
      "3444    194.742004\n",
      "3966    216.679993\n",
      "6799    335.743011\n",
      "9091    432.069000\n",
      "9114    433.036011\n",
      "Name: mz, dtype: float64\n",
      "index: 1, peak location: 1900    129.852005\n",
      "3444    194.742004\n",
      "3966    216.679993\n",
      "6799    335.743011\n",
      "9091    432.069000\n",
      "9114    433.036011\n",
      "Name: mz, dtype: float64\n",
      "index: 2, peak location: 1900    129.852005\n",
      "3444    194.742004\n",
      "3966    216.679993\n",
      "6799    335.743011\n",
      "9091    432.069000\n",
      "9114    433.036011\n",
      "Name: mz, dtype: float64\n",
      "index: 3, peak location: 1900    129.852005\n",
      "3444    194.742004\n",
      "3966    216.679993\n",
      "6799    335.743011\n",
      "9091    432.069000\n",
      "9114    433.036011\n",
      "Name: mz, dtype: float64\n",
      "index: 4, peak location: 1900    129.852005\n",
      "3444    194.742004\n",
      "3966    216.679993\n",
      "6799    335.743011\n",
      "9091    432.069000\n",
      "9114    433.036011\n",
      "Name: mz, dtype: float64\n",
      "index: 5, peak location: 1900    129.852005\n",
      "3444    194.742004\n",
      "3966    216.679993\n",
      "6799    335.743011\n",
      "9091    432.069000\n",
      "9114    433.036011\n",
      "Name: mz, dtype: float64\n",
      "peak index:  [472]\n"
     ]
    },
    {
     "data": {
      "application/vnd.jupyter.widget-view+json": {
       "model_id": "8bea5d7f367f4e43bf23caa529757242",
       "version_major": 2,
       "version_minor": 0
      },
      "text/plain": [
       "0it [00:00, ?it/s]"
      ]
     },
     "metadata": {},
     "output_type": "display_data"
    },
    {
     "name": "stdout",
     "output_type": "stream",
     "text": [
      "index: 0, peak location: 472    129.848007\n",
      "Name: mz, dtype: float64\n",
      "peak index:  [1938, 1962]\n"
     ]
    },
    {
     "data": {
      "application/vnd.jupyter.widget-view+json": {
       "model_id": "0d3a693cbb9346699dd41b690eef0daf",
       "version_major": 2,
       "version_minor": 0
      },
      "text/plain": [
       "0it [00:00, ?it/s]"
      ]
     },
     "metadata": {},
     "output_type": "display_data"
    },
    {
     "name": "stdout",
     "output_type": "stream",
     "text": [
      "index: 0, peak location: 1938    335.567993\n",
      "1962    336.575989\n",
      "Name: mz, dtype: float64\n",
      "index: 1, peak location: 1938    335.567993\n",
      "1962    336.575989\n",
      "Name: mz, dtype: float64\n",
      "peak index:  [1900, 3444, 3966, 6799, 9091, 9114]\n"
     ]
    },
    {
     "data": {
      "application/vnd.jupyter.widget-view+json": {
       "model_id": "15b1ae4fd1984543a5f29bfc5433c80e",
       "version_major": 2,
       "version_minor": 0
      },
      "text/plain": [
       "0it [00:00, ?it/s]"
      ]
     },
     "metadata": {},
     "output_type": "display_data"
    },
    {
     "name": "stdout",
     "output_type": "stream",
     "text": [
      "index: 0, peak location: 1900    129.852005\n",
      "3444    194.742004\n",
      "3966    216.679993\n",
      "6799    335.743011\n",
      "9091    432.069000\n",
      "9114    433.036011\n",
      "Name: mz, dtype: float64\n",
      "index: 1, peak location: 1900    129.852005\n",
      "3444    194.742004\n",
      "3966    216.679993\n",
      "6799    335.743011\n",
      "9091    432.069000\n",
      "9114    433.036011\n",
      "Name: mz, dtype: float64\n",
      "index: 2, peak location: 1900    129.852005\n",
      "3444    194.742004\n",
      "3966    216.679993\n",
      "6799    335.743011\n",
      "9091    432.069000\n",
      "9114    433.036011\n",
      "Name: mz, dtype: float64\n",
      "index: 3, peak location: 1900    129.852005\n",
      "3444    194.742004\n",
      "3966    216.679993\n",
      "6799    335.743011\n",
      "9091    432.069000\n",
      "9114    433.036011\n",
      "Name: mz, dtype: float64\n",
      "index: 4, peak location: 1900    129.852005\n",
      "3444    194.742004\n",
      "3966    216.679993\n",
      "6799    335.743011\n",
      "9091    432.069000\n",
      "9114    433.036011\n",
      "Name: mz, dtype: float64\n",
      "index: 5, peak location: 1900    129.852005\n",
      "3444    194.742004\n",
      "3966    216.679993\n",
      "6799    335.743011\n",
      "9091    432.069000\n",
      "9114    433.036011\n",
      "Name: mz, dtype: float64\n",
      "peak index:  [472]\n"
     ]
    },
    {
     "data": {
      "application/vnd.jupyter.widget-view+json": {
       "model_id": "2d2fd429d9bf406aaa6a44422408acca",
       "version_major": 2,
       "version_minor": 0
      },
      "text/plain": [
       "0it [00:00, ?it/s]"
      ]
     },
     "metadata": {},
     "output_type": "display_data"
    },
    {
     "name": "stdout",
     "output_type": "stream",
     "text": [
      "index: 0, peak location: 472    129.848007\n",
      "Name: mz, dtype: float64\n",
      "peak index:  [1939, 1962]\n"
     ]
    },
    {
     "data": {
      "application/vnd.jupyter.widget-view+json": {
       "model_id": "65eb5f249ad8450c9afdc662ddef2e90",
       "version_major": 2,
       "version_minor": 0
      },
      "text/plain": [
       "0it [00:00, ?it/s]"
      ]
     },
     "metadata": {},
     "output_type": "display_data"
    },
    {
     "name": "stdout",
     "output_type": "stream",
     "text": [
      "index: 0, peak location: 1939    335.609985\n",
      "1962    336.575989\n",
      "Name: mz, dtype: float64\n",
      "index: 1, peak location: 1939    335.609985\n",
      "1962    336.575989\n",
      "Name: mz, dtype: float64\n",
      "peak index:  [1900, 3444, 3967, 6799, 9091, 9114]\n"
     ]
    },
    {
     "data": {
      "application/vnd.jupyter.widget-view+json": {
       "model_id": "e477ced94692445f991412bfb3aa0b44",
       "version_major": 2,
       "version_minor": 0
      },
      "text/plain": [
       "0it [00:00, ?it/s]"
      ]
     },
     "metadata": {},
     "output_type": "display_data"
    },
    {
     "name": "stdout",
     "output_type": "stream",
     "text": [
      "index: 0, peak location: 1900    129.852005\n",
      "3444    194.742004\n",
      "3967    216.722000\n",
      "6799    335.743011\n",
      "9091    432.069000\n",
      "9114    433.036011\n",
      "Name: mz, dtype: float64\n",
      "index: 1, peak location: 1900    129.852005\n",
      "3444    194.742004\n",
      "3967    216.722000\n",
      "6799    335.743011\n",
      "9091    432.069000\n",
      "9114    433.036011\n",
      "Name: mz, dtype: float64\n",
      "index: 2, peak location: 1900    129.852005\n",
      "3444    194.742004\n",
      "3967    216.722000\n",
      "6799    335.743011\n",
      "9091    432.069000\n",
      "9114    433.036011\n",
      "Name: mz, dtype: float64\n",
      "index: 3, peak location: 1900    129.852005\n",
      "3444    194.742004\n",
      "3967    216.722000\n",
      "6799    335.743011\n",
      "9091    432.069000\n",
      "9114    433.036011\n",
      "Name: mz, dtype: float64\n",
      "index: 4, peak location: 1900    129.852005\n",
      "3444    194.742004\n",
      "3967    216.722000\n",
      "6799    335.743011\n",
      "9091    432.069000\n",
      "9114    433.036011\n",
      "Name: mz, dtype: float64\n",
      "index: 5, peak location: 1900    129.852005\n",
      "3444    194.742004\n",
      "3967    216.722000\n",
      "6799    335.743011\n",
      "9091    432.069000\n",
      "9114    433.036011\n",
      "Name: mz, dtype: float64\n",
      "peak index:  [473]\n"
     ]
    },
    {
     "data": {
      "application/vnd.jupyter.widget-view+json": {
       "model_id": "1365da26784d43539b8a102f805e721f",
       "version_major": 2,
       "version_minor": 0
      },
      "text/plain": [
       "0it [00:00, ?it/s]"
      ]
     },
     "metadata": {},
     "output_type": "display_data"
    },
    {
     "name": "stdout",
     "output_type": "stream",
     "text": [
      "index: 0, peak location: 473    129.889999\n",
      "Name: mz, dtype: float64\n",
      "peak index:  [1939, 1962]\n"
     ]
    },
    {
     "data": {
      "application/vnd.jupyter.widget-view+json": {
       "model_id": "c23eaa2cd40d4bc9b5fdd9f6ca2b5d46",
       "version_major": 2,
       "version_minor": 0
      },
      "text/plain": [
       "0it [00:00, ?it/s]"
      ]
     },
     "metadata": {},
     "output_type": "display_data"
    },
    {
     "name": "stdout",
     "output_type": "stream",
     "text": [
      "index: 0, peak location: 1939    335.609985\n",
      "1962    336.575989\n",
      "Name: mz, dtype: float64\n",
      "index: 1, peak location: 1939    335.609985\n",
      "1962    336.575989\n",
      "Name: mz, dtype: float64\n",
      "peak index:  [1900, 3444, 3967, 6799, 9090, 9114]\n"
     ]
    },
    {
     "data": {
      "application/vnd.jupyter.widget-view+json": {
       "model_id": "14d62a83f24d48e985ba74908058442d",
       "version_major": 2,
       "version_minor": 0
      },
      "text/plain": [
       "0it [00:00, ?it/s]"
      ]
     },
     "metadata": {},
     "output_type": "display_data"
    },
    {
     "name": "stdout",
     "output_type": "stream",
     "text": [
      "index: 0, peak location: 1900    129.852005\n",
      "3444    194.742004\n",
      "3967    216.722000\n",
      "6799    335.743011\n",
      "9090    432.027008\n",
      "9114    433.036011\n",
      "Name: mz, dtype: float64\n",
      "index: 1, peak location: 1900    129.852005\n",
      "3444    194.742004\n",
      "3967    216.722000\n",
      "6799    335.743011\n",
      "9090    432.027008\n",
      "9114    433.036011\n",
      "Name: mz, dtype: float64\n",
      "index: 2, peak location: 1900    129.852005\n",
      "3444    194.742004\n",
      "3967    216.722000\n",
      "6799    335.743011\n",
      "9090    432.027008\n",
      "9114    433.036011\n",
      "Name: mz, dtype: float64\n",
      "index: 3, peak location: 1900    129.852005\n",
      "3444    194.742004\n",
      "3967    216.722000\n",
      "6799    335.743011\n",
      "9090    432.027008\n",
      "9114    433.036011\n",
      "Name: mz, dtype: float64\n",
      "index: 4, peak location: 1900    129.852005\n",
      "3444    194.742004\n",
      "3967    216.722000\n",
      "6799    335.743011\n",
      "9090    432.027008\n",
      "9114    433.036011\n",
      "Name: mz, dtype: float64\n",
      "index: 5, peak location: 1900    129.852005\n",
      "3444    194.742004\n",
      "3967    216.722000\n",
      "6799    335.743011\n",
      "9090    432.027008\n",
      "9114    433.036011\n",
      "Name: mz, dtype: float64\n",
      "peak index:  [473]\n"
     ]
    },
    {
     "data": {
      "application/vnd.jupyter.widget-view+json": {
       "model_id": "a811a12f855e4a5baa93312b95d34c21",
       "version_major": 2,
       "version_minor": 0
      },
      "text/plain": [
       "0it [00:00, ?it/s]"
      ]
     },
     "metadata": {},
     "output_type": "display_data"
    },
    {
     "name": "stdout",
     "output_type": "stream",
     "text": [
      "index: 0, peak location: 473    129.889999\n",
      "Name: mz, dtype: float64\n",
      "peak index:  [1938, 1962]\n"
     ]
    },
    {
     "data": {
      "application/vnd.jupyter.widget-view+json": {
       "model_id": "75eebc39986046f690e738f676857c22",
       "version_major": 2,
       "version_minor": 0
      },
      "text/plain": [
       "0it [00:00, ?it/s]"
      ]
     },
     "metadata": {},
     "output_type": "display_data"
    },
    {
     "name": "stdout",
     "output_type": "stream",
     "text": [
      "index: 0, peak location: 1938    335.567993\n",
      "1962    336.575989\n",
      "Name: mz, dtype: float64\n",
      "index: 1, peak location: 1938    335.567993\n",
      "1962    336.575989\n",
      "Name: mz, dtype: float64\n",
      "peak index:  [1900, 3444, 3967, 6799, 9091, 9114]\n"
     ]
    },
    {
     "data": {
      "application/vnd.jupyter.widget-view+json": {
       "model_id": "2880c44cc12c4889829922f0eb1576c0",
       "version_major": 2,
       "version_minor": 0
      },
      "text/plain": [
       "0it [00:00, ?it/s]"
      ]
     },
     "metadata": {},
     "output_type": "display_data"
    },
    {
     "name": "stdout",
     "output_type": "stream",
     "text": [
      "index: 0, peak location: 1900    129.852005\n",
      "3444    194.742004\n",
      "3967    216.722000\n",
      "6799    335.743011\n",
      "9091    432.069000\n",
      "9114    433.036011\n",
      "Name: mz, dtype: float64\n",
      "index: 1, peak location: 1900    129.852005\n",
      "3444    194.742004\n",
      "3967    216.722000\n",
      "6799    335.743011\n",
      "9091    432.069000\n",
      "9114    433.036011\n",
      "Name: mz, dtype: float64\n",
      "index: 2, peak location: 1900    129.852005\n",
      "3444    194.742004\n",
      "3967    216.722000\n",
      "6799    335.743011\n",
      "9091    432.069000\n",
      "9114    433.036011\n",
      "Name: mz, dtype: float64\n",
      "index: 3, peak location: 1900    129.852005\n",
      "3444    194.742004\n",
      "3967    216.722000\n",
      "6799    335.743011\n",
      "9091    432.069000\n",
      "9114    433.036011\n",
      "Name: mz, dtype: float64\n",
      "index: 4, peak location: 1900    129.852005\n",
      "3444    194.742004\n",
      "3967    216.722000\n",
      "6799    335.743011\n",
      "9091    432.069000\n",
      "9114    433.036011\n",
      "Name: mz, dtype: float64\n",
      "index: 5, peak location: 1900    129.852005\n",
      "3444    194.742004\n",
      "3967    216.722000\n",
      "6799    335.743011\n",
      "9091    432.069000\n",
      "9114    433.036011\n",
      "Name: mz, dtype: float64\n",
      "peak index:  [473]\n"
     ]
    },
    {
     "data": {
      "application/vnd.jupyter.widget-view+json": {
       "model_id": "166aca930a394f65a3ff8e735180ddf5",
       "version_major": 2,
       "version_minor": 0
      },
      "text/plain": [
       "0it [00:00, ?it/s]"
      ]
     },
     "metadata": {},
     "output_type": "display_data"
    },
    {
     "name": "stdout",
     "output_type": "stream",
     "text": [
      "index: 0, peak location: 473    129.889999\n",
      "Name: mz, dtype: float64\n",
      "peak index:  [1939, 1962]\n"
     ]
    },
    {
     "data": {
      "application/vnd.jupyter.widget-view+json": {
       "model_id": "b1924e565e5d4652965de00dbd9680cb",
       "version_major": 2,
       "version_minor": 0
      },
      "text/plain": [
       "0it [00:00, ?it/s]"
      ]
     },
     "metadata": {},
     "output_type": "display_data"
    },
    {
     "name": "stdout",
     "output_type": "stream",
     "text": [
      "index: 0, peak location: 1939    335.609985\n",
      "1962    336.575989\n",
      "Name: mz, dtype: float64\n",
      "index: 1, peak location: 1939    335.609985\n",
      "1962    336.575989\n",
      "Name: mz, dtype: float64\n",
      "peak index:  [1899, 3444, 3967, 6798, 9090, 9114]\n"
     ]
    },
    {
     "data": {
      "application/vnd.jupyter.widget-view+json": {
       "model_id": "2eb8739dd24f472d86cfbfd7e5a193c4",
       "version_major": 2,
       "version_minor": 0
      },
      "text/plain": [
       "0it [00:00, ?it/s]"
      ]
     },
     "metadata": {},
     "output_type": "display_data"
    },
    {
     "name": "stdout",
     "output_type": "stream",
     "text": [
      "index: 0, peak location: 1899    129.809998\n",
      "3444    194.742004\n",
      "3967    216.722000\n",
      "6798    335.700989\n",
      "9090    432.027008\n",
      "9114    433.036011\n",
      "Name: mz, dtype: float64\n",
      "index: 1, peak location: 1899    129.809998\n",
      "3444    194.742004\n",
      "3967    216.722000\n",
      "6798    335.700989\n",
      "9090    432.027008\n",
      "9114    433.036011\n",
      "Name: mz, dtype: float64\n",
      "index: 2, peak location: 1899    129.809998\n",
      "3444    194.742004\n",
      "3967    216.722000\n",
      "6798    335.700989\n",
      "9090    432.027008\n",
      "9114    433.036011\n",
      "Name: mz, dtype: float64\n",
      "index: 3, peak location: 1899    129.809998\n",
      "3444    194.742004\n",
      "3967    216.722000\n",
      "6798    335.700989\n",
      "9090    432.027008\n",
      "9114    433.036011\n",
      "Name: mz, dtype: float64\n",
      "index: 4, peak location: 1899    129.809998\n",
      "3444    194.742004\n",
      "3967    216.722000\n",
      "6798    335.700989\n",
      "9090    432.027008\n",
      "9114    433.036011\n",
      "Name: mz, dtype: float64\n",
      "index: 5, peak location: 1899    129.809998\n",
      "3444    194.742004\n",
      "3967    216.722000\n",
      "6798    335.700989\n",
      "9090    432.027008\n",
      "9114    433.036011\n",
      "Name: mz, dtype: float64\n",
      "peak index:  [473]\n"
     ]
    },
    {
     "data": {
      "application/vnd.jupyter.widget-view+json": {
       "model_id": "4f0aa9323cab4ddd8665fe14f90d201b",
       "version_major": 2,
       "version_minor": 0
      },
      "text/plain": [
       "0it [00:00, ?it/s]"
      ]
     },
     "metadata": {},
     "output_type": "display_data"
    },
    {
     "name": "stdout",
     "output_type": "stream",
     "text": [
      "index: 0, peak location: 473    129.889999\n",
      "Name: mz, dtype: float64\n",
      "peak index:  [1938, 1962]\n"
     ]
    },
    {
     "data": {
      "application/vnd.jupyter.widget-view+json": {
       "model_id": "8acc024b4e2e41b2887ace7d5ea7606b",
       "version_major": 2,
       "version_minor": 0
      },
      "text/plain": [
       "0it [00:00, ?it/s]"
      ]
     },
     "metadata": {},
     "output_type": "display_data"
    },
    {
     "name": "stdout",
     "output_type": "stream",
     "text": [
      "index: 0, peak location: 1938    335.567993\n",
      "1962    336.575989\n",
      "Name: mz, dtype: float64\n",
      "index: 1, peak location: 1938    335.567993\n",
      "1962    336.575989\n",
      "Name: mz, dtype: float64\n",
      "peak index:  [1900, 3444, 3967, 6799, 9090, 9114]\n"
     ]
    },
    {
     "data": {
      "application/vnd.jupyter.widget-view+json": {
       "model_id": "5a1bb9607a7c46069d8a05c27db657bc",
       "version_major": 2,
       "version_minor": 0
      },
      "text/plain": [
       "0it [00:00, ?it/s]"
      ]
     },
     "metadata": {},
     "output_type": "display_data"
    },
    {
     "name": "stdout",
     "output_type": "stream",
     "text": [
      "index: 0, peak location: 1900    129.852005\n",
      "3444    194.742004\n",
      "3967    216.722000\n",
      "6799    335.743011\n",
      "9090    432.027008\n",
      "9114    433.036011\n",
      "Name: mz, dtype: float64\n",
      "index: 1, peak location: 1900    129.852005\n",
      "3444    194.742004\n",
      "3967    216.722000\n",
      "6799    335.743011\n",
      "9090    432.027008\n",
      "9114    433.036011\n",
      "Name: mz, dtype: float64\n",
      "index: 2, peak location: 1900    129.852005\n",
      "3444    194.742004\n",
      "3967    216.722000\n",
      "6799    335.743011\n",
      "9090    432.027008\n",
      "9114    433.036011\n",
      "Name: mz, dtype: float64\n",
      "index: 3, peak location: 1900    129.852005\n",
      "3444    194.742004\n",
      "3967    216.722000\n",
      "6799    335.743011\n",
      "9090    432.027008\n",
      "9114    433.036011\n",
      "Name: mz, dtype: float64\n",
      "index: 4, peak location: 1900    129.852005\n",
      "3444    194.742004\n",
      "3967    216.722000\n",
      "6799    335.743011\n",
      "9090    432.027008\n",
      "9114    433.036011\n",
      "Name: mz, dtype: float64\n",
      "index: 5, peak location: 1900    129.852005\n",
      "3444    194.742004\n",
      "3967    216.722000\n",
      "6799    335.743011\n",
      "9090    432.027008\n",
      "9114    433.036011\n",
      "Name: mz, dtype: float64\n",
      "peak index:  [473]\n"
     ]
    },
    {
     "data": {
      "application/vnd.jupyter.widget-view+json": {
       "model_id": "9fbf1bb0cbe640d797eabf075117cb83",
       "version_major": 2,
       "version_minor": 0
      },
      "text/plain": [
       "0it [00:00, ?it/s]"
      ]
     },
     "metadata": {},
     "output_type": "display_data"
    },
    {
     "name": "stdout",
     "output_type": "stream",
     "text": [
      "index: 0, peak location: 473    129.889999\n",
      "Name: mz, dtype: float64\n",
      "peak index:  [1938, 1962]\n"
     ]
    },
    {
     "data": {
      "application/vnd.jupyter.widget-view+json": {
       "model_id": "368573337782484aa49dc5e7c7ad2add",
       "version_major": 2,
       "version_minor": 0
      },
      "text/plain": [
       "0it [00:00, ?it/s]"
      ]
     },
     "metadata": {},
     "output_type": "display_data"
    },
    {
     "name": "stdout",
     "output_type": "stream",
     "text": [
      "index: 0, peak location: 1938    335.567993\n",
      "1962    336.575989\n",
      "Name: mz, dtype: float64\n",
      "index: 1, peak location: 1938    335.567993\n",
      "1962    336.575989\n",
      "Name: mz, dtype: float64\n",
      "peak index:  [1900, 3444, 3967, 6799, 9090, 9114]\n"
     ]
    },
    {
     "data": {
      "application/vnd.jupyter.widget-view+json": {
       "model_id": "d6902837ff8242bb8e67c016474fae08",
       "version_major": 2,
       "version_minor": 0
      },
      "text/plain": [
       "0it [00:00, ?it/s]"
      ]
     },
     "metadata": {},
     "output_type": "display_data"
    },
    {
     "name": "stdout",
     "output_type": "stream",
     "text": [
      "index: 0, peak location: 1900    129.852005\n",
      "3444    194.742004\n",
      "3967    216.722000\n",
      "6799    335.743011\n",
      "9090    432.027008\n",
      "9114    433.036011\n",
      "Name: mz, dtype: float64\n",
      "index: 1, peak location: 1900    129.852005\n",
      "3444    194.742004\n",
      "3967    216.722000\n",
      "6799    335.743011\n",
      "9090    432.027008\n",
      "9114    433.036011\n",
      "Name: mz, dtype: float64\n",
      "index: 2, peak location: 1900    129.852005\n",
      "3444    194.742004\n",
      "3967    216.722000\n",
      "6799    335.743011\n",
      "9090    432.027008\n",
      "9114    433.036011\n",
      "Name: mz, dtype: float64\n",
      "index: 3, peak location: 1900    129.852005\n",
      "3444    194.742004\n",
      "3967    216.722000\n",
      "6799    335.743011\n",
      "9090    432.027008\n",
      "9114    433.036011\n",
      "Name: mz, dtype: float64\n",
      "index: 4, peak location: 1900    129.852005\n",
      "3444    194.742004\n",
      "3967    216.722000\n",
      "6799    335.743011\n",
      "9090    432.027008\n",
      "9114    433.036011\n",
      "Name: mz, dtype: float64\n",
      "index: 5, peak location: 1900    129.852005\n",
      "3444    194.742004\n",
      "3967    216.722000\n",
      "6799    335.743011\n",
      "9090    432.027008\n",
      "9114    433.036011\n",
      "Name: mz, dtype: float64\n",
      "peak index:  [472]\n"
     ]
    },
    {
     "data": {
      "application/vnd.jupyter.widget-view+json": {
       "model_id": "fb40af417243469e91d9e17cd233fa1f",
       "version_major": 2,
       "version_minor": 0
      },
      "text/plain": [
       "0it [00:00, ?it/s]"
      ]
     },
     "metadata": {},
     "output_type": "display_data"
    },
    {
     "name": "stdout",
     "output_type": "stream",
     "text": [
      "index: 0, peak location: 472    129.848007\n",
      "Name: mz, dtype: float64\n",
      "peak index:  [1939, 1962]\n"
     ]
    },
    {
     "data": {
      "application/vnd.jupyter.widget-view+json": {
       "model_id": "2bc945a33c514fa5aec53a1bc0f14f7a",
       "version_major": 2,
       "version_minor": 0
      },
      "text/plain": [
       "0it [00:00, ?it/s]"
      ]
     },
     "metadata": {},
     "output_type": "display_data"
    },
    {
     "name": "stdout",
     "output_type": "stream",
     "text": [
      "index: 0, peak location: 1939    335.609985\n",
      "1962    336.575989\n",
      "Name: mz, dtype: float64\n",
      "index: 1, peak location: 1939    335.609985\n",
      "1962    336.575989\n",
      "Name: mz, dtype: float64\n",
      "peak index:  [1900, 3445, 3966, 6800, 9091, 9115]\n"
     ]
    },
    {
     "data": {
      "application/vnd.jupyter.widget-view+json": {
       "model_id": "25b3afd8b1734a9f9e9c1d8ce5516e29",
       "version_major": 2,
       "version_minor": 0
      },
      "text/plain": [
       "0it [00:00, ?it/s]"
      ]
     },
     "metadata": {},
     "output_type": "display_data"
    },
    {
     "name": "stdout",
     "output_type": "stream",
     "text": [
      "index: 0, peak location: 1900    129.852005\n",
      "3445    194.783997\n",
      "3966    216.679993\n",
      "6800    335.785004\n",
      "9091    432.069000\n",
      "9115    433.078003\n",
      "Name: mz, dtype: float64\n",
      "index: 1, peak location: 1900    129.852005\n",
      "3445    194.783997\n",
      "3966    216.679993\n",
      "6800    335.785004\n",
      "9091    432.069000\n",
      "9115    433.078003\n",
      "Name: mz, dtype: float64\n",
      "index: 2, peak location: 1900    129.852005\n",
      "3445    194.783997\n",
      "3966    216.679993\n",
      "6800    335.785004\n",
      "9091    432.069000\n",
      "9115    433.078003\n",
      "Name: mz, dtype: float64\n",
      "index: 3, peak location: 1900    129.852005\n",
      "3445    194.783997\n",
      "3966    216.679993\n",
      "6800    335.785004\n",
      "9091    432.069000\n",
      "9115    433.078003\n",
      "Name: mz, dtype: float64\n",
      "index: 4, peak location: 1900    129.852005\n",
      "3445    194.783997\n",
      "3966    216.679993\n",
      "6800    335.785004\n",
      "9091    432.069000\n",
      "9115    433.078003\n",
      "Name: mz, dtype: float64\n",
      "index: 5, peak location: 1900    129.852005\n",
      "3445    194.783997\n",
      "3966    216.679993\n",
      "6800    335.785004\n",
      "9091    432.069000\n",
      "9115    433.078003\n",
      "Name: mz, dtype: float64\n",
      "peak index:  [472]\n"
     ]
    },
    {
     "data": {
      "application/vnd.jupyter.widget-view+json": {
       "model_id": "6da91b83097a4974bb0bb9ab293579aa",
       "version_major": 2,
       "version_minor": 0
      },
      "text/plain": [
       "0it [00:00, ?it/s]"
      ]
     },
     "metadata": {},
     "output_type": "display_data"
    },
    {
     "name": "stdout",
     "output_type": "stream",
     "text": [
      "index: 0, peak location: 472    129.848007\n",
      "Name: mz, dtype: float64\n",
      "peak index:  [1938, 1961]\n"
     ]
    },
    {
     "data": {
      "application/vnd.jupyter.widget-view+json": {
       "model_id": "fb6604a75e424e87bacf6299a2b7df7a",
       "version_major": 2,
       "version_minor": 0
      },
      "text/plain": [
       "0it [00:00, ?it/s]"
      ]
     },
     "metadata": {},
     "output_type": "display_data"
    },
    {
     "name": "stdout",
     "output_type": "stream",
     "text": [
      "index: 0, peak location: 1938    335.567993\n",
      "1961    336.533997\n",
      "Name: mz, dtype: float64\n",
      "index: 1, peak location: 1938    335.567993\n",
      "1961    336.533997\n",
      "Name: mz, dtype: float64\n",
      "peak index:  [1900, 3444, 3967, 6800, 9091, 9114]\n"
     ]
    },
    {
     "data": {
      "application/vnd.jupyter.widget-view+json": {
       "model_id": "2091a8dfd62f412fb290dce181f0b0da",
       "version_major": 2,
       "version_minor": 0
      },
      "text/plain": [
       "0it [00:00, ?it/s]"
      ]
     },
     "metadata": {},
     "output_type": "display_data"
    },
    {
     "name": "stdout",
     "output_type": "stream",
     "text": [
      "index: 0, peak location: 1900    129.852005\n",
      "3444    194.742004\n",
      "3967    216.722000\n",
      "6800    335.785004\n",
      "9091    432.069000\n",
      "9114    433.036011\n",
      "Name: mz, dtype: float64\n",
      "index: 1, peak location: 1900    129.852005\n",
      "3444    194.742004\n",
      "3967    216.722000\n",
      "6800    335.785004\n",
      "9091    432.069000\n",
      "9114    433.036011\n",
      "Name: mz, dtype: float64\n",
      "index: 2, peak location: 1900    129.852005\n",
      "3444    194.742004\n",
      "3967    216.722000\n",
      "6800    335.785004\n",
      "9091    432.069000\n",
      "9114    433.036011\n",
      "Name: mz, dtype: float64\n",
      "index: 3, peak location: 1900    129.852005\n",
      "3444    194.742004\n",
      "3967    216.722000\n",
      "6800    335.785004\n",
      "9091    432.069000\n",
      "9114    433.036011\n",
      "Name: mz, dtype: float64\n",
      "index: 4, peak location: 1900    129.852005\n",
      "3444    194.742004\n",
      "3967    216.722000\n",
      "6800    335.785004\n",
      "9091    432.069000\n",
      "9114    433.036011\n",
      "Name: mz, dtype: float64\n",
      "index: 5, peak location: 1900    129.852005\n",
      "3444    194.742004\n",
      "3967    216.722000\n",
      "6800    335.785004\n",
      "9091    432.069000\n",
      "9114    433.036011\n",
      "Name: mz, dtype: float64\n",
      "peak index:  [473]\n"
     ]
    },
    {
     "data": {
      "application/vnd.jupyter.widget-view+json": {
       "model_id": "eac4da80f9f843d099cb69867c28c399",
       "version_major": 2,
       "version_minor": 0
      },
      "text/plain": [
       "0it [00:00, ?it/s]"
      ]
     },
     "metadata": {},
     "output_type": "display_data"
    },
    {
     "name": "stdout",
     "output_type": "stream",
     "text": [
      "index: 0, peak location: 473    129.889999\n",
      "Name: mz, dtype: float64\n",
      "peak index:  [1938, 1962]\n"
     ]
    },
    {
     "data": {
      "application/vnd.jupyter.widget-view+json": {
       "model_id": "42875dc8b1ed4a4ca2a43d5c2638c75d",
       "version_major": 2,
       "version_minor": 0
      },
      "text/plain": [
       "0it [00:00, ?it/s]"
      ]
     },
     "metadata": {},
     "output_type": "display_data"
    },
    {
     "name": "stdout",
     "output_type": "stream",
     "text": [
      "index: 0, peak location: 1938    335.567993\n",
      "1962    336.575989\n",
      "Name: mz, dtype: float64\n",
      "index: 1, peak location: 1938    335.567993\n",
      "1962    336.575989\n",
      "Name: mz, dtype: float64\n",
      "peak index:  [1900, 3444, 3967, 6799, 9091, 9115]\n"
     ]
    },
    {
     "data": {
      "application/vnd.jupyter.widget-view+json": {
       "model_id": "66d33053ffd54a269df212a4b4af099a",
       "version_major": 2,
       "version_minor": 0
      },
      "text/plain": [
       "0it [00:00, ?it/s]"
      ]
     },
     "metadata": {},
     "output_type": "display_data"
    },
    {
     "name": "stdout",
     "output_type": "stream",
     "text": [
      "index: 0, peak location: 1900    129.852005\n",
      "3444    194.742004\n",
      "3967    216.722000\n",
      "6799    335.743011\n",
      "9091    432.069000\n",
      "9115    433.078003\n",
      "Name: mz, dtype: float64\n",
      "index: 1, peak location: 1900    129.852005\n",
      "3444    194.742004\n",
      "3967    216.722000\n",
      "6799    335.743011\n",
      "9091    432.069000\n",
      "9115    433.078003\n",
      "Name: mz, dtype: float64\n",
      "index: 2, peak location: 1900    129.852005\n",
      "3444    194.742004\n",
      "3967    216.722000\n",
      "6799    335.743011\n",
      "9091    432.069000\n",
      "9115    433.078003\n",
      "Name: mz, dtype: float64\n",
      "index: 3, peak location: 1900    129.852005\n",
      "3444    194.742004\n",
      "3967    216.722000\n",
      "6799    335.743011\n",
      "9091    432.069000\n",
      "9115    433.078003\n",
      "Name: mz, dtype: float64\n",
      "index: 4, peak location: 1900    129.852005\n",
      "3444    194.742004\n",
      "3967    216.722000\n",
      "6799    335.743011\n",
      "9091    432.069000\n",
      "9115    433.078003\n",
      "Name: mz, dtype: float64\n",
      "index: 5, peak location: 1900    129.852005\n",
      "3444    194.742004\n",
      "3967    216.722000\n",
      "6799    335.743011\n",
      "9091    432.069000\n",
      "9115    433.078003\n",
      "Name: mz, dtype: float64\n",
      "peak index:  [473]\n"
     ]
    },
    {
     "data": {
      "application/vnd.jupyter.widget-view+json": {
       "model_id": "60bc93b50311432fbe5e87cc613f25f2",
       "version_major": 2,
       "version_minor": 0
      },
      "text/plain": [
       "0it [00:00, ?it/s]"
      ]
     },
     "metadata": {},
     "output_type": "display_data"
    },
    {
     "name": "stdout",
     "output_type": "stream",
     "text": [
      "index: 0, peak location: 473    129.889999\n",
      "Name: mz, dtype: float64\n",
      "peak index:  [1938, 1963]\n"
     ]
    },
    {
     "data": {
      "application/vnd.jupyter.widget-view+json": {
       "model_id": "e9953a7f45ff4f1783d4fdeba6e8a4f4",
       "version_major": 2,
       "version_minor": 0
      },
      "text/plain": [
       "0it [00:00, ?it/s]"
      ]
     },
     "metadata": {},
     "output_type": "display_data"
    },
    {
     "name": "stdout",
     "output_type": "stream",
     "text": [
      "index: 0, peak location: 1938    335.567993\n",
      "1963    336.618011\n",
      "Name: mz, dtype: float64\n",
      "index: 1, peak location: 1938    335.567993\n",
      "1963    336.618011\n",
      "Name: mz, dtype: float64\n",
      "peak index:  [1899, 3445, 3966, 6800, 9091, 9114]\n"
     ]
    },
    {
     "data": {
      "application/vnd.jupyter.widget-view+json": {
       "model_id": "319db7ff79c34e9c85e3883ba0c7a5ee",
       "version_major": 2,
       "version_minor": 0
      },
      "text/plain": [
       "0it [00:00, ?it/s]"
      ]
     },
     "metadata": {},
     "output_type": "display_data"
    },
    {
     "name": "stdout",
     "output_type": "stream",
     "text": [
      "index: 0, peak location: 1899    129.809998\n",
      "3445    194.783997\n",
      "3966    216.679993\n",
      "6800    335.785004\n",
      "9091    432.069000\n",
      "9114    433.036011\n",
      "Name: mz, dtype: float64\n",
      "index: 1, peak location: 1899    129.809998\n",
      "3445    194.783997\n",
      "3966    216.679993\n",
      "6800    335.785004\n",
      "9091    432.069000\n",
      "9114    433.036011\n",
      "Name: mz, dtype: float64\n",
      "index: 2, peak location: 1899    129.809998\n",
      "3445    194.783997\n",
      "3966    216.679993\n",
      "6800    335.785004\n",
      "9091    432.069000\n",
      "9114    433.036011\n",
      "Name: mz, dtype: float64\n",
      "index: 3, peak location: 1899    129.809998\n",
      "3445    194.783997\n",
      "3966    216.679993\n",
      "6800    335.785004\n",
      "9091    432.069000\n",
      "9114    433.036011\n",
      "Name: mz, dtype: float64\n",
      "index: 4, peak location: 1899    129.809998\n",
      "3445    194.783997\n",
      "3966    216.679993\n",
      "6800    335.785004\n",
      "9091    432.069000\n",
      "9114    433.036011\n",
      "Name: mz, dtype: float64\n",
      "index: 5, peak location: 1899    129.809998\n",
      "3445    194.783997\n",
      "3966    216.679993\n",
      "6800    335.785004\n",
      "9091    432.069000\n",
      "9114    433.036011\n",
      "Name: mz, dtype: float64\n",
      "peak index:  [473]\n"
     ]
    },
    {
     "data": {
      "application/vnd.jupyter.widget-view+json": {
       "model_id": "a52f0cf598874d5888f13d488d2e09f5",
       "version_major": 2,
       "version_minor": 0
      },
      "text/plain": [
       "0it [00:00, ?it/s]"
      ]
     },
     "metadata": {},
     "output_type": "display_data"
    },
    {
     "name": "stdout",
     "output_type": "stream",
     "text": [
      "index: 0, peak location: 473    129.889999\n",
      "Name: mz, dtype: float64\n",
      "peak index:  [1938, 1962]\n"
     ]
    },
    {
     "data": {
      "application/vnd.jupyter.widget-view+json": {
       "model_id": "746dcd6abb3a41aebeced4b03d5fd41a",
       "version_major": 2,
       "version_minor": 0
      },
      "text/plain": [
       "0it [00:00, ?it/s]"
      ]
     },
     "metadata": {},
     "output_type": "display_data"
    },
    {
     "name": "stdout",
     "output_type": "stream",
     "text": [
      "index: 0, peak location: 1938    335.567993\n",
      "1962    336.575989\n",
      "Name: mz, dtype: float64\n",
      "index: 1, peak location: 1938    335.567993\n",
      "1962    336.575989\n",
      "Name: mz, dtype: float64\n",
      "peak index:  [1900, 3444, 3967, 6800, 9091, 9114]\n"
     ]
    },
    {
     "data": {
      "application/vnd.jupyter.widget-view+json": {
       "model_id": "7f85799a333b404a9fc1d74126b04ae6",
       "version_major": 2,
       "version_minor": 0
      },
      "text/plain": [
       "0it [00:00, ?it/s]"
      ]
     },
     "metadata": {},
     "output_type": "display_data"
    },
    {
     "name": "stdout",
     "output_type": "stream",
     "text": [
      "index: 0, peak location: 1900    129.852005\n",
      "3444    194.742004\n",
      "3967    216.722000\n",
      "6800    335.785004\n",
      "9091    432.069000\n",
      "9114    433.036011\n",
      "Name: mz, dtype: float64\n",
      "index: 1, peak location: 1900    129.852005\n",
      "3444    194.742004\n",
      "3967    216.722000\n",
      "6800    335.785004\n",
      "9091    432.069000\n",
      "9114    433.036011\n",
      "Name: mz, dtype: float64\n",
      "index: 2, peak location: 1900    129.852005\n",
      "3444    194.742004\n",
      "3967    216.722000\n",
      "6800    335.785004\n",
      "9091    432.069000\n",
      "9114    433.036011\n",
      "Name: mz, dtype: float64\n",
      "index: 3, peak location: 1900    129.852005\n",
      "3444    194.742004\n",
      "3967    216.722000\n",
      "6800    335.785004\n",
      "9091    432.069000\n",
      "9114    433.036011\n",
      "Name: mz, dtype: float64\n",
      "index: 4, peak location: 1900    129.852005\n",
      "3444    194.742004\n",
      "3967    216.722000\n",
      "6800    335.785004\n",
      "9091    432.069000\n",
      "9114    433.036011\n",
      "Name: mz, dtype: float64\n",
      "index: 5, peak location: 1900    129.852005\n",
      "3444    194.742004\n",
      "3967    216.722000\n",
      "6800    335.785004\n",
      "9091    432.069000\n",
      "9114    433.036011\n",
      "Name: mz, dtype: float64\n",
      "peak index:  [473]\n"
     ]
    },
    {
     "data": {
      "application/vnd.jupyter.widget-view+json": {
       "model_id": "d587606ceaa949a8b4fa210de3ccd451",
       "version_major": 2,
       "version_minor": 0
      },
      "text/plain": [
       "0it [00:00, ?it/s]"
      ]
     },
     "metadata": {},
     "output_type": "display_data"
    },
    {
     "name": "stdout",
     "output_type": "stream",
     "text": [
      "index: 0, peak location: 473    129.889999\n",
      "Name: mz, dtype: float64\n",
      "peak index:  [1938, 1962]\n"
     ]
    },
    {
     "data": {
      "application/vnd.jupyter.widget-view+json": {
       "model_id": "8288a6bc76cd4996b3122cd3df392ee9",
       "version_major": 2,
       "version_minor": 0
      },
      "text/plain": [
       "0it [00:00, ?it/s]"
      ]
     },
     "metadata": {},
     "output_type": "display_data"
    },
    {
     "name": "stdout",
     "output_type": "stream",
     "text": [
      "index: 0, peak location: 1938    335.567993\n",
      "1962    336.575989\n",
      "Name: mz, dtype: float64\n",
      "index: 1, peak location: 1938    335.567993\n",
      "1962    336.575989\n",
      "Name: mz, dtype: float64\n",
      "peak index:  [1900, 3444, 3967, 6799, 9090, 9115]\n"
     ]
    },
    {
     "data": {
      "application/vnd.jupyter.widget-view+json": {
       "model_id": "68cc73e630ec42c2b31bd349cca3c6bc",
       "version_major": 2,
       "version_minor": 0
      },
      "text/plain": [
       "0it [00:00, ?it/s]"
      ]
     },
     "metadata": {},
     "output_type": "display_data"
    },
    {
     "name": "stdout",
     "output_type": "stream",
     "text": [
      "index: 0, peak location: 1900    129.852005\n",
      "3444    194.742004\n",
      "3967    216.722000\n",
      "6799    335.743011\n",
      "9090    432.027008\n",
      "9115    433.078003\n",
      "Name: mz, dtype: float64\n",
      "index: 1, peak location: 1900    129.852005\n",
      "3444    194.742004\n",
      "3967    216.722000\n",
      "6799    335.743011\n",
      "9090    432.027008\n",
      "9115    433.078003\n",
      "Name: mz, dtype: float64\n",
      "index: 2, peak location: 1900    129.852005\n",
      "3444    194.742004\n",
      "3967    216.722000\n",
      "6799    335.743011\n",
      "9090    432.027008\n",
      "9115    433.078003\n",
      "Name: mz, dtype: float64\n",
      "index: 3, peak location: 1900    129.852005\n",
      "3444    194.742004\n",
      "3967    216.722000\n",
      "6799    335.743011\n",
      "9090    432.027008\n",
      "9115    433.078003\n",
      "Name: mz, dtype: float64\n",
      "index: 4, peak location: 1900    129.852005\n",
      "3444    194.742004\n",
      "3967    216.722000\n",
      "6799    335.743011\n",
      "9090    432.027008\n",
      "9115    433.078003\n",
      "Name: mz, dtype: float64\n",
      "index: 5, peak location: 1900    129.852005\n",
      "3444    194.742004\n",
      "3967    216.722000\n",
      "6799    335.743011\n",
      "9090    432.027008\n",
      "9115    433.078003\n",
      "Name: mz, dtype: float64\n",
      "peak index:  [473]\n"
     ]
    },
    {
     "data": {
      "application/vnd.jupyter.widget-view+json": {
       "model_id": "ed0fa264d4b44fadbfe0c3828b51c14b",
       "version_major": 2,
       "version_minor": 0
      },
      "text/plain": [
       "0it [00:00, ?it/s]"
      ]
     },
     "metadata": {},
     "output_type": "display_data"
    },
    {
     "name": "stdout",
     "output_type": "stream",
     "text": [
      "index: 0, peak location: 473    129.889999\n",
      "Name: mz, dtype: float64\n",
      "peak index:  [1938, 1962]\n"
     ]
    },
    {
     "data": {
      "application/vnd.jupyter.widget-view+json": {
       "model_id": "c01c9dd21a374506b2a80b53324df9f9",
       "version_major": 2,
       "version_minor": 0
      },
      "text/plain": [
       "0it [00:00, ?it/s]"
      ]
     },
     "metadata": {},
     "output_type": "display_data"
    },
    {
     "name": "stdout",
     "output_type": "stream",
     "text": [
      "index: 0, peak location: 1938    335.567993\n",
      "1962    336.575989\n",
      "Name: mz, dtype: float64\n",
      "index: 1, peak location: 1938    335.567993\n",
      "1962    336.575989\n",
      "Name: mz, dtype: float64\n",
      "peak index:  [1901, 3444, 3967, 6800, 9091, 9115]\n"
     ]
    },
    {
     "data": {
      "application/vnd.jupyter.widget-view+json": {
       "model_id": "d2dd1f12b802484abdd341a4e2eaebc9",
       "version_major": 2,
       "version_minor": 0
      },
      "text/plain": [
       "0it [00:00, ?it/s]"
      ]
     },
     "metadata": {},
     "output_type": "display_data"
    },
    {
     "name": "stdout",
     "output_type": "stream",
     "text": [
      "index: 0, peak location: 1901    129.893997\n",
      "3444    194.742004\n",
      "3967    216.722000\n",
      "6800    335.785004\n",
      "9091    432.069000\n",
      "9115    433.078003\n",
      "Name: mz, dtype: float64\n",
      "index: 1, peak location: 1901    129.893997\n",
      "3444    194.742004\n",
      "3967    216.722000\n",
      "6800    335.785004\n",
      "9091    432.069000\n",
      "9115    433.078003\n",
      "Name: mz, dtype: float64\n",
      "index: 2, peak location: 1901    129.893997\n",
      "3444    194.742004\n",
      "3967    216.722000\n",
      "6800    335.785004\n",
      "9091    432.069000\n",
      "9115    433.078003\n",
      "Name: mz, dtype: float64\n",
      "index: 3, peak location: 1901    129.893997\n",
      "3444    194.742004\n",
      "3967    216.722000\n",
      "6800    335.785004\n",
      "9091    432.069000\n",
      "9115    433.078003\n",
      "Name: mz, dtype: float64\n",
      "index: 4, peak location: 1901    129.893997\n",
      "3444    194.742004\n",
      "3967    216.722000\n",
      "6800    335.785004\n",
      "9091    432.069000\n",
      "9115    433.078003\n",
      "Name: mz, dtype: float64\n",
      "index: 5, peak location: 1901    129.893997\n",
      "3444    194.742004\n",
      "3967    216.722000\n",
      "6800    335.785004\n",
      "9091    432.069000\n",
      "9115    433.078003\n",
      "Name: mz, dtype: float64\n",
      "peak index:  [472]\n"
     ]
    },
    {
     "data": {
      "application/vnd.jupyter.widget-view+json": {
       "model_id": "91f3a03dfa254e2486e4582a02e772fb",
       "version_major": 2,
       "version_minor": 0
      },
      "text/plain": [
       "0it [00:00, ?it/s]"
      ]
     },
     "metadata": {},
     "output_type": "display_data"
    },
    {
     "name": "stdout",
     "output_type": "stream",
     "text": [
      "index: 0, peak location: 472    129.848007\n",
      "Name: mz, dtype: float64\n",
      "peak index:  [1938, 1962]\n"
     ]
    },
    {
     "data": {
      "application/vnd.jupyter.widget-view+json": {
       "model_id": "ecbd42654c9d4af28b14249d3955ff0f",
       "version_major": 2,
       "version_minor": 0
      },
      "text/plain": [
       "0it [00:00, ?it/s]"
      ]
     },
     "metadata": {},
     "output_type": "display_data"
    },
    {
     "name": "stdout",
     "output_type": "stream",
     "text": [
      "index: 0, peak location: 1938    335.567993\n",
      "1962    336.575989\n",
      "Name: mz, dtype: float64\n",
      "index: 1, peak location: 1938    335.567993\n",
      "1962    336.575989\n",
      "Name: mz, dtype: float64\n",
      "peak index:  [1900, 3443, 3967, 6799, 9092, 9114]\n"
     ]
    },
    {
     "data": {
      "application/vnd.jupyter.widget-view+json": {
       "model_id": "bcaab49926bc4a0e8834230aab8d3e86",
       "version_major": 2,
       "version_minor": 0
      },
      "text/plain": [
       "0it [00:00, ?it/s]"
      ]
     },
     "metadata": {},
     "output_type": "display_data"
    },
    {
     "name": "stdout",
     "output_type": "stream",
     "text": [
      "index: 0, peak location: 1900    129.852005\n",
      "3443    194.699997\n",
      "3967    216.722000\n",
      "6799    335.743011\n",
      "9092    432.110992\n",
      "9114    433.036011\n",
      "Name: mz, dtype: float64\n",
      "index: 1, peak location: 1900    129.852005\n",
      "3443    194.699997\n",
      "3967    216.722000\n",
      "6799    335.743011\n",
      "9092    432.110992\n",
      "9114    433.036011\n",
      "Name: mz, dtype: float64\n",
      "index: 2, peak location: 1900    129.852005\n",
      "3443    194.699997\n",
      "3967    216.722000\n",
      "6799    335.743011\n",
      "9092    432.110992\n",
      "9114    433.036011\n",
      "Name: mz, dtype: float64\n",
      "index: 3, peak location: 1900    129.852005\n",
      "3443    194.699997\n",
      "3967    216.722000\n",
      "6799    335.743011\n",
      "9092    432.110992\n",
      "9114    433.036011\n",
      "Name: mz, dtype: float64\n",
      "index: 4, peak location: 1900    129.852005\n",
      "3443    194.699997\n",
      "3967    216.722000\n",
      "6799    335.743011\n",
      "9092    432.110992\n",
      "9114    433.036011\n",
      "Name: mz, dtype: float64\n",
      "index: 5, peak location: 1900    129.852005\n",
      "3443    194.699997\n",
      "3967    216.722000\n",
      "6799    335.743011\n",
      "9092    432.110992\n",
      "9114    433.036011\n",
      "Name: mz, dtype: float64\n",
      "peak index:  [472]\n"
     ]
    },
    {
     "data": {
      "application/vnd.jupyter.widget-view+json": {
       "model_id": "75f7a0a962bc4e588b7b6ba997c179b1",
       "version_major": 2,
       "version_minor": 0
      },
      "text/plain": [
       "0it [00:00, ?it/s]"
      ]
     },
     "metadata": {},
     "output_type": "display_data"
    },
    {
     "name": "stdout",
     "output_type": "stream",
     "text": [
      "index: 0, peak location: 472    129.848007\n",
      "Name: mz, dtype: float64\n",
      "peak index:  [1939, 1962]\n"
     ]
    },
    {
     "data": {
      "application/vnd.jupyter.widget-view+json": {
       "model_id": "336c2e11718242078da6aff1acf6a748",
       "version_major": 2,
       "version_minor": 0
      },
      "text/plain": [
       "0it [00:00, ?it/s]"
      ]
     },
     "metadata": {},
     "output_type": "display_data"
    },
    {
     "name": "stdout",
     "output_type": "stream",
     "text": [
      "index: 0, peak location: 1939    335.609985\n",
      "1962    336.575989\n",
      "Name: mz, dtype: float64\n",
      "index: 1, peak location: 1939    335.609985\n",
      "1962    336.575989\n",
      "Name: mz, dtype: float64\n",
      "peak index:  [1900, 3444, 3967, 6799, 9091, 9115]\n"
     ]
    },
    {
     "data": {
      "application/vnd.jupyter.widget-view+json": {
       "model_id": "9ad5aa50f2594d609348e075788553a5",
       "version_major": 2,
       "version_minor": 0
      },
      "text/plain": [
       "0it [00:00, ?it/s]"
      ]
     },
     "metadata": {},
     "output_type": "display_data"
    },
    {
     "name": "stdout",
     "output_type": "stream",
     "text": [
      "index: 0, peak location: 1900    129.852005\n",
      "3444    194.742004\n",
      "3967    216.722000\n",
      "6799    335.743011\n",
      "9091    432.069000\n",
      "9115    433.078003\n",
      "Name: mz, dtype: float64\n",
      "index: 1, peak location: 1900    129.852005\n",
      "3444    194.742004\n",
      "3967    216.722000\n",
      "6799    335.743011\n",
      "9091    432.069000\n",
      "9115    433.078003\n",
      "Name: mz, dtype: float64\n",
      "index: 2, peak location: 1900    129.852005\n",
      "3444    194.742004\n",
      "3967    216.722000\n",
      "6799    335.743011\n",
      "9091    432.069000\n",
      "9115    433.078003\n",
      "Name: mz, dtype: float64\n",
      "index: 3, peak location: 1900    129.852005\n",
      "3444    194.742004\n",
      "3967    216.722000\n",
      "6799    335.743011\n",
      "9091    432.069000\n",
      "9115    433.078003\n",
      "Name: mz, dtype: float64\n",
      "index: 4, peak location: 1900    129.852005\n",
      "3444    194.742004\n",
      "3967    216.722000\n",
      "6799    335.743011\n",
      "9091    432.069000\n",
      "9115    433.078003\n",
      "Name: mz, dtype: float64\n",
      "index: 5, peak location: 1900    129.852005\n",
      "3444    194.742004\n",
      "3967    216.722000\n",
      "6799    335.743011\n",
      "9091    432.069000\n",
      "9115    433.078003\n",
      "Name: mz, dtype: float64\n",
      "peak index:  [473]\n"
     ]
    },
    {
     "data": {
      "application/vnd.jupyter.widget-view+json": {
       "model_id": "c15fe8583be944d2a5b87a87e117c5f0",
       "version_major": 2,
       "version_minor": 0
      },
      "text/plain": [
       "0it [00:00, ?it/s]"
      ]
     },
     "metadata": {},
     "output_type": "display_data"
    },
    {
     "name": "stdout",
     "output_type": "stream",
     "text": [
      "index: 0, peak location: 473    129.889999\n",
      "Name: mz, dtype: float64\n",
      "peak index:  [1939, 1962]\n"
     ]
    },
    {
     "data": {
      "application/vnd.jupyter.widget-view+json": {
       "model_id": "368581c905b24dac91fe533ae80034b6",
       "version_major": 2,
       "version_minor": 0
      },
      "text/plain": [
       "0it [00:00, ?it/s]"
      ]
     },
     "metadata": {},
     "output_type": "display_data"
    },
    {
     "name": "stdout",
     "output_type": "stream",
     "text": [
      "index: 0, peak location: 1939    335.609985\n",
      "1962    336.575989\n",
      "Name: mz, dtype: float64\n",
      "index: 1, peak location: 1939    335.609985\n",
      "1962    336.575989\n",
      "Name: mz, dtype: float64\n",
      "peak index:  [1900, 3444, 3967, 6799, 9091, 9116]\n"
     ]
    },
    {
     "data": {
      "application/vnd.jupyter.widget-view+json": {
       "model_id": "7773455f3ed745e2bd5053027efcd55e",
       "version_major": 2,
       "version_minor": 0
      },
      "text/plain": [
       "0it [00:00, ?it/s]"
      ]
     },
     "metadata": {},
     "output_type": "display_data"
    },
    {
     "name": "stdout",
     "output_type": "stream",
     "text": [
      "index: 0, peak location: 1900    129.852005\n",
      "3444    194.742004\n",
      "3967    216.722000\n",
      "6799    335.743011\n",
      "9091    432.069000\n",
      "9116    433.119995\n",
      "Name: mz, dtype: float64\n",
      "index: 1, peak location: 1900    129.852005\n",
      "3444    194.742004\n",
      "3967    216.722000\n",
      "6799    335.743011\n",
      "9091    432.069000\n",
      "9116    433.119995\n",
      "Name: mz, dtype: float64\n",
      "index: 2, peak location: 1900    129.852005\n",
      "3444    194.742004\n",
      "3967    216.722000\n",
      "6799    335.743011\n",
      "9091    432.069000\n",
      "9116    433.119995\n",
      "Name: mz, dtype: float64\n",
      "index: 3, peak location: 1900    129.852005\n",
      "3444    194.742004\n",
      "3967    216.722000\n",
      "6799    335.743011\n",
      "9091    432.069000\n",
      "9116    433.119995\n",
      "Name: mz, dtype: float64\n",
      "index: 4, peak location: 1900    129.852005\n",
      "3444    194.742004\n",
      "3967    216.722000\n",
      "6799    335.743011\n",
      "9091    432.069000\n",
      "9116    433.119995\n",
      "Name: mz, dtype: float64\n",
      "index: 5, peak location: 1900    129.852005\n",
      "3444    194.742004\n",
      "3967    216.722000\n",
      "6799    335.743011\n",
      "9091    432.069000\n",
      "9116    433.119995\n",
      "Name: mz, dtype: float64\n",
      "peak index:  [473]\n"
     ]
    },
    {
     "data": {
      "application/vnd.jupyter.widget-view+json": {
       "model_id": "a3023b7f8f0645beb0513032a11d776e",
       "version_major": 2,
       "version_minor": 0
      },
      "text/plain": [
       "0it [00:00, ?it/s]"
      ]
     },
     "metadata": {},
     "output_type": "display_data"
    },
    {
     "name": "stdout",
     "output_type": "stream",
     "text": [
      "index: 0, peak location: 473    129.889999\n",
      "Name: mz, dtype: float64\n",
      "peak index:  [1939, 1962]\n"
     ]
    },
    {
     "data": {
      "application/vnd.jupyter.widget-view+json": {
       "model_id": "2ea4b54912de481cb29a13ce2bbe79fc",
       "version_major": 2,
       "version_minor": 0
      },
      "text/plain": [
       "0it [00:00, ?it/s]"
      ]
     },
     "metadata": {},
     "output_type": "display_data"
    },
    {
     "name": "stdout",
     "output_type": "stream",
     "text": [
      "index: 0, peak location: 1939    335.609985\n",
      "1962    336.575989\n",
      "Name: mz, dtype: float64\n",
      "index: 1, peak location: 1939    335.609985\n",
      "1962    336.575989\n",
      "Name: mz, dtype: float64\n",
      "peak index:  [1899, 3445, 3966, 6799, 9054, 9091, 9115]\n"
     ]
    },
    {
     "data": {
      "application/vnd.jupyter.widget-view+json": {
       "model_id": "c6000031715947059abba61dac631d21",
       "version_major": 2,
       "version_minor": 0
      },
      "text/plain": [
       "0it [00:00, ?it/s]"
      ]
     },
     "metadata": {},
     "output_type": "display_data"
    },
    {
     "name": "stdout",
     "output_type": "stream",
     "text": [
      "index: 0, peak location: 1899    129.809998\n",
      "3445    194.783997\n",
      "3966    216.679993\n",
      "6799    335.743011\n",
      "9054    430.514008\n",
      "9091    432.069000\n",
      "9115    433.078003\n",
      "Name: mz, dtype: float64\n",
      "index: 1, peak location: 1899    129.809998\n",
      "3445    194.783997\n",
      "3966    216.679993\n",
      "6799    335.743011\n",
      "9054    430.514008\n",
      "9091    432.069000\n",
      "9115    433.078003\n",
      "Name: mz, dtype: float64\n",
      "index: 2, peak location: 1899    129.809998\n",
      "3445    194.783997\n",
      "3966    216.679993\n",
      "6799    335.743011\n",
      "9054    430.514008\n",
      "9091    432.069000\n",
      "9115    433.078003\n",
      "Name: mz, dtype: float64\n",
      "index: 3, peak location: 1899    129.809998\n",
      "3445    194.783997\n",
      "3966    216.679993\n",
      "6799    335.743011\n",
      "9054    430.514008\n",
      "9091    432.069000\n",
      "9115    433.078003\n",
      "Name: mz, dtype: float64\n",
      "index: 4, peak location: 1899    129.809998\n",
      "3445    194.783997\n",
      "3966    216.679993\n",
      "6799    335.743011\n",
      "9054    430.514008\n",
      "9091    432.069000\n",
      "9115    433.078003\n",
      "Name: mz, dtype: float64\n",
      "index: 5, peak location: 1899    129.809998\n",
      "3445    194.783997\n",
      "3966    216.679993\n",
      "6799    335.743011\n",
      "9054    430.514008\n",
      "9091    432.069000\n",
      "9115    433.078003\n",
      "Name: mz, dtype: float64\n",
      "index: 6, peak location: 1899    129.809998\n",
      "3445    194.783997\n",
      "3966    216.679993\n",
      "6799    335.743011\n",
      "9054    430.514008\n",
      "9091    432.069000\n",
      "9115    433.078003\n",
      "Name: mz, dtype: float64\n",
      "peak index:  [472]\n"
     ]
    },
    {
     "data": {
      "application/vnd.jupyter.widget-view+json": {
       "model_id": "ebdd100577944ce691727ed8fb0eb5e9",
       "version_major": 2,
       "version_minor": 0
      },
      "text/plain": [
       "0it [00:00, ?it/s]"
      ]
     },
     "metadata": {},
     "output_type": "display_data"
    },
    {
     "name": "stdout",
     "output_type": "stream",
     "text": [
      "index: 0, peak location: 472    129.848007\n",
      "Name: mz, dtype: float64\n",
      "peak index:  [1938, 1962]\n"
     ]
    },
    {
     "data": {
      "application/vnd.jupyter.widget-view+json": {
       "model_id": "95c684db1ea04d9a971da3be8f96b1cc",
       "version_major": 2,
       "version_minor": 0
      },
      "text/plain": [
       "0it [00:00, ?it/s]"
      ]
     },
     "metadata": {},
     "output_type": "display_data"
    },
    {
     "name": "stdout",
     "output_type": "stream",
     "text": [
      "index: 0, peak location: 1938    335.567993\n",
      "1962    336.575989\n",
      "Name: mz, dtype: float64\n",
      "index: 1, peak location: 1938    335.567993\n",
      "1962    336.575989\n",
      "Name: mz, dtype: float64\n"
     ]
    },
    {
     "data": {
      "application/vnd.jupyter.widget-view+json": {
       "model_id": "479c9f017a894c14b1ec4f194422a305",
       "version_major": 2,
       "version_minor": 0
      },
      "text/plain": [
       "0it [00:00, ?it/s]"
      ]
     },
     "metadata": {},
     "output_type": "display_data"
    },
    {
     "name": "stdout",
     "output_type": "stream",
     "text": [
      "peak index:  [7296, 7304]\n"
     ]
    },
    {
     "data": {
      "application/vnd.jupyter.widget-view+json": {
       "model_id": "14615abf7d7d448ca6b7b7d0b6f57389",
       "version_major": 2,
       "version_minor": 0
      },
      "text/plain": [
       "0it [00:00, ?it/s]"
      ]
     },
     "metadata": {},
     "output_type": "display_data"
    },
    {
     "name": "stdout",
     "output_type": "stream",
     "text": [
      "index: 0, peak location: 7296    431.812012\n",
      "7304    432.230011\n",
      "Name: mz, dtype: float64\n",
      "index: 1, peak location: 7296    431.812012\n",
      "7304    432.230011\n",
      "Name: mz, dtype: float64\n",
      "peak index:  [382]\n"
     ]
    },
    {
     "data": {
      "application/vnd.jupyter.widget-view+json": {
       "model_id": "6374ab0b4f3f46dcbc4b4131ba9ce9a1",
       "version_major": 2,
       "version_minor": 0
      },
      "text/plain": [
       "0it [00:00, ?it/s]"
      ]
     },
     "metadata": {},
     "output_type": "display_data"
    },
    {
     "name": "stdout",
     "output_type": "stream",
     "text": [
      "index: 0, peak location: 382    130.022003\n",
      "Name: mz, dtype: float64\n",
      "peak index:  [1565, 1569]\n"
     ]
    },
    {
     "data": {
      "application/vnd.jupyter.widget-view+json": {
       "model_id": "3c175fa8b8824956b37c4e012b7b6dc1",
       "version_major": 2,
       "version_minor": 0
      },
      "text/plain": [
       "0it [00:00, ?it/s]"
      ]
     },
     "metadata": {},
     "output_type": "display_data"
    },
    {
     "name": "stdout",
     "output_type": "stream",
     "text": [
      "index: 0, peak location: 1565    336.101013\n",
      "1569    336.311005\n",
      "Name: mz, dtype: float64\n",
      "index: 1, peak location: 1565    336.101013\n",
      "1569    336.311005\n",
      "Name: mz, dtype: float64\n",
      "peak index:  [7299, 7311, 7313, 7316]\n"
     ]
    },
    {
     "data": {
      "application/vnd.jupyter.widget-view+json": {
       "model_id": "235290ae5f2d45a485f2d39f32ceed9a",
       "version_major": 2,
       "version_minor": 0
      },
      "text/plain": [
       "0it [00:00, ?it/s]"
      ]
     },
     "metadata": {},
     "output_type": "display_data"
    },
    {
     "name": "stdout",
     "output_type": "stream",
     "text": [
      "index: 0, peak location: 7299    431.968994\n",
      "7311    432.596008\n",
      "7313    432.700989\n",
      "7316    432.858002\n",
      "Name: mz, dtype: float64\n",
      "index: 1, peak location: 7299    431.968994\n",
      "7311    432.596008\n",
      "7313    432.700989\n",
      "7316    432.858002\n",
      "Name: mz, dtype: float64\n",
      "index: 2, peak location: 7299    431.968994\n",
      "7311    432.596008\n",
      "7313    432.700989\n",
      "7316    432.858002\n",
      "Name: mz, dtype: float64\n",
      "index: 3, peak location: 7299    431.968994\n",
      "7311    432.596008\n",
      "7313    432.700989\n",
      "7316    432.858002\n",
      "Name: mz, dtype: float64\n",
      "peak index:  [378, 381, 383]\n"
     ]
    },
    {
     "data": {
      "application/vnd.jupyter.widget-view+json": {
       "model_id": "c8341b159e084c44a45d2b45cb2ef501",
       "version_major": 2,
       "version_minor": 0
      },
      "text/plain": [
       "0it [00:00, ?it/s]"
      ]
     },
     "metadata": {},
     "output_type": "display_data"
    },
    {
     "name": "stdout",
     "output_type": "stream",
     "text": [
      "index: 0, peak location: 378    129.813004\n",
      "381    129.970001\n",
      "383    130.074997\n",
      "Name: mz, dtype: float64\n",
      "index: 1, peak location: 378    129.813004\n",
      "381    129.970001\n",
      "383    130.074997\n",
      "Name: mz, dtype: float64\n",
      "index: 2, peak location: 378    129.813004\n",
      "381    129.970001\n",
      "383    130.074997\n",
      "Name: mz, dtype: float64\n",
      "peak index:  [1560, 1562]\n"
     ]
    },
    {
     "data": {
      "application/vnd.jupyter.widget-view+json": {
       "model_id": "583e68e421ef404692a56ea88e061d5a",
       "version_major": 2,
       "version_minor": 0
      },
      "text/plain": [
       "0it [00:00, ?it/s]"
      ]
     },
     "metadata": {},
     "output_type": "display_data"
    },
    {
     "name": "stdout",
     "output_type": "stream",
     "text": [
      "index: 0, peak location: 1560    335.839996\n",
      "1562    335.944000\n",
      "Name: mz, dtype: float64\n",
      "index: 1, peak location: 1560    335.839996\n",
      "1562    335.944000\n",
      "Name: mz, dtype: float64\n",
      "peak index:  [7307, 7310]\n"
     ]
    },
    {
     "data": {
      "application/vnd.jupyter.widget-view+json": {
       "model_id": "ec28d0bea1b4452f8d58aeaa121a0f7d",
       "version_major": 2,
       "version_minor": 0
      },
      "text/plain": [
       "0it [00:00, ?it/s]"
      ]
     },
     "metadata": {},
     "output_type": "display_data"
    },
    {
     "name": "stdout",
     "output_type": "stream",
     "text": [
      "index: 0, peak location: 7307    432.386993\n",
      "7310    432.544006\n",
      "Name: mz, dtype: float64\n",
      "index: 1, peak location: 7307    432.386993\n",
      "7310    432.544006\n",
      "Name: mz, dtype: float64\n",
      "peak index:  [382, 384]\n"
     ]
    },
    {
     "data": {
      "application/vnd.jupyter.widget-view+json": {
       "model_id": "abbd9aa846ae4404bef9633719032dbf",
       "version_major": 2,
       "version_minor": 0
      },
      "text/plain": [
       "0it [00:00, ?it/s]"
      ]
     },
     "metadata": {},
     "output_type": "display_data"
    },
    {
     "name": "stdout",
     "output_type": "stream",
     "text": [
      "index: 0, peak location: 382    130.022003\n",
      "384    130.126999\n",
      "Name: mz, dtype: float64\n",
      "index: 1, peak location: 382    130.022003\n",
      "384    130.126999\n",
      "Name: mz, dtype: float64\n",
      "peak index:  [1556, 1560, 1563]\n"
     ]
    },
    {
     "data": {
      "application/vnd.jupyter.widget-view+json": {
       "model_id": "db67eb2e06044c6f959459360b1a8911",
       "version_major": 2,
       "version_minor": 0
      },
      "text/plain": [
       "0it [00:00, ?it/s]"
      ]
     },
     "metadata": {},
     "output_type": "display_data"
    },
    {
     "name": "stdout",
     "output_type": "stream",
     "text": [
      "index: 0, peak location: 1556    335.630005\n",
      "1560    335.839996\n",
      "1563    335.997009\n",
      "Name: mz, dtype: float64\n",
      "index: 1, peak location: 1556    335.630005\n",
      "1560    335.839996\n",
      "1563    335.997009\n",
      "Name: mz, dtype: float64\n",
      "index: 2, peak location: 1556    335.630005\n",
      "1560    335.839996\n",
      "1563    335.997009\n",
      "Name: mz, dtype: float64\n",
      "peak index:  [7307, 7310, 7312]\n"
     ]
    },
    {
     "data": {
      "application/vnd.jupyter.widget-view+json": {
       "model_id": "1fc7afc0be4f4c5994e181a605d07956",
       "version_major": 2,
       "version_minor": 0
      },
      "text/plain": [
       "0it [00:00, ?it/s]"
      ]
     },
     "metadata": {},
     "output_type": "display_data"
    },
    {
     "name": "stdout",
     "output_type": "stream",
     "text": [
      "index: 0, peak location: 7307    432.386993\n",
      "7310    432.544006\n",
      "7312    432.648987\n",
      "Name: mz, dtype: float64\n",
      "index: 1, peak location: 7307    432.386993\n",
      "7310    432.544006\n",
      "7312    432.648987\n",
      "Name: mz, dtype: float64\n",
      "index: 2, peak location: 7307    432.386993\n",
      "7310    432.544006\n",
      "7312    432.648987\n",
      "Name: mz, dtype: float64\n",
      "peak index:  [381]\n"
     ]
    },
    {
     "data": {
      "application/vnd.jupyter.widget-view+json": {
       "model_id": "e7548e22ba1d414caa7112a9f81620cc",
       "version_major": 2,
       "version_minor": 0
      },
      "text/plain": [
       "0it [00:00, ?it/s]"
      ]
     },
     "metadata": {},
     "output_type": "display_data"
    },
    {
     "name": "stdout",
     "output_type": "stream",
     "text": [
      "index: 0, peak location: 381    129.970001\n",
      "Name: mz, dtype: float64\n",
      "peak index:  [1565]\n"
     ]
    },
    {
     "data": {
      "application/vnd.jupyter.widget-view+json": {
       "model_id": "d0b90752fdeb4e32be8126cf9035ff0d",
       "version_major": 2,
       "version_minor": 0
      },
      "text/plain": [
       "0it [00:00, ?it/s]"
      ]
     },
     "metadata": {},
     "output_type": "display_data"
    },
    {
     "name": "stdout",
     "output_type": "stream",
     "text": [
      "index: 0, peak location: 1565    336.101013\n",
      "Name: mz, dtype: float64\n",
      "peak index:  [7308, 7313, 7316]\n"
     ]
    },
    {
     "data": {
      "application/vnd.jupyter.widget-view+json": {
       "model_id": "93ddb38730e148cc919012e8b0549974",
       "version_major": 2,
       "version_minor": 0
      },
      "text/plain": [
       "0it [00:00, ?it/s]"
      ]
     },
     "metadata": {},
     "output_type": "display_data"
    },
    {
     "name": "stdout",
     "output_type": "stream",
     "text": [
      "index: 0, peak location: 7308    432.438995\n",
      "7313    432.700989\n",
      "7316    432.858002\n",
      "Name: mz, dtype: float64\n",
      "index: 1, peak location: 7308    432.438995\n",
      "7313    432.700989\n",
      "7316    432.858002\n",
      "Name: mz, dtype: float64\n",
      "index: 2, peak location: 7308    432.438995\n",
      "7313    432.700989\n",
      "7316    432.858002\n",
      "Name: mz, dtype: float64\n",
      "peak index:  [383]\n"
     ]
    },
    {
     "data": {
      "application/vnd.jupyter.widget-view+json": {
       "model_id": "f95ff3add71d40939fc5adab62c4b9c8",
       "version_major": 2,
       "version_minor": 0
      },
      "text/plain": [
       "0it [00:00, ?it/s]"
      ]
     },
     "metadata": {},
     "output_type": "display_data"
    },
    {
     "name": "stdout",
     "output_type": "stream",
     "text": [
      "index: 0, peak location: 383    130.074997\n",
      "Name: mz, dtype: float64\n",
      "peak index:  [1561, 1567]\n"
     ]
    },
    {
     "data": {
      "application/vnd.jupyter.widget-view+json": {
       "model_id": "3fa2e8a574a74956a54bb9f28a448976",
       "version_major": 2,
       "version_minor": 0
      },
      "text/plain": [
       "0it [00:00, ?it/s]"
      ]
     },
     "metadata": {},
     "output_type": "display_data"
    },
    {
     "name": "stdout",
     "output_type": "stream",
     "text": [
      "index: 0, peak location: 1561    335.891998\n",
      "1567    336.205994\n",
      "Name: mz, dtype: float64\n",
      "index: 1, peak location: 1561    335.891998\n",
      "1567    336.205994\n",
      "Name: mz, dtype: float64\n",
      "peak index:  [7308, 7311]\n"
     ]
    },
    {
     "data": {
      "application/vnd.jupyter.widget-view+json": {
       "model_id": "bde8ad1ebaa944828d5ba0ad1ed9b03f",
       "version_major": 2,
       "version_minor": 0
      },
      "text/plain": [
       "0it [00:00, ?it/s]"
      ]
     },
     "metadata": {},
     "output_type": "display_data"
    },
    {
     "name": "stdout",
     "output_type": "stream",
     "text": [
      "index: 0, peak location: 7308    432.438995\n",
      "7311    432.596008\n",
      "Name: mz, dtype: float64\n",
      "index: 1, peak location: 7308    432.438995\n",
      "7311    432.596008\n",
      "Name: mz, dtype: float64\n",
      "peak index:  [379, 382, 384]\n"
     ]
    },
    {
     "data": {
      "application/vnd.jupyter.widget-view+json": {
       "model_id": "44f1ad561f7b4a1f8a177898d71dee16",
       "version_major": 2,
       "version_minor": 0
      },
      "text/plain": [
       "0it [00:00, ?it/s]"
      ]
     },
     "metadata": {},
     "output_type": "display_data"
    },
    {
     "name": "stdout",
     "output_type": "stream",
     "text": [
      "index: 0, peak location: 379    129.865005\n",
      "382    130.022003\n",
      "384    130.126999\n",
      "Name: mz, dtype: float64\n",
      "index: 1, peak location: 379    129.865005\n",
      "382    130.022003\n",
      "384    130.126999\n",
      "Name: mz, dtype: float64\n",
      "index: 2, peak location: 379    129.865005\n",
      "382    130.022003\n",
      "384    130.126999\n",
      "Name: mz, dtype: float64\n",
      "peak index:  [1561]\n"
     ]
    },
    {
     "data": {
      "application/vnd.jupyter.widget-view+json": {
       "model_id": "00ddf78bae18441c9296368fb17a4619",
       "version_major": 2,
       "version_minor": 0
      },
      "text/plain": [
       "0it [00:00, ?it/s]"
      ]
     },
     "metadata": {},
     "output_type": "display_data"
    },
    {
     "name": "stdout",
     "output_type": "stream",
     "text": [
      "index: 0, peak location: 1561    335.891998\n",
      "Name: mz, dtype: float64\n",
      "peak index:  [7308, 7311, 7313]\n"
     ]
    },
    {
     "data": {
      "application/vnd.jupyter.widget-view+json": {
       "model_id": "15ac68405c0949b68221ca1ddd4a6b19",
       "version_major": 2,
       "version_minor": 0
      },
      "text/plain": [
       "0it [00:00, ?it/s]"
      ]
     },
     "metadata": {},
     "output_type": "display_data"
    },
    {
     "name": "stdout",
     "output_type": "stream",
     "text": [
      "index: 0, peak location: 7308    432.438995\n",
      "7311    432.596008\n",
      "7313    432.700989\n",
      "Name: mz, dtype: float64\n",
      "index: 1, peak location: 7308    432.438995\n",
      "7311    432.596008\n",
      "7313    432.700989\n",
      "Name: mz, dtype: float64\n",
      "index: 2, peak location: 7308    432.438995\n",
      "7311    432.596008\n",
      "7313    432.700989\n",
      "Name: mz, dtype: float64\n",
      "peak index:  [380, 383]\n"
     ]
    },
    {
     "data": {
      "application/vnd.jupyter.widget-view+json": {
       "model_id": "0abfe9635fc545cf8846f6d631ce42e8",
       "version_major": 2,
       "version_minor": 0
      },
      "text/plain": [
       "0it [00:00, ?it/s]"
      ]
     },
     "metadata": {},
     "output_type": "display_data"
    },
    {
     "name": "stdout",
     "output_type": "stream",
     "text": [
      "index: 0, peak location: 380    129.917999\n",
      "383    130.074997\n",
      "Name: mz, dtype: float64\n",
      "index: 1, peak location: 380    129.917999\n",
      "383    130.074997\n",
      "Name: mz, dtype: float64\n",
      "peak index:  [1559, 1565]\n"
     ]
    },
    {
     "data": {
      "application/vnd.jupyter.widget-view+json": {
       "model_id": "c22249deb1f24aa495898d9d4cfa4dc1",
       "version_major": 2,
       "version_minor": 0
      },
      "text/plain": [
       "0it [00:00, ?it/s]"
      ]
     },
     "metadata": {},
     "output_type": "display_data"
    },
    {
     "name": "stdout",
     "output_type": "stream",
     "text": [
      "index: 0, peak location: 1559    335.786987\n",
      "1565    336.101013\n",
      "Name: mz, dtype: float64\n",
      "index: 1, peak location: 1559    335.786987\n",
      "1565    336.101013\n",
      "Name: mz, dtype: float64\n",
      "peak index:  [7306, 7313]\n"
     ]
    },
    {
     "data": {
      "application/vnd.jupyter.widget-view+json": {
       "model_id": "c4a399ecb2ce444fbc4a1f3533b1b589",
       "version_major": 2,
       "version_minor": 0
      },
      "text/plain": [
       "0it [00:00, ?it/s]"
      ]
     },
     "metadata": {},
     "output_type": "display_data"
    },
    {
     "name": "stdout",
     "output_type": "stream",
     "text": [
      "index: 0, peak location: 7306    432.334991\n",
      "7313    432.700989\n",
      "Name: mz, dtype: float64\n",
      "index: 1, peak location: 7306    432.334991\n",
      "7313    432.700989\n",
      "Name: mz, dtype: float64\n",
      "peak index:  [379, 381]\n"
     ]
    },
    {
     "data": {
      "application/vnd.jupyter.widget-view+json": {
       "model_id": "a5ddec91df894adb9edc273ffd1f5426",
       "version_major": 2,
       "version_minor": 0
      },
      "text/plain": [
       "0it [00:00, ?it/s]"
      ]
     },
     "metadata": {},
     "output_type": "display_data"
    },
    {
     "name": "stdout",
     "output_type": "stream",
     "text": [
      "index: 0, peak location: 379    129.865005\n",
      "381    129.970001\n",
      "Name: mz, dtype: float64\n",
      "index: 1, peak location: 379    129.865005\n",
      "381    129.970001\n",
      "Name: mz, dtype: float64\n",
      "peak index:  [1561]\n"
     ]
    },
    {
     "data": {
      "application/vnd.jupyter.widget-view+json": {
       "model_id": "d4d1cffc9796434fa1528c05eccb0258",
       "version_major": 2,
       "version_minor": 0
      },
      "text/plain": [
       "0it [00:00, ?it/s]"
      ]
     },
     "metadata": {},
     "output_type": "display_data"
    },
    {
     "name": "stdout",
     "output_type": "stream",
     "text": [
      "index: 0, peak location: 1561    335.891998\n",
      "Name: mz, dtype: float64\n",
      "peak index:  [7307, 7309, 7311]\n"
     ]
    },
    {
     "data": {
      "application/vnd.jupyter.widget-view+json": {
       "model_id": "05c97f5f2af74662beebefe971507a07",
       "version_major": 2,
       "version_minor": 0
      },
      "text/plain": [
       "0it [00:00, ?it/s]"
      ]
     },
     "metadata": {},
     "output_type": "display_data"
    },
    {
     "name": "stdout",
     "output_type": "stream",
     "text": [
      "index: 0, peak location: 7307    432.386993\n",
      "7309    432.492004\n",
      "7311    432.596008\n",
      "Name: mz, dtype: float64\n",
      "index: 1, peak location: 7307    432.386993\n",
      "7309    432.492004\n",
      "7311    432.596008\n",
      "Name: mz, dtype: float64\n",
      "index: 2, peak location: 7307    432.386993\n",
      "7309    432.492004\n",
      "7311    432.596008\n",
      "Name: mz, dtype: float64\n",
      "peak index:  [381]\n"
     ]
    },
    {
     "data": {
      "application/vnd.jupyter.widget-view+json": {
       "model_id": "42c0ba8ae60348138fedad68f1ce55ad",
       "version_major": 2,
       "version_minor": 0
      },
      "text/plain": [
       "0it [00:00, ?it/s]"
      ]
     },
     "metadata": {},
     "output_type": "display_data"
    },
    {
     "name": "stdout",
     "output_type": "stream",
     "text": [
      "index: 0, peak location: 381    129.970001\n",
      "Name: mz, dtype: float64\n",
      "peak index:  [1561, 1564]\n"
     ]
    },
    {
     "data": {
      "application/vnd.jupyter.widget-view+json": {
       "model_id": "1ce2ed788c8a430dbe4eced3a165b9e0",
       "version_major": 2,
       "version_minor": 0
      },
      "text/plain": [
       "0it [00:00, ?it/s]"
      ]
     },
     "metadata": {},
     "output_type": "display_data"
    },
    {
     "name": "stdout",
     "output_type": "stream",
     "text": [
      "index: 0, peak location: 1561    335.891998\n",
      "1564    336.049011\n",
      "Name: mz, dtype: float64\n",
      "index: 1, peak location: 1561    335.891998\n",
      "1564    336.049011\n",
      "Name: mz, dtype: float64\n",
      "peak index:  [7310]\n"
     ]
    },
    {
     "data": {
      "application/vnd.jupyter.widget-view+json": {
       "model_id": "632dc5f7440a4108b426cb2e9bbf4b3e",
       "version_major": 2,
       "version_minor": 0
      },
      "text/plain": [
       "0it [00:00, ?it/s]"
      ]
     },
     "metadata": {},
     "output_type": "display_data"
    },
    {
     "name": "stdout",
     "output_type": "stream",
     "text": [
      "index: 0, peak location: 7310    432.544006\n",
      "Name: mz, dtype: float64\n",
      "peak index:  [377, 379, 382, 384]\n"
     ]
    },
    {
     "data": {
      "application/vnd.jupyter.widget-view+json": {
       "model_id": "a0bec5342c364d91a5c1f350602b2a41",
       "version_major": 2,
       "version_minor": 0
      },
      "text/plain": [
       "0it [00:00, ?it/s]"
      ]
     },
     "metadata": {},
     "output_type": "display_data"
    },
    {
     "name": "stdout",
     "output_type": "stream",
     "text": [
      "index: 0, peak location: 377    129.759995\n",
      "379    129.865005\n",
      "382    130.022003\n",
      "384    130.126999\n",
      "Name: mz, dtype: float64\n",
      "index: 1, peak location: 377    129.759995\n",
      "379    129.865005\n",
      "382    130.022003\n",
      "384    130.126999\n",
      "Name: mz, dtype: float64\n",
      "index: 2, peak location: 377    129.759995\n",
      "379    129.865005\n",
      "382    130.022003\n",
      "384    130.126999\n",
      "Name: mz, dtype: float64\n",
      "index: 3, peak location: 377    129.759995\n",
      "379    129.865005\n",
      "382    130.022003\n",
      "384    130.126999\n",
      "Name: mz, dtype: float64\n",
      "peak index:  [1561]\n"
     ]
    },
    {
     "data": {
      "application/vnd.jupyter.widget-view+json": {
       "model_id": "499a24708b3e49febbe6e559f8cdbc7c",
       "version_major": 2,
       "version_minor": 0
      },
      "text/plain": [
       "0it [00:00, ?it/s]"
      ]
     },
     "metadata": {},
     "output_type": "display_data"
    },
    {
     "name": "stdout",
     "output_type": "stream",
     "text": [
      "index: 0, peak location: 1561    335.891998\n",
      "Name: mz, dtype: float64\n",
      "peak index:  [7301, 7309, 7311]\n"
     ]
    },
    {
     "data": {
      "application/vnd.jupyter.widget-view+json": {
       "model_id": "1fc78d62a62c42a3a9178dbf06a120ed",
       "version_major": 2,
       "version_minor": 0
      },
      "text/plain": [
       "0it [00:00, ?it/s]"
      ]
     },
     "metadata": {},
     "output_type": "display_data"
    },
    {
     "name": "stdout",
     "output_type": "stream",
     "text": [
      "index: 0, peak location: 7301    432.072998\n",
      "7309    432.492004\n",
      "7311    432.596008\n",
      "Name: mz, dtype: float64\n",
      "index: 1, peak location: 7301    432.072998\n",
      "7309    432.492004\n",
      "7311    432.596008\n",
      "Name: mz, dtype: float64\n",
      "index: 2, peak location: 7301    432.072998\n",
      "7309    432.492004\n",
      "7311    432.596008\n",
      "Name: mz, dtype: float64\n",
      "peak index:  [378, 380]\n"
     ]
    },
    {
     "data": {
      "application/vnd.jupyter.widget-view+json": {
       "model_id": "bbab711957db4dbe955b85b9de727c90",
       "version_major": 2,
       "version_minor": 0
      },
      "text/plain": [
       "0it [00:00, ?it/s]"
      ]
     },
     "metadata": {},
     "output_type": "display_data"
    },
    {
     "name": "stdout",
     "output_type": "stream",
     "text": [
      "index: 0, peak location: 378    129.813004\n",
      "380    129.917999\n",
      "Name: mz, dtype: float64\n",
      "index: 1, peak location: 378    129.813004\n",
      "380    129.917999\n",
      "Name: mz, dtype: float64\n",
      "peak index:  [1563]\n"
     ]
    },
    {
     "data": {
      "application/vnd.jupyter.widget-view+json": {
       "model_id": "d0364642d60740f7a6c769d8fbc6a5e2",
       "version_major": 2,
       "version_minor": 0
      },
      "text/plain": [
       "0it [00:00, ?it/s]"
      ]
     },
     "metadata": {},
     "output_type": "display_data"
    },
    {
     "name": "stdout",
     "output_type": "stream",
     "text": [
      "index: 0, peak location: 1563    335.997009\n",
      "Name: mz, dtype: float64\n",
      "peak index:  [7307, 7312, 7315]\n"
     ]
    },
    {
     "data": {
      "application/vnd.jupyter.widget-view+json": {
       "model_id": "4813a5ea3dbf40d6bde65a8526ce174d",
       "version_major": 2,
       "version_minor": 0
      },
      "text/plain": [
       "0it [00:00, ?it/s]"
      ]
     },
     "metadata": {},
     "output_type": "display_data"
    },
    {
     "name": "stdout",
     "output_type": "stream",
     "text": [
      "index: 0, peak location: 7307    432.386993\n",
      "7312    432.648987\n",
      "7315    432.806000\n",
      "Name: mz, dtype: float64\n",
      "index: 1, peak location: 7307    432.386993\n",
      "7312    432.648987\n",
      "7315    432.806000\n",
      "Name: mz, dtype: float64\n",
      "index: 2, peak location: 7307    432.386993\n",
      "7312    432.648987\n",
      "7315    432.806000\n",
      "Name: mz, dtype: float64\n",
      "peak index:  [377, 379, 382]\n"
     ]
    },
    {
     "data": {
      "application/vnd.jupyter.widget-view+json": {
       "model_id": "42fcb10951fa4a65878e41233c6dcd34",
       "version_major": 2,
       "version_minor": 0
      },
      "text/plain": [
       "0it [00:00, ?it/s]"
      ]
     },
     "metadata": {},
     "output_type": "display_data"
    },
    {
     "name": "stdout",
     "output_type": "stream",
     "text": [
      "index: 0, peak location: 377    129.759995\n",
      "379    129.865005\n",
      "382    130.022003\n",
      "Name: mz, dtype: float64\n",
      "index: 1, peak location: 377    129.759995\n",
      "379    129.865005\n",
      "382    130.022003\n",
      "Name: mz, dtype: float64\n",
      "index: 2, peak location: 377    129.759995\n",
      "379    129.865005\n",
      "382    130.022003\n",
      "Name: mz, dtype: float64\n",
      "peak index:  [1565]\n"
     ]
    },
    {
     "data": {
      "application/vnd.jupyter.widget-view+json": {
       "model_id": "1ad1c17969f24cc5bc9062a63e5b196b",
       "version_major": 2,
       "version_minor": 0
      },
      "text/plain": [
       "0it [00:00, ?it/s]"
      ]
     },
     "metadata": {},
     "output_type": "display_data"
    },
    {
     "name": "stdout",
     "output_type": "stream",
     "text": [
      "index: 0, peak location: 1565    336.101013\n",
      "Name: mz, dtype: float64\n",
      "peak index:  [7306, 7310, 7312]\n"
     ]
    },
    {
     "data": {
      "application/vnd.jupyter.widget-view+json": {
       "model_id": "abadf716ef7d41be881bbf4b693e3eb4",
       "version_major": 2,
       "version_minor": 0
      },
      "text/plain": [
       "0it [00:00, ?it/s]"
      ]
     },
     "metadata": {},
     "output_type": "display_data"
    },
    {
     "name": "stdout",
     "output_type": "stream",
     "text": [
      "index: 0, peak location: 7306    432.334991\n",
      "7310    432.544006\n",
      "7312    432.648987\n",
      "Name: mz, dtype: float64\n",
      "index: 1, peak location: 7306    432.334991\n",
      "7310    432.544006\n",
      "7312    432.648987\n",
      "Name: mz, dtype: float64\n",
      "index: 2, peak location: 7306    432.334991\n",
      "7310    432.544006\n",
      "7312    432.648987\n",
      "Name: mz, dtype: float64\n",
      "peak index:  [380]\n"
     ]
    },
    {
     "data": {
      "application/vnd.jupyter.widget-view+json": {
       "model_id": "096795eece5e4a9ba6d5e70db852aca8",
       "version_major": 2,
       "version_minor": 0
      },
      "text/plain": [
       "0it [00:00, ?it/s]"
      ]
     },
     "metadata": {},
     "output_type": "display_data"
    },
    {
     "name": "stdout",
     "output_type": "stream",
     "text": [
      "index: 0, peak location: 380    129.917999\n",
      "Name: mz, dtype: float64\n",
      "peak index:  [1559]\n"
     ]
    },
    {
     "data": {
      "application/vnd.jupyter.widget-view+json": {
       "model_id": "b6f4f62d132e4faaa84097d824547b55",
       "version_major": 2,
       "version_minor": 0
      },
      "text/plain": [
       "0it [00:00, ?it/s]"
      ]
     },
     "metadata": {},
     "output_type": "display_data"
    },
    {
     "name": "stdout",
     "output_type": "stream",
     "text": [
      "index: 0, peak location: 1559    335.786987\n",
      "Name: mz, dtype: float64\n",
      "peak index:  [7305, 7309, 7312]\n"
     ]
    },
    {
     "data": {
      "application/vnd.jupyter.widget-view+json": {
       "model_id": "653bfc1f6ee84f37b65737243db0f084",
       "version_major": 2,
       "version_minor": 0
      },
      "text/plain": [
       "0it [00:00, ?it/s]"
      ]
     },
     "metadata": {},
     "output_type": "display_data"
    },
    {
     "name": "stdout",
     "output_type": "stream",
     "text": [
      "index: 0, peak location: 7305    432.282013\n",
      "7309    432.492004\n",
      "7312    432.648987\n",
      "Name: mz, dtype: float64\n",
      "index: 1, peak location: 7305    432.282013\n",
      "7309    432.492004\n",
      "7312    432.648987\n",
      "Name: mz, dtype: float64\n",
      "index: 2, peak location: 7305    432.282013\n",
      "7309    432.492004\n",
      "7312    432.648987\n",
      "Name: mz, dtype: float64\n",
      "peak index:  [379, 381]\n"
     ]
    },
    {
     "data": {
      "application/vnd.jupyter.widget-view+json": {
       "model_id": "a4d612d3b33b4776ad01fe77749de9e1",
       "version_major": 2,
       "version_minor": 0
      },
      "text/plain": [
       "0it [00:00, ?it/s]"
      ]
     },
     "metadata": {},
     "output_type": "display_data"
    },
    {
     "name": "stdout",
     "output_type": "stream",
     "text": [
      "index: 0, peak location: 379    129.865005\n",
      "381    129.970001\n",
      "Name: mz, dtype: float64\n",
      "index: 1, peak location: 379    129.865005\n",
      "381    129.970001\n",
      "Name: mz, dtype: float64\n",
      "peak index:  [1561]\n"
     ]
    },
    {
     "data": {
      "application/vnd.jupyter.widget-view+json": {
       "model_id": "1ee22519d7fb4dcc9700e4667751d585",
       "version_major": 2,
       "version_minor": 0
      },
      "text/plain": [
       "0it [00:00, ?it/s]"
      ]
     },
     "metadata": {},
     "output_type": "display_data"
    },
    {
     "name": "stdout",
     "output_type": "stream",
     "text": [
      "index: 0, peak location: 1561    335.891998\n",
      "Name: mz, dtype: float64\n",
      "peak index:  [7311]\n"
     ]
    },
    {
     "data": {
      "application/vnd.jupyter.widget-view+json": {
       "model_id": "f03ca30b51a54235a8288ae830e880af",
       "version_major": 2,
       "version_minor": 0
      },
      "text/plain": [
       "0it [00:00, ?it/s]"
      ]
     },
     "metadata": {},
     "output_type": "display_data"
    },
    {
     "name": "stdout",
     "output_type": "stream",
     "text": [
      "index: 0, peak location: 7311    432.596008\n",
      "Name: mz, dtype: float64\n",
      "peak index:  [380, 383]\n"
     ]
    },
    {
     "data": {
      "application/vnd.jupyter.widget-view+json": {
       "model_id": "5732ae424fc049c0a76b6eecb284e217",
       "version_major": 2,
       "version_minor": 0
      },
      "text/plain": [
       "0it [00:00, ?it/s]"
      ]
     },
     "metadata": {},
     "output_type": "display_data"
    },
    {
     "name": "stdout",
     "output_type": "stream",
     "text": [
      "index: 0, peak location: 380    129.917999\n",
      "383    130.074997\n",
      "Name: mz, dtype: float64\n",
      "index: 1, peak location: 380    129.917999\n",
      "383    130.074997\n",
      "Name: mz, dtype: float64\n",
      "peak index:  [1562]\n"
     ]
    },
    {
     "data": {
      "application/vnd.jupyter.widget-view+json": {
       "model_id": "f991e1d0ec6149a98fc3405eb25c743c",
       "version_major": 2,
       "version_minor": 0
      },
      "text/plain": [
       "0it [00:00, ?it/s]"
      ]
     },
     "metadata": {},
     "output_type": "display_data"
    },
    {
     "name": "stdout",
     "output_type": "stream",
     "text": [
      "index: 0, peak location: 1562    335.944\n",
      "Name: mz, dtype: float64\n",
      "peak index:  [7307, 7312]\n"
     ]
    },
    {
     "data": {
      "application/vnd.jupyter.widget-view+json": {
       "model_id": "090bcf627b5f42c095d60f40a190c195",
       "version_major": 2,
       "version_minor": 0
      },
      "text/plain": [
       "0it [00:00, ?it/s]"
      ]
     },
     "metadata": {},
     "output_type": "display_data"
    },
    {
     "name": "stdout",
     "output_type": "stream",
     "text": [
      "index: 0, peak location: 7307    432.386993\n",
      "7312    432.648987\n",
      "Name: mz, dtype: float64\n",
      "index: 1, peak location: 7307    432.386993\n",
      "7312    432.648987\n",
      "Name: mz, dtype: float64\n",
      "peak index:  [379, 381]\n"
     ]
    },
    {
     "data": {
      "application/vnd.jupyter.widget-view+json": {
       "model_id": "f1dc0072264448a8a86c2b5b3d75eeac",
       "version_major": 2,
       "version_minor": 0
      },
      "text/plain": [
       "0it [00:00, ?it/s]"
      ]
     },
     "metadata": {},
     "output_type": "display_data"
    },
    {
     "name": "stdout",
     "output_type": "stream",
     "text": [
      "index: 0, peak location: 379    129.865005\n",
      "381    129.970001\n",
      "Name: mz, dtype: float64\n",
      "index: 1, peak location: 379    129.865005\n",
      "381    129.970001\n",
      "Name: mz, dtype: float64\n",
      "peak index:  [1562]\n"
     ]
    },
    {
     "data": {
      "application/vnd.jupyter.widget-view+json": {
       "model_id": "7d89212e4641488b8e2dd8b332353229",
       "version_major": 2,
       "version_minor": 0
      },
      "text/plain": [
       "0it [00:00, ?it/s]"
      ]
     },
     "metadata": {},
     "output_type": "display_data"
    },
    {
     "name": "stdout",
     "output_type": "stream",
     "text": [
      "index: 0, peak location: 1562    335.944\n",
      "Name: mz, dtype: float64\n",
      "peak index:  [7308, 7311, 7318]\n"
     ]
    },
    {
     "data": {
      "application/vnd.jupyter.widget-view+json": {
       "model_id": "fb032158175e43c4a076dcf1a526cba6",
       "version_major": 2,
       "version_minor": 0
      },
      "text/plain": [
       "0it [00:00, ?it/s]"
      ]
     },
     "metadata": {},
     "output_type": "display_data"
    },
    {
     "name": "stdout",
     "output_type": "stream",
     "text": [
      "index: 0, peak location: 7308    432.438995\n",
      "7311    432.596008\n",
      "7318    432.963013\n",
      "Name: mz, dtype: float64\n",
      "index: 1, peak location: 7308    432.438995\n",
      "7311    432.596008\n",
      "7318    432.963013\n",
      "Name: mz, dtype: float64\n",
      "index: 2, peak location: 7308    432.438995\n",
      "7311    432.596008\n",
      "7318    432.963013\n",
      "Name: mz, dtype: float64\n",
      "peak index:  [380, 382]\n"
     ]
    },
    {
     "data": {
      "application/vnd.jupyter.widget-view+json": {
       "model_id": "e693a47b480246a188a7bf0ff3a7039b",
       "version_major": 2,
       "version_minor": 0
      },
      "text/plain": [
       "0it [00:00, ?it/s]"
      ]
     },
     "metadata": {},
     "output_type": "display_data"
    },
    {
     "name": "stdout",
     "output_type": "stream",
     "text": [
      "index: 0, peak location: 380    129.917999\n",
      "382    130.022003\n",
      "Name: mz, dtype: float64\n",
      "index: 1, peak location: 380    129.917999\n",
      "382    130.022003\n",
      "Name: mz, dtype: float64\n",
      "peak index:  [1560, 1563]\n"
     ]
    },
    {
     "data": {
      "application/vnd.jupyter.widget-view+json": {
       "model_id": "ef4f1cac3c3541f3a738f15e6743cc49",
       "version_major": 2,
       "version_minor": 0
      },
      "text/plain": [
       "0it [00:00, ?it/s]"
      ]
     },
     "metadata": {},
     "output_type": "display_data"
    },
    {
     "name": "stdout",
     "output_type": "stream",
     "text": [
      "index: 0, peak location: 1560    335.839996\n",
      "1563    335.997009\n",
      "Name: mz, dtype: float64\n",
      "index: 1, peak location: 1560    335.839996\n",
      "1563    335.997009\n",
      "Name: mz, dtype: float64\n",
      "peak index:  [7311]\n"
     ]
    },
    {
     "data": {
      "application/vnd.jupyter.widget-view+json": {
       "model_id": "71a156ff77c5458db39e548fbdb54ef6",
       "version_major": 2,
       "version_minor": 0
      },
      "text/plain": [
       "0it [00:00, ?it/s]"
      ]
     },
     "metadata": {},
     "output_type": "display_data"
    },
    {
     "name": "stdout",
     "output_type": "stream",
     "text": [
      "index: 0, peak location: 7311    432.596008\n",
      "Name: mz, dtype: float64\n",
      "peak index:  [381]\n"
     ]
    },
    {
     "data": {
      "application/vnd.jupyter.widget-view+json": {
       "model_id": "612f4b5b644242cfb6ced73a2c37b976",
       "version_major": 2,
       "version_minor": 0
      },
      "text/plain": [
       "0it [00:00, ?it/s]"
      ]
     },
     "metadata": {},
     "output_type": "display_data"
    },
    {
     "name": "stdout",
     "output_type": "stream",
     "text": [
      "index: 0, peak location: 381    129.970001\n",
      "Name: mz, dtype: float64\n",
      "peak index:  [1559, 1563]\n"
     ]
    },
    {
     "data": {
      "application/vnd.jupyter.widget-view+json": {
       "model_id": "e5212fbd5bf44e2fbd965d4b77ee3621",
       "version_major": 2,
       "version_minor": 0
      },
      "text/plain": [
       "0it [00:00, ?it/s]"
      ]
     },
     "metadata": {},
     "output_type": "display_data"
    },
    {
     "name": "stdout",
     "output_type": "stream",
     "text": [
      "index: 0, peak location: 1559    335.786987\n",
      "1563    335.997009\n",
      "Name: mz, dtype: float64\n",
      "index: 1, peak location: 1559    335.786987\n",
      "1563    335.997009\n",
      "Name: mz, dtype: float64\n",
      "peak index:  [7307, 7310]\n"
     ]
    },
    {
     "data": {
      "application/vnd.jupyter.widget-view+json": {
       "model_id": "ad71b153117242198c648b23dd8db7d9",
       "version_major": 2,
       "version_minor": 0
      },
      "text/plain": [
       "0it [00:00, ?it/s]"
      ]
     },
     "metadata": {},
     "output_type": "display_data"
    },
    {
     "name": "stdout",
     "output_type": "stream",
     "text": [
      "index: 0, peak location: 7307    432.386993\n",
      "7310    432.544006\n",
      "Name: mz, dtype: float64\n",
      "index: 1, peak location: 7307    432.386993\n",
      "7310    432.544006\n",
      "Name: mz, dtype: float64\n",
      "peak index:  [379, 381]\n"
     ]
    },
    {
     "data": {
      "application/vnd.jupyter.widget-view+json": {
       "model_id": "1a6d1c20bdf94db194d349ef1a141eb4",
       "version_major": 2,
       "version_minor": 0
      },
      "text/plain": [
       "0it [00:00, ?it/s]"
      ]
     },
     "metadata": {},
     "output_type": "display_data"
    },
    {
     "name": "stdout",
     "output_type": "stream",
     "text": [
      "index: 0, peak location: 379    129.865005\n",
      "381    129.970001\n",
      "Name: mz, dtype: float64\n",
      "index: 1, peak location: 379    129.865005\n",
      "381    129.970001\n",
      "Name: mz, dtype: float64\n",
      "peak index:  [1562]\n"
     ]
    },
    {
     "data": {
      "application/vnd.jupyter.widget-view+json": {
       "model_id": "7f61e9a7a16d4e5793667e1b57b55163",
       "version_major": 2,
       "version_minor": 0
      },
      "text/plain": [
       "0it [00:00, ?it/s]"
      ]
     },
     "metadata": {},
     "output_type": "display_data"
    },
    {
     "name": "stdout",
     "output_type": "stream",
     "text": [
      "index: 0, peak location: 1562    335.944\n",
      "Name: mz, dtype: float64\n"
     ]
    },
    {
     "data": {
      "application/vnd.jupyter.widget-view+json": {
       "model_id": "948afd8bf79e43128566b646f28ddfae",
       "version_major": 2,
       "version_minor": 0
      },
      "text/plain": [
       "0it [00:00, ?it/s]"
      ]
     },
     "metadata": {},
     "output_type": "display_data"
    },
    {
     "name": "stdout",
     "output_type": "stream",
     "text": [
      "peak index:  [1904, 3449, 3450, 3970, 6802, 9056, 9079]\n"
     ]
    },
    {
     "data": {
      "application/vnd.jupyter.widget-view+json": {
       "model_id": "2bb55309fab94ee4ab7e3235b5ab159f",
       "version_major": 2,
       "version_minor": 0
      },
      "text/plain": [
       "0it [00:00, ?it/s]"
      ]
     },
     "metadata": {},
     "output_type": "display_data"
    },
    {
     "name": "stdout",
     "output_type": "stream",
     "text": [
      "index: 0, peak location: 1904    130.020004\n",
      "3449    194.951996\n",
      "3450    194.994003\n",
      "3970    216.848007\n",
      "6802    335.868988\n",
      "9056    430.597992\n",
      "9079    431.565002\n",
      "Name: mz, dtype: float64\n",
      "index: 1, peak location: 1904    130.020004\n",
      "3449    194.951996\n",
      "3450    194.994003\n",
      "3970    216.848007\n",
      "6802    335.868988\n",
      "9056    430.597992\n",
      "9079    431.565002\n",
      "Name: mz, dtype: float64\n",
      "index: 2, peak location: 1904    130.020004\n",
      "3449    194.951996\n",
      "3450    194.994003\n",
      "3970    216.848007\n",
      "6802    335.868988\n",
      "9056    430.597992\n",
      "9079    431.565002\n",
      "Name: mz, dtype: float64\n",
      "index: 3, peak location: 1904    130.020004\n",
      "3449    194.951996\n",
      "3450    194.994003\n",
      "3970    216.848007\n",
      "6802    335.868988\n",
      "9056    430.597992\n",
      "9079    431.565002\n",
      "Name: mz, dtype: float64\n",
      "index: 4, peak location: 1904    130.020004\n",
      "3449    194.951996\n",
      "3450    194.994003\n",
      "3970    216.848007\n",
      "6802    335.868988\n",
      "9056    430.597992\n",
      "9079    431.565002\n",
      "Name: mz, dtype: float64\n",
      "index: 5, peak location: 1904    130.020004\n",
      "3449    194.951996\n",
      "3450    194.994003\n",
      "3970    216.848007\n",
      "6802    335.868988\n",
      "9056    430.597992\n",
      "9079    431.565002\n",
      "Name: mz, dtype: float64\n",
      "index: 6, peak location: 1904    130.020004\n",
      "3449    194.951996\n",
      "3450    194.994003\n",
      "3970    216.848007\n",
      "6802    335.868988\n",
      "9056    430.597992\n",
      "9079    431.565002\n",
      "Name: mz, dtype: float64\n",
      "peak index:  [1905, 3450, 3970, 6802, 9057, 9079]\n"
     ]
    },
    {
     "data": {
      "application/vnd.jupyter.widget-view+json": {
       "model_id": "cd7f1012e37c416f8f8ac53c586af84a",
       "version_major": 2,
       "version_minor": 0
      },
      "text/plain": [
       "0it [00:00, ?it/s]"
      ]
     },
     "metadata": {},
     "output_type": "display_data"
    },
    {
     "name": "stdout",
     "output_type": "stream",
     "text": [
      "index: 0, peak location: 1905    130.061996\n",
      "3450    194.994003\n",
      "3970    216.848007\n",
      "6802    335.868988\n",
      "9057    430.640015\n",
      "9079    431.565002\n",
      "Name: mz, dtype: float64\n",
      "index: 1, peak location: 1905    130.061996\n",
      "3450    194.994003\n",
      "3970    216.848007\n",
      "6802    335.868988\n",
      "9057    430.640015\n",
      "9079    431.565002\n",
      "Name: mz, dtype: float64\n",
      "index: 2, peak location: 1905    130.061996\n",
      "3450    194.994003\n",
      "3970    216.848007\n",
      "6802    335.868988\n",
      "9057    430.640015\n",
      "9079    431.565002\n",
      "Name: mz, dtype: float64\n",
      "index: 3, peak location: 1905    130.061996\n",
      "3450    194.994003\n",
      "3970    216.848007\n",
      "6802    335.868988\n",
      "9057    430.640015\n",
      "9079    431.565002\n",
      "Name: mz, dtype: float64\n",
      "index: 4, peak location: 1905    130.061996\n",
      "3450    194.994003\n",
      "3970    216.848007\n",
      "6802    335.868988\n",
      "9057    430.640015\n",
      "9079    431.565002\n",
      "Name: mz, dtype: float64\n",
      "index: 5, peak location: 1905    130.061996\n",
      "3450    194.994003\n",
      "3970    216.848007\n",
      "6802    335.868988\n",
      "9057    430.640015\n",
      "9079    431.565002\n",
      "Name: mz, dtype: float64\n",
      "peak index:  [1905, 3449, 3971, 6802, 9057, 9080]\n"
     ]
    },
    {
     "data": {
      "application/vnd.jupyter.widget-view+json": {
       "model_id": "adc6070f3517462bbdd9a5ef08250139",
       "version_major": 2,
       "version_minor": 0
      },
      "text/plain": [
       "0it [00:00, ?it/s]"
      ]
     },
     "metadata": {},
     "output_type": "display_data"
    },
    {
     "name": "stdout",
     "output_type": "stream",
     "text": [
      "index: 0, peak location: 1905    130.061996\n",
      "3449    194.951996\n",
      "3971    216.889999\n",
      "6802    335.868988\n",
      "9057    430.640015\n",
      "9080    431.606995\n",
      "Name: mz, dtype: float64\n",
      "index: 1, peak location: 1905    130.061996\n",
      "3449    194.951996\n",
      "3971    216.889999\n",
      "6802    335.868988\n",
      "9057    430.640015\n",
      "9080    431.606995\n",
      "Name: mz, dtype: float64\n",
      "index: 2, peak location: 1905    130.061996\n",
      "3449    194.951996\n",
      "3971    216.889999\n",
      "6802    335.868988\n",
      "9057    430.640015\n",
      "9080    431.606995\n",
      "Name: mz, dtype: float64\n",
      "index: 3, peak location: 1905    130.061996\n",
      "3449    194.951996\n",
      "3971    216.889999\n",
      "6802    335.868988\n",
      "9057    430.640015\n",
      "9080    431.606995\n",
      "Name: mz, dtype: float64\n",
      "index: 4, peak location: 1905    130.061996\n",
      "3449    194.951996\n",
      "3971    216.889999\n",
      "6802    335.868988\n",
      "9057    430.640015\n",
      "9080    431.606995\n",
      "Name: mz, dtype: float64\n",
      "index: 5, peak location: 1905    130.061996\n",
      "3449    194.951996\n",
      "3971    216.889999\n",
      "6802    335.868988\n",
      "9057    430.640015\n",
      "9080    431.606995\n",
      "Name: mz, dtype: float64\n",
      "peak index:  [1904, 1906, 3450, 3971, 6803, 9056, 9079, 9090, 9092]\n"
     ]
    },
    {
     "data": {
      "application/vnd.jupyter.widget-view+json": {
       "model_id": "bea5f9fa60d34efc92a6f7b5e67cafcc",
       "version_major": 2,
       "version_minor": 0
      },
      "text/plain": [
       "0it [00:00, ?it/s]"
      ]
     },
     "metadata": {},
     "output_type": "display_data"
    },
    {
     "name": "stdout",
     "output_type": "stream",
     "text": [
      "index: 0, peak location: 1904    130.020004\n",
      "1906    130.104004\n",
      "3450    194.994003\n",
      "3971    216.889999\n",
      "6803    335.911011\n",
      "9056    430.597992\n",
      "9079    431.565002\n",
      "9090    432.027008\n",
      "9092    432.110992\n",
      "Name: mz, dtype: float64\n",
      "index: 1, peak location: 1904    130.020004\n",
      "1906    130.104004\n",
      "3450    194.994003\n",
      "3971    216.889999\n",
      "6803    335.911011\n",
      "9056    430.597992\n",
      "9079    431.565002\n",
      "9090    432.027008\n",
      "9092    432.110992\n",
      "Name: mz, dtype: float64\n",
      "index: 2, peak location: 1904    130.020004\n",
      "1906    130.104004\n",
      "3450    194.994003\n",
      "3971    216.889999\n",
      "6803    335.911011\n",
      "9056    430.597992\n",
      "9079    431.565002\n",
      "9090    432.027008\n",
      "9092    432.110992\n",
      "Name: mz, dtype: float64\n",
      "index: 3, peak location: 1904    130.020004\n",
      "1906    130.104004\n",
      "3450    194.994003\n",
      "3971    216.889999\n",
      "6803    335.911011\n",
      "9056    430.597992\n",
      "9079    431.565002\n",
      "9090    432.027008\n",
      "9092    432.110992\n",
      "Name: mz, dtype: float64\n",
      "index: 4, peak location: 1904    130.020004\n",
      "1906    130.104004\n",
      "3450    194.994003\n",
      "3971    216.889999\n",
      "6803    335.911011\n",
      "9056    430.597992\n",
      "9079    431.565002\n",
      "9090    432.027008\n",
      "9092    432.110992\n",
      "Name: mz, dtype: float64\n",
      "index: 5, peak location: 1904    130.020004\n",
      "1906    130.104004\n",
      "3450    194.994003\n",
      "3971    216.889999\n",
      "6803    335.911011\n",
      "9056    430.597992\n",
      "9079    431.565002\n",
      "9090    432.027008\n",
      "9092    432.110992\n",
      "Name: mz, dtype: float64\n",
      "index: 6, peak location: 1904    130.020004\n",
      "1906    130.104004\n",
      "3450    194.994003\n",
      "3971    216.889999\n",
      "6803    335.911011\n",
      "9056    430.597992\n",
      "9079    431.565002\n",
      "9090    432.027008\n",
      "9092    432.110992\n",
      "Name: mz, dtype: float64\n",
      "index: 7, peak location: 1904    130.020004\n",
      "1906    130.104004\n",
      "3450    194.994003\n",
      "3971    216.889999\n",
      "6803    335.911011\n",
      "9056    430.597992\n",
      "9079    431.565002\n",
      "9090    432.027008\n",
      "9092    432.110992\n",
      "Name: mz, dtype: float64\n",
      "index: 8, peak location: 1904    130.020004\n",
      "1906    130.104004\n",
      "3450    194.994003\n",
      "3971    216.889999\n",
      "6803    335.911011\n",
      "9056    430.597992\n",
      "9079    431.565002\n",
      "9090    432.027008\n",
      "9092    432.110992\n",
      "Name: mz, dtype: float64\n",
      "peak index:  [1906, 3450, 3970, 6803, 9056, 9072, 9077]\n"
     ]
    },
    {
     "data": {
      "application/vnd.jupyter.widget-view+json": {
       "model_id": "6efe5b2b80554824b67e0c7532cae216",
       "version_major": 2,
       "version_minor": 0
      },
      "text/plain": [
       "0it [00:00, ?it/s]"
      ]
     },
     "metadata": {},
     "output_type": "display_data"
    },
    {
     "name": "stdout",
     "output_type": "stream",
     "text": [
      "index: 0, peak location: 1906    130.104004\n",
      "3450    194.994003\n",
      "3970    216.848007\n",
      "6803    335.911011\n",
      "9056    430.597992\n",
      "9072    431.269989\n",
      "9077    431.480988\n",
      "Name: mz, dtype: float64\n",
      "index: 1, peak location: 1906    130.104004\n",
      "3450    194.994003\n",
      "3970    216.848007\n",
      "6803    335.911011\n",
      "9056    430.597992\n",
      "9072    431.269989\n",
      "9077    431.480988\n",
      "Name: mz, dtype: float64\n",
      "index: 2, peak location: 1906    130.104004\n",
      "3450    194.994003\n",
      "3970    216.848007\n",
      "6803    335.911011\n",
      "9056    430.597992\n",
      "9072    431.269989\n",
      "9077    431.480988\n",
      "Name: mz, dtype: float64\n",
      "index: 3, peak location: 1906    130.104004\n",
      "3450    194.994003\n",
      "3970    216.848007\n",
      "6803    335.911011\n",
      "9056    430.597992\n",
      "9072    431.269989\n",
      "9077    431.480988\n",
      "Name: mz, dtype: float64\n",
      "index: 4, peak location: 1906    130.104004\n",
      "3450    194.994003\n",
      "3970    216.848007\n",
      "6803    335.911011\n",
      "9056    430.597992\n",
      "9072    431.269989\n",
      "9077    431.480988\n",
      "Name: mz, dtype: float64\n",
      "index: 5, peak location: 1906    130.104004\n",
      "3450    194.994003\n",
      "3970    216.848007\n",
      "6803    335.911011\n",
      "9056    430.597992\n",
      "9072    431.269989\n",
      "9077    431.480988\n",
      "Name: mz, dtype: float64\n",
      "index: 6, peak location: 1906    130.104004\n",
      "3450    194.994003\n",
      "3970    216.848007\n",
      "6803    335.911011\n",
      "9056    430.597992\n",
      "9072    431.269989\n",
      "9077    431.480988\n",
      "Name: mz, dtype: float64\n",
      "peak index:  [1905, 3448, 3449, 3970, 6802, 9057, 9059, 9078, 9081, 9092, 9110, 9113]\n"
     ]
    },
    {
     "data": {
      "application/vnd.jupyter.widget-view+json": {
       "model_id": "f7cb5a613fb242bb9e4654795b03f00c",
       "version_major": 2,
       "version_minor": 0
      },
      "text/plain": [
       "0it [00:00, ?it/s]"
      ]
     },
     "metadata": {},
     "output_type": "display_data"
    },
    {
     "name": "stdout",
     "output_type": "stream",
     "text": [
      "index: 0, peak location: 1905    130.061996\n",
      "3448    194.910004\n",
      "3449    194.951996\n",
      "3970    216.848007\n",
      "6802    335.868988\n",
      "9057    430.640015\n",
      "9059    430.723999\n",
      "9078    431.523010\n",
      "9081    431.648987\n",
      "9092    432.110992\n",
      "9110    432.868011\n",
      "9113    432.993988\n",
      "Name: mz, dtype: float64\n",
      "index: 1, peak location: 1905    130.061996\n",
      "3448    194.910004\n",
      "3449    194.951996\n",
      "3970    216.848007\n",
      "6802    335.868988\n",
      "9057    430.640015\n",
      "9059    430.723999\n",
      "9078    431.523010\n",
      "9081    431.648987\n",
      "9092    432.110992\n",
      "9110    432.868011\n",
      "9113    432.993988\n",
      "Name: mz, dtype: float64\n",
      "index: 2, peak location: 1905    130.061996\n",
      "3448    194.910004\n",
      "3449    194.951996\n",
      "3970    216.848007\n",
      "6802    335.868988\n",
      "9057    430.640015\n",
      "9059    430.723999\n",
      "9078    431.523010\n",
      "9081    431.648987\n",
      "9092    432.110992\n",
      "9110    432.868011\n",
      "9113    432.993988\n",
      "Name: mz, dtype: float64\n",
      "index: 3, peak location: 1905    130.061996\n",
      "3448    194.910004\n",
      "3449    194.951996\n",
      "3970    216.848007\n",
      "6802    335.868988\n",
      "9057    430.640015\n",
      "9059    430.723999\n",
      "9078    431.523010\n",
      "9081    431.648987\n",
      "9092    432.110992\n",
      "9110    432.868011\n",
      "9113    432.993988\n",
      "Name: mz, dtype: float64\n",
      "index: 4, peak location: 1905    130.061996\n",
      "3448    194.910004\n",
      "3449    194.951996\n",
      "3970    216.848007\n",
      "6802    335.868988\n",
      "9057    430.640015\n",
      "9059    430.723999\n",
      "9078    431.523010\n",
      "9081    431.648987\n",
      "9092    432.110992\n",
      "9110    432.868011\n",
      "9113    432.993988\n",
      "Name: mz, dtype: float64\n",
      "index: 5, peak location: 1905    130.061996\n",
      "3448    194.910004\n",
      "3449    194.951996\n",
      "3970    216.848007\n",
      "6802    335.868988\n",
      "9057    430.640015\n",
      "9059    430.723999\n",
      "9078    431.523010\n",
      "9081    431.648987\n",
      "9092    432.110992\n",
      "9110    432.868011\n",
      "9113    432.993988\n",
      "Name: mz, dtype: float64\n",
      "index: 6, peak location: 1905    130.061996\n",
      "3448    194.910004\n",
      "3449    194.951996\n",
      "3970    216.848007\n",
      "6802    335.868988\n",
      "9057    430.640015\n",
      "9059    430.723999\n",
      "9078    431.523010\n",
      "9081    431.648987\n",
      "9092    432.110992\n",
      "9110    432.868011\n",
      "9113    432.993988\n",
      "Name: mz, dtype: float64\n",
      "index: 7, peak location: 1905    130.061996\n",
      "3448    194.910004\n",
      "3449    194.951996\n",
      "3970    216.848007\n",
      "6802    335.868988\n",
      "9057    430.640015\n",
      "9059    430.723999\n",
      "9078    431.523010\n",
      "9081    431.648987\n",
      "9092    432.110992\n",
      "9110    432.868011\n",
      "9113    432.993988\n",
      "Name: mz, dtype: float64\n",
      "index: 8, peak location: 1905    130.061996\n",
      "3448    194.910004\n",
      "3449    194.951996\n",
      "3970    216.848007\n",
      "6802    335.868988\n",
      "9057    430.640015\n",
      "9059    430.723999\n",
      "9078    431.523010\n",
      "9081    431.648987\n",
      "9092    432.110992\n",
      "9110    432.868011\n",
      "9113    432.993988\n",
      "Name: mz, dtype: float64\n",
      "index: 9, peak location: 1905    130.061996\n",
      "3448    194.910004\n",
      "3449    194.951996\n",
      "3970    216.848007\n",
      "6802    335.868988\n",
      "9057    430.640015\n",
      "9059    430.723999\n",
      "9078    431.523010\n",
      "9081    431.648987\n",
      "9092    432.110992\n",
      "9110    432.868011\n",
      "9113    432.993988\n",
      "Name: mz, dtype: float64\n",
      "index: 10, peak location: 1905    130.061996\n",
      "3448    194.910004\n",
      "3449    194.951996\n",
      "3970    216.848007\n",
      "6802    335.868988\n",
      "9057    430.640015\n",
      "9059    430.723999\n",
      "9078    431.523010\n",
      "9081    431.648987\n",
      "9092    432.110992\n",
      "9110    432.868011\n",
      "9113    432.993988\n",
      "Name: mz, dtype: float64\n",
      "index: 11, peak location: 1905    130.061996\n",
      "3448    194.910004\n",
      "3449    194.951996\n",
      "3970    216.848007\n",
      "6802    335.868988\n",
      "9057    430.640015\n",
      "9059    430.723999\n",
      "9078    431.523010\n",
      "9081    431.648987\n",
      "9092    432.110992\n",
      "9110    432.868011\n",
      "9113    432.993988\n",
      "Name: mz, dtype: float64\n"
     ]
    },
    {
     "ename": "IndexError",
     "evalue": "tuple index out of range",
     "output_type": "error",
     "traceback": [
      "\u001b[0;31m---------------------------------------------------------------------------\u001b[0m",
      "\u001b[0;31mIndexError\u001b[0m                                Traceback (most recent call last)",
      "\u001b[0;32m/tmp/ipykernel_5612/125950876.py\u001b[0m in \u001b[0;36m<module>\u001b[0;34m\u001b[0m\n\u001b[1;32m     42\u001b[0m             \u001b[0mcomps\u001b[0m \u001b[0;34m=\u001b[0m \u001b[0mout\u001b[0m\u001b[0;34m.\u001b[0m\u001b[0meval_components\u001b[0m\u001b[0;34m(\u001b[0m\u001b[0mx\u001b[0m\u001b[0;34m=\u001b[0m\u001b[0mspectrum\u001b[0m\u001b[0;34m[\u001b[0m\u001b[0;34m\"mz\"\u001b[0m\u001b[0;34m]\u001b[0m\u001b[0;34m)\u001b[0m\u001b[0;34m\u001b[0m\u001b[0;34m\u001b[0m\u001b[0m\n\u001b[1;32m     43\u001b[0m             \u001b[0;32mfor\u001b[0m \u001b[0mi\u001b[0m \u001b[0;32min\u001b[0m \u001b[0mrange\u001b[0m\u001b[0;34m(\u001b[0m\u001b[0mlen\u001b[0m\u001b[0;34m(\u001b[0m\u001b[0mpeak_index\u001b[0m\u001b[0;34m)\u001b[0m\u001b[0;34m)\u001b[0m\u001b[0;34m:\u001b[0m\u001b[0;34m\u001b[0m\u001b[0;34m\u001b[0m\u001b[0m\n\u001b[0;32m---> 44\u001b[0;31m                 \u001b[0mp\u001b[0m\u001b[0;34m.\u001b[0m\u001b[0mline\u001b[0m\u001b[0;34m(\u001b[0m\u001b[0mspectrum\u001b[0m\u001b[0;34m[\u001b[0m\u001b[0;34m\"mz\"\u001b[0m\u001b[0;34m]\u001b[0m\u001b[0;34m,\u001b[0m \u001b[0mcomps\u001b[0m\u001b[0;34m[\u001b[0m\u001b[0;34m'pcm'\u001b[0m \u001b[0;34m+\u001b[0m \u001b[0mstr\u001b[0m\u001b[0;34m(\u001b[0m\u001b[0mi\u001b[0m\u001b[0;34m)\u001b[0m \u001b[0;34m+\u001b[0m \u001b[0;34m'_'\u001b[0m\u001b[0;34m]\u001b[0m\u001b[0;34m,\u001b[0m \u001b[0mlegend_label\u001b[0m\u001b[0;34m=\u001b[0m \u001b[0;34mf'gaussian peak no {index}'\u001b[0m\u001b[0;34m,\u001b[0m \u001b[0mline_width\u001b[0m\u001b[0;34m=\u001b[0m\u001b[0;36m2\u001b[0m\u001b[0;34m,\u001b[0m \u001b[0mcolor\u001b[0m\u001b[0;34m=\u001b[0m\u001b[0mbrewer\u001b[0m\u001b[0;34m[\u001b[0m\u001b[0;34m'Spectral'\u001b[0m\u001b[0;34m]\u001b[0m\u001b[0;34m[\u001b[0m\u001b[0;36m11\u001b[0m\u001b[0;34m]\u001b[0m\u001b[0;34m[\u001b[0m\u001b[0mi\u001b[0m\u001b[0;34m]\u001b[0m\u001b[0;34m)\u001b[0m\u001b[0;34m\u001b[0m\u001b[0;34m\u001b[0m\u001b[0m\n\u001b[0m\u001b[1;32m     45\u001b[0m             \u001b[0mp\u001b[0m \u001b[0;34m=\u001b[0m \u001b[0mplot_peak_fit\u001b[0m\u001b[0;34m(\u001b[0m\u001b[0mp\u001b[0m\u001b[0;34m,\u001b[0m \u001b[0mpeak_index\u001b[0m\u001b[0;34m,\u001b[0m \u001b[0mspectrum\u001b[0m\u001b[0;34m[\u001b[0m\u001b[0;34m'intensity'\u001b[0m\u001b[0;34m]\u001b[0m\u001b[0;34m[\u001b[0m\u001b[0mpeak_index\u001b[0m\u001b[0;34m]\u001b[0m\u001b[0;34m,\u001b[0m \u001b[0mspectrum\u001b[0m\u001b[0;34m,\u001b[0m \u001b[0mkey\u001b[0m\u001b[0;34m)\u001b[0m\u001b[0;34m\u001b[0m\u001b[0;34m\u001b[0m\u001b[0m\n\u001b[1;32m     46\u001b[0m             \u001b[0mp\u001b[0m \u001b[0;34m=\u001b[0m \u001b[0mplot_valley_fit\u001b[0m\u001b[0;34m(\u001b[0m\u001b[0mp\u001b[0m\u001b[0;34m,\u001b[0m \u001b[0mvalley_index\u001b[0m\u001b[0;34m,\u001b[0m \u001b[0mspectrum\u001b[0m\u001b[0;34m[\u001b[0m\u001b[0;34m'intensity'\u001b[0m\u001b[0;34m]\u001b[0m\u001b[0;34m[\u001b[0m\u001b[0mpeak_index\u001b[0m\u001b[0;34m]\u001b[0m\u001b[0;34m,\u001b[0m \u001b[0mspectrum\u001b[0m\u001b[0;34m,\u001b[0m \u001b[0mkey\u001b[0m\u001b[0;34m)\u001b[0m\u001b[0;34m\u001b[0m\u001b[0;34m\u001b[0m\u001b[0m\n",
      "\u001b[0;31mIndexError\u001b[0m: tuple index out of range"
     ]
    }
   ],
   "source": [
    "file_data_dict = dict(zip(filename_list, xml_data_list))\n",
    "spectrums_list = []\n",
    "for key, value in file_data_dict.items():\n",
    "    point_list = value[0][0]\n",
    "    spectrum_list = get_mass_spectrum(point_list)\n",
    "    spectrums_list.append(spectrum_list)\n",
    "\n",
    "file_spectrum_dict = dict(zip(filename_list, spectrums_list))\n",
    "\n",
    "for key, value in tqdm(file_spectrum_dict.items()):\n",
    "    save_dir = '/mnt/d/Data/LTQ数据/' + os.path.splitext(key)[0] + '/'\n",
    "    if not os.path.exists(save_dir):\n",
    "            os.makedirs(save_dir)\n",
    "    for id, spectrum in tqdm(enumerate(value)):\n",
    "        exp_mod = ExponentialModel(prefix='exp_')\n",
    "        pars = exp_mod.guess(spectrum['intensity'], x=spectrum['mz'])\n",
    "        gauss_dict = dict()\n",
    "        fp = findpeaks(method='topology', interpolate=5, lookahead=10, limit=5, verbose=False)\n",
    "        mod = exp_mod\n",
    "        p = figure(title=key, plot_width=1440, plot_height=720)\n",
    "        # 设定寻峰规则，寻找m/z轴顶峰\n",
    "        try:\n",
    "            fp_result = fp.fit(spectrum[\"intensity\"])\n",
    "            peak_index, valley_index = peak_fit_result(fp_result, spectrum)\n",
    "        except Exception as e:\n",
    "            # print(e)\n",
    "            continue\n",
    "        max_peak = spectrum['intensity'][peak_index].max()\n",
    "        if peak_index:\n",
    "            # 对峰的部分用guass拟合\n",
    "            for index, peak in tqdm(enumerate(peak_index)):\n",
    "                print('index: {}, peak location: {}'.format(index, spectrum['mz'][peak_index]))\n",
    "                tmp_prefix = 'pcm' + str(index) + '_'\n",
    "                gauss_dict[tmp_prefix] = GaussianModel(prefix=tmp_prefix)\n",
    "                pars.update(gauss_dict['pcm'+str(index)+'_'].make_params())\n",
    "                pars[tmp_prefix+'center'].set(spectrum[\"mz\"][peak] , min=spectrum[\"mz\"][peak] - 50, max= spectrum[\"mz\"][peak] + 50)\n",
    "                pars[tmp_prefix+'amplitude'].set(5, max = max_peak, min=0.1)\n",
    "                pars[tmp_prefix+'sigma'].set(10, min=0.1, max=50)\n",
    "                mod += gauss_dict[tmp_prefix]\n",
    "            out = mod.fit(spectrum[\"intensity\"], pars, x=spectrum['mz'])\n",
    "            # break\n",
    "            comps = out.eval_components(x=spectrum[\"mz\"])\n",
    "            for i in range(len(peak_index)):\n",
    "                p.line(spectrum[\"mz\"], comps['pcm' + str(i) + '_'], legend_label= f'gaussian peak no {index}', line_width=2, color=brewer['Spectral'][11][i])\n",
    "            p = plot_peak_fit(p, peak_index, spectrum['intensity'][peak_index], spectrum, key)\n",
    "            p = plot_valley_fit(p, valley_index, spectrum['intensity'][peak_index], spectrum, key)\n",
    "           \n",
    "        p.line(spectrum['mz'], spectrum['intensity'], line_width=2, line_dash = (4,4), color='darkcyan')\n",
    "        save(p, filename='{}.html'.format(save_dir + str(id)))"
   ]
  }
 ],
 "metadata": {
  "kernelspec": {
   "display_name": "Python 3.7.13 ('findpeaks')",
   "language": "python",
   "name": "python3"
  },
  "language_info": {
   "codemirror_mode": {
    "name": "ipython",
    "version": 3
   },
   "file_extension": ".py",
   "mimetype": "text/x-python",
   "name": "python",
   "nbconvert_exporter": "python",
   "pygments_lexer": "ipython3",
   "version": "3.7.13"
  },
  "orig_nbformat": 4,
  "vscode": {
   "interpreter": {
    "hash": "988dc20507c9b8666a77143fe2ea187e26c55df0acae05133eb0d05f63ed1f23"
   }
  }
 },
 "nbformat": 4,
 "nbformat_minor": 2
}
