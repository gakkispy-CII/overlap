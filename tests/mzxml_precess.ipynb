{
 "cells": [
  {
   "cell_type": "code",
   "execution_count": 1,
   "metadata": {},
   "outputs": [
    {
     "data": {
      "text/html": [
       "<div class=\"bk-root\">\n",
       "        <a href=\"https://bokeh.org\" target=\"_blank\" class=\"bk-logo bk-logo-small bk-logo-notebook\"></a>\n",
       "        <span id=\"1001\">Loading BokehJS ...</span>\n",
       "    </div>\n"
      ]
     },
     "metadata": {},
     "output_type": "display_data"
    },
    {
     "data": {
      "application/javascript": "(function(root) {\n  function now() {\n    return new Date();\n  }\n\n  const force = true;\n\n  if (typeof root._bokeh_onload_callbacks === \"undefined\" || force === true) {\n    root._bokeh_onload_callbacks = [];\n    root._bokeh_is_loading = undefined;\n  }\n\nconst JS_MIME_TYPE = 'application/javascript';\n  const HTML_MIME_TYPE = 'text/html';\n  const EXEC_MIME_TYPE = 'application/vnd.bokehjs_exec.v0+json';\n  const CLASS_NAME = 'output_bokeh rendered_html';\n\n  /**\n   * Render data to the DOM node\n   */\n  function render(props, node) {\n    const script = document.createElement(\"script\");\n    node.appendChild(script);\n  }\n\n  /**\n   * Handle when an output is cleared or removed\n   */\n  function handleClearOutput(event, handle) {\n    const cell = handle.cell;\n\n    const id = cell.output_area._bokeh_element_id;\n    const server_id = cell.output_area._bokeh_server_id;\n    // Clean up Bokeh references\n    if (id != null && id in Bokeh.index) {\n      Bokeh.index[id].model.document.clear();\n      delete Bokeh.index[id];\n    }\n\n    if (server_id !== undefined) {\n      // Clean up Bokeh references\n      const cmd_clean = \"from bokeh.io.state import curstate; print(curstate().uuid_to_server['\" + server_id + \"'].get_sessions()[0].document.roots[0]._id)\";\n      cell.notebook.kernel.execute(cmd_clean, {\n        iopub: {\n          output: function(msg) {\n            const id = msg.content.text.trim();\n            if (id in Bokeh.index) {\n              Bokeh.index[id].model.document.clear();\n              delete Bokeh.index[id];\n            }\n          }\n        }\n      });\n      // Destroy server and session\n      const cmd_destroy = \"import bokeh.io.notebook as ion; ion.destroy_server('\" + server_id + \"')\";\n      cell.notebook.kernel.execute(cmd_destroy);\n    }\n  }\n\n  /**\n   * Handle when a new output is added\n   */\n  function handleAddOutput(event, handle) {\n    const output_area = handle.output_area;\n    const output = handle.output;\n\n    // limit handleAddOutput to display_data with EXEC_MIME_TYPE content only\n    if ((output.output_type != \"display_data\") || (!Object.prototype.hasOwnProperty.call(output.data, EXEC_MIME_TYPE))) {\n      return\n    }\n\n    const toinsert = output_area.element.find(\".\" + CLASS_NAME.split(' ')[0]);\n\n    if (output.metadata[EXEC_MIME_TYPE][\"id\"] !== undefined) {\n      toinsert[toinsert.length - 1].firstChild.textContent = output.data[JS_MIME_TYPE];\n      // store reference to embed id on output_area\n      output_area._bokeh_element_id = output.metadata[EXEC_MIME_TYPE][\"id\"];\n    }\n    if (output.metadata[EXEC_MIME_TYPE][\"server_id\"] !== undefined) {\n      const bk_div = document.createElement(\"div\");\n      bk_div.innerHTML = output.data[HTML_MIME_TYPE];\n      const script_attrs = bk_div.children[0].attributes;\n      for (let i = 0; i < script_attrs.length; i++) {\n        toinsert[toinsert.length - 1].firstChild.setAttribute(script_attrs[i].name, script_attrs[i].value);\n        toinsert[toinsert.length - 1].firstChild.textContent = bk_div.children[0].textContent\n      }\n      // store reference to server id on output_area\n      output_area._bokeh_server_id = output.metadata[EXEC_MIME_TYPE][\"server_id\"];\n    }\n  }\n\n  function register_renderer(events, OutputArea) {\n\n    function append_mime(data, metadata, element) {\n      // create a DOM node to render to\n      const toinsert = this.create_output_subarea(\n        metadata,\n        CLASS_NAME,\n        EXEC_MIME_TYPE\n      );\n      this.keyboard_manager.register_events(toinsert);\n      // Render to node\n      const props = {data: data, metadata: metadata[EXEC_MIME_TYPE]};\n      render(props, toinsert[toinsert.length - 1]);\n      element.append(toinsert);\n      return toinsert\n    }\n\n    /* Handle when an output is cleared or removed */\n    events.on('clear_output.CodeCell', handleClearOutput);\n    events.on('delete.Cell', handleClearOutput);\n\n    /* Handle when a new output is added */\n    events.on('output_added.OutputArea', handleAddOutput);\n\n    /**\n     * Register the mime type and append_mime function with output_area\n     */\n    OutputArea.prototype.register_mime_type(EXEC_MIME_TYPE, append_mime, {\n      /* Is output safe? */\n      safe: true,\n      /* Index of renderer in `output_area.display_order` */\n      index: 0\n    });\n  }\n\n  // register the mime type if in Jupyter Notebook environment and previously unregistered\n  if (root.Jupyter !== undefined) {\n    const events = require('base/js/events');\n    const OutputArea = require('notebook/js/outputarea').OutputArea;\n\n    if (OutputArea.prototype.mime_types().indexOf(EXEC_MIME_TYPE) == -1) {\n      register_renderer(events, OutputArea);\n    }\n  }\n  if (typeof (root._bokeh_timeout) === \"undefined\" || force === true) {\n    root._bokeh_timeout = Date.now() + 5000;\n    root._bokeh_failed_load = false;\n  }\n\n  const NB_LOAD_WARNING = {'data': {'text/html':\n     \"<div style='background-color: #fdd'>\\n\"+\n     \"<p>\\n\"+\n     \"BokehJS does not appear to have successfully loaded. If loading BokehJS from CDN, this \\n\"+\n     \"may be due to a slow or bad network connection. Possible fixes:\\n\"+\n     \"</p>\\n\"+\n     \"<ul>\\n\"+\n     \"<li>re-rerun `output_notebook()` to attempt to load from CDN again, or</li>\\n\"+\n     \"<li>use INLINE resources instead, as so:</li>\\n\"+\n     \"</ul>\\n\"+\n     \"<code>\\n\"+\n     \"from bokeh.resources import INLINE\\n\"+\n     \"output_notebook(resources=INLINE)\\n\"+\n     \"</code>\\n\"+\n     \"</div>\"}};\n\n  function display_loaded() {\n    const el = document.getElementById(\"1001\");\n    if (el != null) {\n      el.textContent = \"BokehJS is loading...\";\n    }\n    if (root.Bokeh !== undefined) {\n      if (el != null) {\n        el.textContent = \"BokehJS \" + root.Bokeh.version + \" successfully loaded.\";\n      }\n    } else if (Date.now() < root._bokeh_timeout) {\n      setTimeout(display_loaded, 100)\n    }\n  }\n\n  function run_callbacks() {\n    try {\n      root._bokeh_onload_callbacks.forEach(function(callback) {\n        if (callback != null)\n          callback();\n      });\n    } finally {\n      delete root._bokeh_onload_callbacks\n    }\n    console.debug(\"Bokeh: all callbacks have finished\");\n  }\n\n  function load_libs(css_urls, js_urls, callback) {\n    if (css_urls == null) css_urls = [];\n    if (js_urls == null) js_urls = [];\n\n    root._bokeh_onload_callbacks.push(callback);\n    if (root._bokeh_is_loading > 0) {\n      console.debug(\"Bokeh: BokehJS is being loaded, scheduling callback at\", now());\n      return null;\n    }\n    if (js_urls == null || js_urls.length === 0) {\n      run_callbacks();\n      return null;\n    }\n    console.debug(\"Bokeh: BokehJS not loaded, scheduling load and callback at\", now());\n    root._bokeh_is_loading = css_urls.length + js_urls.length;\n\n    function on_load() {\n      root._bokeh_is_loading--;\n      if (root._bokeh_is_loading === 0) {\n        console.debug(\"Bokeh: all BokehJS libraries/stylesheets loaded\");\n        run_callbacks()\n      }\n    }\n\n    function on_error(url) {\n      console.error(\"failed to load \" + url);\n    }\n\n    for (let i = 0; i < css_urls.length; i++) {\n      const url = css_urls[i];\n      const element = document.createElement(\"link\");\n      element.onload = on_load;\n      element.onerror = on_error.bind(null, url);\n      element.rel = \"stylesheet\";\n      element.type = \"text/css\";\n      element.href = url;\n      console.debug(\"Bokeh: injecting link tag for BokehJS stylesheet: \", url);\n      document.body.appendChild(element);\n    }\n\n    for (let i = 0; i < js_urls.length; i++) {\n      const url = js_urls[i];\n      const element = document.createElement('script');\n      element.onload = on_load;\n      element.onerror = on_error.bind(null, url);\n      element.async = false;\n      element.src = url;\n      console.debug(\"Bokeh: injecting script tag for BokehJS library: \", url);\n      document.head.appendChild(element);\n    }\n  };\n\n  function inject_raw_css(css) {\n    const element = document.createElement(\"style\");\n    element.appendChild(document.createTextNode(css));\n    document.body.appendChild(element);\n  }\n\n  const js_urls = [\"https://cdn.bokeh.org/bokeh/release/bokeh-2.4.3.min.js\", \"https://cdn.bokeh.org/bokeh/release/bokeh-gl-2.4.3.min.js\", \"https://cdn.bokeh.org/bokeh/release/bokeh-widgets-2.4.3.min.js\", \"https://cdn.bokeh.org/bokeh/release/bokeh-tables-2.4.3.min.js\", \"https://cdn.bokeh.org/bokeh/release/bokeh-mathjax-2.4.3.min.js\"];\n  const css_urls = [];\n\n  const inline_js = [    function(Bokeh) {\n      Bokeh.set_log_level(\"info\");\n    },\nfunction(Bokeh) {\n    }\n  ];\n\n  function run_inline_js() {\n    if (root.Bokeh !== undefined || force === true) {\n          for (let i = 0; i < inline_js.length; i++) {\n      inline_js[i].call(root, root.Bokeh);\n    }\nif (force === true) {\n        display_loaded();\n      }} else if (Date.now() < root._bokeh_timeout) {\n      setTimeout(run_inline_js, 100);\n    } else if (!root._bokeh_failed_load) {\n      console.log(\"Bokeh: BokehJS failed to load within specified timeout.\");\n      root._bokeh_failed_load = true;\n    } else if (force !== true) {\n      const cell = $(document.getElementById(\"1001\")).parents('.cell').data().cell;\n      cell.output_area.append_execute_result(NB_LOAD_WARNING)\n    }\n  }\n\n  if (root._bokeh_is_loading === 0) {\n    console.debug(\"Bokeh: BokehJS loaded, going straight to plotting\");\n    run_inline_js();\n  } else {\n    load_libs(css_urls, js_urls, function() {\n      console.debug(\"Bokeh: BokehJS plotting callback run at\", now());\n      run_inline_js();\n    });\n  }\n}(window));",
      "application/vnd.bokehjs_load.v0+json": ""
     },
     "metadata": {},
     "output_type": "display_data"
    }
   ],
   "source": [
    "import csv\n",
    "import numpy as np\n",
    "import pandas as pd\n",
    "import scipy.signal as signal\n",
    "from scipy.signal import find_peaks, peak_widths, peak_prominences, find_peaks_cwt, argrelextrema\n",
    "from tqdm.notebook import tqdm, trange\n",
    "# bokeh plot settings\n",
    "from bokeh.io import output_notebook, show, save\n",
    "output_notebook()\n",
    "from bokeh.models import ColumnDataSource, HoverTool, Scatter\n",
    "from bokeh.plotting import figure\n",
    "from bokeh.sampledata.autompg import autompg_clean\n",
    "from bokeh.transform import factor_cmap\n",
    "from bokeh.layouts import gridplot\n",
    "from bokeh.palettes import brewer\n",
    "from lmfit.models import GaussianModel, LinearModel, ExponentialModel"
   ]
  },
  {
   "cell_type": "code",
   "execution_count": 2,
   "metadata": {},
   "outputs": [],
   "source": [
    "# Path: tests/peak_detect.ipynb\n",
    "import os\n",
    "# find root directory\n",
    "root = os.path.dirname(os.path.abspath('./'))\n",
    "# append root directory to sys.path\n",
    "import sys\n",
    "sys.path.append(root)"
   ]
  },
  {
   "cell_type": "markdown",
   "metadata": {},
   "source": [
    "# Read data and pre-process"
   ]
  },
  {
   "cell_type": "code",
   "execution_count": 3,
   "metadata": {},
   "outputs": [
    {
     "name": "stderr",
     "output_type": "stream",
     "text": [
      "  0%|          | 0/23 [00:00<?, ?it/s]\r100%|██████████| 23/23 [00:00<00:00, 161050.07it/s]\n",
      "\r  0%|          | 0/20 [00:00<?, ?it/s]\r100%|██████████| 20/20 [00:00<00:00, 157384.77it/s]\n",
      "\r  0%|          | 0/49 [00:00<?, ?it/s]\r100%|██████████| 49/49 [00:00<00:00, 535210.67it/s]\n",
      "\r  0%|          | 0/48 [00:00<?, ?it/s]\r100%|██████████| 48/48 [00:00<00:00, 456522.88it/s]\n",
      "\r  0%|          | 0/57 [00:00<?, ?it/s]\r100%|██████████| 57/57 [00:00<00:00, 518601.58it/s]\n",
      "\r  0%|          | 0/57 [00:00<?, ?it/s]\r100%|██████████| 57/57 [00:00<00:00, 445205.45it/s]\n",
      "\r  0%|          | 0/47 [00:00<?, ?it/s]\r100%|██████████| 47/47 [00:00<00:00, 461668.12it/s]\n",
      "\r  0%|          | 0/46 [00:00<?, ?it/s]\r100%|██████████| 46/46 [00:00<00:00, 509071.20it/s]\n",
      "\r  0%|          | 0/81 [00:00<?, ?it/s]\r100%|██████████| 81/81 [00:00<00:00, 574853.85it/s]\n",
      "\r  0%|          | 0/81 [00:00<?, ?it/s]\r100%|██████████| 81/81 [00:00<00:00, 664850.54it/s]\n",
      "\r  0%|          | 0/57 [00:00<?, ?it/s]\r100%|██████████| 57/57 [00:00<00:00, 446036.06it/s]\n",
      "\r  0%|          | 0/56 [00:00<?, ?it/s]\r100%|██████████| 56/56 [00:00<00:00, 486296.12it/s]\n",
      "\r  0%|          | 0/20 [00:00<?, ?it/s]\r100%|██████████| 20/20 [00:00<00:00, 1677.82it/s]\n",
      "\r  0%|          | 0/49 [00:00<?, ?it/s]\r100%|██████████| 49/49 [00:00<00:00, 1029.41it/s]\n",
      "\r  0%|          | 0/48 [00:00<?, ?it/s]\r100%|██████████| 48/48 [00:00<00:00, 1230.10it/s]\n",
      "\r  0%|          | 0/57 [00:00<?, ?it/s]\r100%|██████████| 57/57 [00:00<00:00, 2905.77it/s]\n",
      "/home/gakkispy/Code/overlap_project/tools/read_mzxml.py:64: VisibleDeprecationWarning: Creating an ndarray from ragged nested sequences (which is a list-or-tuple of lists-or-tuples-or ndarrays with different lengths or shapes) is deprecated. If you meant to do this, you must specify 'dtype=object' when creating the ndarray.\n",
      "  point_list = np.array(point_list)\n",
      "\r  0%|          | 0/57 [00:00<?, ?it/s]\r100%|██████████| 57/57 [00:00<00:00, 2291.64it/s]\n",
      "\r  0%|          | 0/47 [00:00<?, ?it/s]\r100%|██████████| 47/47 [00:00<00:00, 1215.22it/s]\n",
      "\r  0%|          | 0/46 [00:00<?, ?it/s]\r100%|██████████| 46/46 [00:00<00:00, 1313.12it/s]\n",
      "\r  0%|          | 0/81 [00:00<?, ?it/s]\r100%|██████████| 81/81 [00:00<00:00, 5625.93it/s]\n",
      "\r  0%|          | 0/81 [00:00<?, ?it/s]\r100%|██████████| 81/81 [00:00<00:00, 5034.51it/s]\n",
      "\r  0%|          | 0/57 [00:00<?, ?it/s]\r100%|██████████| 57/57 [00:00<00:00, 2319.30it/s]\n",
      "\r  0%|          | 0/56 [00:00<?, ?it/s]\r100%|██████████| 56/56 [00:00<00:00, 2243.20it/s]\n"
     ]
    }
   ],
   "source": [
    "from tools.get_files import GetFiles\n",
    "from tools.read_mzxml import read_mzxml\n",
    "\n",
    "\n",
    "file_finder = GetFiles('/mnt/d/Data/LTQ数据/', 'mzXML')\n",
    "file_list = file_finder.get_files()\n",
    "xml_data_list = []\n",
    "filename_list = []\n",
    "for file in file_list:\n",
    "    filename_list.append(file.split('/')[-1])\n",
    "    xml_data_list.append([read_mzxml(file, env='Production')])"
   ]
  },
  {
   "cell_type": "code",
   "execution_count": 4,
   "metadata": {},
   "outputs": [],
   "source": [
    "def get_mass_spectrum(data):\n",
    "    \"\"\"\n",
    "    Get the mass spectrum of a specific mass from the data.\n",
    "    \"\"\"\n",
    "    spectrum_list = []\n",
    "    for i in range(len(data)):\n",
    "        spectrum = pd.DataFrame({'mz': data[i][0::2], 'intensity': data[i][1::2]},)\n",
    "        spectrum_list.append(spectrum)\n",
    "    return spectrum_list"
   ]
  },
  {
   "cell_type": "code",
   "execution_count": 5,
   "metadata": {},
   "outputs": [],
   "source": [
    "from findpeaks import findpeaks\n",
    "from scipy.optimize import curve_fit\n",
    "\n",
    "def plot_peak_fit(p, peak_index, peak_height, data, title:str):\n",
    "    p.scatter(data['mz'][peak_index], peak_height, size=5, color='darkcyan')\n",
    "    return p\n",
    "\n",
    "def plot_valley_fit(p, valley_index, valley_height, data, title:str):\n",
    "    p.star(data['mz'][valley_index], valley_height, size=5, color='darkcyan')\n",
    "    return p"
   ]
  },
  {
   "cell_type": "code",
   "execution_count": 6,
   "metadata": {},
   "outputs": [],
   "source": [
    "# handle peak fit reuslt\n",
    "def peak_fit_result(result, data):\n",
    "    df = result['df']\n",
    "    df['x'] = data['mz']\n",
    "    peak_index= df[lambda df: df['peak'] == True]\n",
    "    highest_peak = df.loc[peak_index.index.tolist()]['y'].max()\n",
    "    peak_index_list = peak_index[lambda peak_index: peak_index['y'] > .1 * highest_peak].index.tolist()\n",
    "    valley_index = df[lambda df: df['valley'] == True]\n",
    "    valley_index_list = valley_index[lambda valley_index: valley_index['y'] > .1 * highest_peak].index.tolist()\n",
    "    print('peak index: ', peak_index_list)\n",
    "    # print('valley index: ', valley_index_list)\n",
    "    return peak_index_list, valley_index_list"
   ]
  },
  {
   "cell_type": "code",
   "execution_count": null,
   "metadata": {},
   "outputs": [],
   "source": [
    "file_data_dict = dict(zip(filename_list, xml_data_list))\n",
    "spectrums_list = []\n",
    "for key, value in file_data_dict.items():\n",
    "    point_list = value[0][0]\n",
    "    spectrum_list = get_mass_spectrum(point_list)\n",
    "    spectrums_list.append(spectrum_list)\n",
    "\n",
    "file_spectrum_dict = dict(zip(filename_list, spectrums_list))\n",
    "\n",
    "for key, value in tqdm(file_spectrum_dict.items()):\n",
    "    save_dir = '/mnt/d/Data/LTQ数据/' + os.path.splitext(key)[0] + '/'\n",
    "    if not os.path.exists(save_dir):\n",
    "            os.makedirs(save_dir)\n",
    "    for id, spectrum in tqdm(enumerate(value)):\n",
    "        exp_mod = ExponentialModel(prefix='exp_')\n",
    "        pars = exp_mod.guess(spectrum['intensity'], x=spectrum['mz'])\n",
    "        gauss_dict = dict()\n",
    "        fp = findpeaks(method='topology', interpolate=5, lookahead=10, limit=5, verbose=False)\n",
    "        mod = exp_mod\n",
    "        p = figure(title=key, plot_width=1440, plot_height=720)\n",
    "        # 设定寻峰规则，寻找m/z轴顶峰\n",
    "        try:\n",
    "            fp_result = fp.fit(spectrum[\"intensity\"])\n",
    "            peak_index, valley_index = peak_fit_result(fp_result, spectrum)\n",
    "        except Exception as e:\n",
    "            # print(e)\n",
    "            continue\n",
    "        max_peak = spectrum['intensity'][peak_index].max()\n",
    "        if peak_index:\n",
    "            # 对峰的部分用guass拟合\n",
    "            for index, peak in tqdm(enumerate(peak_index)):\n",
    "                print('index: {}, peak location: {}'.format(index, spectrum['mz'][peak_index]))\n",
    "                tmp_prefix = 'pcm' + str(index) + '_'\n",
    "                gauss_dict[tmp_prefix] = GaussianModel(prefix=tmp_prefix)\n",
    "                pars.update(gauss_dict['pcm'+str(index)+'_'].make_params())\n",
    "                pars[tmp_prefix+'center'].set(spectrum[\"mz\"][peak] , min=spectrum[\"mz\"][peak] - 50, max= spectrum[\"mz\"][peak] + 50)\n",
    "                pars[tmp_prefix+'amplitude'].set(5, max = max_peak, min=0.1)\n",
    "                pars[tmp_prefix+'sigma'].set(10, min=0.1, max=50)\n",
    "                mod += gauss_dict[tmp_prefix]\n",
    "            out = mod.fit(spectrum[\"intensity\"], pars, x=spectrum['mz'])\n",
    "            # break\n",
    "            comps = out.eval_components(x=spectrum[\"mz\"])\n",
    "            for i in range(len(peak_index)):\n",
    "                p.line(spectrum[\"mz\"], comps['pcm' + str(i) + '_'], legend_label= f'gaussian peak no {index}', line_width=2, color=brewer['Spectral'][11][i])\n",
    "            p = plot_peak_fit(p, peak_index, spectrum['intensity'][peak_index], spectrum, key)\n",
    "            p = plot_valley_fit(p, valley_index, spectrum['intensity'][peak_index], spectrum, key)\n",
    "           \n",
    "        p.line(spectrum['mz'], spectrum['intensity'], line_width=2, line_dash = (4,4), color='darkcyan')\n",
    "        save(p, filename='{}.html'.format(save_dir + str(id)))"
   ]
  },
  {
   "cell_type": "code",
   "execution_count": null,
   "metadata": {},
   "outputs": [],
   "source": [
    "file_data_dict = dict(zip(filename_list, xml_data_list))\n",
    "spectrums_list = []\n",
    "for key, value in file_data_dict.items():\n",
    "    point_list = value[0][0]\n",
    "    spectrum_list = get_mass_spectrum(point_list)\n",
    "    spectrums_list.append(spectrum_list)\n",
    "\n",
    "file_spectrum_dict = dict(zip(filename_list, spectrums_list))\n",
    "\n",
    "for key, value in tqdm(file_spectrum_dict.items()):\n",
    "    save_dir = '/mnt/d/Data/LTQ数据/' + os.path.splitext(key)[0] + '/'\n",
    "    if not os.path.exists(save_dir):\n",
    "            os.makedirs(save_dir)\n",
    "    for id, spectrum in tqdm(enumerate(value)):\n",
    "        exp_mod = ExponentialModel(prefix='exp_')\n",
    "        pars = exp_mod.guess(spectrum['intensity'], x=spectrum['mz'])\n",
    "        gauss_dict = dict()\n",
    "        fp = findpeaks(method='topology', interpolate=5, lookahead=10, limit=5, verbose=False)\n",
    "        mod = exp_mod\n",
    "        p = figure(title=key, plot_width=1440, plot_height=720)\n",
    "        # 设定寻峰规则，寻找m/z轴顶峰\n",
    "        try:\n",
    "            fp_result = fp.fit(spectrum[\"intensity\"])\n",
    "            peak_index, valley_index = peak_fit_result(fp_result, spectrum)\n",
    "        except Exception as e:\n",
    "            # print(e)\n",
    "            continue\n",
    "        max_peak = spectrum['intensity'][peak_index].max()\n",
    "        if peak_index:\n",
    "            # 对峰的部分用guass拟合\n",
    "            for index, peak in tqdm(enumerate(peak_index)):\n",
    "                print('index: {}, peak location: {}'.format(index, spectrum['mz'][peak_index]))\n",
    "                tmp_prefix = 'pcm' + str(index) + '_'\n",
    "                gauss_dict[tmp_prefix] = GaussianModel(prefix=tmp_prefix)\n",
    "                pars.update(gauss_dict['pcm'+str(index)+'_'].make_params())\n",
    "                pars[tmp_prefix+'center'].set(spectrum[\"mz\"][peak] , min=spectrum[\"mz\"][peak] - 50, max= spectrum[\"mz\"][peak] + 50)\n",
    "                pars[tmp_prefix+'amplitude'].set(5, max = max_peak, min=0.1)\n",
    "                pars[tmp_prefix+'sigma'].set(10, min=0.1, max=50)\n",
    "                mod += gauss_dict[tmp_prefix]\n",
    "            out = mod.fit(spectrum[\"intensity\"], pars, x=spectrum['mz'])\n",
    "            # break\n",
    "            comps = out.eval_components(x=spectrum[\"mz\"])\n",
    "            for i in range(len(peak_index)):\n",
    "                p.line(spectrum[\"mz\"], comps['pcm' + str(i) + '_'], legend_label= f'gaussian peak no {index}', line_width=2, color=brewer['Spectral'][11][i])\n",
    "            p = plot_peak_fit(p, peak_index, spectrum['intensity'][peak_index], spectrum, key)\n",
    "            p = plot_valley_fit(p, valley_index, spectrum['intensity'][peak_index], spectrum, key)\n",
    "           \n",
    "        p.line(spectrum['mz'], spectrum['intensity'], line_width=2, line_dash = (4,4), color='darkcyan')\n",
    "        save(p, filename='{}.html'.format(save_dir + str(id)))"
   ]
  },
  {
   "cell_type": "code",
   "execution_count": 9,
   "metadata": {},
   "outputs": [
    {
     "data": {
      "image/png": "[encoded data removed]",
      "text/plain": [
       "<Figure size 640x480 with 1 Axes>"
      ]
     },
     "metadata": {},
     "output_type": "display_data"
    }
   ],
   "source": [
    "import numpy as np\n",
    "from scipy.interpolate import UnivariateSpline\n",
    "\n",
    "def make_norm_dist(x, mean, sd):\n",
    "    return 1.0/(sd*np.sqrt(2*np.pi))*np.exp(-(x - mean)**2/(2*sd**2))\n",
    "\n",
    "x = np.linspace(10, 110, 1000)\n",
    "green = make_norm_dist(x, 50, 10)\n",
    "pink = make_norm_dist(x, 60, 10)\n",
    "\n",
    "blue = green + pink   \n",
    "\n",
    "# create a spline of x and blue-np.max(blue)/2 \n",
    "spline = UnivariateSpline(x, blue-np.max(blue)/10*9, s=0)\n",
    "r1, r2 = spline.roots() # find the roots\n",
    "\n",
    "import pylab as pl\n",
    "pl.plot(x, blue)\n",
    "pl.axvspan(r1, r2, facecolor='g', alpha=0.5)\n",
    "pl.show()"
   ]
  }
 ],
 "metadata": {
  "kernelspec": {
   "display_name": "Python 3.7.13 ('findpeaks')",
   "language": "python",
   "name": "python3"
  },
  "language_info": {
   "codemirror_mode": {
    "name": "ipython",
    "version": 3
   },
   "file_extension": ".py",
   "mimetype": "text/x-python",
   "name": "python",
   "nbconvert_exporter": "python",
   "pygments_lexer": "ipython3",
   "version": "3.7.13 (default, Mar 29 2022, 02:18:16) \n[GCC 7.5.0]"
  },
  "orig_nbformat": 4,
  "vscode": {
   "interpreter": {
    "hash": "988dc20507c9b8666a77143fe2ea187e26c55df0acae05133eb0d05f63ed1f23"
   }
  }
 },
 "nbformat": 4,
 "nbformat_minor": 2
}
