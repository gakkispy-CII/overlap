{
 "cells": [
  {
   "cell_type": "code",
   "execution_count": 1,
   "metadata": {},
   "outputs": [
    {
     "data": {
      "text/html": [
       "<div class=\"bk-root\">\n",
       "        <a href=\"https://bokeh.org\" target=\"_blank\" class=\"bk-logo bk-logo-small bk-logo-notebook\"></a>\n",
       "        <span id=\"1002\">Loading BokehJS ...</span>\n",
       "    </div>\n"
      ]
     },
     "metadata": {},
     "output_type": "display_data"
    },
    {
     "data": {
      "application/javascript": "(function(root) {\n  function now() {\n    return new Date();\n  }\n\n  const force = true;\n\n  if (typeof root._bokeh_onload_callbacks === \"undefined\" || force === true) {\n    root._bokeh_onload_callbacks = [];\n    root._bokeh_is_loading = undefined;\n  }\n\nconst JS_MIME_TYPE = 'application/javascript';\n  const HTML_MIME_TYPE = 'text/html';\n  const EXEC_MIME_TYPE = 'application/vnd.bokehjs_exec.v0+json';\n  const CLASS_NAME = 'output_bokeh rendered_html';\n\n  /**\n   * Render data to the DOM node\n   */\n  function render(props, node) {\n    const script = document.createElement(\"script\");\n    node.appendChild(script);\n  }\n\n  /**\n   * Handle when an output is cleared or removed\n   */\n  function handleClearOutput(event, handle) {\n    const cell = handle.cell;\n\n    const id = cell.output_area._bokeh_element_id;\n    const server_id = cell.output_area._bokeh_server_id;\n    // Clean up Bokeh references\n    if (id != null && id in Bokeh.index) {\n      Bokeh.index[id].model.document.clear();\n      delete Bokeh.index[id];\n    }\n\n    if (server_id !== undefined) {\n      // Clean up Bokeh references\n      const cmd_clean = \"from bokeh.io.state import curstate; print(curstate().uuid_to_server['\" + server_id + \"'].get_sessions()[0].document.roots[0]._id)\";\n      cell.notebook.kernel.execute(cmd_clean, {\n        iopub: {\n          output: function(msg) {\n            const id = msg.content.text.trim();\n            if (id in Bokeh.index) {\n              Bokeh.index[id].model.document.clear();\n              delete Bokeh.index[id];\n            }\n          }\n        }\n      });\n      // Destroy server and session\n      const cmd_destroy = \"import bokeh.io.notebook as ion; ion.destroy_server('\" + server_id + \"')\";\n      cell.notebook.kernel.execute(cmd_destroy);\n    }\n  }\n\n  /**\n   * Handle when a new output is added\n   */\n  function handleAddOutput(event, handle) {\n    const output_area = handle.output_area;\n    const output = handle.output;\n\n    // limit handleAddOutput to display_data with EXEC_MIME_TYPE content only\n    if ((output.output_type != \"display_data\") || (!Object.prototype.hasOwnProperty.call(output.data, EXEC_MIME_TYPE))) {\n      return\n    }\n\n    const toinsert = output_area.element.find(\".\" + CLASS_NAME.split(' ')[0]);\n\n    if (output.metadata[EXEC_MIME_TYPE][\"id\"] !== undefined) {\n      toinsert[toinsert.length - 1].firstChild.textContent = output.data[JS_MIME_TYPE];\n      // store reference to embed id on output_area\n      output_area._bokeh_element_id = output.metadata[EXEC_MIME_TYPE][\"id\"];\n    }\n    if (output.metadata[EXEC_MIME_TYPE][\"server_id\"] !== undefined) {\n      const bk_div = document.createElement(\"div\");\n      bk_div.innerHTML = output.data[HTML_MIME_TYPE];\n      const script_attrs = bk_div.children[0].attributes;\n      for (let i = 0; i < script_attrs.length; i++) {\n        toinsert[toinsert.length - 1].firstChild.setAttribute(script_attrs[i].name, script_attrs[i].value);\n        toinsert[toinsert.length - 1].firstChild.textContent = bk_div.children[0].textContent\n      }\n      // store reference to server id on output_area\n      output_area._bokeh_server_id = output.metadata[EXEC_MIME_TYPE][\"server_id\"];\n    }\n  }\n\n  function register_renderer(events, OutputArea) {\n\n    function append_mime(data, metadata, element) {\n      // create a DOM node to render to\n      const toinsert = this.create_output_subarea(\n        metadata,\n        CLASS_NAME,\n        EXEC_MIME_TYPE\n      );\n      this.keyboard_manager.register_events(toinsert);\n      // Render to node\n      const props = {data: data, metadata: metadata[EXEC_MIME_TYPE]};\n      render(props, toinsert[toinsert.length - 1]);\n      element.append(toinsert);\n      return toinsert\n    }\n\n    /* Handle when an output is cleared or removed */\n    events.on('clear_output.CodeCell', handleClearOutput);\n    events.on('delete.Cell', handleClearOutput);\n\n    /* Handle when a new output is added */\n    events.on('output_added.OutputArea', handleAddOutput);\n\n    /**\n     * Register the mime type and append_mime function with output_area\n     */\n    OutputArea.prototype.register_mime_type(EXEC_MIME_TYPE, append_mime, {\n      /* Is output safe? */\n      safe: true,\n      /* Index of renderer in `output_area.display_order` */\n      index: 0\n    });\n  }\n\n  // register the mime type if in Jupyter Notebook environment and previously unregistered\n  if (root.Jupyter !== undefined) {\n    const events = require('base/js/events');\n    const OutputArea = require('notebook/js/outputarea').OutputArea;\n\n    if (OutputArea.prototype.mime_types().indexOf(EXEC_MIME_TYPE) == -1) {\n      register_renderer(events, OutputArea);\n    }\n  }\n  if (typeof (root._bokeh_timeout) === \"undefined\" || force === true) {\n    root._bokeh_timeout = Date.now() + 5000;\n    root._bokeh_failed_load = false;\n  }\n\n  const NB_LOAD_WARNING = {'data': {'text/html':\n     \"<div style='background-color: #fdd'>\\n\"+\n     \"<p>\\n\"+\n     \"BokehJS does not appear to have successfully loaded. If loading BokehJS from CDN, this \\n\"+\n     \"may be due to a slow or bad network connection. Possible fixes:\\n\"+\n     \"</p>\\n\"+\n     \"<ul>\\n\"+\n     \"<li>re-rerun `output_notebook()` to attempt to load from CDN again, or</li>\\n\"+\n     \"<li>use INLINE resources instead, as so:</li>\\n\"+\n     \"</ul>\\n\"+\n     \"<code>\\n\"+\n     \"from bokeh.resources import INLINE\\n\"+\n     \"output_notebook(resources=INLINE)\\n\"+\n     \"</code>\\n\"+\n     \"</div>\"}};\n\n  function display_loaded() {\n    const el = document.getElementById(\"1002\");\n    if (el != null) {\n      el.textContent = \"BokehJS is loading...\";\n    }\n    if (root.Bokeh !== undefined) {\n      if (el != null) {\n        el.textContent = \"BokehJS \" + root.Bokeh.version + \" successfully loaded.\";\n      }\n    } else if (Date.now() < root._bokeh_timeout) {\n      setTimeout(display_loaded, 100)\n    }\n  }\n\n  function run_callbacks() {\n    try {\n      root._bokeh_onload_callbacks.forEach(function(callback) {\n        if (callback != null)\n          callback();\n      });\n    } finally {\n      delete root._bokeh_onload_callbacks\n    }\n    console.debug(\"Bokeh: all callbacks have finished\");\n  }\n\n  function load_libs(css_urls, js_urls, callback) {\n    if (css_urls == null) css_urls = [];\n    if (js_urls == null) js_urls = [];\n\n    root._bokeh_onload_callbacks.push(callback);\n    if (root._bokeh_is_loading > 0) {\n      console.debug(\"Bokeh: BokehJS is being loaded, scheduling callback at\", now());\n      return null;\n    }\n    if (js_urls == null || js_urls.length === 0) {\n      run_callbacks();\n      return null;\n    }\n    console.debug(\"Bokeh: BokehJS not loaded, scheduling load and callback at\", now());\n    root._bokeh_is_loading = css_urls.length + js_urls.length;\n\n    function on_load() {\n      root._bokeh_is_loading--;\n      if (root._bokeh_is_loading === 0) {\n        console.debug(\"Bokeh: all BokehJS libraries/stylesheets loaded\");\n        run_callbacks()\n      }\n    }\n\n    function on_error(url) {\n      console.error(\"failed to load \" + url);\n    }\n\n    for (let i = 0; i < css_urls.length; i++) {\n      const url = css_urls[i];\n      const element = document.createElement(\"link\");\n      element.onload = on_load;\n      element.onerror = on_error.bind(null, url);\n      element.rel = \"stylesheet\";\n      element.type = \"text/css\";\n      element.href = url;\n      console.debug(\"Bokeh: injecting link tag for BokehJS stylesheet: \", url);\n      document.body.appendChild(element);\n    }\n\n    for (let i = 0; i < js_urls.length; i++) {\n      const url = js_urls[i];\n      const element = document.createElement('script');\n      element.onload = on_load;\n      element.onerror = on_error.bind(null, url);\n      element.async = false;\n      element.src = url;\n      console.debug(\"Bokeh: injecting script tag for BokehJS library: \", url);\n      document.head.appendChild(element);\n    }\n  };\n\n  function inject_raw_css(css) {\n    const element = document.createElement(\"style\");\n    element.appendChild(document.createTextNode(css));\n    document.body.appendChild(element);\n  }\n\n  const js_urls = [\"https://cdn.bokeh.org/bokeh/release/bokeh-2.4.3.min.js\", \"https://cdn.bokeh.org/bokeh/release/bokeh-gl-2.4.3.min.js\", \"https://cdn.bokeh.org/bokeh/release/bokeh-widgets-2.4.3.min.js\", \"https://cdn.bokeh.org/bokeh/release/bokeh-tables-2.4.3.min.js\", \"https://cdn.bokeh.org/bokeh/release/bokeh-mathjax-2.4.3.min.js\"];\n  const css_urls = [];\n\n  const inline_js = [    function(Bokeh) {\n      Bokeh.set_log_level(\"info\");\n    },\nfunction(Bokeh) {\n    }\n  ];\n\n  function run_inline_js() {\n    if (root.Bokeh !== undefined || force === true) {\n          for (let i = 0; i < inline_js.length; i++) {\n      inline_js[i].call(root, root.Bokeh);\n    }\nif (force === true) {\n        display_loaded();\n      }} else if (Date.now() < root._bokeh_timeout) {\n      setTimeout(run_inline_js, 100);\n    } else if (!root._bokeh_failed_load) {\n      console.log(\"Bokeh: BokehJS failed to load within specified timeout.\");\n      root._bokeh_failed_load = true;\n    } else if (force !== true) {\n      const cell = $(document.getElementById(\"1002\")).parents('.cell').data().cell;\n      cell.output_area.append_execute_result(NB_LOAD_WARNING)\n    }\n  }\n\n  if (root._bokeh_is_loading === 0) {\n    console.debug(\"Bokeh: BokehJS loaded, going straight to plotting\");\n    run_inline_js();\n  } else {\n    load_libs(css_urls, js_urls, function() {\n      console.debug(\"Bokeh: BokehJS plotting callback run at\", now());\n      run_inline_js();\n    });\n  }\n}(window));",
      "application/vnd.bokehjs_load.v0+json": ""
     },
     "metadata": {},
     "output_type": "display_data"
    }
   ],
   "source": [
    "# Path: tests/peak_detect.ipynb\n",
    "import os\n",
    "# find root directory\n",
    "root = os.path.dirname(os.path.abspath('./'))\n",
    "# append root directory to sys.path\n",
    "import sys\n",
    "sys.path.append(root)\n",
    "\n",
    "# import module\n",
    "import csv\n",
    "import numpy as np\n",
    "import pandas as pd\n",
    "# import peakdetect\n",
    "from src.PeakDetect.PeakDetect import PeakDetect\n",
    "# bokeh plot settings\n",
    "import pandas_bokeh\n",
    "from bokeh.io import output_notebook, show, save\n",
    "from bokeh.models import ColumnDataSource, HoverTool, Scatter\n",
    "from bokeh.plotting import figure\n",
    "from bokeh.sampledata.autompg import autompg_clean\n",
    "from bokeh.transform import factor_cmap\n",
    "from bokeh.layouts import gridplot\n",
    "output_notebook()"
   ]
  },
  {
   "cell_type": "code",
   "execution_count": 2,
   "metadata": {},
   "outputs": [
    {
     "name": "stderr",
     "output_type": "stream",
     "text": [
      "  0%|          | 0/10 [00:00<?, ?it/s]\r100%|██████████| 10/10 [00:00<00:00, 71697.50it/s]\n"
     ]
    }
   ],
   "source": [
    "# read data from csv file\n",
    "data_dir = os.path.join(root, 'data/')\n",
    "from tools.get_files import GetFiles\n",
    "file_finder = GetFiles(data_dir, 'csv')\n",
    "file_list = file_finder.get_files()"
   ]
  },
  {
   "cell_type": "code",
   "execution_count": 3,
   "metadata": {},
   "outputs": [],
   "source": [
    "# read csv files\n",
    "def read_csv(file):\n",
    "    df = pd.read_csv(file, )\n",
    "    df.dropna()\n",
    "    filename = os.path.basename(os.path.splitext(file)[0])\n",
    "    return df, filename"
   ]
  },
  {
   "cell_type": "code",
   "execution_count": 4,
   "metadata": {},
   "outputs": [],
   "source": [
    "data_list, filename_list = [], []\n",
    "for file in file_list:\n",
    "    data, filename = read_csv(file)\n",
    "    data = data[['x','y']]\n",
    "    data_list.append(data)\n",
    "    filename_list.append(filename)\n",
    "\n",
    "data = data_list[0]\n",
    "filename = filename_list[0]"
   ]
  },
  {
   "cell_type": "code",
   "execution_count": 5,
   "metadata": {},
   "outputs": [
    {
     "data": {
      "text/html": [
       "\n",
       "  <div class=\"bk-root\" id=\"68ac68ff-48bf-4302-993f-be9856bf5589\" data-root-id=\"1003\"></div>\n"
      ]
     },
     "metadata": {},
     "output_type": "display_data"
    },
    {
     "data": {
      "application/javascript": "(function(root) {\n  function embed_document(root) {\n  const docs_json = {\"8fad60fe-a913-4353-9665-14f5c901ffef\":{\"defs\":[],\"roots\":{\"references\":[{\"attributes\":{\"below\":[{\"id\":\"1014\"}],\"center\":[{\"id\":\"1017\"},{\"id\":\"1021\"},{\"id\":\"1053\"}],\"height\":400,\"left\":[{\"id\":\"1018\"}],\"output_backend\":\"webgl\",\"renderers\":[{\"id\":\"1041\"}],\"sizing_mode\":\"fixed\",\"title\":{\"id\":\"1004\"},\"toolbar\":{\"id\":\"1029\"},\"x_range\":{\"id\":\"1006\"},\"x_scale\":{\"id\":\"1010\"},\"y_range\":{\"id\":\"1008\"},\"y_scale\":{\"id\":\"1012\"}},\"id\":\"1003\",\"subtype\":\"Figure\",\"type\":\"Plot\"},{\"attributes\":{\"click_policy\":\"hide\",\"coordinates\":null,\"group\":null,\"items\":[{\"id\":\"1054\"}]},\"id\":\"1053\",\"type\":\"Legend\"},{\"attributes\":{\"axis\":{\"id\":\"1018\"},\"coordinates\":null,\"dimension\":1,\"group\":null,\"ticker\":null},\"id\":\"1021\",\"type\":\"Grid\"},{\"attributes\":{},\"id\":\"1022\",\"type\":\"PanTool\"},{\"attributes\":{},\"id\":\"1012\",\"type\":\"LinearScale\"},{\"attributes\":{\"line_alpha\":0.2,\"line_color\":\"#1f77b4\",\"line_width\":2,\"x\":{\"field\":\"__x__values\"},\"y\":{\"field\":\"y\"}},\"id\":\"1040\",\"type\":\"Line\"},{\"attributes\":{\"overlay\":{\"id\":\"1028\"}},\"id\":\"1024\",\"type\":\"BoxZoomTool\"},{\"attributes\":{},\"id\":\"1045\",\"type\":\"BasicTickFormatter\"},{\"attributes\":{\"source\":{\"id\":\"1036\"}},\"id\":\"1042\",\"type\":\"CDSView\"},{\"attributes\":{},\"id\":\"1027\",\"type\":\"HelpTool\"},{\"attributes\":{\"active_scroll\":{\"id\":\"1023\"},\"tools\":[{\"id\":\"1022\"},{\"id\":\"1023\"},{\"id\":\"1024\"},{\"id\":\"1025\"},{\"id\":\"1026\"},{\"id\":\"1027\"},{\"id\":\"1055\"}]},\"id\":\"1029\",\"type\":\"Toolbar\"},{\"attributes\":{\"axis\":{\"id\":\"1014\"},\"coordinates\":null,\"group\":null,\"ticker\":null},\"id\":\"1017\",\"type\":\"Grid\"},{\"attributes\":{\"line_alpha\":0.1,\"line_color\":\"#1f77b4\",\"line_width\":2,\"x\":{\"field\":\"__x__values\"},\"y\":{\"field\":\"y\"}},\"id\":\"1039\",\"type\":\"Line\"},{\"attributes\":{\"bottom_units\":\"screen\",\"coordinates\":null,\"fill_alpha\":0.5,\"fill_color\":\"lightgrey\",\"group\":null,\"left_units\":\"screen\",\"level\":\"overlay\",\"line_alpha\":1.0,\"line_color\":\"black\",\"line_dash\":[4,4],\"line_width\":2,\"right_units\":\"screen\",\"syncable\":false,\"top_units\":\"screen\"},\"id\":\"1028\",\"type\":\"BoxAnnotation\"},{\"attributes\":{},\"id\":\"1025\",\"type\":\"SaveTool\"},{\"attributes\":{\"callback\":null,\"mode\":\"vline\",\"renderers\":[{\"id\":\"1041\"}],\"tooltips\":[[\"x\",\"@__x__values_original\"],[\"y\",\"@{y}\"]]},\"id\":\"1055\",\"type\":\"HoverTool\"},{\"attributes\":{\"coordinates\":null,\"data_source\":{\"id\":\"1036\"},\"glyph\":{\"id\":\"1038\"},\"group\":null,\"hover_glyph\":null,\"muted_glyph\":{\"id\":\"1040\"},\"nonselection_glyph\":{\"id\":\"1039\"},\"view\":{\"id\":\"1042\"}},\"id\":\"1041\",\"type\":\"GlyphRenderer\"},{\"attributes\":{\"data\":{\"__x__values\":{\"__ndarray__\":\"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\",\"dtype\":\"float64\",\"order\":\"little\",\"shape\":[671]},\"__x__values_original\":{\"__ndarray__\":\"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\",\"dtype\":\"float64\",\"order\":\"little\",\"shape\":[671]},\"y\":{\"__ndarray__\":\"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\",\"dtype\":\"float64\",\"order\":\"little\",\"shape\":[671]}},\"selected\":{\"id\":\"1051\"},\"selection_policy\":{\"id\":\"1050\"}},\"id\":\"1036\",\"type\":\"ColumnDataSource\"},{\"attributes\":{},\"id\":\"1015\",\"type\":\"BasicTicker\"},{\"attributes\":{},\"id\":\"1050\",\"type\":\"UnionRenderers\"},{\"attributes\":{\"line_color\":\"#1f77b4\",\"line_width\":2,\"x\":{\"field\":\"__x__values\"},\"y\":{\"field\":\"y\"}},\"id\":\"1038\",\"type\":\"Line\"},{\"attributes\":{},\"id\":\"1049\",\"type\":\"AllLabels\"},{\"attributes\":{},\"id\":\"1010\",\"type\":\"LinearScale\"},{\"attributes\":{\"axis_label\":\"x\",\"coordinates\":null,\"formatter\":{\"id\":\"1048\"},\"group\":null,\"major_label_policy\":{\"id\":\"1049\"},\"ticker\":{\"id\":\"1015\"}},\"id\":\"1014\",\"type\":\"LinearAxis\"},{\"attributes\":{},\"id\":\"1023\",\"type\":\"WheelZoomTool\"},{\"attributes\":{},\"id\":\"1051\",\"type\":\"Selection\"},{\"attributes\":{},\"id\":\"1019\",\"type\":\"BasicTicker\"},{\"attributes\":{\"coordinates\":null,\"group\":null,\"text\":\"432.3-7\"},\"id\":\"1004\",\"type\":\"Title\"},{\"attributes\":{\"label\":{\"value\":\" y\"},\"renderers\":[{\"id\":\"1041\"}]},\"id\":\"1054\",\"type\":\"LegendItem\"},{\"attributes\":{},\"id\":\"1046\",\"type\":\"AllLabels\"},{\"attributes\":{},\"id\":\"1026\",\"type\":\"ResetTool\"},{\"attributes\":{},\"id\":\"1008\",\"type\":\"DataRange1d\"},{\"attributes\":{},\"id\":\"1048\",\"type\":\"BasicTickFormatter\"},{\"attributes\":{},\"id\":\"1006\",\"type\":\"DataRange1d\"},{\"attributes\":{\"axis_label\":\"y\",\"coordinates\":null,\"formatter\":{\"id\":\"1045\"},\"group\":null,\"major_label_policy\":{\"id\":\"1046\"},\"ticker\":{\"id\":\"1019\"}},\"id\":\"1018\",\"type\":\"LinearAxis\"}],\"root_ids\":[\"1003\"]},\"title\":\"Bokeh Application\",\"version\":\"2.4.3\"}};\n  const render_items = [{\"docid\":\"8fad60fe-a913-4353-9665-14f5c901ffef\",\"root_ids\":[\"1003\"],\"roots\":{\"1003\":\"68ac68ff-48bf-4302-993f-be9856bf5589\"}}];\n  root.Bokeh.embed.embed_items_notebook(docs_json, render_items);\n  }\n  if (root.Bokeh !== undefined) {\n    embed_document(root);\n  } else {\n    let attempts = 0;\n    const timer = setInterval(function(root) {\n      if (root.Bokeh !== undefined) {\n        clearInterval(timer);\n        embed_document(root);\n      } else {\n        attempts++;\n        if (attempts > 100) {\n          clearInterval(timer);\n          console.log(\"Bokeh: ERROR: Unable to run BokehJS code because BokehJS library is missing\");\n        }\n      }\n    }, 10, root)\n  }\n})(window);",
      "application/vnd.bokehjs_exec.v0+json": ""
     },
     "metadata": {
      "application/vnd.bokehjs_exec.v0+json": {
       "id": "1003"
      }
     },
     "output_type": "display_data"
    },
    {
     "data": {
      "text/html": [
       "<div style=\"display: table;\"><div style=\"display: table-row;\"><div style=\"display: table-cell;\"><b title=\"bokeh.plotting.figure.Figure\">Figure</b>(</div><div style=\"display: table-cell;\">id&nbsp;=&nbsp;'1003', <span id=\"1118\" style=\"cursor: pointer;\">&hellip;)</span></div></div><div class=\"1117\" style=\"display: none;\"><div style=\"display: table-cell;\"></div><div style=\"display: table-cell;\">above&nbsp;=&nbsp;[],</div></div><div class=\"1117\" style=\"display: none;\"><div style=\"display: table-cell;\"></div><div style=\"display: table-cell;\">align&nbsp;=&nbsp;'start',</div></div><div class=\"1117\" style=\"display: none;\"><div style=\"display: table-cell;\"></div><div style=\"display: table-cell;\">aspect_ratio&nbsp;=&nbsp;None,</div></div><div class=\"1117\" style=\"display: none;\"><div style=\"display: table-cell;\"></div><div style=\"display: table-cell;\">aspect_scale&nbsp;=&nbsp;1,</div></div><div class=\"1117\" style=\"display: none;\"><div style=\"display: table-cell;\"></div><div style=\"display: table-cell;\">background&nbsp;=&nbsp;None,</div></div><div class=\"1117\" style=\"display: none;\"><div style=\"display: table-cell;\"></div><div style=\"display: table-cell;\">background_fill_alpha&nbsp;=&nbsp;1.0,</div></div><div class=\"1117\" style=\"display: none;\"><div style=\"display: table-cell;\"></div><div style=\"display: table-cell;\">background_fill_color&nbsp;=&nbsp;'#ffffff',</div></div><div class=\"1117\" style=\"display: none;\"><div style=\"display: table-cell;\"></div><div style=\"display: table-cell;\">below&nbsp;=&nbsp;[LinearAxis(id='1014', ...)],</div></div><div class=\"1117\" style=\"display: none;\"><div style=\"display: table-cell;\"></div><div style=\"display: table-cell;\">border_fill_alpha&nbsp;=&nbsp;1.0,</div></div><div class=\"1117\" style=\"display: none;\"><div style=\"display: table-cell;\"></div><div style=\"display: table-cell;\">border_fill_color&nbsp;=&nbsp;'#ffffff',</div></div><div class=\"1117\" style=\"display: none;\"><div style=\"display: table-cell;\"></div><div style=\"display: table-cell;\">center&nbsp;=&nbsp;[Grid(id='1017', ...), Grid(id='1021', ...), Legend(id='1053', ...)],</div></div><div class=\"1117\" style=\"display: none;\"><div style=\"display: table-cell;\"></div><div style=\"display: table-cell;\">css_classes&nbsp;=&nbsp;[],</div></div><div class=\"1117\" style=\"display: none;\"><div style=\"display: table-cell;\"></div><div style=\"display: table-cell;\">disabled&nbsp;=&nbsp;False,</div></div><div class=\"1117\" style=\"display: none;\"><div style=\"display: table-cell;\"></div><div style=\"display: table-cell;\">extra_x_ranges&nbsp;=&nbsp;{},</div></div><div class=\"1117\" style=\"display: none;\"><div style=\"display: table-cell;\"></div><div style=\"display: table-cell;\">extra_x_scales&nbsp;=&nbsp;{},</div></div><div class=\"1117\" style=\"display: none;\"><div style=\"display: table-cell;\"></div><div style=\"display: table-cell;\">extra_y_ranges&nbsp;=&nbsp;{},</div></div><div class=\"1117\" style=\"display: none;\"><div style=\"display: table-cell;\"></div><div style=\"display: table-cell;\">extra_y_scales&nbsp;=&nbsp;{},</div></div><div class=\"1117\" style=\"display: none;\"><div style=\"display: table-cell;\"></div><div style=\"display: table-cell;\">frame_height&nbsp;=&nbsp;None,</div></div><div class=\"1117\" style=\"display: none;\"><div style=\"display: table-cell;\"></div><div style=\"display: table-cell;\">frame_width&nbsp;=&nbsp;None,</div></div><div class=\"1117\" style=\"display: none;\"><div style=\"display: table-cell;\"></div><div style=\"display: table-cell;\">height&nbsp;=&nbsp;400,</div></div><div class=\"1117\" style=\"display: none;\"><div style=\"display: table-cell;\"></div><div style=\"display: table-cell;\">height_policy&nbsp;=&nbsp;'auto',</div></div><div class=\"1117\" style=\"display: none;\"><div style=\"display: table-cell;\"></div><div style=\"display: table-cell;\">hidpi&nbsp;=&nbsp;True,</div></div><div class=\"1117\" style=\"display: none;\"><div style=\"display: table-cell;\"></div><div style=\"display: table-cell;\">inner_height&nbsp;=&nbsp;0,</div></div><div class=\"1117\" style=\"display: none;\"><div style=\"display: table-cell;\"></div><div style=\"display: table-cell;\">inner_width&nbsp;=&nbsp;0,</div></div><div class=\"1117\" style=\"display: none;\"><div style=\"display: table-cell;\"></div><div style=\"display: table-cell;\">js_event_callbacks&nbsp;=&nbsp;{},</div></div><div class=\"1117\" style=\"display: none;\"><div style=\"display: table-cell;\"></div><div style=\"display: table-cell;\">js_property_callbacks&nbsp;=&nbsp;{},</div></div><div class=\"1117\" style=\"display: none;\"><div style=\"display: table-cell;\"></div><div style=\"display: table-cell;\">left&nbsp;=&nbsp;[LinearAxis(id='1018', ...)],</div></div><div class=\"1117\" style=\"display: none;\"><div style=\"display: table-cell;\"></div><div style=\"display: table-cell;\">lod_factor&nbsp;=&nbsp;10,</div></div><div class=\"1117\" style=\"display: none;\"><div style=\"display: table-cell;\"></div><div style=\"display: table-cell;\">lod_interval&nbsp;=&nbsp;300,</div></div><div class=\"1117\" style=\"display: none;\"><div style=\"display: table-cell;\"></div><div style=\"display: table-cell;\">lod_threshold&nbsp;=&nbsp;2000,</div></div><div class=\"1117\" style=\"display: none;\"><div style=\"display: table-cell;\"></div><div style=\"display: table-cell;\">lod_timeout&nbsp;=&nbsp;500,</div></div><div class=\"1117\" style=\"display: none;\"><div style=\"display: table-cell;\"></div><div style=\"display: table-cell;\">margin&nbsp;=&nbsp;(0, 0, 0, 0),</div></div><div class=\"1117\" style=\"display: none;\"><div style=\"display: table-cell;\"></div><div style=\"display: table-cell;\">match_aspect&nbsp;=&nbsp;False,</div></div><div class=\"1117\" style=\"display: none;\"><div style=\"display: table-cell;\"></div><div style=\"display: table-cell;\">max_height&nbsp;=&nbsp;None,</div></div><div class=\"1117\" style=\"display: none;\"><div style=\"display: table-cell;\"></div><div style=\"display: table-cell;\">max_width&nbsp;=&nbsp;None,</div></div><div class=\"1117\" style=\"display: none;\"><div style=\"display: table-cell;\"></div><div style=\"display: table-cell;\">min_border&nbsp;=&nbsp;5,</div></div><div class=\"1117\" style=\"display: none;\"><div style=\"display: table-cell;\"></div><div style=\"display: table-cell;\">min_border_bottom&nbsp;=&nbsp;None,</div></div><div class=\"1117\" style=\"display: none;\"><div style=\"display: table-cell;\"></div><div style=\"display: table-cell;\">min_border_left&nbsp;=&nbsp;None,</div></div><div class=\"1117\" style=\"display: none;\"><div style=\"display: table-cell;\"></div><div style=\"display: table-cell;\">min_border_right&nbsp;=&nbsp;None,</div></div><div class=\"1117\" style=\"display: none;\"><div style=\"display: table-cell;\"></div><div style=\"display: table-cell;\">min_border_top&nbsp;=&nbsp;None,</div></div><div class=\"1117\" style=\"display: none;\"><div style=\"display: table-cell;\"></div><div style=\"display: table-cell;\">min_height&nbsp;=&nbsp;None,</div></div><div class=\"1117\" style=\"display: none;\"><div style=\"display: table-cell;\"></div><div style=\"display: table-cell;\">min_width&nbsp;=&nbsp;None,</div></div><div class=\"1117\" style=\"display: none;\"><div style=\"display: table-cell;\"></div><div style=\"display: table-cell;\">name&nbsp;=&nbsp;None,</div></div><div class=\"1117\" style=\"display: none;\"><div style=\"display: table-cell;\"></div><div style=\"display: table-cell;\">outer_height&nbsp;=&nbsp;0,</div></div><div class=\"1117\" style=\"display: none;\"><div style=\"display: table-cell;\"></div><div style=\"display: table-cell;\">outer_width&nbsp;=&nbsp;0,</div></div><div class=\"1117\" style=\"display: none;\"><div style=\"display: table-cell;\"></div><div style=\"display: table-cell;\">outline_line_alpha&nbsp;=&nbsp;1.0,</div></div><div class=\"1117\" style=\"display: none;\"><div style=\"display: table-cell;\"></div><div style=\"display: table-cell;\">outline_line_cap&nbsp;=&nbsp;'butt',</div></div><div class=\"1117\" style=\"display: none;\"><div style=\"display: table-cell;\"></div><div style=\"display: table-cell;\">outline_line_color&nbsp;=&nbsp;'#e5e5e5',</div></div><div class=\"1117\" style=\"display: none;\"><div style=\"display: table-cell;\"></div><div style=\"display: table-cell;\">outline_line_dash&nbsp;=&nbsp;[],</div></div><div class=\"1117\" style=\"display: none;\"><div style=\"display: table-cell;\"></div><div style=\"display: table-cell;\">outline_line_dash_offset&nbsp;=&nbsp;0,</div></div><div class=\"1117\" style=\"display: none;\"><div style=\"display: table-cell;\"></div><div style=\"display: table-cell;\">outline_line_join&nbsp;=&nbsp;'bevel',</div></div><div class=\"1117\" style=\"display: none;\"><div style=\"display: table-cell;\"></div><div style=\"display: table-cell;\">outline_line_width&nbsp;=&nbsp;1,</div></div><div class=\"1117\" style=\"display: none;\"><div style=\"display: table-cell;\"></div><div style=\"display: table-cell;\">output_backend&nbsp;=&nbsp;'webgl',</div></div><div class=\"1117\" style=\"display: none;\"><div style=\"display: table-cell;\"></div><div style=\"display: table-cell;\">renderers&nbsp;=&nbsp;[GlyphRenderer(id='1041', ...)],</div></div><div class=\"1117\" style=\"display: none;\"><div style=\"display: table-cell;\"></div><div style=\"display: table-cell;\">reset_policy&nbsp;=&nbsp;'standard',</div></div><div class=\"1117\" style=\"display: none;\"><div style=\"display: table-cell;\"></div><div style=\"display: table-cell;\">right&nbsp;=&nbsp;[],</div></div><div class=\"1117\" style=\"display: none;\"><div style=\"display: table-cell;\"></div><div style=\"display: table-cell;\">sizing_mode&nbsp;=&nbsp;'fixed',</div></div><div class=\"1117\" style=\"display: none;\"><div style=\"display: table-cell;\"></div><div style=\"display: table-cell;\">subscribed_events&nbsp;=&nbsp;[],</div></div><div class=\"1117\" style=\"display: none;\"><div style=\"display: table-cell;\"></div><div style=\"display: table-cell;\">syncable&nbsp;=&nbsp;True,</div></div><div class=\"1117\" style=\"display: none;\"><div style=\"display: table-cell;\"></div><div style=\"display: table-cell;\">tags&nbsp;=&nbsp;[],</div></div><div class=\"1117\" style=\"display: none;\"><div style=\"display: table-cell;\"></div><div style=\"display: table-cell;\">title&nbsp;=&nbsp;Title(id='1004', ...),</div></div><div class=\"1117\" style=\"display: none;\"><div style=\"display: table-cell;\"></div><div style=\"display: table-cell;\">title_location&nbsp;=&nbsp;'above',</div></div><div class=\"1117\" style=\"display: none;\"><div style=\"display: table-cell;\"></div><div style=\"display: table-cell;\">toolbar&nbsp;=&nbsp;Toolbar(id='1029', ...),</div></div><div class=\"1117\" style=\"display: none;\"><div style=\"display: table-cell;\"></div><div style=\"display: table-cell;\">toolbar_location&nbsp;=&nbsp;'right',</div></div><div class=\"1117\" style=\"display: none;\"><div style=\"display: table-cell;\"></div><div style=\"display: table-cell;\">toolbar_sticky&nbsp;=&nbsp;True,</div></div><div class=\"1117\" style=\"display: none;\"><div style=\"display: table-cell;\"></div><div style=\"display: table-cell;\">visible&nbsp;=&nbsp;True,</div></div><div class=\"1117\" style=\"display: none;\"><div style=\"display: table-cell;\"></div><div style=\"display: table-cell;\">width&nbsp;=&nbsp;600,</div></div><div class=\"1117\" style=\"display: none;\"><div style=\"display: table-cell;\"></div><div style=\"display: table-cell;\">width_policy&nbsp;=&nbsp;'auto',</div></div><div class=\"1117\" style=\"display: none;\"><div style=\"display: table-cell;\"></div><div style=\"display: table-cell;\">x_range&nbsp;=&nbsp;DataRange1d(id='1006', ...),</div></div><div class=\"1117\" style=\"display: none;\"><div style=\"display: table-cell;\"></div><div style=\"display: table-cell;\">x_scale&nbsp;=&nbsp;LinearScale(id='1010', ...),</div></div><div class=\"1117\" style=\"display: none;\"><div style=\"display: table-cell;\"></div><div style=\"display: table-cell;\">y_range&nbsp;=&nbsp;DataRange1d(id='1008', ...),</div></div><div class=\"1117\" style=\"display: none;\"><div style=\"display: table-cell;\"></div><div style=\"display: table-cell;\">y_scale&nbsp;=&nbsp;LinearScale(id='1012', ...))</div></div></div>\n",
       "<script>\n",
       "(function() {\n",
       "  let expanded = false;\n",
       "  const ellipsis = document.getElementById(\"1118\");\n",
       "  ellipsis.addEventListener(\"click\", function() {\n",
       "    const rows = document.getElementsByClassName(\"1117\");\n",
       "    for (let i = 0; i < rows.length; i++) {\n",
       "      const el = rows[i];\n",
       "      el.style.display = expanded ? \"none\" : \"table-row\";\n",
       "    }\n",
       "    ellipsis.innerHTML = expanded ? \"&hellip;)\" : \"&lsaquo;&lsaquo;&lsaquo;\";\n",
       "    expanded = !expanded;\n",
       "  });\n",
       "})();\n",
       "</script>\n"
      ],
      "text/plain": [
       "Figure(id='1003', ...)"
      ]
     },
     "execution_count": 5,
     "metadata": {},
     "output_type": "execute_result"
    }
   ],
   "source": [
    "data.plot_bokeh(kind='line', x='x', y='y', title=filename)"
   ]
  },
  {
   "cell_type": "code",
   "execution_count": 6,
   "metadata": {},
   "outputs": [],
   "source": [
    "detector = PeakDetect(data, 432, 0.5, 0.1, 5, denoise=False, need_fit=False, filter_name='savgol_filter', peak_type='gaussian', peak_num=None)"
   ]
  },
  {
   "cell_type": "code",
   "execution_count": 7,
   "metadata": {},
   "outputs": [
    {
     "name": "stdout",
     "output_type": "stream",
     "text": [
      "[findpeaks] >Finding peaks in 1d-vector using [topology] method..\n",
      "[findpeaks] >Interpolating 1d-vector by factor 10\n",
      "[findpeaks] >Detect peaks using topology method with limit at 5.\n"
     ]
    }
   ],
   "source": [
    "peak_index, valley_index, main_peak = detector.find_peaks()"
   ]
  },
  {
   "cell_type": "code",
   "execution_count": 8,
   "metadata": {},
   "outputs": [
    {
     "name": "stdout",
     "output_type": "stream",
     "text": [
      "[findpeaks] >Finding peaks in 1d-vector using [topology] method..\n",
      "[findpeaks] >Interpolating 1d-vector by factor 10\n",
      "[findpeaks] >Detect peaks using topology method with limit at 5.\n"
     ]
    }
   ],
   "source": [
    "peak_index, valley_index, main_peak, correlation_factor = detector.peak_detect()"
   ]
  },
  {
   "cell_type": "code",
   "execution_count": 9,
   "metadata": {},
   "outputs": [
    {
     "name": "stdout",
     "output_type": "stream",
     "text": [
      "peak_index:  [[410, 429, 441]]\n",
      "valley_index:  [423, 440]\n",
      "main_peak:  [435.3559875488281, 99.99999237060548, 410]\n",
      "correlation_factor:  0.9922913945258379\n"
     ]
    }
   ],
   "source": [
    "print(\"peak_index: \", peak_index)\n",
    "print(\"valley_index: \", valley_index)\n",
    "print(\"main_peak: \", main_peak)\n",
    "print(\"correlation_factor: \", correlation_factor)"
   ]
  },
  {
   "cell_type": "code",
   "execution_count": 10,
   "metadata": {},
   "outputs": [
    {
     "name": "stdout",
     "output_type": "stream",
     "text": [
      "[findpeaks] >Finding peaks in 1d-vector using [topology] method..\n",
      "[findpeaks] >Interpolating 1d-vector by factor 10\n",
      "[findpeaks] >Detect peaks using topology method with limit at 5.\n"
     ]
    }
   ],
   "source": [
    "width_result = detector.main_peak_width_detect()"
   ]
  },
  {
   "cell_type": "code",
   "execution_count": 11,
   "metadata": {},
   "outputs": [
    {
     "data": {
      "text/plain": [
       "0.7104840301014773"
      ]
     },
     "execution_count": 11,
     "metadata": {},
     "output_type": "execute_result"
    }
   ],
   "source": [
    "width_result"
   ]
  },
  {
   "cell_type": "code",
   "execution_count": 13,
   "metadata": {},
   "outputs": [
    {
     "data": {
      "text/plain": [
       "0.59810331"
      ]
     },
     "execution_count": 13,
     "metadata": {},
     "output_type": "execute_result"
    }
   ],
   "source": [
    "test = np.array([[ 1.04364806, 39.78261348],\n",
    "       [ 1.73212699,  5.92853279],\n",
    "       [ 0.59810331, 41.64359442]])\n",
    "result = np.argmax(test[:,1])\n",
    "width_result = test[result, 0]\n",
    "width_result"
   ]
  },
  {
   "cell_type": "code",
   "execution_count": 14,
   "metadata": {},
   "outputs": [
    {
     "data": {
      "text/plain": [
       "array([[4.16997009e+02, 5.00752591e-03],\n",
       "       [4.17040985e+02, 1.03488881e-02],\n",
       "       [4.17085999e+02, 1.20514464e-02],\n",
       "       ...,\n",
       "       [4.46906006e+02, 1.03822723e-02],\n",
       "       [4.46950989e+02, 1.03822723e-02],\n",
       "       [4.46994995e+02, 1.03822723e-02]])"
      ]
     },
     "execution_count": 14,
     "metadata": {},
     "output_type": "execute_result"
    }
   ],
   "source": [
    "data_np = data.to_numpy()\n",
    "data_np"
   ]
  },
  {
   "cell_type": "code",
   "execution_count": 9,
   "metadata": {},
   "outputs": [
    {
     "name": "stdout",
     "output_type": "stream",
     "text": [
      "[findpeaks] >Finding peaks in 1d-vector using [topology] method..\n",
      "[findpeaks] >Interpolating 1d-vector by factor 10\n",
      "[findpeaks] >Detect peaks using topology method with limit at 5.\n"
     ]
    }
   ],
   "source": [
    "import findpeaks.findpeaks as findpeaks\n",
    "fp = findpeaks(method='topology', interpolate=10, lookahead=100, limit=5)\n",
    "try:\n",
    "    peak_results = fp.fit(data['y'])\n",
    "except:\n",
    "    raise Exception('findpeaks failed, please check the data')"
   ]
  },
  {
   "cell_type": "code",
   "execution_count": 10,
   "metadata": {},
   "outputs": [],
   "source": [
    "def peak_process(peaks:dict, threshold:float, data:pd.DataFrame):\n",
    "        df = peaks['df']\n",
    "        df['x'] = data['x']\n",
    "        peak_index= df[lambda df: df['peak'] == True]\n",
    "        highest_peak_value = df.loc[peak_index.index.tolist()]['y'].max()\n",
    "        highest_peak_index = df.loc[peak_index.index.tolist()]['y'].idxmax()\n",
    "        highest_peak_x = df['x'][highest_peak_index]\n",
    "        highest_peak = [highest_peak_x, highest_peak_value, highest_peak_index]\n",
    "        peak_index_list = peak_index.loc[peak_index.y.gt(threshold * highest_peak_value)].index.tolist()\n",
    "        valley_index = df[lambda df: df['valley'] == True]\n",
    "        valley_index_list = valley_index.loc[valley_index.y.gt(threshold * highest_peak_value)].index.tolist()\n",
    "        return peak_index_list, valley_index_list, highest_peak"
   ]
  },
  {
   "cell_type": "code",
   "execution_count": 12,
   "metadata": {},
   "outputs": [
    {
     "name": "stdout",
     "output_type": "stream",
     "text": [
      "peak_index:  [410, 429, 441]\n",
      "valley_index:  [423, 440]\n",
      "highest_peak:  [435.3559875488281, 99.99999237060548, 410]\n"
     ]
    }
   ],
   "source": [
    "peak_index, valley_index, highest_peak = peak_process(peak_results,  0.1, data)\n",
    "print(\"peak_index: \", peak_index)\n",
    "print(\"valley_index: \", valley_index)\n",
    "print(\"highest_peak: \", highest_peak)"
   ]
  }
 ],
 "metadata": {
  "kernelspec": {
   "display_name": "findpeaks",
   "language": "python",
   "name": "python3"
  },
  "language_info": {
   "codemirror_mode": {
    "name": "ipython",
    "version": 3
   },
   "file_extension": ".py",
   "mimetype": "text/x-python",
   "name": "python",
   "nbconvert_exporter": "python",
   "pygments_lexer": "ipython3",
   "version": "3.7.13"
  },
  "orig_nbformat": 4,
  "vscode": {
   "interpreter": {
    "hash": "988dc20507c9b8666a77143fe2ea187e26c55df0acae05133eb0d05f63ed1f23"
   }
  }
 },
 "nbformat": 4,
 "nbformat_minor": 2
}
